{
 "cells": [
  {
   "cell_type": "markdown",
   "id": "123456",
   "metadata": {},
   "source": [
    "<div style=\"text-align:left;font-size:2em\"><span style=\"font-weight:bolder;font-size:1.25em\">SP2273 | Learning Portfolio</span><br><br><span style=\"font-weight:bold;color:darkred\">Files, Folders and OS (Need)</span></div>"
   ]
  },
  {
   "cell_type": "markdown",
   "id": "24bb7522",
   "metadata": {},
   "source": [
    "## 1 Important concepts"
   ]
  },
  {
   "cell_type": "markdown",
   "id": "6962284e",
   "metadata": {},
   "source": [
    "### 1.1 Path"
   ]
  },
  {
   "cell_type": "markdown",
   "id": "2afdde53",
   "metadata": {},
   "source": [
    "\n",
    "# Your code here\n",
    "C:\\\\Users\\Chammika\\Desktop\\data-01.txt"
   ]
  },
  {
   "cell_type": "markdown",
   "id": "8e461919",
   "metadata": {},
   "source": [
    "### 1.2 More about relative paths"
   ]
  },
  {
   "cell_type": "markdown",
   "id": "fed3fdd7",
   "metadata": {},
   "source": [
    "\n",
    "# Your code here\n",
    ".\\data-files\\data-01.txt means the file data-01.txt in the folder data-files in the current folder.\n",
    "..\\data-files\\data-01.txt means the file data-01.txt in the folder data-files located in the folder above."
   ]
  },
  {
   "cell_type": "markdown",
   "id": "4c31cef0",
   "metadata": {},
   "source": [
    "### 1.3 Path separator"
   ]
  },
  {
   "cell_type": "markdown",
   "id": "24eee38c",
   "metadata": {},
   "source": [
    "\n",
    "# Your code here\n",
    "Windows\tC:\\\\Users\\chammika\\Desktop\\data-01.txt\n",
    "\n",
    "Mac OS X (or Linux)\t/Users/chammika/Desktop/data-01.txt"
   ]
  },
  {
   "cell_type": "markdown",
   "id": "2cacba14",
   "metadata": {},
   "source": [
    "### Text files vs Binary files"
   ]
  },
  {
   "cell_type": "markdown",
   "id": "7cafd9c2",
   "metadata": {},
   "source": [
    "\n",
    "# Your code here\n",
    "Common ones are .txt, .md and .csv"
   ]
  },
  {
   "cell_type": "markdown",
   "id": "a286fade",
   "metadata": {},
   "source": [
    "### Extentions"
   ]
  },
  {
   "cell_type": "markdown",
   "id": "98388f5e",
   "metadata": {},
   "source": [
    "\n",
    "# Your code here\n",
    "Examples are .xlsx and .pptx"
   ]
  },
  {
   "cell_type": "markdown",
   "id": "e61b216e",
   "metadata": {},
   "source": [
    "### 1.4 Opening and closing files"
   ]
  },
  {
   "cell_type": "code",
   "execution_count": 40,
   "id": "820f2764",
   "metadata": {},
   "outputs": [
    {
     "name": "stdout",
     "output_type": "stream",
     "text": [
      "Hello, I am unable to download the original spectrum file so yes.\n"
     ]
    }
   ],
   "source": [
    "\n",
    "# Your code here\n",
    "with open('zhenjie\\'s spectrum.txt', 'r') as file:\n",
    "          file_content = file.read()\n",
    "print(file_content)"
   ]
  },
  {
   "cell_type": "markdown",
   "id": "295573e5",
   "metadata": {},
   "source": [
    "r specifies only reading"
   ]
  },
  {
   "cell_type": "code",
   "execution_count": 39,
   "id": "96cc6cb7",
   "metadata": {},
   "outputs": [
    {
     "name": "stdout",
     "output_type": "stream",
     "text": [
      "Hello, I am unable to download the original spectrum file so yes.\n"
     ]
    }
   ],
   "source": [
    "f = open('zhenjie\\'s spectrum.txt', 'r')\n",
    "a = f.read()\n",
    "f.close()\n",
    "print(a)"
   ]
  },
  {
   "cell_type": "code",
   "execution_count": 1,
   "id": "2e49e24a",
   "metadata": {},
   "outputs": [],
   "source": [
    "text = 'Far out in the uncharted backwaters of the unfashionable end of the western spiral arm of the Galaxy lies a small unregarded yellow sun.\\nOrbiting this at a distance of roughly ninety-two million miles is an utterly insignificant little blue green planet whose ape-descended life forms are so amazingly primitive that they still think digital watches are a pretty neat idea.'\n",
    "with open('my-text-once.txt', 'w') as file:\n",
    "    file.write(text)"
   ]
  },
  {
   "cell_type": "markdown",
   "id": "bd84187c",
   "metadata": {},
   "source": [
    "'w' indicates that the file is opened for writing"
   ]
  },
  {
   "cell_type": "code",
   "execution_count": 6,
   "id": "deb2a956",
   "metadata": {},
   "outputs": [],
   "source": [
    "with open('my-text-lines.txt', 'w') as file:\n",
    "    for line in text.splitlines():\n",
    "        file.writelines(line)"
   ]
  },
  {
   "cell_type": "markdown",
   "id": "260aff70",
   "metadata": {},
   "source": [
    "## 2 Playing with the OS"
   ]
  },
  {
   "cell_type": "markdown",
   "id": "3f54633a",
   "metadata": {},
   "source": [
    "### 2.1 Some packages"
   ]
  },
  {
   "cell_type": "markdown",
   "id": "3fc19f90",
   "metadata": {},
   "source": [
    "\n",
    "|Package|Primarily used for|\n",
    "|:-|:-|\n",
    "|os|To ‘talk’ to the OS to create, modify, delete folders and write OS-agnostic code.|\n",
    "|glob|To search for files.|\n",
    "|shutil|To copy files.|"
   ]
  },
  {
   "cell_type": "markdown",
   "id": "06bd84ea",
   "metadata": {},
   "source": [
    "### 2.2 OS safe paths"
   ]
  },
  {
   "cell_type": "code",
   "execution_count": 9,
   "id": "8867fa60",
   "metadata": {},
   "outputs": [
    {
     "name": "stdout",
     "output_type": "stream",
     "text": [
      ".\\all-data\\sg-data\\data-01.txt\n"
     ]
    }
   ],
   "source": [
    "\n",
    "# Your code here\n",
    "import os\n",
    "import glob\n",
    "import shutil\n",
    "path = os.path.join('.', 'all-data', 'sg-data', 'data-01.txt')\n",
    "print(path)"
   ]
  },
  {
   "cell_type": "markdown",
   "id": "86c01bf9",
   "metadata": {},
   "source": [
    "# This will vary depending on what you are on\n",
    "\n",
    "os.path.join() stonks"
   ]
  },
  {
   "cell_type": "markdown",
   "id": "42f90c2e",
   "metadata": {},
   "source": [
    "### 2.3 Creating folders"
   ]
  },
  {
   "cell_type": "code",
   "execution_count": 10,
   "id": "61236bbc",
   "metadata": {},
   "outputs": [
    {
     "name": "stdout",
     "output_type": "stream",
     "text": [
      "Creating people\\Jonh\n",
      "Creating people\\Paul\n",
      "Creating people\\Ringo\n"
     ]
    }
   ],
   "source": [
    "\n",
    "# Your code here\n",
    "os.mkdir('people')\n",
    "\n",
    "for person in ['Jonh', 'Paul', 'Ringo']:\n",
    "    path = os.path.join('people', person)\n",
    "    print(f'Creating {path}')\n",
    "    os.mkdir(path)"
   ]
  },
  {
   "cell_type": "markdown",
   "id": "9da1128a",
   "metadata": {},
   "source": [
    "# Print acts as a feedback to show that the code is running"
   ]
  },
  {
   "cell_type": "markdown",
   "id": "adf0cfd0",
   "metadata": {},
   "source": [
    "### 2.4 Checking for existence"
   ]
  },
  {
   "cell_type": "code",
   "execution_count": 11,
   "id": "15adfd84",
   "metadata": {},
   "outputs": [
    {
     "name": "stdout",
     "output_type": "stream",
     "text": [
      "people\\Jonh already exists; skipping creation.\n",
      "people\\Paul already exists; skipping creation.\n",
      "people\\Ringo already exists; skipping creation.\n"
     ]
    }
   ],
   "source": [
    "\n",
    "# Your code here\n",
    "for person in ['Jonh', 'Paul', 'Ringo']:\n",
    "    path = os.path.join('people', person)\n",
    "    try:\n",
    "        os.mkdir(path)\n",
    "        print(f'Creating {path}')\n",
    "    except FileExistsError:\n",
    "        print(f'{path} already exists; skipping creation.')"
   ]
  },
  {
   "cell_type": "code",
   "execution_count": 12,
   "id": "78f528c6",
   "metadata": {},
   "outputs": [
    {
     "name": "stdout",
     "output_type": "stream",
     "text": [
      "people\\Jonh already exists; skipping creation.\n",
      "people\\Paul already exists; skipping creation.\n",
      "people\\Ringo already exists; skipping creation.\n"
     ]
    }
   ],
   "source": [
    "for person in ['Jonh', 'Paul', 'Ringo']:\n",
    "    path = os.path.join('people', person)\n",
    "    if os.path.exists(path):\n",
    "        print(f'{path} already exists; skipping creation.')\n",
    "    else:\n",
    "        os.mkdir(path)\n",
    "        print(f'Creating {path}')"
   ]
  },
  {
   "cell_type": "markdown",
   "id": "01a07e68",
   "metadata": {},
   "source": [
    "### 2.5 Copying files"
   ]
  },
  {
   "cell_type": "code",
   "execution_count": 13,
   "id": "809eec11",
   "metadata": {},
   "outputs": [
    {
     "name": "stdout",
     "output_type": "stream",
     "text": [
      "Copied file to people\\Jonh\n",
      "Copied file to people\\Paul\n",
      "Copied file to people\\Ringo\n"
     ]
    }
   ],
   "source": [
    "\n",
    "# Your code here\n",
    "for person in ['Jonh', 'Paul', 'Ringo']:\n",
    "    path_to_destination = os.path.join('people', person)\n",
    "    shutil.copy('sp2273_logo.png', path_to_destination)\n",
    "    print(f'Copied file to {path_to_destination}')"
   ]
  },
  {
   "cell_type": "code",
   "execution_count": 14,
   "id": "e718ad73",
   "metadata": {},
   "outputs": [
    {
     "name": "stdout",
     "output_type": "stream",
     "text": [
      "Moved logo to people\\Jonh\\imgs\\sp2273_logo.png\n",
      "Moved logo to people\\Paul\\imgs\\sp2273_logo.png\n",
      "Moved logo to people\\Ringo\\imgs\\sp2273_logo.png\n"
     ]
    }
   ],
   "source": [
    "for person in ['Jonh', 'Paul', 'Ringo']:\n",
    "    # Create folder 'imgs'\n",
    "    path_to_imgs = os.path.join('people', person, 'imgs')\n",
    "    if not os.path.exists(path_to_imgs):\n",
    "        os.mkdir(path_to_imgs)\n",
    "\n",
    "    # Move logo file\n",
    "    current_path_of_logo = os.path.join('people', person, 'sp2273_logo.png')\n",
    "    new_path_of_logo = os.path.join('people', person, 'imgs', 'sp2273_logo.png')\n",
    "\n",
    "    shutil.move(current_path_of_logo, new_path_of_logo)\n",
    "    print(f'Moved logo to {new_path_of_logo}')"
   ]
  },
  {
   "cell_type": "markdown",
   "id": "b44ca3b0",
   "metadata": {},
   "source": [
    "### 2.6 Listing files"
   ]
  },
  {
   "cell_type": "code",
   "execution_count": 15,
   "id": "5be7810d",
   "metadata": {},
   "outputs": [
    {
     "data": {
      "text/plain": [
       "['files,_folders_and_os_(need).ipynb',\n",
       " 'my-text-lines.txt',\n",
       " 'my-text-once.txt',\n",
       " 'people',\n",
       " 'sp2273_logo.png',\n",
       " \"zhenjie's spectrum.txt\"]"
      ]
     },
     "execution_count": 15,
     "metadata": {},
     "output_type": "execute_result"
    }
   ],
   "source": [
    "\n",
    "# Your code here\n",
    "glob.glob('*')"
   ]
  },
  {
   "cell_type": "markdown",
   "id": "19444d71",
   "metadata": {},
   "source": [
    "* reads as ANYTHING"
   ]
  },
  {
   "cell_type": "code",
   "execution_count": 16,
   "id": "547a1a02",
   "metadata": {},
   "outputs": [
    {
     "data": {
      "text/plain": [
       "['people']"
      ]
     },
     "execution_count": 16,
     "metadata": {},
     "output_type": "execute_result"
    }
   ],
   "source": [
    "glob.glob('peo*')"
   ]
  },
  {
   "cell_type": "code",
   "execution_count": 17,
   "id": "b93b0cc8",
   "metadata": {},
   "outputs": [
    {
     "data": {
      "text/plain": [
       "['people\\\\Jonh', 'people\\\\Paul', 'people\\\\Ringo']"
      ]
     },
     "execution_count": 17,
     "metadata": {},
     "output_type": "execute_result"
    }
   ],
   "source": [
    "glob.glob('peo*/*')"
   ]
  },
  {
   "cell_type": "code",
   "execution_count": 18,
   "id": "072a35f9",
   "metadata": {},
   "outputs": [
    {
     "data": {
      "text/plain": [
       "['people\\\\',\n",
       " 'people\\\\Jonh',\n",
       " 'people\\\\Jonh\\\\imgs',\n",
       " 'people\\\\Jonh\\\\imgs\\\\sp2273_logo.png',\n",
       " 'people\\\\Paul',\n",
       " 'people\\\\Paul\\\\imgs',\n",
       " 'people\\\\Paul\\\\imgs\\\\sp2273_logo.png',\n",
       " 'people\\\\Ringo',\n",
       " 'people\\\\Ringo\\\\imgs',\n",
       " 'people\\\\Ringo\\\\imgs\\\\sp2273_logo.png']"
      ]
     },
     "execution_count": 18,
     "metadata": {},
     "output_type": "execute_result"
    }
   ],
   "source": [
    "glob.glob('people/**', recursive=True)"
   ]
  },
  {
   "cell_type": "markdown",
   "id": "e6627fad",
   "metadata": {},
   "source": [
    "# What does 2 wildcards do here?"
   ]
  },
  {
   "cell_type": "code",
   "execution_count": 19,
   "id": "cc093c0e",
   "metadata": {},
   "outputs": [
    {
     "data": {
      "text/plain": [
       "['people\\\\Jonh\\\\imgs\\\\sp2273_logo.png',\n",
       " 'people\\\\Paul\\\\imgs\\\\sp2273_logo.png',\n",
       " 'people\\\\Ringo\\\\imgs\\\\sp2273_logo.png']"
      ]
     },
     "execution_count": 19,
     "metadata": {},
     "output_type": "execute_result"
    }
   ],
   "source": [
    "glob.glob('people/**/*.png', recursive=True)"
   ]
  },
  {
   "cell_type": "markdown",
   "id": "9f2bb89a",
   "metadata": {},
   "source": [
    "### 2.7 Moving about"
   ]
  },
  {
   "cell_type": "code",
   "execution_count": 20,
   "id": "e9a2794e",
   "metadata": {},
   "outputs": [
    {
     "data": {
      "text/plain": [
       "'C:\\\\Users\\\\Chin Zhen Jie\\\\OneDrive\\\\Desktop\\\\SP2273\\\\GitGud\\\\learning-portfolio-ChinZJ\\\\files, folders and os'"
      ]
     },
     "execution_count": 20,
     "metadata": {},
     "output_type": "execute_result"
    }
   ],
   "source": [
    "\n",
    "# Your code here\n",
    "os.getcwd()"
   ]
  },
  {
   "cell_type": "markdown",
   "id": "18f11fd3",
   "metadata": {},
   "source": [
    "# This lets you know which folder you are in\n",
    "Get Current Working Directory"
   ]
  },
  {
   "cell_type": "code",
   "execution_count": 21,
   "id": "1d4791dd",
   "metadata": {},
   "outputs": [],
   "source": [
    "os.chdir('people/Ringo')"
   ]
  },
  {
   "cell_type": "markdown",
   "id": "9ec59e77",
   "metadata": {},
   "source": [
    "# This changes directory"
   ]
  },
  {
   "cell_type": "markdown",
   "id": "84271e05",
   "metadata": {},
   "source": [
    "### 2.8 Extracting Info"
   ]
  },
  {
   "cell_type": "code",
   "execution_count": 29,
   "id": "8cffb01c",
   "metadata": {},
   "outputs": [
    {
     "name": "stdout",
     "output_type": "stream",
     "text": [
      "people/Ringo/imgs/sp2273_logo.png png\n"
     ]
    }
   ],
   "source": [
    "\n",
    "# Your code here\n",
    "path = 'people/Ringo/imgs/sp2273_logo.png'\n",
    "filename = path.split(os.path.sep)[-1]\n",
    "extension = filename.split('.')[-1]\n",
    "print(filename, extension)"
   ]
  },
  {
   "cell_type": "code",
   "execution_count": 30,
   "id": "de900d8a",
   "metadata": {},
   "outputs": [
    {
     "data": {
      "text/plain": [
       "('people/Ringo/imgs', 'sp2273_logo.png')"
      ]
     },
     "execution_count": 30,
     "metadata": {},
     "output_type": "execute_result"
    }
   ],
   "source": [
    "path = 'people/Ringo/imgs/sp2273_logo.png'\n",
    "os.path.split(path)      # Split filename from the rest"
   ]
  },
  {
   "cell_type": "code",
   "execution_count": 31,
   "id": "f85e72b2",
   "metadata": {},
   "outputs": [
    {
     "data": {
      "text/plain": [
       "('people/Ringo/imgs/sp2273_logo', '.png')"
      ]
     },
     "execution_count": 31,
     "metadata": {},
     "output_type": "execute_result"
    }
   ],
   "source": [
    "os.path.splitext(path)   # Split extension"
   ]
  },
  {
   "cell_type": "code",
   "execution_count": 32,
   "id": "798b38d6",
   "metadata": {},
   "outputs": [
    {
     "data": {
      "text/plain": [
       "'people/Ringo/imgs'"
      ]
     },
     "execution_count": 32,
     "metadata": {},
     "output_type": "execute_result"
    }
   ],
   "source": [
    "os.path.dirname(path)    # Show the directory"
   ]
  },
  {
   "cell_type": "markdown",
   "id": "6e2f69ff",
   "metadata": {},
   "source": [
    "# How does this split here work, should it not split according to /"
   ]
  },
  {
   "cell_type": "markdown",
   "id": "4fbdfcb6",
   "metadata": {},
   "source": [
    "### 2.9 Deleting stuff"
   ]
  },
  {
   "cell_type": "code",
   "execution_count": 42,
   "id": "d1d2eb39",
   "metadata": {},
   "outputs": [
    {
     "data": {
      "text/plain": [
       "'C:\\\\Users\\\\Chin Zhen Jie\\\\OneDrive\\\\Desktop\\\\SP2273\\\\GitGud\\\\learning-portfolio-ChinZJ\\\\files, folders and os\\\\people\\\\Ringo'"
      ]
     },
     "execution_count": 42,
     "metadata": {},
     "output_type": "execute_result"
    }
   ],
   "source": [
    "os.getcwd()"
   ]
  },
  {
   "cell_type": "code",
   "execution_count": 43,
   "id": "69b0d74c",
   "metadata": {},
   "outputs": [],
   "source": [
    "os.chdir('C:\\\\Users\\\\Chin Zhen Jie\\\\OneDrive\\\\Desktop\\\\SP2273\\\\GitGud\\\\learning-portfolio-ChinZJ\\\\files, folders and os')"
   ]
  },
  {
   "cell_type": "code",
   "execution_count": 44,
   "id": "75761ef6",
   "metadata": {},
   "outputs": [],
   "source": [
    "\n",
    "# Your code here\n",
    "os.remove('people/Ringo/imgs/sp2273_logo.png')"
   ]
  },
  {
   "cell_type": "code",
   "execution_count": 46,
   "id": "3912a127",
   "metadata": {},
   "outputs": [],
   "source": [
    "os.rmdir('people/Ringo/imgs')"
   ]
  },
  {
   "cell_type": "code",
   "execution_count": 47,
   "id": "aca71646",
   "metadata": {},
   "outputs": [],
   "source": [
    "os.rmdir('people/Ringo')"
   ]
  },
  {
   "cell_type": "code",
   "execution_count": 49,
   "id": "a53ee8f1",
   "metadata": {},
   "outputs": [],
   "source": [
    "path = os.path.join('people', 'Ringo')\n",
    "os.mkdir(path)"
   ]
  },
  {
   "cell_type": "code",
   "execution_count": 50,
   "id": "b45edb77",
   "metadata": {},
   "outputs": [],
   "source": [
    "shutil.rmtree('people/Ringo')"
   ]
  },
  {
   "cell_type": "markdown",
   "id": "ba582482",
   "metadata": {},
   "source": [
    "## Exercise 7 :  The OS is my oyster"
   ]
  },
  {
   "cell_type": "code",
   "execution_count": 56,
   "id": "271b9881",
   "metadata": {},
   "outputs": [
    {
     "ename": "FileExistsError",
     "evalue": "[WinError 183] Cannot create a file when that file already exists: 'python_today'",
     "output_type": "error",
     "traceback": [
      "\u001b[1;31m---------------------------------------------------------------------------\u001b[0m",
      "\u001b[1;31mFileExistsError\u001b[0m                           Traceback (most recent call last)",
      "\u001b[1;32m~\\AppData\\Local\\Temp\\ipykernel_19604\\2595873601.py\u001b[0m in \u001b[0;36m<module>\u001b[1;34m\u001b[0m\n\u001b[0;32m      1\u001b[0m \u001b[1;31m# Your solution here\u001b[0m\u001b[1;33m\u001b[0m\u001b[1;33m\u001b[0m\u001b[0m\n\u001b[0;32m      2\u001b[0m \u001b[0mos\u001b[0m\u001b[1;33m.\u001b[0m\u001b[0mgetcwd\u001b[0m\u001b[1;33m(\u001b[0m\u001b[1;33m)\u001b[0m\u001b[1;33m\u001b[0m\u001b[1;33m\u001b[0m\u001b[0m\n\u001b[1;32m----> 3\u001b[1;33m \u001b[0mos\u001b[0m\u001b[1;33m.\u001b[0m\u001b[0mmkdir\u001b[0m\u001b[1;33m(\u001b[0m\u001b[1;34m'python_today'\u001b[0m\u001b[1;33m)\u001b[0m\u001b[1;33m\u001b[0m\u001b[1;33m\u001b[0m\u001b[0m\n\u001b[0m",
      "\u001b[1;31mFileExistsError\u001b[0m: [WinError 183] Cannot create a file when that file already exists: 'python_today'"
     ]
    }
   ],
   "source": [
    "\n",
    "\n",
    "\n",
    "# Your solution here\n",
    "os.getcwd()\n",
    "os.mkdir('python_today')"
   ]
  },
  {
   "cell_type": "code",
   "execution_count": 57,
   "id": "badeecab",
   "metadata": {},
   "outputs": [],
   "source": [
    "os.chdir('python_today')"
   ]
  },
  {
   "cell_type": "code",
   "execution_count": 58,
   "id": "17b222ad",
   "metadata": {},
   "outputs": [
    {
     "data": {
      "text/plain": [
       "'C:\\\\Users\\\\Chin Zhen Jie\\\\OneDrive\\\\Desktop\\\\SP2273\\\\GitGud\\\\learning-portfolio-ChinZJ\\\\files, folders and os\\\\python_today'"
      ]
     },
     "execution_count": 58,
     "metadata": {},
     "output_type": "execute_result"
    }
   ],
   "source": [
    "os.getcwd()"
   ]
  },
  {
   "cell_type": "code",
   "execution_count": 67,
   "id": "981ab3f7",
   "metadata": {},
   "outputs": [],
   "source": [
    "for i in range(1,51):\n",
    "    os.mkdir(f'new_directory_{i:02}')"
   ]
  },
  {
   "cell_type": "code",
   "execution_count": 68,
   "id": "fa25f3e0",
   "metadata": {},
   "outputs": [],
   "source": [
    "for i in range(1,51):\n",
    "    if i%2 != 0:\n",
    "        os.rmdir(f'new_directory_{i:02}')\n",
    "    else:\n",
    "        continue"
   ]
  },
  {
   "cell_type": "code",
   "execution_count": 69,
   "id": "2921245a",
   "metadata": {},
   "outputs": [
    {
     "data": {
      "text/plain": [
       "['new_directory_02',\n",
       " 'new_directory_04',\n",
       " 'new_directory_06',\n",
       " 'new_directory_08',\n",
       " 'new_directory_10',\n",
       " 'new_directory_12',\n",
       " 'new_directory_14',\n",
       " 'new_directory_16',\n",
       " 'new_directory_18',\n",
       " 'new_directory_20',\n",
       " 'new_directory_22',\n",
       " 'new_directory_24',\n",
       " 'new_directory_26',\n",
       " 'new_directory_28',\n",
       " 'new_directory_30',\n",
       " 'new_directory_32',\n",
       " 'new_directory_34',\n",
       " 'new_directory_36',\n",
       " 'new_directory_38',\n",
       " 'new_directory_40',\n",
       " 'new_directory_42',\n",
       " 'new_directory_44',\n",
       " 'new_directory_46',\n",
       " 'new_directory_48',\n",
       " 'new_directory_50']"
      ]
     },
     "execution_count": 69,
     "metadata": {},
     "output_type": "execute_result"
    }
   ],
   "source": [
    "os.listdir()"
   ]
  },
  {
   "cell_type": "markdown",
   "id": "f13b3d7a",
   "metadata": {},
   "source": [
    "# I am assuming that every 5th of the even directory will be modified"
   ]
  },
  {
   "cell_type": "code",
   "execution_count": 74,
   "id": "9a2c6050",
   "metadata": {
    "scrolled": true
   },
   "outputs": [
    {
     "ename": "FileNotFoundError",
     "evalue": "[WinError 2] The system cannot find the file specified: 'new_directory_10' -> 'haha_10'",
     "output_type": "error",
     "traceback": [
      "\u001b[1;31m---------------------------------------------------------------------------\u001b[0m",
      "\u001b[1;31mFileNotFoundError\u001b[0m                         Traceback (most recent call last)",
      "\u001b[1;32m~\\AppData\\Local\\Temp\\ipykernel_19604\\2210920530.py\u001b[0m in \u001b[0;36m<module>\u001b[1;34m\u001b[0m\n\u001b[0;32m      1\u001b[0m \u001b[1;32mfor\u001b[0m \u001b[0mi\u001b[0m \u001b[1;32min\u001b[0m \u001b[0mrange\u001b[0m\u001b[1;33m(\u001b[0m\u001b[1;36m1\u001b[0m\u001b[1;33m,\u001b[0m\u001b[1;36m26\u001b[0m\u001b[1;33m)\u001b[0m\u001b[1;33m:\u001b[0m\u001b[1;33m\u001b[0m\u001b[1;33m\u001b[0m\u001b[0m\n\u001b[0;32m      2\u001b[0m     \u001b[1;32mif\u001b[0m \u001b[0mi\u001b[0m \u001b[1;33m%\u001b[0m\u001b[1;36m5\u001b[0m \u001b[1;33m==\u001b[0m \u001b[1;36m0\u001b[0m\u001b[1;33m:\u001b[0m\u001b[1;33m\u001b[0m\u001b[1;33m\u001b[0m\u001b[0m\n\u001b[1;32m----> 3\u001b[1;33m         \u001b[0mos\u001b[0m\u001b[1;33m.\u001b[0m\u001b[0mrename\u001b[0m\u001b[1;33m(\u001b[0m\u001b[1;34mf'new_directory_{i*2:02}'\u001b[0m\u001b[1;33m,\u001b[0m\u001b[1;34mf'haha_{i*2:02}'\u001b[0m\u001b[1;33m)\u001b[0m\u001b[1;33m\u001b[0m\u001b[1;33m\u001b[0m\u001b[0m\n\u001b[0m\u001b[0;32m      4\u001b[0m     \u001b[1;32melse\u001b[0m\u001b[1;33m:\u001b[0m\u001b[1;33m\u001b[0m\u001b[1;33m\u001b[0m\u001b[0m\n\u001b[0;32m      5\u001b[0m         \u001b[1;32mcontinue\u001b[0m\u001b[1;33m\u001b[0m\u001b[1;33m\u001b[0m\u001b[0m\n",
      "\u001b[1;31mFileNotFoundError\u001b[0m: [WinError 2] The system cannot find the file specified: 'new_directory_10' -> 'haha_10'"
     ]
    }
   ],
   "source": [
    "for i in range(1,26):\n",
    "    if i %5 == 0:\n",
    "        os.rename(f'new_directory_{i*2:02}',f'haha_{i*2:02}')\n",
    "    else:\n",
    "        continue"
   ]
  },
  {
   "cell_type": "markdown",
   "id": "2b300d2f",
   "metadata": {},
   "source": [
    "# There is an error here because I ran the code twice, please ignore."
   ]
  },
  {
   "cell_type": "code",
   "execution_count": 81,
   "id": "41f3060d",
   "metadata": {
    "scrolled": true
   },
   "outputs": [
    {
     "name": "stdout",
     "output_type": "stream",
     "text": [
      "new_directory_02 True\n",
      "new_directory_04 True\n",
      "new_directory_06 True\n",
      "new_directory_08 True\n",
      "new_directory_10 False\n",
      "new_directory_12 True\n",
      "new_directory_14 True\n",
      "new_directory_16 True\n",
      "new_directory_18 True\n",
      "new_directory_20 False\n",
      "new_directory_22 True\n",
      "new_directory_24 True\n",
      "new_directory_26 True\n",
      "new_directory_28 True\n",
      "new_directory_30 False\n",
      "new_directory_32 True\n",
      "new_directory_34 True\n",
      "new_directory_36 True\n",
      "new_directory_38 True\n",
      "new_directory_40 False\n",
      "new_directory_42 True\n",
      "new_directory_44 True\n",
      "new_directory_46 True\n",
      "new_directory_48 True\n",
      "new_directory_50 False\n"
     ]
    }
   ],
   "source": [
    "for i in range(1,26):\n",
    "    print(os.path.exists(f'new_directory_{i*2:02}'))"
   ]
  },
  {
   "cell_type": "code",
   "execution_count": 76,
   "id": "de8f4bed",
   "metadata": {
    "scrolled": true
   },
   "outputs": [
    {
     "data": {
      "text/plain": [
       "['haha_10',\n",
       " 'haha_20',\n",
       " 'haha_30',\n",
       " 'haha_40',\n",
       " 'haha_50',\n",
       " 'new_directory_02',\n",
       " 'new_directory_04',\n",
       " 'new_directory_06',\n",
       " 'new_directory_08',\n",
       " 'new_directory_12',\n",
       " 'new_directory_14',\n",
       " 'new_directory_16',\n",
       " 'new_directory_18',\n",
       " 'new_directory_22',\n",
       " 'new_directory_24',\n",
       " 'new_directory_26',\n",
       " 'new_directory_28',\n",
       " 'new_directory_32',\n",
       " 'new_directory_34',\n",
       " 'new_directory_36',\n",
       " 'new_directory_38',\n",
       " 'new_directory_42',\n",
       " 'new_directory_44',\n",
       " 'new_directory_46',\n",
       " 'new_directory_48']"
      ]
     },
     "execution_count": 76,
     "metadata": {},
     "output_type": "execute_result"
    }
   ],
   "source": [
    "os.listdir()"
   ]
  },
  {
   "cell_type": "code",
   "execution_count": 91,
   "id": "fc1da514",
   "metadata": {},
   "outputs": [],
   "source": [
    "os.chdir('C:\\\\Users\\\\Chin Zhen Jie\\\\OneDrive\\\\Desktop\\\\SP2273\\\\GitGud\\\\learning-portfolio-ChinZJ\\\\files, folders and os')\n",
    "os.getcwdb()\n",
    "for i in range(1,6):\n",
    "    path_to_destination = os.path.join('python_today' ,f'haha_{i*10:02}')\n",
    "    shutil.copy('sp2273_logo.png', path_to_destination)"
   ]
  },
  {
   "cell_type": "code",
   "execution_count": 98,
   "id": "02154680",
   "metadata": {
    "scrolled": false
   },
   "outputs": [
    {
     "data": {
      "text/plain": [
       "['python_today\\\\haha_10\\\\',\n",
       " 'python_today\\\\haha_10\\\\sp2273_logo.png',\n",
       " 'python_today\\\\haha_20\\\\',\n",
       " 'python_today\\\\haha_20\\\\sp2273_logo.png',\n",
       " 'python_today\\\\haha_30\\\\',\n",
       " 'python_today\\\\haha_30\\\\sp2273_logo.png',\n",
       " 'python_today\\\\haha_40\\\\',\n",
       " 'python_today\\\\haha_40\\\\sp2273_logo.png',\n",
       " 'python_today\\\\haha_50\\\\',\n",
       " 'python_today\\\\haha_50\\\\sp2273_logo.png']"
      ]
     },
     "execution_count": 98,
     "metadata": {},
     "output_type": "execute_result"
    }
   ],
   "source": [
    "glob.glob('python_today/haha**/**', recursive=True)"
   ]
  },
  {
   "cell_type": "markdown",
   "id": "4917a5dc",
   "metadata": {},
   "source": [
    "# Again, I do not know what this line of code does with the asterisks"
   ]
  },
  {
   "cell_type": "code",
   "execution_count": 100,
   "id": "edf26972",
   "metadata": {},
   "outputs": [
    {
     "data": {
      "text/plain": [
       "['haha_10',\n",
       " 'haha_20',\n",
       " 'haha_30',\n",
       " 'haha_40',\n",
       " 'haha_50',\n",
       " 'new_directory_02',\n",
       " 'new_directory_04',\n",
       " 'new_directory_06',\n",
       " 'new_directory_08',\n",
       " 'new_directory_12',\n",
       " 'new_directory_14',\n",
       " 'new_directory_16',\n",
       " 'new_directory_18',\n",
       " 'new_directory_22',\n",
       " 'new_directory_24',\n",
       " 'new_directory_26',\n",
       " 'new_directory_28',\n",
       " 'new_directory_32',\n",
       " 'new_directory_34',\n",
       " 'new_directory_36',\n",
       " 'new_directory_38',\n",
       " 'new_directory_42',\n",
       " 'new_directory_44',\n",
       " 'new_directory_46',\n",
       " 'new_directory_48']"
      ]
     },
     "execution_count": 100,
     "metadata": {},
     "output_type": "execute_result"
    }
   ],
   "source": [
    "os.chdir('python_today')\n",
    "os.listdir()"
   ]
  },
  {
   "cell_type": "markdown",
   "id": "178753b1",
   "metadata": {},
   "source": [
    "## Exercise 8 :  Tidying a collaboration"
   ]
  },
  {
   "cell_type": "code",
   "execution_count": 2,
   "id": "22601361",
   "metadata": {},
   "outputs": [
    {
     "data": {
      "text/plain": [
       "'C:\\\\Users\\\\Chin Zhen Jie\\\\OneDrive\\\\Desktop\\\\SP2273\\\\GitGud\\\\learning-portfolio-ChinZJ\\\\files, folders and os\\\\os-collaboration-exercise-data'"
      ]
     },
     "execution_count": 2,
     "metadata": {},
     "output_type": "execute_result"
    }
   ],
   "source": [
    "\n",
    "\n",
    "\n",
    "# Your solution here\n",
    "import os\n",
    "import glob\n",
    "os.chdir('C:\\\\Users\\\\Chin Zhen Jie\\\\OneDrive\\\\Desktop\\\\SP2273\\\\GitGud\\\\learning-portfolio-ChinZJ\\\\files, folders and os')\n",
    "os.chdir(\"os-collaboration-exercise-data\")\n",
    "os.getcwd()\n"
   ]
  },
  {
   "cell_type": "code",
   "execution_count": 3,
   "id": "c3adc019",
   "metadata": {},
   "outputs": [],
   "source": [
    "month_conversion = {\n",
    "'jan': '01', 'feb': '02', 'mar': '03',\n",
    "'apr': '04', 'may': '05', 'jun': '06',\n",
    "'jul': '07', 'aug': '08', 'sep': '09',\n",
    "'oct': '10', 'nov': '11', 'dec': '12'\n",
    "}\n",
    "converting_month = ['oct-08_singapore.txt', 'jul-10_cairo.txt', 'may-15_dhaka.txt',\n",
    " 'may-13_cairo.txt', 'oct-21_cairo.txt', 'jan-10_singapore.txt',\n",
    " 'jun-20_tokyo.txt', 'aug-06_jakarta.txt', 'dec-21_karachi.txt',\n",
    " 'jan-01_tokyo.txt']\n",
    "\n",
    "def rename_my_file(old_file_name):\n",
    "    for i in range(len(converting_month)):\n",
    "        for j in month_conversion:\n",
    "            if converting_month[i][0:3] == j:\n",
    "                if os.path.exists(f'{converting_month[i]}'):\n",
    "                    os.rename(f'{converting_month[i]}',\n",
    "                          f'{month_conversion[j]}{converting_month[i][3:]}')\n",
    "                else:\n",
    "                    continue\n",
    "            else:\n",
    "                continue\n",
    "rename_my_file('os-collaboration-exercise-data')"
   ]
  },
  {
   "cell_type": "code",
   "execution_count": 4,
   "id": "b486d98c",
   "metadata": {},
   "outputs": [],
   "source": [
    "converting_month_1 = glob.glob('*.txt')\n",
    "\n",
    "month_conversion = {\n",
    "'jan': '01', 'feb': '02', 'mar': '03',\n",
    "'apr': '04', 'may': '05', 'jun': '06',\n",
    "'jul': '07', 'aug': '08', 'sep': '09',\n",
    "'oct': '10', 'nov': '11', 'dec': '12'\n",
    "}\n",
    "\n",
    "def rename_my_file(old_file_name):\n",
    "    for i in range(len(converting_month_1)):\n",
    "        for j in month_conversion:\n",
    "            if converting_month_1[i][0:3] == j:\n",
    "                if os.path.exists(f'{converting_month_1[i]}'):\n",
    "                    os.rename(f'{converting_month_1[i]}',\n",
    "                          f'{month_conversion[j]}{converting_month_1[i][3:]}')\n",
    "                else:\n",
    "                    continue\n",
    "            else:\n",
    "                continue\n",
    "rename_my_file('os-collaboration-exercise-data')"
   ]
  },
  {
   "cell_type": "code",
   "execution_count": 5,
   "id": "1e715cb9",
   "metadata": {},
   "outputs": [],
   "source": [
    "list = ['Cairo', 'Dhaka', 'Jakarta', 'Karachi', 'Manila',\n",
    " 'Melbourne', 'Osaka', 'Shanghai', 'Singapore', 'Tokyo']\n",
    "for names in list:\n",
    "    os.mkdir(names)"
   ]
  },
  {
   "cell_type": "code",
   "execution_count": 6,
   "id": "bfdd1f33",
   "metadata": {},
   "outputs": [
    {
     "data": {
      "text/plain": [
       "['01-02_cairo.txt',\n",
       " '01-03_cairo.txt',\n",
       " '01-04_cairo.txt',\n",
       " '01-05_cairo.txt',\n",
       " '01-07_cairo.txt',\n",
       " '01-08_cairo.txt',\n",
       " '01-09_cairo.txt',\n",
       " '01-11_cairo.txt',\n",
       " '01-12_cairo.txt',\n",
       " '01-13_cairo.txt',\n",
       " '01-15_cairo.txt',\n",
       " '01-16_cairo.txt',\n",
       " '01-19_cairo.txt',\n",
       " '01-20_cairo.txt',\n",
       " '01-21_cairo.txt',\n",
       " '01-23_cairo.txt',\n",
       " '01-27_cairo.txt',\n",
       " '01-30_cairo.txt',\n",
       " '02-10_cairo.txt',\n",
       " '02-17_cairo.txt',\n",
       " '02-20_cairo.txt',\n",
       " '02-22_cairo.txt',\n",
       " '02-25_cairo.txt',\n",
       " '02-26_cairo.txt',\n",
       " '03-05_cairo.txt',\n",
       " '03-06_cairo.txt',\n",
       " '03-12_cairo.txt',\n",
       " '03-14_cairo.txt',\n",
       " '03-19_cairo.txt',\n",
       " '03-24_cairo.txt',\n",
       " '04-02_cairo.txt',\n",
       " '04-06_cairo.txt',\n",
       " '04-07_cairo.txt',\n",
       " '04-10_cairo.txt',\n",
       " '04-12_cairo.txt',\n",
       " '04-13_cairo.txt',\n",
       " '04-14_cairo.txt',\n",
       " '04-15_cairo.txt',\n",
       " '04-17_cairo.txt',\n",
       " '04-20_cairo.txt',\n",
       " '04-21_cairo.txt',\n",
       " '04-22_cairo.txt',\n",
       " '04-23_cairo.txt',\n",
       " '04-24_cairo.txt',\n",
       " '05-01_cairo.txt',\n",
       " '05-02_cairo.txt',\n",
       " '05-12_cairo.txt',\n",
       " '05-17_cairo.txt',\n",
       " '05-25_cairo.txt',\n",
       " '05-27_cairo.txt',\n",
       " '05-29_cairo.txt',\n",
       " '05-30_cairo.txt',\n",
       " '06-28_cairo.txt',\n",
       " '07-04_cairo.txt',\n",
       " '07-08_cairo.txt',\n",
       " '07-10_cairo.txt',\n",
       " '07-13_cairo.txt',\n",
       " '07-14_cairo.txt',\n",
       " '07-15_cairo.txt',\n",
       " '07-16_cairo.txt',\n",
       " '07-17_cairo.txt',\n",
       " '07-19_cairo.txt',\n",
       " '07-24_cairo.txt',\n",
       " '07-26_cairo.txt',\n",
       " '07-27_cairo.txt',\n",
       " '07-29_cairo.txt',\n",
       " '07-30_cairo.txt',\n",
       " '08-01_cairo.txt',\n",
       " '08-03_cairo.txt',\n",
       " '08-04_cairo.txt',\n",
       " '08-05_cairo.txt',\n",
       " '08-07_cairo.txt',\n",
       " '08-08_cairo.txt',\n",
       " '08-10_cairo.txt',\n",
       " '08-12_cairo.txt',\n",
       " '08-14_cairo.txt',\n",
       " '08-18_cairo.txt',\n",
       " '08-19_cairo.txt',\n",
       " '08-20_cairo.txt',\n",
       " '08-24_cairo.txt',\n",
       " '08-25_cairo.txt',\n",
       " '08-26_cairo.txt',\n",
       " '09-02_cairo.txt',\n",
       " '09-04_cairo.txt',\n",
       " '09-05_cairo.txt',\n",
       " '09-07_cairo.txt',\n",
       " '09-08_cairo.txt',\n",
       " '09-11_cairo.txt',\n",
       " '09-12_cairo.txt',\n",
       " '09-13_cairo.txt',\n",
       " '09-16_cairo.txt',\n",
       " '09-18_cairo.txt',\n",
       " '09-20_cairo.txt',\n",
       " '09-22_cairo.txt',\n",
       " '09-23_cairo.txt',\n",
       " '09-24_cairo.txt',\n",
       " '09-25_cairo.txt',\n",
       " '09-26_cairo.txt',\n",
       " '09-28_cairo.txt',\n",
       " '10-23_cairo.txt',\n",
       " '11-03_cairo.txt',\n",
       " '11-04_cairo.txt',\n",
       " '11-05_cairo.txt',\n",
       " '11-10_cairo.txt',\n",
       " '11-14_cairo.txt',\n",
       " '11-17_cairo.txt',\n",
       " '11-19_cairo.txt',\n",
       " '11-21_cairo.txt',\n",
       " '11-29_cairo.txt',\n",
       " '12-01_cairo.txt',\n",
       " '12-03_cairo.txt',\n",
       " '12-04_cairo.txt',\n",
       " '12-05_cairo.txt',\n",
       " '12-07_cairo.txt',\n",
       " '12-09_cairo.txt',\n",
       " '12-10_cairo.txt',\n",
       " '12-13_cairo.txt',\n",
       " '12-17_cairo.txt',\n",
       " '12-18_cairo.txt',\n",
       " '12-19_cairo.txt',\n",
       " '12-21_cairo.txt',\n",
       " '12-22_cairo.txt',\n",
       " '12-23_cairo.txt',\n",
       " '12-26_cairo.txt',\n",
       " '12-27_cairo.txt',\n",
       " '12-29_cairo.txt',\n",
       " 'apr-02_cairo.jpg',\n",
       " 'apr-06_cairo.png',\n",
       " 'apr-07_cairo.png',\n",
       " 'apr-10_cairo.png',\n",
       " 'apr-12_cairo.pdf',\n",
       " 'apr-12_cairo.png',\n",
       " 'apr-13_cairo.png',\n",
       " 'apr-14_cairo.jpg',\n",
       " 'apr-14_cairo.png',\n",
       " 'apr-15_cairo.jpg',\n",
       " 'apr-17_cairo.jpg',\n",
       " 'apr-17_cairo.pdf',\n",
       " 'apr-17_cairo.png',\n",
       " 'apr-20_cairo.jpg',\n",
       " 'apr-21_cairo.pdf',\n",
       " 'apr-22_cairo.pdf',\n",
       " 'apr-23_cairo.jpg',\n",
       " 'apr-24_cairo.jpg',\n",
       " 'aug-01_cairo.jpg',\n",
       " 'aug-01_cairo.png',\n",
       " 'aug-03_cairo.png',\n",
       " 'aug-04_cairo.jpg',\n",
       " 'aug-04_cairo.pdf',\n",
       " 'aug-05_cairo.pdf',\n",
       " 'aug-07_cairo.png',\n",
       " 'aug-08_cairo.jpg',\n",
       " 'aug-10_cairo.png',\n",
       " 'aug-12_cairo.jpg',\n",
       " 'aug-14_cairo.jpg',\n",
       " 'aug-14_cairo.png',\n",
       " 'aug-18_cairo.jpg',\n",
       " 'aug-19_cairo.jpg',\n",
       " 'aug-20_cairo.png',\n",
       " 'aug-24_cairo.pdf',\n",
       " 'aug-25_cairo.png',\n",
       " 'aug-26_cairo.png',\n",
       " 'Cairo',\n",
       " 'dec-01_cairo.jpg',\n",
       " 'dec-03_cairo.jpg',\n",
       " 'dec-03_cairo.png',\n",
       " 'dec-04_cairo.jpg',\n",
       " 'dec-04_cairo.pdf',\n",
       " 'dec-04_cairo.png',\n",
       " 'dec-05_cairo.png',\n",
       " 'dec-07_cairo.jpg',\n",
       " 'dec-09_cairo.png',\n",
       " 'dec-10_cairo.jpg',\n",
       " 'dec-10_cairo.pdf',\n",
       " 'dec-13_cairo.pdf',\n",
       " 'dec-17_cairo.png',\n",
       " 'dec-18_cairo.jpg',\n",
       " 'dec-19_cairo.pdf',\n",
       " 'dec-21_cairo.png',\n",
       " 'dec-22_cairo.jpg',\n",
       " 'dec-23_cairo.pdf',\n",
       " 'dec-26_cairo.pdf',\n",
       " 'dec-27_cairo.png',\n",
       " 'dec-29_cairo.jpg',\n",
       " 'dec-29_cairo.png',\n",
       " 'feb-10_cairo.jpg',\n",
       " 'feb-10_cairo.pdf',\n",
       " 'feb-17_cairo.jpg',\n",
       " 'feb-20_cairo.png',\n",
       " 'feb-22_cairo.pdf',\n",
       " 'feb-22_cairo.png',\n",
       " 'feb-25_cairo.jpg',\n",
       " 'feb-25_cairo.pdf',\n",
       " 'feb-26_cairo.png',\n",
       " 'jan-02_cairo.pdf',\n",
       " 'jan-03_cairo.pdf',\n",
       " 'jan-04_cairo.jpg',\n",
       " 'jan-05_cairo.jpg',\n",
       " 'jan-07_cairo.jpg',\n",
       " 'jan-08_cairo.png',\n",
       " 'jan-09_cairo.jpg',\n",
       " 'jan-11_cairo.png',\n",
       " 'jan-12_cairo.pdf',\n",
       " 'jan-13_cairo.png',\n",
       " 'jan-15_cairo.jpg',\n",
       " 'jan-15_cairo.png',\n",
       " 'jan-16_cairo.png',\n",
       " 'jan-19_cairo.pdf',\n",
       " 'jan-20_cairo.pdf',\n",
       " 'jan-21_cairo.jpg',\n",
       " 'jan-23_cairo.png',\n",
       " 'jan-27_cairo.jpg',\n",
       " 'jan-30_cairo.pdf',\n",
       " 'jul-04_cairo.jpg',\n",
       " 'jul-08_cairo.png',\n",
       " 'jul-10_cairo.png',\n",
       " 'jul-13_cairo.png',\n",
       " 'jul-14_cairo.jpg',\n",
       " 'jul-15_cairo.pdf',\n",
       " 'jul-16_cairo.png',\n",
       " 'jul-17_cairo.pdf',\n",
       " 'jul-19_cairo.jpg',\n",
       " 'jul-24_cairo.pdf',\n",
       " 'jul-26_cairo.png',\n",
       " 'jul-27_cairo.png',\n",
       " 'jul-29_cairo.jpg',\n",
       " 'jul-30_cairo.png',\n",
       " 'jun-28_cairo.pdf',\n",
       " 'mar-05_cairo.pdf',\n",
       " 'mar-05_cairo.png',\n",
       " 'mar-06_cairo.pdf',\n",
       " 'mar-12_cairo.jpg',\n",
       " 'mar-14_cairo.pdf',\n",
       " 'mar-19_cairo.jpg',\n",
       " 'mar-24_cairo.pdf',\n",
       " 'may-01_cairo.png',\n",
       " 'may-02_cairo.png',\n",
       " 'may-12_cairo.png',\n",
       " 'may-17_cairo.png',\n",
       " 'may-25_cairo.png',\n",
       " 'may-27_cairo.pdf',\n",
       " 'may-29_cairo.pdf',\n",
       " 'may-30_cairo.jpg',\n",
       " 'may-30_cairo.png',\n",
       " 'nov-03_cairo.png',\n",
       " 'nov-04_cairo.pdf',\n",
       " 'nov-05_cairo.jpg',\n",
       " 'nov-05_cairo.png',\n",
       " 'nov-10_cairo.pdf',\n",
       " 'nov-14_cairo.pdf',\n",
       " 'nov-17_cairo.pdf',\n",
       " 'nov-19_cairo.jpg',\n",
       " 'nov-21_cairo.pdf',\n",
       " 'nov-29_cairo.pdf',\n",
       " 'oct-23_cairo.jpg',\n",
       " 'sep-02_cairo.png',\n",
       " 'sep-04_cairo.pdf',\n",
       " 'sep-05_cairo.pdf',\n",
       " 'sep-07_cairo.jpg',\n",
       " 'sep-08_cairo.pdf',\n",
       " 'sep-11_cairo.png',\n",
       " 'sep-12_cairo.png',\n",
       " 'sep-13_cairo.jpg',\n",
       " 'sep-13_cairo.png',\n",
       " 'sep-16_cairo.png',\n",
       " 'sep-18_cairo.pdf',\n",
       " 'sep-20_cairo.jpg',\n",
       " 'sep-22_cairo.pdf',\n",
       " 'sep-23_cairo.pdf',\n",
       " 'sep-24_cairo.pdf',\n",
       " 'sep-25_cairo.jpg',\n",
       " 'sep-25_cairo.pdf',\n",
       " 'sep-26_cairo.pdf',\n",
       " 'sep-28_cairo.jpg',\n",
       " 'sep-28_cairo.pdf',\n",
       " 'sep-28_cairo.png']"
      ]
     },
     "execution_count": 6,
     "metadata": {},
     "output_type": "execute_result"
    }
   ],
   "source": [
    "glob.glob('**cai**')"
   ]
  },
  {
   "cell_type": "code",
   "execution_count": 10,
   "id": "10a95ae5",
   "metadata": {},
   "outputs": [
    {
     "name": "stdout",
     "output_type": "stream",
     "text": [
      "01-02_cairo.txt\n",
      "01-03_cairo.txt\n",
      "01-04_cairo.txt\n",
      "01-05_cairo.txt\n",
      "01-07_cairo.txt\n",
      "01-08_cairo.txt\n",
      "01-09_cairo.txt\n",
      "01-11_cairo.txt\n",
      "01-12_cairo.txt\n",
      "01-13_cairo.txt\n",
      "01-15_cairo.txt\n",
      "01-16_cairo.txt\n",
      "01-19_cairo.txt\n",
      "01-20_cairo.txt\n",
      "01-21_cairo.txt\n",
      "01-23_cairo.txt\n",
      "01-27_cairo.txt\n",
      "01-30_cairo.txt\n",
      "02-10_cairo.txt\n",
      "02-17_cairo.txt\n",
      "02-20_cairo.txt\n",
      "02-22_cairo.txt\n",
      "02-25_cairo.txt\n",
      "02-26_cairo.txt\n",
      "03-05_cairo.txt\n",
      "03-06_cairo.txt\n",
      "03-12_cairo.txt\n",
      "03-14_cairo.txt\n",
      "03-19_cairo.txt\n",
      "03-24_cairo.txt\n",
      "04-02_cairo.txt\n",
      "04-06_cairo.txt\n",
      "04-07_cairo.txt\n",
      "04-10_cairo.txt\n",
      "04-12_cairo.txt\n",
      "04-13_cairo.txt\n",
      "04-14_cairo.txt\n",
      "04-15_cairo.txt\n",
      "04-17_cairo.txt\n",
      "04-20_cairo.txt\n",
      "04-21_cairo.txt\n",
      "04-22_cairo.txt\n",
      "04-23_cairo.txt\n",
      "04-24_cairo.txt\n",
      "05-01_cairo.txt\n",
      "05-02_cairo.txt\n",
      "05-12_cairo.txt\n",
      "05-17_cairo.txt\n",
      "05-25_cairo.txt\n",
      "05-27_cairo.txt\n",
      "05-29_cairo.txt\n",
      "05-30_cairo.txt\n",
      "06-28_cairo.txt\n",
      "07-04_cairo.txt\n",
      "07-08_cairo.txt\n",
      "07-10_cairo.txt\n",
      "07-13_cairo.txt\n",
      "07-14_cairo.txt\n",
      "07-15_cairo.txt\n",
      "07-16_cairo.txt\n",
      "07-17_cairo.txt\n",
      "07-19_cairo.txt\n",
      "07-24_cairo.txt\n",
      "07-26_cairo.txt\n",
      "07-27_cairo.txt\n",
      "07-29_cairo.txt\n",
      "07-30_cairo.txt\n",
      "08-01_cairo.txt\n",
      "08-03_cairo.txt\n",
      "08-04_cairo.txt\n",
      "08-05_cairo.txt\n",
      "08-07_cairo.txt\n",
      "08-08_cairo.txt\n",
      "08-10_cairo.txt\n",
      "08-12_cairo.txt\n",
      "08-14_cairo.txt\n",
      "08-18_cairo.txt\n",
      "08-19_cairo.txt\n",
      "08-20_cairo.txt\n",
      "08-24_cairo.txt\n",
      "08-25_cairo.txt\n",
      "08-26_cairo.txt\n",
      "09-02_cairo.txt\n",
      "09-04_cairo.txt\n",
      "09-05_cairo.txt\n",
      "09-07_cairo.txt\n",
      "09-08_cairo.txt\n",
      "09-11_cairo.txt\n",
      "09-12_cairo.txt\n",
      "09-13_cairo.txt\n",
      "09-16_cairo.txt\n",
      "09-18_cairo.txt\n",
      "09-20_cairo.txt\n",
      "09-22_cairo.txt\n",
      "09-23_cairo.txt\n",
      "09-24_cairo.txt\n",
      "09-25_cairo.txt\n",
      "09-26_cairo.txt\n",
      "09-28_cairo.txt\n",
      "10-23_cairo.txt\n",
      "11-03_cairo.txt\n",
      "11-04_cairo.txt\n",
      "11-05_cairo.txt\n",
      "11-10_cairo.txt\n",
      "11-14_cairo.txt\n",
      "11-17_cairo.txt\n",
      "11-19_cairo.txt\n",
      "11-21_cairo.txt\n",
      "11-29_cairo.txt\n",
      "12-01_cairo.txt\n",
      "12-03_cairo.txt\n",
      "12-04_cairo.txt\n",
      "12-05_cairo.txt\n",
      "12-07_cairo.txt\n",
      "12-09_cairo.txt\n",
      "12-10_cairo.txt\n",
      "12-13_cairo.txt\n",
      "12-17_cairo.txt\n",
      "12-18_cairo.txt\n",
      "12-19_cairo.txt\n",
      "12-21_cairo.txt\n",
      "12-22_cairo.txt\n",
      "12-23_cairo.txt\n",
      "12-26_cairo.txt\n",
      "12-27_cairo.txt\n",
      "12-29_cairo.txt\n",
      "apr-02_cairo.jpg\n",
      "apr-06_cairo.png\n",
      "apr-07_cairo.png\n",
      "apr-10_cairo.png\n",
      "apr-12_cairo.pdf\n",
      "apr-12_cairo.png\n",
      "apr-13_cairo.png\n",
      "apr-14_cairo.jpg\n",
      "apr-14_cairo.png\n",
      "apr-15_cairo.jpg\n",
      "apr-17_cairo.jpg\n",
      "apr-17_cairo.pdf\n",
      "apr-17_cairo.png\n",
      "apr-20_cairo.jpg\n",
      "apr-21_cairo.pdf\n",
      "apr-22_cairo.pdf\n",
      "apr-23_cairo.jpg\n",
      "apr-24_cairo.jpg\n",
      "aug-01_cairo.jpg\n",
      "aug-01_cairo.png\n",
      "aug-03_cairo.png\n",
      "aug-04_cairo.jpg\n",
      "aug-04_cairo.pdf\n",
      "aug-05_cairo.pdf\n",
      "aug-07_cairo.png\n",
      "aug-08_cairo.jpg\n",
      "aug-10_cairo.png\n",
      "aug-12_cairo.jpg\n",
      "aug-14_cairo.jpg\n",
      "aug-14_cairo.png\n",
      "aug-18_cairo.jpg\n",
      "aug-19_cairo.jpg\n",
      "aug-20_cairo.png\n",
      "aug-24_cairo.pdf\n",
      "aug-25_cairo.png\n",
      "aug-26_cairo.png\n",
      "dec-01_cairo.jpg\n",
      "dec-03_cairo.jpg\n",
      "dec-03_cairo.png\n",
      "dec-04_cairo.jpg\n",
      "dec-04_cairo.pdf\n",
      "dec-04_cairo.png\n",
      "dec-05_cairo.png\n",
      "dec-07_cairo.jpg\n",
      "dec-09_cairo.png\n",
      "dec-10_cairo.jpg\n",
      "dec-10_cairo.pdf\n",
      "dec-13_cairo.pdf\n",
      "dec-17_cairo.png\n",
      "dec-18_cairo.jpg\n",
      "dec-19_cairo.pdf\n",
      "dec-21_cairo.png\n",
      "dec-22_cairo.jpg\n",
      "dec-23_cairo.pdf\n",
      "dec-26_cairo.pdf\n",
      "dec-27_cairo.png\n",
      "dec-29_cairo.jpg\n",
      "dec-29_cairo.png\n",
      "feb-10_cairo.jpg\n",
      "feb-10_cairo.pdf\n",
      "feb-17_cairo.jpg\n",
      "feb-20_cairo.png\n",
      "feb-22_cairo.pdf\n",
      "feb-22_cairo.png\n",
      "feb-25_cairo.jpg\n",
      "feb-25_cairo.pdf\n",
      "feb-26_cairo.png\n",
      "jan-02_cairo.pdf\n",
      "jan-03_cairo.pdf\n",
      "jan-04_cairo.jpg\n",
      "jan-05_cairo.jpg\n",
      "jan-07_cairo.jpg\n",
      "jan-08_cairo.png\n",
      "jan-09_cairo.jpg\n",
      "jan-11_cairo.png\n",
      "jan-12_cairo.pdf\n",
      "jan-13_cairo.png\n",
      "jan-15_cairo.jpg\n",
      "jan-15_cairo.png\n",
      "jan-16_cairo.png\n",
      "jan-19_cairo.pdf\n",
      "jan-20_cairo.pdf\n",
      "jan-21_cairo.jpg\n",
      "jan-23_cairo.png\n",
      "jan-27_cairo.jpg\n",
      "jan-30_cairo.pdf\n",
      "jul-04_cairo.jpg\n",
      "jul-08_cairo.png\n",
      "jul-10_cairo.png\n",
      "jul-13_cairo.png\n",
      "jul-14_cairo.jpg\n",
      "jul-15_cairo.pdf\n",
      "jul-16_cairo.png\n",
      "jul-17_cairo.pdf\n",
      "jul-19_cairo.jpg\n",
      "jul-24_cairo.pdf\n",
      "jul-26_cairo.png\n",
      "jul-27_cairo.png\n",
      "jul-29_cairo.jpg\n",
      "jul-30_cairo.png\n",
      "jun-28_cairo.pdf\n",
      "mar-05_cairo.pdf\n",
      "mar-05_cairo.png\n",
      "mar-06_cairo.pdf\n",
      "mar-12_cairo.jpg\n",
      "mar-14_cairo.pdf\n",
      "mar-19_cairo.jpg\n",
      "mar-24_cairo.pdf\n",
      "may-01_cairo.png\n",
      "may-02_cairo.png\n",
      "may-12_cairo.png\n",
      "may-17_cairo.png\n",
      "may-25_cairo.png\n",
      "may-27_cairo.pdf\n",
      "may-29_cairo.pdf\n",
      "may-30_cairo.jpg\n",
      "may-30_cairo.png\n",
      "nov-03_cairo.png\n",
      "nov-04_cairo.pdf\n",
      "nov-05_cairo.jpg\n",
      "nov-05_cairo.png\n",
      "nov-10_cairo.pdf\n",
      "nov-14_cairo.pdf\n",
      "nov-17_cairo.pdf\n",
      "nov-19_cairo.jpg\n",
      "nov-21_cairo.pdf\n",
      "nov-29_cairo.pdf\n",
      "oct-23_cairo.jpg\n",
      "sep-02_cairo.png\n",
      "sep-04_cairo.pdf\n",
      "sep-05_cairo.pdf\n",
      "sep-07_cairo.jpg\n",
      "sep-08_cairo.pdf\n",
      "sep-11_cairo.png\n",
      "sep-12_cairo.png\n",
      "sep-13_cairo.jpg\n",
      "sep-13_cairo.png\n",
      "sep-16_cairo.png\n",
      "sep-18_cairo.pdf\n",
      "sep-20_cairo.jpg\n",
      "sep-22_cairo.pdf\n",
      "sep-23_cairo.pdf\n",
      "sep-24_cairo.pdf\n",
      "sep-25_cairo.jpg\n",
      "sep-25_cairo.pdf\n",
      "sep-26_cairo.pdf\n",
      "sep-28_cairo.jpg\n",
      "sep-28_cairo.pdf\n",
      "sep-28_cairo.png\n"
     ]
    }
   ],
   "source": [
    "import shutil\n",
    "for i in glob.glob('**cai**'):\n",
    "    if i != 'Cairo':\n",
    "        shutil.copy(i, 'Cairo')\n",
    "        print(i)\n",
    "    else:\n",
    "        continue\n",
    "      \n"
   ]
  },
  {
   "cell_type": "code",
   "execution_count": 14,
   "id": "624e08e1",
   "metadata": {},
   "outputs": [],
   "source": [
    "cities = ['Cairo', 'Dhaka', 'Jakarta', 'Karachi', 'Manila',\n",
    " 'Melbourne', 'Osaka', 'Shanghai', 'Singapore', 'Tokyo']\n",
    "for i in cities:\n",
    "    for j in glob.glob(f'**{i.lower()}**'):\n",
    "        if j != i:\n",
    "            shutil.move(j, i)\n",
    "        else:\n",
    "            continue"
   ]
  }
 ],
 "metadata": {
  "hide_input": false,
  "kernelspec": {
   "display_name": "Python 3 (ipykernel)",
   "language": "python",
   "name": "python3"
  },
  "language_info": {
   "codemirror_mode": {
    "name": "ipython",
    "version": 3
   },
   "file_extension": ".py",
   "mimetype": "text/x-python",
   "name": "python",
   "nbconvert_exporter": "python",
   "pygments_lexer": "ipython3",
   "version": "3.9.15"
  },
  "toc": {
   "base_numbering": 1,
   "nav_menu": {},
   "number_sections": true,
   "sideBar": true,
   "skip_h1_title": false,
   "title_cell": "Table of Contents",
   "title_sidebar": "Contents",
   "toc_cell": false,
   "toc_position": {},
   "toc_section_display": true,
   "toc_window_display": false
  },
  "varInspector": {
   "cols": {
    "lenName": 16,
    "lenType": 16,
    "lenVar": 40
   },
   "kernels_config": {
    "python": {
     "delete_cmd_postfix": "",
     "delete_cmd_prefix": "del ",
     "library": "var_list.py",
     "varRefreshCmd": "print(var_dic_list())"
    },
    "r": {
     "delete_cmd_postfix": ") ",
     "delete_cmd_prefix": "rm(",
     "library": "var_list.r",
     "varRefreshCmd": "cat(var_dic_list()) "
    }
   },
   "types_to_exclude": [
    "module",
    "function",
    "builtin_function_or_method",
    "instance",
    "_Feature"
   ],
   "window_display": false
  },
  "vscode": {
   "interpreter": {
    "hash": "31f2aee4e71d21fbe5cf8b01ff0e069b9275f58929596ceb00d14d90e3e16cd6"
   }
  }
 },
 "nbformat": 4,
 "nbformat_minor": 5
}
