{
 "cells": [
  {
   "cell_type": "code",
   "execution_count": 2,
   "id": "2548f0a5",
   "metadata": {},
   "outputs": [
    {
     "data": {
      "text/plain": [
       "'c'"
      ]
     },
     "execution_count": 2,
     "metadata": {},
     "output_type": "execute_result"
    }
   ],
   "source": [
    "'c'"
   ]
  },
  {
   "cell_type": "markdown",
   "id": "5345fc0f",
   "metadata": {},
   "source": [
    "```python\n",
    "print('Hello world')\n",
    "```"
   ]
  },
  {
   "cell_type": "markdown",
   "id": "b0b9d1f3",
   "metadata": {},
   "source": [
    "`print('Hello World')`"
   ]
  },
  {
   "cell_type": "code",
   "execution_count": 6,
   "id": "c75fb45b",
   "metadata": {},
   "outputs": [
    {
     "name": "stdout",
     "output_type": "stream",
     "text": [
      "hi\n",
      "bye\n"
     ]
    },
    {
     "ename": "TypeError",
     "evalue": "unsupported operand type(s) for +: 'NoneType' and 'NoneType'",
     "output_type": "error",
     "traceback": [
      "\u001b[1;31m---------------------------------------------------------------------------\u001b[0m",
      "\u001b[1;31mTypeError\u001b[0m                                 Traceback (most recent call last)",
      "\u001b[1;32m~\\AppData\\Local\\Temp\\ipykernel_10736\\876246179.py\u001b[0m in \u001b[0;36m<module>\u001b[1;34m\u001b[0m\n\u001b[1;32m----> 1\u001b[1;33m \u001b[0mprint\u001b[0m\u001b[1;33m(\u001b[0m\u001b[1;34m'hi'\u001b[0m\u001b[1;33m)\u001b[0m \u001b[1;33m+\u001b[0m \u001b[0mprint\u001b[0m\u001b[1;33m(\u001b[0m\u001b[1;34m'bye'\u001b[0m\u001b[1;33m)\u001b[0m\u001b[1;33m\u001b[0m\u001b[1;33m\u001b[0m\u001b[0m\n\u001b[0m",
      "\u001b[1;31mTypeError\u001b[0m: unsupported operand type(s) for +: 'NoneType' and 'NoneType'"
     ]
    }
   ],
   "source": [
    "print('hi') + print('bye')"
   ]
  },
  {
   "cell_type": "code",
   "execution_count": 11,
   "id": "82ff060b",
   "metadata": {},
   "outputs": [
    {
     "ename": "IndentationError",
     "evalue": "unexpected indent (3014435754.py, line 7)",
     "output_type": "error",
     "traceback": [
      "\u001b[1;36m  File \u001b[1;32m\"C:\\Users\\Chin Zhen Jie\\AppData\\Local\\Temp\\ipykernel_10736\\3014435754.py\"\u001b[1;36m, line \u001b[1;32m7\u001b[0m\n\u001b[1;33m    sdfdfsf\u001b[0m\n\u001b[1;37m    ^\u001b[0m\n\u001b[1;31mIndentationError\u001b[0m\u001b[1;31m:\u001b[0m unexpected indent\n"
     ]
    }
   ],
   "source": [
    "print('one')\n",
    "\n",
    "\n",
    "\n",
    "\n",
    "   #Test\n",
    " "
   ]
  },
  {
   "cell_type": "code",
   "execution_count": 12,
   "id": "beada3ed",
   "metadata": {},
   "outputs": [
    {
     "name": "stdout",
     "output_type": "stream",
     "text": [
      "False\n"
     ]
    }
   ],
   "source": [
    "print ('bBbb' > 'bbBb')"
   ]
  },
  {
   "cell_type": "code",
   "execution_count": 13,
   "id": "b8416156",
   "metadata": {},
   "outputs": [
    {
     "data": {
      "text/plain": [
       "\"You're twenty years old.\""
      ]
     },
     "execution_count": 13,
     "metadata": {},
     "output_type": "execute_result"
    }
   ],
   "source": [
    "\"You're twenty years old.\""
   ]
  },
  {
   "cell_type": "markdown",
   "id": "354a9f22",
   "metadata": {},
   "source": [
    " \\# Test"
   ]
  },
  {
   "cell_type": "code",
   "execution_count": 15,
   "id": "3646df61",
   "metadata": {},
   "outputs": [
    {
     "name": "stdout",
     "output_type": "stream",
     "text": [
      "3 4 5.0\n"
     ]
    }
   ],
   "source": [
    "import math\n",
    "\n",
    "# Your solution here\n",
    "x, y=3, 4\n",
    "z = math.sqrt((x**2) + (y**2))\n",
    "print(x,y,z)"
   ]
  },
  {
   "cell_type": "code",
   "execution_count": 17,
   "id": "c1b4f455",
   "metadata": {},
   "outputs": [
    {
     "name": "stdout",
     "output_type": "stream",
     "text": [
      "False\n"
     ]
    }
   ],
   "source": [
    "print('aa' > 'ao')"
   ]
  },
  {
   "cell_type": "code",
   "execution_count": 18,
   "id": "1e3ab90f",
   "metadata": {},
   "outputs": [
    {
     "name": "stdout",
     "output_type": "stream",
     "text": [
      "The value of pi is 3.141592653589793.\n",
      "The square of pi is 9.869604401089358.\n",
      "The cube of pi is 31.006276680299816.\n"
     ]
    }
   ],
   "source": [
    "x = np.pi\n",
    "print(f'The value of pi is {x}.')\n",
    "print(f'The square of pi is {x**2}.')\n",
    "print(f'The cube of pi is {x**3}.')"
   ]
  },
  {
   "cell_type": "code",
   "execution_count": null,
   "id": "9bf34375",
   "metadata": {},
   "outputs": [],
   "source": [
    "if name == \"Batman\" or \"Black Widow\":\n",
    "    print(True)\n",
    "\n"
   ]
  },
  {
   "cell_type": "code",
   "execution_count": 24,
   "id": "bb911379",
   "metadata": {},
   "outputs": [
    {
     "name": "stdout",
     "output_type": "stream",
     "text": [
      "36.1 ns ± 0.254 ns per loop (mean ± std. dev. of 7 runs, 10000000 loops each)\n"
     ]
    }
   ],
   "source": [
    "def hello_3(name):\n",
    "    if name.lower() == \"batman\" or name.lower() == \"black widow\":\n",
    "        return \"Hello \"+ name.upper() +\"!\"\n",
    "    else:\n",
    "        return \"Hello \"+ name.lower() + \"!\"    "
   ]
  },
  {
   "cell_type": "code",
   "execution_count": 26,
   "id": "4333ef12",
   "metadata": {},
   "outputs": [],
   "source": [
    "def hello_4(name):\n",
    "    name = name.lower()\n",
    "    if name == \"batman\" or name == \"black widow\":\n",
    "        return \"Hello \"+ name.upper() +\"!\"\n",
    "    else:\n",
    "        return \"Hello \"+ name + \"!\"    "
   ]
  },
  {
   "cell_type": "code",
   "execution_count": 27,
   "id": "7fb2a7dd",
   "metadata": {},
   "outputs": [
    {
     "name": "stdout",
     "output_type": "stream",
     "text": [
      "251 ns ± 0.377 ns per loop (mean ± std. dev. of 7 runs, 1000000 loops each)\n"
     ]
    }
   ],
   "source": [
    "%%timeit\n",
    "hello_3('Aquaman')"
   ]
  },
  {
   "cell_type": "code",
   "execution_count": 28,
   "id": "ff8a4c19",
   "metadata": {},
   "outputs": [
    {
     "name": "stdout",
     "output_type": "stream",
     "text": [
      "191 ns ± 0.475 ns per loop (mean ± std. dev. of 7 runs, 10000000 loops each)\n"
     ]
    }
   ],
   "source": [
    "%%timeit\n",
    "hello_4('Aquaman')"
   ]
  },
  {
   "cell_type": "code",
   "execution_count": 29,
   "id": "b803483f",
   "metadata": {},
   "outputs": [
    {
     "name": "stdout",
     "output_type": "stream",
     "text": [
      "1\n",
      "['Natasha Romanoff', 'Tony Stark', 'Stephen Strange']\n"
     ]
    }
   ],
   "source": [
    "superhero_info = {\"Natasha Romanoff\": \"Black Widow\",\n",
    "                  \"Tony Stark\": \"Iron Man\",\n",
    "                  \"Stephen Strange\": \"Doctor Strange\"\n",
    "                  }\n",
    "print(list(superhero_info.values()).index(\"Iron Man\"))\n",
    "print(list(superhero_info.keys()))"
   ]
  }
 ],
 "metadata": {
  "hide_input": false,
  "kernelspec": {
   "display_name": "Python 3 (ipykernel)",
   "language": "python",
   "name": "python3"
  },
  "language_info": {
   "codemirror_mode": {
    "name": "ipython",
    "version": 3
   },
   "file_extension": ".py",
   "mimetype": "text/x-python",
   "name": "python",
   "nbconvert_exporter": "python",
   "pygments_lexer": "ipython3",
   "version": "3.9.15"
  },
  "toc": {
   "base_numbering": 1,
   "nav_menu": {},
   "number_sections": true,
   "sideBar": true,
   "skip_h1_title": false,
   "title_cell": "Table of Contents",
   "title_sidebar": "Contents",
   "toc_cell": false,
   "toc_position": {},
   "toc_section_display": true,
   "toc_window_display": false
  },
  "varInspector": {
   "cols": {
    "lenName": 16,
    "lenType": 16,
    "lenVar": 40
   },
   "kernels_config": {
    "python": {
     "delete_cmd_postfix": "",
     "delete_cmd_prefix": "del ",
     "library": "var_list.py",
     "varRefreshCmd": "print(var_dic_list())"
    },
    "r": {
     "delete_cmd_postfix": ") ",
     "delete_cmd_prefix": "rm(",
     "library": "var_list.r",
     "varRefreshCmd": "cat(var_dic_list()) "
    }
   },
   "types_to_exclude": [
    "module",
    "function",
    "builtin_function_or_method",
    "instance",
    "_Feature"
   ],
   "window_display": false
  }
 },
 "nbformat": 4,
 "nbformat_minor": 5
}
