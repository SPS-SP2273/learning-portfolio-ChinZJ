{
 "cells": [
  {
   "cell_type": "markdown",
   "id": "123456",
   "metadata": {},
   "source": [
    "<div style=\"text-align:left;font-size:2em\"><span style=\"font-weight:bolder;font-size:1.25em\">SP2273 | Learning Portfolio</span><br><br><span style=\"font-weight:bold;color:darkred\">Basics (Nice)</span></div>"
   ]
  },
  {
   "cell_type": "markdown",
   "id": "e73571b9",
   "metadata": {},
   "source": [
    "## 1 Beyond Python Basics"
   ]
  },
  {
   "cell_type": "markdown",
   "id": "db9a116d",
   "metadata": {},
   "source": [
    "### 1.1 If if is not enough"
   ]
  },
  {
   "cell_type": "code",
   "execution_count": 4,
   "id": "122f333c",
   "metadata": {},
   "outputs": [
    {
     "ename": "SyntaxError",
     "evalue": "invalid syntax (1077309161.py, line 4)",
     "output_type": "error",
     "traceback": [
      "\u001b[1;36m  File \u001b[1;32m\"C:\\Users\\Chin Zhen Jie\\AppData\\Local\\Temp\\ipykernel_11752\\1077309161.py\"\u001b[1;36m, line \u001b[1;32m4\u001b[0m\n\u001b[1;33m    match name:\u001b[0m\n\u001b[1;37m          ^\u001b[0m\n\u001b[1;31mSyntaxError\u001b[0m\u001b[1;31m:\u001b[0m invalid syntax\n"
     ]
    }
   ],
   "source": [
    "\n",
    "# Your code here\n",
    "name = 'Batman'\n",
    "\n",
    "match name:\n",
    "    case 'Batman':\n",
    "        print('Hello Hero | Batman!')\n",
    "    case 'Robin':\n",
    "        print('Hello Sidekick | Robin!')\n",
    "    case _:\n",
    "        print('Hello World!')"
   ]
  },
  {
   "cell_type": "markdown",
   "id": "270ccdc9",
   "metadata": {},
   "source": [
    "My python is currently at 3.9. This code does not run for me."
   ]
  },
  {
   "cell_type": "markdown",
   "id": "a9b6bfbc",
   "metadata": {},
   "source": [
    "### 1.2 Ternary operators or Conditional Statements"
   ]
  },
  {
   "cell_type": "code",
   "execution_count": 15,
   "id": "40d3d908",
   "metadata": {},
   "outputs": [
    {
     "name": "stdout",
     "output_type": "stream",
     "text": [
      "Bonjour!\n",
      "Hello!\n",
      "Bonjour!\n",
      "Hello!\n",
      "Bonjour!\n",
      "Hello!\n",
      "2 1\n"
     ]
    }
   ],
   "source": [
    "\n",
    "# Your code here\n",
    "#method 1\n",
    "def greeting_1(nationality):\n",
    "    if nationality == 'French':\n",
    "        greeting = \"Bonjour!\"\n",
    "        return greeting\n",
    "    else:\n",
    "        greeting = \"Hello!\"\n",
    "        return greeting\n",
    "    \n",
    "#method 2\n",
    "def greeting_2(nationality):\n",
    "    greeting = \"Bonjour!\" if nationality == 'French' else \"Hello!\"\n",
    "    return greeting\n",
    "\n",
    "#method 3\n",
    "def greeting_3(nationality):\n",
    "    greeting = (\"Hello!\", \"Bonjour!\")[nationality == 'French']\n",
    "    return greeting\n",
    "\n",
    "#Test cases\n",
    "print(greeting_1(\"French\"))\n",
    "print(greeting_1(\"lmao\"))\n",
    "print(greeting_2(\"French\"))\n",
    "print(greeting_2(\"lmao\"))\n",
    "print(greeting_3(\"French\"))\n",
    "print(greeting_3(\"lmao\"))\n",
    "\n",
    "text = None\n",
    "message = text or \"No message!\"\n",
    "\n"
   ]
  },
  {
   "cell_type": "markdown",
   "id": "7fd0bb2c",
   "metadata": {},
   "source": [
    "# There is an error here within the website, Bonjour and Hello should be swapped for the 3rd variant of greeting"
   ]
  },
  {
   "cell_type": "markdown",
   "id": "55e64cac",
   "metadata": {},
   "source": [
    "### 1.3 Swapping values"
   ]
  },
  {
   "cell_type": "code",
   "execution_count": 16,
   "id": "de236e08",
   "metadata": {},
   "outputs": [
    {
     "name": "stdout",
     "output_type": "stream",
     "text": [
      "2 1\n"
     ]
    }
   ],
   "source": [
    "\n",
    "# Your code here\n",
    "a, b = 1, 2\n",
    "a, b = b, a\n",
    "print(a, b)"
   ]
  },
  {
   "cell_type": "markdown",
   "id": "20f78c9e",
   "metadata": {},
   "source": [
    "### 1.4 Never compare floats directly"
   ]
  },
  {
   "cell_type": "code",
   "execution_count": 26,
   "id": "19034125",
   "metadata": {},
   "outputs": [
    {
     "name": "stdout",
     "output_type": "stream",
     "text": [
      "True\n",
      "True\n"
     ]
    }
   ],
   "source": [
    "\n",
    "# Your code here\n",
    "a = 0.1\n",
    "a3 = 0.3\n",
    "a * 3 == a3\n",
    "\n",
    "eps = 1E-10\n",
    "print(abs(a * 3 - a3) < eps) #This returns the absolute value\n",
    "\n",
    "#print(f\"{0.3:1.17f}\" #Unexpected EOF while parsing\n",
    "\n",
    "print(np.isclose(a * 3, a3)) #This checks whether the values are close"
   ]
  },
  {
   "cell_type": "markdown",
   "id": "54ab1ef3",
   "metadata": {},
   "source": [
    "### 1.5 Operator precedance"
   ]
  },
  {
   "cell_type": "markdown",
   "id": "c543a522",
   "metadata": {},
   "source": [
    "\n",
    "# Your code here\n",
    "|Description|\tOperator|\n",
    "|:--|:--:|\n",
    "|Parentheses(grouping)|\t()|\n",
    "|Function call|\tf(args...)|\n",
    "|Slicing|\tx[index:index]|\n",
    "|Subscription|\tx[index]|\n",
    "|Attribute reference|\tx.attribute|\n",
    "|Exponentiation|\t**|\n",
    "|Bitwise not|\t~x|\n",
    "|Positive, negative|\t+x, -x|\n",
    "|Multiplication, division, remainder|\t*, / ,%|\n",
    "|Addition, subtraction|\t+, -|\n",
    "|Bitwise shifts|\t<<, >>|\n",
    "|Bitwise AND|\t&|\n",
    "|Bitwise XOR|\t^|\n",
    "|Bitwise OR\t|\\||\n",
    "|Comparisons, membership, identity|\tin, not in, is, is not, <, <=, >, >=, <>, !=, ==|\n",
    "|Boolean NOT|\tnot x|\n",
    "|Boolean AND|\tand|\n",
    "|Boolean |OR\tor|\n",
    "|Lambda expression|\tlambda|"
   ]
  },
  {
   "cell_type": "markdown",
   "id": "ad8328c6",
   "metadata": {},
   "source": [
    "## 2 Variables in Python"
   ]
  },
  {
   "cell_type": "markdown",
   "id": "f3ffea25",
   "metadata": {},
   "source": [
    "### 2.1 Variables in Python are just names"
   ]
  },
  {
   "cell_type": "code",
   "execution_count": 29,
   "id": "1fbbc072",
   "metadata": {},
   "outputs": [
    {
     "name": "stdout",
     "output_type": "stream",
     "text": [
      "x: [1, 2, 3], y: [1, 2, 3]\n"
     ]
    }
   ],
   "source": [
    "\n",
    "# Your code here\n",
    "x = [1, 2]\n",
    "y = x\n",
    "y.append(3)\n",
    "\n",
    "print(f\"x: {x}, y: {y}\")\n"
   ]
  },
  {
   "cell_type": "markdown",
   "id": "ece188f9",
   "metadata": {},
   "source": [
    "### 2.2 == is not the same as is"
   ]
  },
  {
   "cell_type": "markdown",
   "id": "4ab03cc4",
   "metadata": {},
   "source": [
    "\n",
    "# Your code here\n",
    "is checks for identity (bound to same object\n",
    "\n",
    "== checks for equaliity"
   ]
  }
 ],
 "metadata": {
  "hide_input": false,
  "kernelspec": {
   "display_name": "Python 3 (ipykernel)",
   "language": "python",
   "name": "python3"
  },
  "language_info": {
   "codemirror_mode": {
    "name": "ipython",
    "version": 3
   },
   "file_extension": ".py",
   "mimetype": "text/x-python",
   "name": "python",
   "nbconvert_exporter": "python",
   "pygments_lexer": "ipython3",
   "version": "3.9.13"
  },
  "toc": {
   "base_numbering": 1,
   "nav_menu": {},
   "number_sections": true,
   "sideBar": true,
   "skip_h1_title": false,
   "title_cell": "Table of Contents",
   "title_sidebar": "Contents",
   "toc_cell": false,
   "toc_position": {},
   "toc_section_display": true,
   "toc_window_display": false
  },
  "varInspector": {
   "cols": {
    "lenName": 16,
    "lenType": 16,
    "lenVar": 40
   },
   "kernels_config": {
    "python": {
     "delete_cmd_postfix": "",
     "delete_cmd_prefix": "del ",
     "library": "var_list.py",
     "varRefreshCmd": "print(var_dic_list())"
    },
    "r": {
     "delete_cmd_postfix": ") ",
     "delete_cmd_prefix": "rm(",
     "library": "var_list.r",
     "varRefreshCmd": "cat(var_dic_list()) "
    }
   },
   "types_to_exclude": [
    "module",
    "function",
    "builtin_function_or_method",
    "instance",
    "_Feature"
   ],
   "window_display": false
  },
  "vscode": {
   "interpreter": {
    "hash": "31f2aee4e71d21fbe5cf8b01ff0e069b9275f58929596ceb00d14d90e3e16cd6"
   }
  }
 },
 "nbformat": 4,
 "nbformat_minor": 5
}
