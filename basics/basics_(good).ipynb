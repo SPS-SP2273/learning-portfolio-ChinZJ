{
 "cells": [
  {
   "cell_type": "markdown",
   "id": "123456",
   "metadata": {},
   "source": [
    "<div style=\"text-align:left;font-size:2em\"><span style=\"font-weight:bolder;font-size:1.25em\">SP2273 | Learning Portfolio</span><br><br><span style=\"font-weight:bold;color:darkred\">Basics (Good)</span></div>"
   ]
  },
  {
   "cell_type": "markdown",
   "id": "6eb57ee8",
   "metadata": {},
   "source": [
    "## 1 More Python Basics"
   ]
  },
  {
   "cell_type": "markdown",
   "id": "8b1f02f6",
   "metadata": {},
   "source": [
    "### 1.1 Computers read = from Right to Left!"
   ]
  },
  {
   "cell_type": "code",
   "execution_count": 3,
   "id": "91e053fe",
   "metadata": {},
   "outputs": [
    {
     "name": "stdout",
     "output_type": "stream",
     "text": [
      "42\n"
     ]
    }
   ],
   "source": [
    "\n",
    "# Your code here\n",
    "x = 40 #Make x have the value 40\n",
    "y = x + 2 #Add 2 to x (to get 42)\n",
    "            #Then make y equal to the answer (i.e. 42).\n",
    "print(y)\n",
    "x = y = 10"
   ]
  },
  {
   "cell_type": "markdown",
   "id": "c5d86473",
   "metadata": {},
   "source": [
    "### 1.2 Shorter and cleaner"
   ]
  },
  {
   "cell_type": "code",
   "execution_count": 8,
   "id": "e280359a",
   "metadata": {},
   "outputs": [
    {
     "name": "stdout",
     "output_type": "stream",
     "text": [
      "42\n",
      "38\n",
      "20.0\n",
      "80\n"
     ]
    }
   ],
   "source": [
    "\n",
    "# Your code here\n",
    "y = 40\n",
    "y = y + 2\n",
    "#y += 2    # Same as y = y + 2\n",
    "print(y)\n",
    "y = 40\n",
    "y -= 2     # Same as y = y - 2\n",
    "print(y)\n",
    "y = 40\n",
    "y /= 2    # Same as y = y/2\n",
    "print(y)\n",
    "y = 40\n",
    "y *= 2    # Same as y = y * 2\n",
    "print(y)"
   ]
  },
  {
   "cell_type": "markdown",
   "id": "24c2b16f",
   "metadata": {},
   "source": [
    "### 1.3 Asking questions"
   ]
  },
  {
   "cell_type": "code",
   "execution_count": 11,
   "id": "b20d293c",
   "metadata": {},
   "outputs": [
    {
     "name": "stdout",
     "output_type": "stream",
     "text": [
      "True\n",
      "False\n",
      "True\n",
      "True\n",
      "True\n",
      "False\n",
      "True\n",
      "True\n"
     ]
    }
   ],
   "source": [
    "\n",
    "# Your code here\n",
    "fruits = [\"apple\", \"banana\", \"pineapple\", \"jackfruit\"]\n",
    "vegetables = [\"celery\", \"potato\", \"broccoli\", \"kale\"]\n",
    "print(\"apple\" in fruits)\n",
    "print(\"peach\" in fruits)\n",
    "print(\"peach\" not in fruits)\n",
    "print((\"apple\" in fruits) and (\"celery\" in vegetables))\n",
    "print((\"apple\" in fruits) or (\"celery\" in vegetables))\n",
    "print('apples' > 'oranges')\n",
    "print((x > 5) and (x < 15))\n",
    "print(5 < x < 15)"
   ]
  },
  {
   "cell_type": "markdown",
   "id": "6f5a96a2",
   "metadata": {},
   "source": [
    "|Question/Condition|\tMath Symbol\t|Python Symbols|\n",
    "|:-|:-:|:-:|\n",
    "|Equals?|\t=|\t==|\n",
    "|Not equal?|\t≠|\t!=|\n",
    "|Less than?|\t<|\t<|\n",
    "|Greater than?|\t>\t|>|\n",
    "|Less than or equal?|\t≤|\t<=|\n",
    "|Greater than or equal?|\t≥\t|>=|"
   ]
  },
  {
   "cell_type": "markdown",
   "id": "5c6af098",
   "metadata": {},
   "source": [
    "### 1.4 There is more to if"
   ]
  },
  {
   "cell_type": "code",
   "execution_count": 12,
   "id": "16fc8b47",
   "metadata": {},
   "outputs": [
    {
     "name": "stdout",
     "output_type": "stream",
     "text": [
      "Hello Hero | Batman!\n"
     ]
    }
   ],
   "source": [
    "\n",
    "# Your code here\n",
    "name = 'Batman'\n",
    "\n",
    "if name == 'Batman':\n",
    "    print('Hello Hero | Batman!')\n",
    "elif name == 'Robin':\n",
    "    print('Hello Sidekick | Robin!')\n",
    "else:\n",
    "    print('Hello World!')"
   ]
  },
  {
   "cell_type": "markdown",
   "id": "3b7ea7bb",
   "metadata": {},
   "source": [
    "### 1.5 Python stores information in different formats or types."
   ]
  },
  {
   "cell_type": "code",
   "execution_count": 17,
   "id": "99ba79ba",
   "metadata": {},
   "outputs": [
    {
     "name": "stdout",
     "output_type": "stream",
     "text": [
      "1 <class 'int'>\n",
      "1.234 <class 'str'>\n",
      "1.234 <class 'float'>\n",
      "(1.234+0j) <class 'complex'>\n",
      "1.234 <class 'str'>\n",
      "1.234 <class 'float'>\n"
     ]
    }
   ],
   "source": [
    "\n",
    "# Your code here\n",
    "x = int(1.234)\n",
    "print(x, type(x))\n",
    "\n",
    "x = str(1.234)\n",
    "print(x, type(x))\n",
    "\n",
    "x = float(1.234)\n",
    "print(x, type(x))\n",
    "\n",
    "x = complex(1.234)\n",
    "print(x, type(x))\n",
    "\n",
    "x = '1.234'\n",
    "print(x, type(x))\n",
    "\n",
    "x = float(x)\n",
    "print(x, type(x))"
   ]
  },
  {
   "cell_type": "markdown",
   "id": "9fa858d1",
   "metadata": {},
   "source": [
    "### 1.6 Combining English and variables"
   ]
  },
  {
   "cell_type": "code",
   "execution_count": 22,
   "id": "ca85e86c",
   "metadata": {},
   "outputs": [
    {
     "name": "stdout",
     "output_type": "stream",
     "text": [
      "Hello Batman!\n",
      "Hello BATMAN!\n",
      "The value of 10 squared is 100!\n",
      "Bruce Wayne is Batman.\n",
      "        Bruce Wayne is Batman.\n",
      "    Bruce Wayne is Batman.    \n",
      "Bruce Wayne is Batman.        \n",
      "The cube of pi to 6 decimal places is 31.006277\n",
      "The cube of pi to 6 decimal places is 31.0062766803\n",
      "The cube of pi to 6 decimal places is 3.100628e+01\n"
     ]
    }
   ],
   "source": [
    "\n",
    "# Your code here\n",
    "name = \"Batman\"\n",
    "print(f\"Hello {name}!\") #f-string or string interpolation\n",
    "\n",
    "name = \"Batman\"\n",
    "print(f\"Hello {name.upper()}!\")\n",
    "\n",
    "x = 10\n",
    "print(f\"The value of {x} squared is {x**2}!\")\n",
    "\n",
    "text = 'Bruce Wayne is Batman.'\n",
    "print(f'{text}')\n",
    "\n",
    "print(f'{text:>30}')      # A block of 30 characters; aligned right\n",
    "\n",
    "print(f'{text:^30}')      # A block of 30 characters; aligned centre\n",
    "\n",
    "print(f'{text:<30}')      # A block of 30 characters; aligned left\n",
    "\n",
    "print(f'The cube of pi to 6 decimal places is {np.pi**3:.6f}')\n",
    "#The f in .6f is used to tell the f-string to output the number in decimal notation.\n",
    "print(f'The cube of pi to 6 decimal places is {np.pi**3:.10f}')\n",
    "\n",
    "print(f'The cube of pi to 6 decimal places is {np.pi**3:.6e}')\n",
    "#The e in .6e is used to tell the f-string to output the number in scientific notation.\n",
    "\n",
    "#https://pyformat.info/"
   ]
  },
  {
   "cell_type": "markdown",
   "id": "f258cbdf",
   "metadata": {},
   "source": [
    "|format {X:>0Y.ZW}|what each does|\n",
    "|:-:|:-:|\n",
    "|x|Variable to format (Can be a number or a string)|\n",
    "|<, >, ^|Alignment Use <, >, ^ for Left, Right and Centre|\n",
    "|Y|Total number of characters|\n",
    "|Z|\tNumber of decimal places|\n",
    "|0|\tUse 0’s to pad the spaces|\n",
    "|W|\tSpecifies the type of variable:<br>f - float<br>d- integer<br>s- string<br>g - Ask python figure out|\n"
   ]
  },
  {
   "cell_type": "markdown",
   "id": "9eb8116c",
   "metadata": {},
   "source": [
    "### 1.7 Python can be a prima-donna."
   ]
  },
  {
   "cell_type": "markdown",
   "id": "69c85841",
   "metadata": {},
   "source": [
    "\n",
    "# Your code here\n",
    "Debugging"
   ]
  },
  {
   "cell_type": "markdown",
   "id": "e2ef225c",
   "metadata": {},
   "source": [
    "## 2 Best Practices for Scientific Computing"
   ]
  },
  {
   "cell_type": "markdown",
   "id": "41ce64df",
   "metadata": {},
   "source": [
    "### 2.1 Some tips"
   ]
  },
  {
   "cell_type": "markdown",
   "id": "4c0e3769",
   "metadata": {},
   "source": [
    "\n",
    "# Your code here\n",
    "1. Write programs for people, not computers.\n",
    "1. Optimise software only after it works correctly.\n",
    "1. Document design and purpose, not mechanics.\n",
    "1. Collaborate."
   ]
  },
  {
   "cell_type": "markdown",
   "id": "0d1dd726",
   "metadata": {},
   "source": [
    "### 2.2 Getting help."
   ]
  },
  {
   "cell_type": "code",
   "execution_count": 24,
   "id": "63955d77",
   "metadata": {},
   "outputs": [
    {
     "name": "stdout",
     "output_type": "stream",
     "text": [
      "Help on built-in function print in module builtins:\n",
      "\n",
      "print(...)\n",
      "    print(value, ..., sep=' ', end='\\n', file=sys.stdout, flush=False)\n",
      "    \n",
      "    Prints the values to a stream, or to sys.stdout by default.\n",
      "    Optional keyword arguments:\n",
      "    file:  a file-like object (stream); defaults to the current sys.stdout.\n",
      "    sep:   string inserted between values, default a space.\n",
      "    end:   string appended after the last value, default a newline.\n",
      "    flush: whether to forcibly flush the stream.\n",
      "\n"
     ]
    }
   ],
   "source": [
    "\n",
    "# Your code here\n",
    "help(print)"
   ]
  },
  {
   "cell_type": "markdown",
   "id": "9ac7a08c",
   "metadata": {},
   "source": [
    "## Exercise 1 :  Bias for some heroes"
   ]
  },
  {
   "cell_type": "code",
   "execution_count": 49,
   "id": "369d6bbd",
   "metadata": {},
   "outputs": [
    {
     "name": "stdout",
     "output_type": "stream",
     "text": [
      "Hello BATMAN!\n",
      "Hello BLACK WIDOW!\n",
      "Hello aqua man!\n"
     ]
    }
   ],
   "source": [
    "\n",
    "\n",
    "\n",
    "# Your solution here\n",
    "def hello_1(name):\n",
    "    if name == \"Batman\" or name == \"Black Widow\":\n",
    "        return \"Hello \"+ name.upper() +\"!\"\n",
    "    else:\n",
    "        return \"Hello \"+ name.lower() + \"!\"\n",
    "\n",
    "\n",
    "#Test Casess\n",
    "print(hello_1(\"Batman\"))\n",
    "print(hello_1(\"Black Widow\"))\n",
    "print(hello_1(\"Aqua Man\"))"
   ]
  },
  {
   "cell_type": "code",
   "execution_count": 44,
   "id": "0198d7b9",
   "metadata": {},
   "outputs": [
    {
     "name": "stdout",
     "output_type": "stream",
     "text": [
      "Hello BATMAN!\n",
      "Hello BLACK WIDOW!\n",
      "Hello aqua man!\n"
     ]
    }
   ],
   "source": [
    "#Your solution here\n",
    "def hello_2(name):\n",
    "    if name == \"Batman\":\n",
    "        return f\"Hello {name.upper()}!\"\n",
    "    elif name == \"Black Widow\":\n",
    "        return f\"Hello {name.upper()}!\"\n",
    "    else:\n",
    "        return f\"Hello {name.lower()}!\"\n",
    "#Test Casess\n",
    "print(hello_2(\"Batman\"))\n",
    "print(hello_2(\"Black Widow\"))\n",
    "print(hello_2(\"Aqua Man\"))"
   ]
  },
  {
   "cell_type": "markdown",
   "id": "a056def9",
   "metadata": {},
   "source": [
    "## Exercise 2 :  Bias for some heroes, continues"
   ]
  },
  {
   "cell_type": "code",
   "execution_count": 52,
   "id": "31a6da74",
   "metadata": {},
   "outputs": [
    {
     "name": "stdout",
     "output_type": "stream",
     "text": [
      "Hello BATMAN!\n",
      "Hello BATMAN!\n",
      "Hello BATMAN!\n",
      "Hello BLACK WIDOW!\n",
      "Hello BLACK WIDOW!\n",
      "Hello BLACK WIDOW!\n",
      "Hello aqua man!\n",
      "Hello aqua man!\n",
      "Hello aqua man!\n"
     ]
    }
   ],
   "source": [
    "\n",
    "\n",
    "\n",
    "# Your solution here\n",
    "#I will convert their names to all lower regardless\n",
    "def hello_3(name):\n",
    "    name = name.lower()\n",
    "    if name == \"batman\" or name == \"black widow\":\n",
    "        return \"Hello \"+ name.upper() +\"!\"\n",
    "    else:\n",
    "        return \"Hello \"+ name + \"!\"    \n",
    "\n",
    "#Test cases\n",
    "print(hello_3(\"Batman\"))\n",
    "print(hello_3(\"BaTMAn\"))\n",
    "print(hello_3(\"BATMAN\"))\n",
    "print(hello_3(\"Black Widow\"))\n",
    "print(hello_3(\"BlaCK WIdOw\"))\n",
    "print(hello_3(\"BLACK WIDOW\"))\n",
    "print(hello_3(\"Aqua Man\"))\n",
    "print(hello_3(\"aQUa Man\"))\n",
    "print(hello_3(\"AQUA MAN\"))"
   ]
  },
  {
   "cell_type": "markdown",
   "id": "881b76f1",
   "metadata": {},
   "source": [
    "## Exercise 3 :  Look for help to replace"
   ]
  },
  {
   "cell_type": "code",
   "execution_count": 54,
   "id": "36dcf3a3",
   "metadata": {},
   "outputs": [
    {
     "name": "stdout",
     "output_type": "stream",
     "text": [
      "The Batman lives in Gotham City.\n"
     ]
    }
   ],
   "source": [
    "\n",
    "\n",
    "\n",
    "# Your solution here\n",
    "text = \"The Joker lives in Gotham City.\"\n",
    "text = text.replace(\"Joker\", \"Batman\")\n",
    "print(text)\n",
    "\n"
   ]
  }
 ],
 "metadata": {
  "hide_input": false,
  "kernelspec": {
   "display_name": "Python 3 (ipykernel)",
   "language": "python",
   "name": "python3"
  },
  "language_info": {
   "codemirror_mode": {
    "name": "ipython",
    "version": 3
   },
   "file_extension": ".py",
   "mimetype": "text/x-python",
   "name": "python",
   "nbconvert_exporter": "python",
   "pygments_lexer": "ipython3",
   "version": "3.9.15"
  },
  "toc": {
   "base_numbering": 1,
   "nav_menu": {},
   "number_sections": true,
   "sideBar": true,
   "skip_h1_title": false,
   "title_cell": "Table of Contents",
   "title_sidebar": "Contents",
   "toc_cell": false,
   "toc_position": {},
   "toc_section_display": true,
   "toc_window_display": false
  },
  "varInspector": {
   "cols": {
    "lenName": 16,
    "lenType": 16,
    "lenVar": 40
   },
   "kernels_config": {
    "python": {
     "delete_cmd_postfix": "",
     "delete_cmd_prefix": "del ",
     "library": "var_list.py",
     "varRefreshCmd": "print(var_dic_list())"
    },
    "r": {
     "delete_cmd_postfix": ") ",
     "delete_cmd_prefix": "rm(",
     "library": "var_list.r",
     "varRefreshCmd": "cat(var_dic_list()) "
    }
   },
   "types_to_exclude": [
    "module",
    "function",
    "builtin_function_or_method",
    "instance",
    "_Feature"
   ],
   "window_display": false
  },
  "vscode": {
   "interpreter": {
    "hash": "31f2aee4e71d21fbe5cf8b01ff0e069b9275f58929596ceb00d14d90e3e16cd6"
   }
  }
 },
 "nbformat": 4,
 "nbformat_minor": 5
}
