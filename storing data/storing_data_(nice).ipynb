{
 "cells": [
  {
   "cell_type": "markdown",
   "id": "123456",
   "metadata": {},
   "source": [
    "<div style=\"text-align:left;font-size:2em\"><span style=\"font-weight:bolder;font-size:1.25em\">SP2273 | Learning Portfolio</span><br><br><span style=\"font-weight:bold;color:darkred\">Storing Data (Nice)</span></div>"
   ]
  },
  {
   "cell_type": "markdown",
   "id": "c59c6e36",
   "metadata": {},
   "source": [
    "## 1 Classes"
   ]
  },
  {
   "cell_type": "markdown",
   "id": "93283913",
   "metadata": {},
   "source": [
    "### 1.1 A grave injustice"
   ]
  },
  {
   "cell_type": "markdown",
   "id": "e7b5fa17",
   "metadata": {},
   "source": [
    "\n",
    "# Your code here\n",
    "Oh dear, a grave injustice to classes has been committed."
   ]
  },
  {
   "cell_type": "markdown",
   "id": "00ff520c",
   "metadata": {},
   "source": [
    "### 1.2 A particle class"
   ]
  },
  {
   "cell_type": "code",
   "execution_count": 14,
   "id": "ef1b6ce0",
   "metadata": {},
   "outputs": [
    {
     "name": "stdout",
     "output_type": "stream",
     "text": [
      "Particle 0 has mass 10 and is at position 0.5.\n",
      "Particle 1 has mass 20 and is at position 0.1.\n"
     ]
    }
   ],
   "source": [
    "\n",
    "# Your code here\n",
    "class Particle1D:\n",
    "    mass=None\n",
    "    position=None\n",
    "    radius=None\n",
    "    \n",
    "particle_0=Particle1D()        # Create a new particle\n",
    "particle_0.mass=10             # Set mass for particle 0 \n",
    "particle_0.position=.5         # Set position of particle 0\n",
    "particle_0.radius=.01          # Set the radius of particle 0\n",
    "\n",
    "particle_1=Particle1D()        # Create another particle\n",
    "particle_1.mass=20             # Set mass for particle 1 \n",
    "particle_1.position=.1         # Set position of particle 1\n",
    "particle_1.radius=.01          # Set the radius of particle 1\n",
    "    \n",
    "print(f'Particle 0 has mass {particle_0.mass} and is at position {particle_0.position}.')\n",
    "\n",
    "print(f'Particle 1 has mass {particle_1.mass} and is at position {particle_1.position}.')"
   ]
  },
  {
   "cell_type": "markdown",
   "id": "ecaeb73a",
   "metadata": {},
   "source": [
    "Particle_0 and Particle_1 are instances of the class Particle1D.\n",
    "These are also objects of the type Particle1D.\n",
    "## Objects are instances of a class"
   ]
  },
  {
   "cell_type": "markdown",
   "id": "ab63aba0",
   "metadata": {},
   "source": [
    "### 1.3 Class vs Object variables"
   ]
  },
  {
   "cell_type": "code",
   "execution_count": 15,
   "id": "3ab4a571",
   "metadata": {},
   "outputs": [
    {
     "name": "stdout",
     "output_type": "stream",
     "text": [
      "Particle 0 has mass 99 and is at position 0.5.\n",
      "Particle 1 has mass 99 and is at position 0.1.\n"
     ]
    }
   ],
   "source": [
    "\n",
    "# Your code here\n",
    "Particle1D.mass = 99           # Set the class variable mass\n",
    "Particle1D.radius = .01        # Set the class variable radius\n",
    "\n",
    "particle_0=Particle1D()        # Create a new particle\n",
    "particle_0.position=.5         # Set position of particle 0\n",
    "                               # This is the position variable\n",
    "                               # of object 0\n",
    "\n",
    "particle_1=Particle1D()        # Create another particle\n",
    "particle_1.position=.1         # Set position of particle 1\n",
    "                               # This is the position variable\n",
    "                               # of object 1\n",
    "print(f'Particle 0 has mass {particle_0.mass} and is at position {particle_0.position}.')\n",
    "print(f'Particle 1 has mass {particle_1.mass} and is at position {particle_1.position}.')"
   ]
  },
  {
   "cell_type": "markdown",
   "id": "7d82b6ad",
   "metadata": {},
   "source": [
    "### 1.4 Making it more scalable"
   ]
  },
  {
   "cell_type": "code",
   "execution_count": 26,
   "id": "024d4a4d",
   "metadata": {},
   "outputs": [
    {
     "name": "stdout",
     "output_type": "stream",
     "text": [
      "Particle 0 has mass 99 and is at position 0.10809984820485041.\n",
      "Particle 1 has mass 99 and is at position 0.18488922047916212.\n",
      "Particle 2 has mass 99 and is at position 0.29241126747912727.\n"
     ]
    }
   ],
   "source": [
    "\n",
    "# Your code here\n",
    "# Make all the particles identical\n",
    "import numpy as np\n",
    "\n",
    "Particle1D.mass=99\n",
    "Particle1D.radius=.01\n",
    "\n",
    "# Create a list of particles\n",
    "all_particles=[Particle1D()]\n",
    "all_particles+=[Particle1D()]\n",
    "all_particles+=[Particle1D()]\n",
    "\n",
    "# Initialise with a random position\n",
    "i = 0\n",
    "all_particles[i].position=np.random.rand()\n",
    "\n",
    "i += 1\n",
    "all_particles[i].position=np.random.rand()\n",
    "\n",
    "i += 1\n",
    "all_particles[i].position=np.random.rand()\n",
    "i = 0\n",
    "print(f'Particle {i} has mass {all_particles[i].mass} and is at position {all_particles[i].position}.')\n",
    "i += 1\n",
    "print(f'Particle {i} has mass {all_particles[i].mass} and is at position {all_particles[i].position}.')\n",
    "i += 1\n",
    "print(f'Particle {i} has mass {all_particles[i].mass} and is at position {all_particles[i].position}.')"
   ]
  }
 ],
 "metadata": {
  "hide_input": false,
  "kernelspec": {
   "display_name": "Python 3 (ipykernel)",
   "language": "python",
   "name": "python3"
  },
  "language_info": {
   "codemirror_mode": {
    "name": "ipython",
    "version": 3
   },
   "file_extension": ".py",
   "mimetype": "text/x-python",
   "name": "python",
   "nbconvert_exporter": "python",
   "pygments_lexer": "ipython3",
   "version": "3.9.15"
  },
  "toc": {
   "base_numbering": 1,
   "nav_menu": {},
   "number_sections": true,
   "sideBar": true,
   "skip_h1_title": false,
   "title_cell": "Table of Contents",
   "title_sidebar": "Contents",
   "toc_cell": false,
   "toc_position": {},
   "toc_section_display": true,
   "toc_window_display": false
  },
  "varInspector": {
   "cols": {
    "lenName": 16,
    "lenType": 16,
    "lenVar": 40
   },
   "kernels_config": {
    "python": {
     "delete_cmd_postfix": "",
     "delete_cmd_prefix": "del ",
     "library": "var_list.py",
     "varRefreshCmd": "print(var_dic_list())"
    },
    "r": {
     "delete_cmd_postfix": ") ",
     "delete_cmd_prefix": "rm(",
     "library": "var_list.r",
     "varRefreshCmd": "cat(var_dic_list()) "
    }
   },
   "types_to_exclude": [
    "module",
    "function",
    "builtin_function_or_method",
    "instance",
    "_Feature"
   ],
   "window_display": false
  },
  "vscode": {
   "interpreter": {
    "hash": "31f2aee4e71d21fbe5cf8b01ff0e069b9275f58929596ceb00d14d90e3e16cd6"
   }
  }
 },
 "nbformat": 4,
 "nbformat_minor": 5
}
