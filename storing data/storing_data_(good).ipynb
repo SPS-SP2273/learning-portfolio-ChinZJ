{
 "cells": [
  {
   "cell_type": "markdown",
   "id": "123456",
   "metadata": {},
   "source": [
    "<div style=\"text-align:left;font-size:2em\"><span style=\"font-weight:bolder;font-size:1.25em\">SP2273 | Learning Portfolio</span><br><br><span style=\"font-weight:bold;color:darkred\">Storing Data (Good)</span></div>"
   ]
  },
  {
   "cell_type": "markdown",
   "id": "4ed359f9",
   "metadata": {},
   "source": [
    "## 1 Subsetting: Indexing and Slicing"
   ]
  },
  {
   "cell_type": "markdown",
   "id": "4ce813c9",
   "metadata": {},
   "source": [
    "### 1.1 Indexing & Slicing 1D (Lists & Arrays)"
   ]
  },
  {
   "cell_type": "code",
   "execution_count": null,
   "id": "b0b19f2e",
   "metadata": {},
   "outputs": [],
   "source": [
    "\n",
    "# Your code here\n",
    "py_list=[\"a1\", \"b2\", \"c3\", \"d4\", \"e5\",\n",
    "         \"f6\", \"g7\", \"h8\", \"i9\", \"j10\"]\n",
    "np_array=np.array(py_list)\n",
    "\n",
    "# Pick one\n",
    "x = py_list  # OR\n",
    "x = np_array"
   ]
  },
  {
   "cell_type": "markdown",
   "id": "3316b4dc",
   "metadata": {},
   "source": [
    "|Syntax|\tResult|\t\t|Note|\n",
    "|:-|:-|:-|:-|\n",
    "|x[0]|\tFirst element|\t'a1'|\t|\n",
    "|x[-1]|\tLast element\t|'j10'\t||\n",
    "|x[0:3]\t|Index 0 to 2|\t['a1','b2','c3']\t|Gives $3-0=3$ elements|\n",
    "|x[1:6]|\tIndex 1 to 5|\t['b2','c3','d4','e5','f6']|\tGives $6−1=5$ elements|\n",
    "|x[1:6:2]|\tIndex 1 to 5 in steps of 2\t|['b1','d4','f6']\t|Gives every other of 6−1=5 elements|\n",
    "|x[5:]|\tIndex 5 to the end|\t['f6','g7','h8','i9','j10']|\tGives len(x)−5=5 elements|\n",
    "|x[:5]\t|Index 0 to 5\t|['a1','b2','c3','d4','e5']|\tGives 5−0=5 elements|\n",
    "|x[5:2:-1]\t|Index 5 to 3 |(i.e. in reverse)\t['f6','e5','d4']|\tGives 5−2=3 elements|\n",
    "|x[::-1]|\tReverses the list|\t['j10','i9','h8',...,'b2','a1']\t|"
   ]
  },
  {
   "cell_type": "markdown",
   "id": "6c265396",
   "metadata": {},
   "source": [
    "### 1.2 Subsetting by masking (Arrays only)"
   ]
  },
  {
   "cell_type": "code",
   "execution_count": 6,
   "id": "6b1b9c27",
   "metadata": {},
   "outputs": [
    {
     "name": "stdout",
     "output_type": "stream",
     "text": [
      "[False False False  True  True  True  True  True  True  True]\n",
      "[ 4  5  6  7  8  9 10]\n",
      "[ 4  5  6  7  8  9 10]\n",
      "[1 2 3]\n",
      "[4 5 6 7]\n",
      "[ 1  2  9 10]\n"
     ]
    }
   ],
   "source": [
    "\n",
    "# Your code here\n",
    "np_array = np.array([1, 2, 3, 4, 5, 6, 7, 8, 9, 10])\n",
    "my_mask = np_array > 3\n",
    "print(my_mask)\n",
    "print(np_array[my_mask])\n",
    "#OR\n",
    "print(np_array[np_array > 3])\n",
    "\n",
    "#These are for numpy\n",
    "print(np_array[~(np_array > 3)])                        # '~' means 'NOT'\n",
    "print(np_array[(np_array > 3) & (np_array < 8)])         # '&' means 'AND'\n",
    "print(np_array[(np_array < 3) | (np_array > 8)])         # '|' means 'OR'\n",
    "\n",
    "\n"
   ]
  },
  {
   "cell_type": "markdown",
   "id": "c19dd3b5",
   "metadata": {},
   "source": [
    "### 1.3 Indexing & Slicing 2D Lists"
   ]
  },
  {
   "cell_type": "code",
   "execution_count": 12,
   "id": "8e940e37",
   "metadata": {},
   "outputs": [
    {
     "name": "stdout",
     "output_type": "stream",
     "text": [
      "[4, 'D']\n",
      "4\n",
      "[[1, 'A'], [2, 'B'], [3, 'C']]\n",
      "[1, 'A']\n",
      "[4, 'D']\n"
     ]
    }
   ],
   "source": [
    "\n",
    "# Your code here\n",
    "py_list_2d = [[1, \"A\"], [2, \"B\"], [3, \"C\"], [4, \"D\"],\n",
    "              [5, \"E\"], [6, \"F\"], [7, \"G\"], [8, \"H\"],\n",
    "              [9, \"I\"], [10, \"J\"]]\n",
    "print(py_list_2d[3])        # What is at position 4 (index 3)?\n",
    "print(py_list_2d[3][0])     # FIRST element at position 4 (index 3)\n",
    "print(py_list_2d[:3])\n",
    "print(py_list_2d[:3][0]) #First of the list from py_list_2d[:3]\n",
    "print(py_list_2d[3:6][0]) #First of the list from py_list_2d[3:6]"
   ]
  },
  {
   "cell_type": "markdown",
   "id": "ab5c65e6",
   "metadata": {},
   "source": [
    "### 1.4 Indexing & Slicing 2D Arrays"
   ]
  },
  {
   "cell_type": "code",
   "execution_count": 18,
   "id": "63c7240f",
   "metadata": {},
   "outputs": [
    {
     "name": "stdout",
     "output_type": "stream",
     "text": [
      "['4' 'D']\n",
      "4\n",
      "[['1' 'A']\n",
      " ['2' 'B']\n",
      " ['3' 'C']]\n",
      "['1' '2' '3']\n",
      "['4' '5' '6']\n",
      "['1' '2' '3' '4' '5' '6' '7' '8' '9' '10']\n"
     ]
    }
   ],
   "source": [
    "\n",
    "# Your code here\n",
    "np_array_2d = np.array([[1, \"A\"], [2, \"B\"], [3, \"C\"], [4, \"D\"],\n",
    "                        [5, \"E\"], [6, \"F\"], [7, \"G\"], [8, \"H\"],\n",
    "                        [9, \"I\"], [10, \"J\"]])\n",
    "print(np_array_2d[3])       # What is at position 4 (index 3)?\n",
    "print(np_array_2d[3, 0])    # FIRST element at position 4 (index 3)\n",
    "\n",
    "#Notice how the syntax for arrays uses just a single pair of square brackets ([ ]).\n",
    "\n",
    "print(np_array_2d[:3])\n",
    "print(np_array_2d[:3, 0]) #On the contrary, this gives you the FIRST of EACH SET\n",
    "print(np_array_2d[3:6, 0])\n",
    "print(np_array_2d[:, 0])"
   ]
  },
  {
   "cell_type": "markdown",
   "id": "e5d24850",
   "metadata": {},
   "source": [
    "### 1.5 Growing lists"
   ]
  },
  {
   "cell_type": "code",
   "execution_count": 23,
   "id": "353256b4",
   "metadata": {},
   "outputs": [
    {
     "name": "stdout",
     "output_type": "stream",
     "text": [
      "[1, 1, 1, 1, 1, 1, 1, 1, 1, 1]\n",
      "[1, 2, 3, 4]\n",
      "[1, 2, 3, 4]\n",
      "[2, 3, 4, 1]\n"
     ]
    }
   ],
   "source": [
    "\n",
    "# Your code here\n",
    "x=[1]*10\n",
    "print(x)               # I am lazy to type print()\n",
    "                # Let Jupyter do the hard work.\n",
    "\n",
    "x=[1]\n",
    "x= x + [2]\n",
    "x= x + [3]\n",
    "x= x + [4]\n",
    "print(x)\n",
    "\n",
    "#OR\n",
    "\n",
    "x=[1]\n",
    "x+= [2]\n",
    "x+= [3]\n",
    "x+= [4]\n",
    "print(x)\n",
    "\n",
    "#Pre-pending\n",
    "x=[1]\n",
    "x= [2, 3, 4] + x\n",
    "print(x)"
   ]
  },
  {
   "cell_type": "markdown",
   "id": "0e613afb",
   "metadata": {},
   "source": [
    "## 2 Some loose ends"
   ]
  },
  {
   "cell_type": "markdown",
   "id": "f9c3cf72",
   "metadata": {},
   "source": [
    "### 2.1 Tuples"
   ]
  },
  {
   "cell_type": "code",
   "execution_count": 24,
   "id": "e84a54ae",
   "metadata": {},
   "outputs": [
    {
     "name": "stdout",
     "output_type": "stream",
     "text": [
      "1\n"
     ]
    }
   ],
   "source": [
    "\n",
    "# Your code here\n",
    "a=(1, 2, 3)     # Define tuple\n",
    "print(a[0])    # Access data\n",
    "\n",
    "# The following will NOT work\n",
    "#a[0]=-1\n",
    "#a[0] += [10]"
   ]
  },
  {
   "cell_type": "markdown",
   "id": "bd810304",
   "metadata": {},
   "source": [
    "### 2.2 Be VERY careful when copying"
   ]
  },
  {
   "cell_type": "code",
   "execution_count": null,
   "id": "08f967f6",
   "metadata": {},
   "outputs": [],
   "source": [
    "\n",
    "# Your code here\n",
    "x=[1, 2, 3]\n",
    "y=x           # DON'T do this!\n",
    "z=x           # DON'T do this!\n",
    "\n",
    "x=[1, 2, 3]\n",
    "y=x.copy()\n",
    "z=x.copy()"
   ]
  },
  {
   "cell_type": "markdown",
   "id": "cc7fb6cc",
   "metadata": {},
   "source": [
    "Lists are mutable, so doing y=x binds them to the same object, modifying one modifies the other."
   ]
  },
  {
   "cell_type": "markdown",
   "id": "0f1c111c",
   "metadata": {},
   "source": [
    "## Exercise 1 :  Total recall?"
   ]
  },
  {
   "cell_type": "markdown",
   "id": "3d77c8d3",
   "metadata": {},
   "source": [
    "\n",
    "\n",
    "\n",
    "# Your solution here\n",
    "|Term\t|Brief description|\n",
    "|:-|:-:|\n",
    "|Subsetting\t|Selecting element(s)|\n",
    "|Indexing\t|Selecting elements|\n",
    "|Slicing\t|Selects specific elements that suit a condition|\n",
    "|Masking\t|Similar to slicing|\n",
    "\n"
   ]
  },
  {
   "cell_type": "markdown",
   "id": "772b28f2",
   "metadata": {},
   "source": [
    "## Exercise 2 :  Show me the ‘odd’ letters"
   ]
  },
  {
   "cell_type": "code",
   "execution_count": 53,
   "id": "a3179351",
   "metadata": {},
   "outputs": [
    {
     "name": "stdout",
     "output_type": "stream",
     "text": [
      "('A', 'C', 'E', 'G', 'I')\n"
     ]
    }
   ],
   "source": [
    "\n",
    "\n",
    "\n",
    "# Your solution here\n",
    "np_array_2d = np.array([[1, \"A\"], [3, \"C\"], [2, \"B\"], [4, \"D\"],\n",
    "                        [5, \"E\"], [7, \"G\"], [6, \"F\"], [8, \"H\"],\n",
    "                        [10, \"J\"], [9, \"I\"]])\n",
    "\n",
    "#Subsetting the first elements\n",
    "np_array_subset = np_array_2d.copy()\n",
    "np_array_subset_filtered = np_array_subset[:, 0]\n",
    "np_array_subset_int = np_array_subset_filtered.astype(int)\n",
    "np_array_subset_calc = np_array_subset_int%2\n",
    "#I now know that the positions are 1,2,5,6,10\n",
    "np_array_ans = np_array_2d[0, 1], np_array_2d[1, 1], np_array_2d[4, 1], np_array_2d[5, 1], np_array_2d[9, 1]\n",
    "print(np_array_ans)"
   ]
  },
  {
   "cell_type": "code",
   "execution_count": 113,
   "id": "b00d977e",
   "metadata": {
    "scrolled": true
   },
   "outputs": [
    {
     "name": "stdout",
     "output_type": "stream",
     "text": [
      "['A', 'C', 'E', 'G', 'I']\n"
     ]
    }
   ],
   "source": [
    "#Testing\n",
    "np_array_2d = np.array([[1, \"A\"], [3, \"C\"], [2, \"B\"], [4, \"D\"],\n",
    "                        [5, \"E\"], [7, \"G\"], [6, \"F\"], [8, \"H\"],\n",
    "                        [10, \"J\"], [9, \"I\"]])\n",
    "#Convert to list\n",
    "list_2d = np_array_2d.tolist()\n",
    "new_list=[]\n",
    "for i in list_2d:\n",
    "    i[0]=int(i[0])\n",
    "    if i[0]%2 == 1:\n",
    "        new_list.append(i[1])    \n",
    "print(new_list)"
   ]
  }
 ],
 "metadata": {
  "hide_input": false,
  "kernelspec": {
   "display_name": "Python 3 (ipykernel)",
   "language": "python",
   "name": "python3"
  },
  "language_info": {
   "codemirror_mode": {
    "name": "ipython",
    "version": 3
   },
   "file_extension": ".py",
   "mimetype": "text/x-python",
   "name": "python",
   "nbconvert_exporter": "python",
   "pygments_lexer": "ipython3",
   "version": "3.9.15"
  },
  "toc": {
   "base_numbering": 1,
   "nav_menu": {},
   "number_sections": true,
   "sideBar": true,
   "skip_h1_title": false,
   "title_cell": "Table of Contents",
   "title_sidebar": "Contents",
   "toc_cell": false,
   "toc_position": {},
   "toc_section_display": true,
   "toc_window_display": false
  },
  "varInspector": {
   "cols": {
    "lenName": 16,
    "lenType": 16,
    "lenVar": 40
   },
   "kernels_config": {
    "python": {
     "delete_cmd_postfix": "",
     "delete_cmd_prefix": "del ",
     "library": "var_list.py",
     "varRefreshCmd": "print(var_dic_list())"
    },
    "r": {
     "delete_cmd_postfix": ") ",
     "delete_cmd_prefix": "rm(",
     "library": "var_list.r",
     "varRefreshCmd": "cat(var_dic_list()) "
    }
   },
   "types_to_exclude": [
    "module",
    "function",
    "builtin_function_or_method",
    "instance",
    "_Feature"
   ],
   "window_display": false
  },
  "vscode": {
   "interpreter": {
    "hash": "31f2aee4e71d21fbe5cf8b01ff0e069b9275f58929596ceb00d14d90e3e16cd6"
   }
  }
 },
 "nbformat": 4,
 "nbformat_minor": 5
}
