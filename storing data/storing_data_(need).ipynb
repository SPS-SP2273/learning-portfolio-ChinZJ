{
 "cells": [
  {
   "cell_type": "markdown",
   "id": "123456",
   "metadata": {},
   "source": [
    "<div style=\"text-align:left;font-size:2em\"><span style=\"font-weight:bolder;font-size:1.25em\">SP2273 | Learning Portfolio</span><br><br><span style=\"font-weight:bold;color:darkred\">Storing Data (Need)</span></div>"
   ]
  },
  {
   "cell_type": "markdown",
   "id": "18a7f2c7",
   "metadata": {},
   "source": [
    "## 1 Lists, Arrays & Dictionaries"
   ]
  },
  {
   "cell_type": "markdown",
   "id": "8642927f",
   "metadata": {},
   "source": [
    "### 1.1 Let’s compare"
   ]
  },
  {
   "cell_type": "code",
   "execution_count": 9,
   "id": "98481533",
   "metadata": {},
   "outputs": [],
   "source": [
    "\n",
    "# Your code here\n",
    "import math\n",
    "import numpy as np\n",
    "\n",
    "#Python Lists\n",
    "py_super_names = [\"Black Widow\", \"Iron Man\", \"Doctor Strange\"]\n",
    "py_real_names = [\"Natasha Romanoff\", \"Tony Stark\", \"Stephen Strange\"]\n",
    "\n",
    "#Numpy Arrays\n",
    "np_super_names = np.array([\"Black Widow\", \"Iron Man\", \"Doctor Strange\"])\n",
    "np_real_names = np.array([\"Natasha Romanoff\", \"Tony Stark\", \"Stephen Strange\"])\n",
    "\n",
    "#Dictionary\n",
    "superhero_info = {\"Natasha Romanoff\": \"Black Widow\",\n",
    "                  \"Tony Stark\": \"Iron Man\",\n",
    "                  \"Stephen Strange\": \"Doctor Strange\"\n",
    "                  }"
   ]
  },
  {
   "cell_type": "markdown",
   "id": "1bfbca0e",
   "metadata": {},
   "source": [
    "### 1.2 Accessing data from a list (or array)"
   ]
  },
  {
   "cell_type": "code",
   "execution_count": 10,
   "id": "2c2ccb15",
   "metadata": {},
   "outputs": [
    {
     "name": "stdout",
     "output_type": "stream",
     "text": [
      "Natasha Romanoff\n",
      "Black Widow\n",
      "Doctor Strange\n",
      "Doctor Strange\n"
     ]
    }
   ],
   "source": [
    "\n",
    "# Your code here\n",
    "print(py_real_names[0])\n",
    "print(py_super_names[0])\n",
    "print(py_super_names[2])    # Forward indexing \n",
    "                            # We need to know the size \n",
    "                            # beforehand for this to work.\n",
    "print(py_super_names[-1])   # Reverse indexing"
   ]
  },
  {
   "cell_type": "markdown",
   "id": "3e0b23a9",
   "metadata": {},
   "source": [
    "### 1.3 Accessing data from a dictionary"
   ]
  },
  {
   "cell_type": "code",
   "execution_count": 15,
   "id": "2a82db62",
   "metadata": {},
   "outputs": [
    {
     "name": "stdout",
     "output_type": "stream",
     "text": [
      "Black Widow\n",
      "dict_keys(['Natasha Romanoff', 'Tony Stark', 'Stephen Strange'])\n",
      "dict_values(['Black Widow', 'Iron Man', 'Doctor Strange'])\n"
     ]
    }
   ],
   "source": [
    "\n",
    "# Your code here\n",
    "superhero_info = {\"Natasha Romanoff\": \"Black Widow\",\n",
    "                  \"Tony Stark\": \"Iron Man\",\n",
    "                  \"Stephen Strange\": \"Doctor Strange\"\n",
    "                  }\n",
    "print(superhero_info[\"Natasha Romanoff\"])\n",
    "print(superhero_info.keys())\n",
    "print(superhero_info.values())"
   ]
  },
  {
   "cell_type": "markdown",
   "id": "a80fb1ea",
   "metadata": {},
   "source": [
    "### 1.4 Higher dimensional lists"
   ]
  },
  {
   "cell_type": "code",
   "execution_count": 16,
   "id": "f8ddd934",
   "metadata": {},
   "outputs": [],
   "source": [
    "\n",
    "# Your code here\n",
    "py_superhero_info = [['Natasha Romanoff', 'Black Widow'],\n",
    "                     ['Tony Stark', 'Iron Man'],\n",
    "                     ['Stephen Strange', 'Doctor Strange']]"
   ]
  },
  {
   "cell_type": "markdown",
   "id": "8f16dd2e",
   "metadata": {},
   "source": [
    "## 2 Lists vs. Arrays"
   ]
  },
  {
   "cell_type": "markdown",
   "id": "090178b6",
   "metadata": {},
   "source": [
    "### 2.1 Size"
   ]
  },
  {
   "cell_type": "code",
   "execution_count": 21,
   "id": "7bfd9f7e",
   "metadata": {},
   "outputs": [
    {
     "name": "stdout",
     "output_type": "stream",
     "text": [
      "10\n",
      "10\n",
      "(10, 2)\n"
     ]
    }
   ],
   "source": [
    "\n",
    "# Your code here\n",
    "py_list_2d = [[1, \"A\"], [2, \"B\"], [3, \"C\"], [4, \"D\"],\n",
    "              [5, \"E\"], [6, \"F\"], [7, \"G\"], [8, \"H\"],\n",
    "              [9, \"I\"], [10, \"J\"]]\n",
    "\n",
    "np_array_2d = np.array(py_list_2d)      # Reusing the Python list \n",
    "                                        # to create a NEW\n",
    "                                        # NumPy array\n",
    "print(len(py_list_2d))\n",
    "print(len(np_array_2d))\n",
    "print(np_array_2d.shape) #Shape is not a function, but rather a property or attribute"
   ]
  },
  {
   "cell_type": "markdown",
   "id": "1c9d6fdd",
   "metadata": {},
   "source": [
    "Array is unique to numpy"
   ]
  },
  {
   "cell_type": "markdown",
   "id": "4f311ab5",
   "metadata": {},
   "source": [
    "### 2.2 Arrays are fussy about type"
   ]
  },
  {
   "cell_type": "code",
   "execution_count": 25,
   "id": "31d3a666",
   "metadata": {},
   "outputs": [
    {
     "data": {
      "text/plain": [
       "array(['1', '1.5', 'A'], dtype='<U32')"
      ]
     },
     "execution_count": 25,
     "metadata": {},
     "output_type": "execute_result"
    }
   ],
   "source": [
    "\n",
    "# Your code here\n",
    "py_list = [1, 1.5, 'A']\n",
    "np.array(py_list)"
   ]
  },
  {
   "cell_type": "markdown",
   "id": "a9e640d9",
   "metadata": {},
   "source": [
    "These are all converted to strings"
   ]
  },
  {
   "cell_type": "markdown",
   "id": "b7d6533e",
   "metadata": {},
   "source": [
    "### 2.3 Adding a number"
   ]
  },
  {
   "cell_type": "code",
   "execution_count": 27,
   "id": "3b6a15ec",
   "metadata": {},
   "outputs": [
    {
     "data": {
      "text/plain": [
       "array([11, 12, 13, 14, 15])"
      ]
     },
     "execution_count": 27,
     "metadata": {},
     "output_type": "execute_result"
    }
   ],
   "source": [
    "\n",
    "# Your code here\n",
    "py_list = [1, 2, 3, 4, 5]\n",
    "np_array = np.array(py_list)         # Reusing the Python list\n",
    "                                     # to create a NEW\n",
    "                                     # NumPy array\n",
    "#py_list + 10        # Won't work!\n",
    "np_array + 10"
   ]
  },
  {
   "cell_type": "markdown",
   "id": "4a610403",
   "metadata": {},
   "source": [
    "### 2.4 Adding another list"
   ]
  },
  {
   "cell_type": "code",
   "execution_count": 30,
   "id": "27a14755",
   "metadata": {},
   "outputs": [
    {
     "name": "stdout",
     "output_type": "stream",
     "text": [
      "[1, 2, 3, 4, 5, 10, 20, 30, 40, 50]\n",
      "[11 22 33 44 55]\n"
     ]
    }
   ],
   "source": [
    "\n",
    "# Your code here\n",
    "py_list_1 = [1, 2, 3, 4, 5]\n",
    "py_list_2 = [10, 20, 30, 40, 50]\n",
    "\n",
    "np_array_1 = np.array(py_list_1)\n",
    "np_array_2 = np.array(py_list_2)\n",
    "\n",
    "print(py_list_1 + py_list_2)\n",
    "print(np_array_1 + np_array_2)"
   ]
  },
  {
   "cell_type": "markdown",
   "id": "815b74f5",
   "metadata": {},
   "source": [
    "### 2.5 Multiplying by a Number"
   ]
  },
  {
   "cell_type": "code",
   "execution_count": 5,
   "id": "d0640311",
   "metadata": {},
   "outputs": [
    {
     "name": "stdout",
     "output_type": "stream",
     "text": [
      "[1, 2, 3, 4, 5, 1, 2, 3, 4, 5]\n",
      "[ 2  4  6  8 10]\n"
     ]
    }
   ],
   "source": [
    "\n",
    "# Your code here\n",
    "py_list = [1, 2, 3, 4, 5]\n",
    "np_array = np.array(py_list)         \n",
    "\n",
    "print(py_list*2)\n",
    "print(np_array*2)"
   ]
  },
  {
   "cell_type": "markdown",
   "id": "5a54dc1a",
   "metadata": {},
   "source": [
    "To convert type in list, use for loop"
   ]
  },
  {
   "cell_type": "markdown",
   "id": "ded34a9f",
   "metadata": {},
   "source": [
    "### 2.6 Squaring"
   ]
  },
  {
   "cell_type": "code",
   "execution_count": 4,
   "id": "01b42402",
   "metadata": {},
   "outputs": [
    {
     "name": "stdout",
     "output_type": "stream",
     "text": [
      "[ 1  4  9 16 25]\n"
     ]
    }
   ],
   "source": [
    "\n",
    "# Your code here\n",
    "py_list = [1, 2, 3, 4, 5]\n",
    "np_array = np.array(py_list)\n",
    "\n",
    "#py_list**2                      # Won't work!  \n",
    "print(np_array**2)"
   ]
  },
  {
   "cell_type": "markdown",
   "id": "6f63132e",
   "metadata": {},
   "source": [
    "### 2.7 Asking questions"
   ]
  },
  {
   "cell_type": "code",
   "execution_count": 14,
   "id": "75837c7f",
   "metadata": {
    "scrolled": true
   },
   "outputs": [
    {
     "name": "stdout",
     "output_type": "stream",
     "text": [
      "False\n",
      "[False False  True False False]\n",
      "[False False False  True  True]\n"
     ]
    }
   ],
   "source": [
    "\n",
    "# Your code here\n",
    "py_list = [1, 2, 3, 4, 5]\n",
    "np_array = np.array(py_list)     \n",
    "print(py_list == 3)     # Works, but what IS the question?\n",
    "#py_list > 3      # Won't work!\n",
    "print(np_array == 3)  \n",
    "print(np_array > 3)  "
   ]
  },
  {
   "cell_type": "markdown",
   "id": "405ef28b",
   "metadata": {},
   "source": [
    "# Question: What does the py_list == 3 check for?\n",
    "Does it just check for the direct value, since the list is not 3, the answer will be false. \n",
    "On the contrary:"
   ]
  },
  {
   "cell_type": "code",
   "execution_count": 16,
   "id": "d222c158",
   "metadata": {},
   "outputs": [
    {
     "name": "stdout",
     "output_type": "stream",
     "text": [
      "True\n"
     ]
    }
   ],
   "source": [
    "py_list = [1, 2, 3, 4, 5]\n",
    "print (py_list == [1, 2, 3, 4, 5])"
   ]
  },
  {
   "cell_type": "markdown",
   "id": "cdd53991",
   "metadata": {},
   "source": [
    "### 2.8 Mathematics"
   ]
  },
  {
   "cell_type": "code",
   "execution_count": 20,
   "id": "6aeba50c",
   "metadata": {},
   "outputs": [
    {
     "name": "stdout",
     "output_type": "stream",
     "text": [
      "15\n",
      "5\n",
      "1\n",
      "15\n",
      "3.0\n",
      "5\n",
      "1\n"
     ]
    }
   ],
   "source": [
    "\n",
    "# Your code here\n",
    "py_list = [1, 2, 3, 4, 5]\n",
    "np_array = np.array(py_list)         \n",
    "\n",
    "print(sum(py_list))     # sum() is a base Python function\n",
    "\n",
    "print(max(py_list))     # max() is a base Python function\n",
    "\n",
    "print(min(py_list))     # min() is a base Python function\n",
    "\n",
    "#py_list.sum()   # Won't work!\n",
    "\n",
    "print(np_array.sum())\n",
    "\n",
    "print(np_array.mean())\n",
    "\n",
    "print(np_array.max())\n",
    "\n",
    "print(np_array.min())\n",
    "\n"
   ]
  },
  {
   "cell_type": "markdown",
   "id": "1ebbb8a5",
   "metadata": {},
   "source": [
    "## Exercise 1 :  Total recall?"
   ]
  },
  {
   "cell_type": "markdown",
   "id": "5a52eb61",
   "metadata": {},
   "source": [
    "\n",
    "\n",
    "\n",
    "# Your solution here\n",
    "1. Two similarities between lists and arrays.\n",
    "Both stores data\n",
    "Both are mutable\n",
    "\n",
    "2. Two differences between lists and arrays.\n",
    "Lists are \"fixed\" eg. multiplying it by 2 merely multiplies the entire lists, whereas arrays multiplys individual data sets by 2.\n",
    "Lists can store different types whereas arrays will convert all data sets to the same type.\n"
   ]
  },
  {
   "cell_type": "markdown",
   "id": "885bba71",
   "metadata": {},
   "source": [
    "## Exercise 2 :  Index me"
   ]
  },
  {
   "cell_type": "code",
   "execution_count": 21,
   "id": "f4f53a5d",
   "metadata": {},
   "outputs": [
    {
     "name": "stdout",
     "output_type": "stream",
     "text": [
      "a1\n",
      "c3\n",
      "e5\n",
      "g7\n",
      "i9\n"
     ]
    }
   ],
   "source": [
    "\n",
    "\n",
    "\n",
    "# Your solution here\n",
    "py_list = [\"a1\", \"b2\", \"c3\", \"d4\", \"e5\", \"f6\", \"g7\", \"h8\", \"i9\", \"j10\"]\n",
    "print(py_list[0])                    # Prints 'a1'\n",
    "print(py_list[2])                    # Prints 'c3'\n",
    "print(py_list[4])                    # Prints 'e5'\n",
    "print(py_list[6])                    # Prints 'g7'\n",
    "print(py_list[8])   # Prints 'i9'\n",
    "\n"
   ]
  },
  {
   "cell_type": "markdown",
   "id": "c823eb9b",
   "metadata": {},
   "source": [
    "## Exercise 3 :  Capitalise Heros"
   ]
  },
  {
   "cell_type": "code",
   "execution_count": 26,
   "id": "2d582cba",
   "metadata": {},
   "outputs": [
    {
     "name": "stdout",
     "output_type": "stream",
     "text": [
      "BLACK WIDOW\n",
      "IRON MAN\n",
      "DOCTOR STRANGE\n"
     ]
    }
   ],
   "source": [
    "\n",
    "\n",
    "\n",
    "# Your solution here\n",
    "superhero_info = {\"Natasha Romanoff\": \"Black Widow\",\n",
    "                  \"Tony Stark\": \"Iron Man\",\n",
    "                  \"Stephen Strange\": \"Doctor Strange\"\n",
    "                  }\n",
    "\n",
    "superhero_info['Natasha Romanoff'] = superhero_info['Natasha Romanoff'].upper() \n",
    "superhero_info['Tony Stark'] = superhero_info['Tony Stark'].upper() \n",
    "superhero_info['Stephen Strange'] = superhero_info['Stephen Strange'].upper() \n",
    "\n",
    "print(superhero_info[\"Natasha Romanoff\"])\n",
    "print(superhero_info[\"Tony Stark\"])\n",
    "print(superhero_info[\"Stephen Strange\"])"
   ]
  },
  {
   "cell_type": "code",
   "execution_count": 33,
   "id": "b7e70af2",
   "metadata": {},
   "outputs": [
    {
     "name": "stdout",
     "output_type": "stream",
     "text": [
      "BLACK WIDOW\n",
      "IRON MAN\n",
      "DOCTOR STRANGE\n"
     ]
    }
   ],
   "source": [
    "#For the trolls\n",
    "superhero_info = {\"Natasha Romanoff\": \"Black Widow\",\n",
    "                  \"Tony Stark\": \"Iron Man\",\n",
    "                  \"Stephen Strange\": \"Doctor Strange\"\n",
    "                  }\n",
    "for i in superhero_info:\n",
    "    superhero_info[i] = superhero_info[i].upper()\n",
    "\n",
    "print(superhero_info[\"Natasha Romanoff\"])\n",
    "print(superhero_info[\"Tony Stark\"])\n",
    "print(superhero_info[\"Stephen Strange\"])"
   ]
  },
  {
   "cell_type": "markdown",
   "id": "800ecf79",
   "metadata": {},
   "source": [
    "## Exercise 4 :  How many ones"
   ]
  },
  {
   "cell_type": "code",
   "execution_count": 44,
   "id": "4ff7ba2b",
   "metadata": {},
   "outputs": [
    {
     "name": "stdout",
     "output_type": "stream",
     "text": [
      "9\n"
     ]
    }
   ],
   "source": [
    "\n",
    "\n",
    "\n",
    "# Your solution here\n",
    "numbers=[45, 60, 1, 30, 96, 1, 96, 57, 16, 1,\n",
    "        99, 62, 86, 43, 42, 60, 59, 1, 1, 35,\n",
    "        83, 47, 34, 28, 68, 23, 22, 92, 1, 79,\n",
    "        1, 29, 94, 72, 46, 47, 1, 74, 32, 20,\n",
    "        8, 37, 35, 1, 89, 29, 86, 19, 43, 61]                  \n",
    "\n",
    "np_array_numbers = np.array(numbers)\n",
    "\n",
    "#Ask a question\n",
    "np_array_count = np_array_numbers == 1\n",
    "\n",
    "#Via sum\n",
    "print(np_array_count.sum())"
   ]
  }
 ],
 "metadata": {
  "hide_input": false,
  "kernelspec": {
   "display_name": "Python 3 (ipykernel)",
   "language": "python",
   "name": "python3"
  },
  "language_info": {
   "codemirror_mode": {
    "name": "ipython",
    "version": 3
   },
   "file_extension": ".py",
   "mimetype": "text/x-python",
   "name": "python",
   "nbconvert_exporter": "python",
   "pygments_lexer": "ipython3",
   "version": "3.9.15"
  },
  "toc": {
   "base_numbering": 1,
   "nav_menu": {},
   "number_sections": true,
   "sideBar": true,
   "skip_h1_title": false,
   "title_cell": "Table of Contents",
   "title_sidebar": "Contents",
   "toc_cell": false,
   "toc_position": {},
   "toc_section_display": true,
   "toc_window_display": false
  },
  "varInspector": {
   "cols": {
    "lenName": 16,
    "lenType": 16,
    "lenVar": 40
   },
   "kernels_config": {
    "python": {
     "delete_cmd_postfix": "",
     "delete_cmd_prefix": "del ",
     "library": "var_list.py",
     "varRefreshCmd": "print(var_dic_list())"
    },
    "r": {
     "delete_cmd_postfix": ") ",
     "delete_cmd_prefix": "rm(",
     "library": "var_list.r",
     "varRefreshCmd": "cat(var_dic_list()) "
    }
   },
   "types_to_exclude": [
    "module",
    "function",
    "builtin_function_or_method",
    "instance",
    "_Feature"
   ],
   "window_display": false
  },
  "vscode": {
   "interpreter": {
    "hash": "31f2aee4e71d21fbe5cf8b01ff0e069b9275f58929596ceb00d14d90e3e16cd6"
   }
  }
 },
 "nbformat": 4,
 "nbformat_minor": 5
}
