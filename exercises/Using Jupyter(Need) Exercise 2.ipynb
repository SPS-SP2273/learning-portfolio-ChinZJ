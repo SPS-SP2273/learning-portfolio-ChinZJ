{
 "cells": [
  {
   "cell_type": "markdown",
   "id": "86284a6a",
   "metadata": {},
   "source": [
    "1. A repository is all the files within a project inclusive of the prior versions if any."
   ]
  },
  {
   "cell_type": "markdown",
   "id": "c62a377f",
   "metadata": {},
   "source": [
    "2. Code"
   ]
  },
  {
   "cell_type": "markdown",
   "id": "58dce810",
   "metadata": {},
   "source": [
    "3. A commit results in GIT recording down any relevant changes made"
   ]
  },
  {
   "cell_type": "markdown",
   "id": "6fd9c407",
   "metadata": {},
   "source": [
    "4. Push uploads any commits made on the local drive into the cloud."
   ]
  },
  {
   "cell_type": "markdown",
   "id": "f237e8dc",
   "metadata": {},
   "source": [
    "5.Github is the online version that has access to cloud saved data, whereas github desktop allows ease of access to edit any of the files that are uploaded."
   ]
  },
  {
   "cell_type": "markdown",
   "id": "7430648e",
   "metadata": {},
   "source": [
    "6. You can reverse commit"
   ]
  }
 ],
 "metadata": {
  "kernelspec": {
   "display_name": "Python 3 (ipykernel)",
   "language": "python",
   "name": "python3"
  },
  "language_info": {
   "codemirror_mode": {
    "name": "ipython",
    "version": 3
   },
   "file_extension": ".py",
   "mimetype": "text/x-python",
   "name": "python",
   "nbconvert_exporter": "python",
   "pygments_lexer": "ipython3",
   "version": "3.9.13"
  }
 },
 "nbformat": 4,
 "nbformat_minor": 5
}
