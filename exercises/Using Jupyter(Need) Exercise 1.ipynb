{
 "cells": [
  {
   "cell_type": "markdown",
   "id": "44ff4757",
   "metadata": {},
   "source": [
    "**Quadratic Equations**"
   ]
  },
  {
   "cell_type": "markdown",
   "id": "2691cd13",
   "metadata": {},
   "source": [
    "![](https://upload.wikimedia.org/wikipedia/commons/f/f8/Polynomialdeg2.svg)"
   ]
  },
  {
   "cell_type": "markdown",
   "id": "7b313326",
   "metadata": {},
   "source": [
    "*(Image from the [Wikipedia page on Quadratic equations](https://en.wikipedia.org/wiki/Quadratic_equation))*"
   ]
  },
  {
   "cell_type": "markdown",
   "id": "52973723",
   "metadata": {},
   "source": [
    "**Introduction**"
   ]
  },
  {
   "cell_type": "markdown",
   "id": "372834da",
   "metadata": {},
   "source": [
    "The general form of a quadratic equation is:"
   ]
  },
  {
   "cell_type": "markdown",
   "id": "24e932a9",
   "metadata": {},
   "source": [
    "$$ax^2 + bx + c = 0$$"
   ]
  },
  {
   "cell_type": "markdown",
   "id": "69dd33dc",
   "metadata": {},
   "source": [
    "**Solutions** Provided $a \\neq 0$, we can use an elementary algebraic method [called completeing the square](https://en.wikipedia.org/wiki/Completing_the_square) to show that a quadratic equation has the following solution:"
   ]
  },
  {
   "cell_type": "markdown",
   "id": "b8183132",
   "metadata": {},
   "source": [
    "$$\n",
    "x = \\dfrac{-b \\pm \\sqrt{b^2-4ac}}{2a}\n",
    "$$"
   ]
  },
  {
   "cell_type": "markdown",
   "id": "7385e50e",
   "metadata": {},
   "source": [
    "**Discriminant**"
   ]
  },
  {
   "cell_type": "markdown",
   "id": "0f393204",
   "metadata": {},
   "source": [
    "The quantity $\\Delta = b^2 - 4ac$ is called the **discriminant** of the equation and decides the nature of its solutions. The table below shows the various possibilities."
   ]
  },
  {
   "cell_type": "markdown",
   "id": "9295f253",
   "metadata": {},
   "source": [
    "|**Discriminat**         |**Roots**                           |\n",
    "|:-----------------------|:------------------------------------|\n",
    "|$$\\Delta = b^2 - 4ac = 0$$|      A single solution of $-b/(2a)$|\n",
    "|$$\\Delta = b^2 - 4ac > 0$$|              Two distinct solutions|\n",
    "|$$\\Delta = b^2 - 4ac < 0$$|No real solutions; both are complex.|"
   ]
  }
 ],
 "metadata": {
  "kernelspec": {
   "display_name": "Python 3 (ipykernel)",
   "language": "python",
   "name": "python3"
  },
  "language_info": {
   "codemirror_mode": {
    "name": "ipython",
    "version": 3
   },
   "file_extension": ".py",
   "mimetype": "text/x-python",
   "name": "python",
   "nbconvert_exporter": "python",
   "pygments_lexer": "ipython3",
   "version": "3.9.13"
  }
 },
 "nbformat": 4,
 "nbformat_minor": 5
}
