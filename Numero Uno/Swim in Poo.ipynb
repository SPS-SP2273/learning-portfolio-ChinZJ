{
 "cells": [
  {
   "cell_type": "markdown",
   "id": "9961115a",
   "metadata": {},
   "source": [
    "# Taking a look at `test(genome)` \n",
    "```python\n",
    "def test(genome):\n",
    "    return genome.find(infection) != -1\n",
    "```\n",
    "What `.find()` does is that it takes in a variable `infection` and looks through `genome`.  \n",
    "It returns the first occurrence which `infection` occurs.  \n",
    "If `infection` cannot be found in `genome`, it returns the value -1.  \n",
    "This allows the code to return `True` if it exists and `False` elsewise.  "
   ]
  },
  {
   "cell_type": "markdown",
   "id": "2db2b1a0",
   "metadata": {},
   "source": [
    "Importing my favorite things in python.  \n",
    "This segment will be heavily reliant on [Files, Folders and OS](https://sps.nus.edu.sg/sp2273/chapter-os.html)"
   ]
  },
  {
   "cell_type": "code",
   "execution_count": 2,
   "id": "98e2cac2",
   "metadata": {},
   "outputs": [],
   "source": [
    "import os\n",
    "import glob\n",
    "import shutil\n",
    "import test_kit #This is for my test function\n",
    "import numpy as np\n",
    "import random"
   ]
  },
  {
   "cell_type": "markdown",
   "id": "a669b4f8",
   "metadata": {},
   "source": [
    "Taking it slow and steady for I hope to win the race."
   ]
  },
  {
   "cell_type": "code",
   "execution_count": 3,
   "id": "a3bd7021",
   "metadata": {},
   "outputs": [
    {
     "data": {
      "text/plain": [
       "'C:\\\\Users\\\\Chin Zhen Jie\\\\OneDrive\\\\Desktop\\\\SP2273\\\\GitGud\\\\learning-portfolio-ChinZJ\\\\Numero Uno'"
      ]
     },
     "execution_count": 3,
     "metadata": {},
     "output_type": "execute_result"
    }
   ],
   "source": [
    "os.getcwd()"
   ]
  },
  {
   "cell_type": "code",
   "execution_count": 4,
   "id": "14d1daf5",
   "metadata": {},
   "outputs": [],
   "source": [
    "os.chdir('C:\\\\Users\\\\Chin Zhen Jie\\\\OneDrive\\\\Desktop\\\\SP2273\\\\GitGud\\\\learning-portfolio-ChinZJ\\\\Numero Uno')"
   ]
  },
  {
   "cell_type": "markdown",
   "id": "1f3ddd67",
   "metadata": {},
   "source": [
    "In my case, I have the extracted 'person-files' already in my folder 'Numero Uno' so I will just change the directory in there."
   ]
  },
  {
   "cell_type": "code",
   "execution_count": 5,
   "id": "0887b763",
   "metadata": {},
   "outputs": [],
   "source": [
    "os.chdir('.\\person-files')"
   ]
  },
  {
   "cell_type": "markdown",
   "id": "d8eed987",
   "metadata": {},
   "source": [
    "`.` here refers to the current folder ie. 'Numero Uno'  \n",
    "It is the exact same thing as  \n",
    "`os.chdir('C:\\\\Users\\\\Chin Zhen Jie\\\\OneDrive\\\\Desktop\\\\SP2273\\\\GitGud\\\\learning-portfolio-ChinZJ\\\\Numero Uno\\\\person-files')`"
   ]
  },
  {
   "cell_type": "code",
   "execution_count": 6,
   "id": "734cbbec",
   "metadata": {},
   "outputs": [
    {
     "data": {
      "text/plain": [
       "'C:\\\\Users\\\\Chin Zhen Jie\\\\OneDrive\\\\Desktop\\\\SP2273\\\\GitGud\\\\learning-portfolio-ChinZJ\\\\Numero Uno\\\\person-files'"
      ]
     },
     "execution_count": 6,
     "metadata": {},
     "output_type": "execute_result"
    }
   ],
   "source": [
    "os.getcwd()"
   ]
  },
  {
   "cell_type": "markdown",
   "id": "30139ff8",
   "metadata": {},
   "source": [
    "## Why does this use '\\\\'?"
   ]
  },
  {
   "cell_type": "code",
   "execution_count": 7,
   "id": "111eefb5",
   "metadata": {},
   "outputs": [
    {
     "data": {
      "text/plain": [
       "['person_00000.txt',\n",
       " 'person_00001.txt',\n",
       " 'person_00002.txt',\n",
       " 'person_00003.txt',\n",
       " 'person_00004.txt',\n",
       " 'person_00005.txt',\n",
       " 'person_00006.txt',\n",
       " 'person_00007.txt',\n",
       " 'person_00008.txt',\n",
       " 'person_00009.txt',\n",
       " 'person_00010.txt',\n",
       " 'person_00011.txt',\n",
       " 'person_00012.txt',\n",
       " 'person_00013.txt',\n",
       " 'person_00014.txt',\n",
       " 'person_00015.txt',\n",
       " 'person_00016.txt',\n",
       " 'person_00017.txt',\n",
       " 'person_00018.txt',\n",
       " 'person_00019.txt',\n",
       " 'person_00020.txt',\n",
       " 'person_00021.txt',\n",
       " 'person_00022.txt',\n",
       " 'person_00023.txt',\n",
       " 'person_00024.txt',\n",
       " 'person_00025.txt',\n",
       " 'person_00026.txt',\n",
       " 'person_00027.txt',\n",
       " 'person_00028.txt',\n",
       " 'person_00029.txt',\n",
       " 'person_00030.txt',\n",
       " 'person_00031.txt',\n",
       " 'person_00032.txt',\n",
       " 'person_00033.txt',\n",
       " 'person_00034.txt',\n",
       " 'person_00035.txt',\n",
       " 'person_00036.txt',\n",
       " 'person_00037.txt',\n",
       " 'person_00038.txt',\n",
       " 'person_00039.txt',\n",
       " 'person_00040.txt',\n",
       " 'person_00041.txt',\n",
       " 'person_00042.txt',\n",
       " 'person_00043.txt',\n",
       " 'person_00044.txt',\n",
       " 'person_00045.txt',\n",
       " 'person_00046.txt',\n",
       " 'person_00047.txt',\n",
       " 'person_00048.txt',\n",
       " 'person_00049.txt',\n",
       " 'person_00050.txt',\n",
       " 'person_00051.txt',\n",
       " 'person_00052.txt',\n",
       " 'person_00053.txt',\n",
       " 'person_00054.txt',\n",
       " 'person_00055.txt',\n",
       " 'person_00056.txt',\n",
       " 'person_00057.txt',\n",
       " 'person_00058.txt',\n",
       " 'person_00059.txt',\n",
       " 'person_00060.txt',\n",
       " 'person_00061.txt',\n",
       " 'person_00062.txt',\n",
       " 'person_00063.txt',\n",
       " 'person_00064.txt',\n",
       " 'person_00065.txt',\n",
       " 'person_00066.txt',\n",
       " 'person_00067.txt',\n",
       " 'person_00068.txt',\n",
       " 'person_00069.txt',\n",
       " 'person_00070.txt',\n",
       " 'person_00071.txt',\n",
       " 'person_00072.txt',\n",
       " 'person_00073.txt',\n",
       " 'person_00074.txt',\n",
       " 'person_00075.txt',\n",
       " 'person_00076.txt',\n",
       " 'person_00077.txt',\n",
       " 'person_00078.txt',\n",
       " 'person_00079.txt',\n",
       " 'person_00080.txt',\n",
       " 'person_00081.txt',\n",
       " 'person_00082.txt',\n",
       " 'person_00083.txt',\n",
       " 'person_00084.txt',\n",
       " 'person_00085.txt',\n",
       " 'person_00086.txt',\n",
       " 'person_00087.txt',\n",
       " 'person_00088.txt',\n",
       " 'person_00089.txt',\n",
       " 'person_00090.txt',\n",
       " 'person_00091.txt',\n",
       " 'person_00092.txt',\n",
       " 'person_00093.txt',\n",
       " 'person_00094.txt',\n",
       " 'person_00095.txt',\n",
       " 'person_00096.txt',\n",
       " 'person_00097.txt',\n",
       " 'person_00098.txt',\n",
       " 'person_00099.txt',\n",
       " 'person_00100.txt',\n",
       " 'person_00101.txt',\n",
       " 'person_00102.txt',\n",
       " 'person_00103.txt',\n",
       " 'person_00104.txt',\n",
       " 'person_00105.txt',\n",
       " 'person_00106.txt',\n",
       " 'person_00107.txt',\n",
       " 'person_00108.txt',\n",
       " 'person_00109.txt',\n",
       " 'person_00110.txt',\n",
       " 'person_00111.txt',\n",
       " 'person_00112.txt',\n",
       " 'person_00113.txt',\n",
       " 'person_00114.txt',\n",
       " 'person_00115.txt',\n",
       " 'person_00116.txt',\n",
       " 'person_00117.txt',\n",
       " 'person_00118.txt',\n",
       " 'person_00119.txt',\n",
       " 'person_00120.txt',\n",
       " 'person_00121.txt',\n",
       " 'person_00122.txt',\n",
       " 'person_00123.txt',\n",
       " 'person_00124.txt',\n",
       " 'person_00125.txt',\n",
       " 'person_00126.txt',\n",
       " 'person_00127.txt',\n",
       " 'person_00128.txt',\n",
       " 'person_00129.txt',\n",
       " 'person_00130.txt',\n",
       " 'person_00131.txt',\n",
       " 'person_00132.txt',\n",
       " 'person_00133.txt',\n",
       " 'person_00134.txt',\n",
       " 'person_00135.txt',\n",
       " 'person_00136.txt',\n",
       " 'person_00137.txt',\n",
       " 'person_00138.txt',\n",
       " 'person_00139.txt',\n",
       " 'person_00140.txt',\n",
       " 'person_00141.txt',\n",
       " 'person_00142.txt',\n",
       " 'person_00143.txt',\n",
       " 'person_00144.txt',\n",
       " 'person_00145.txt',\n",
       " 'person_00146.txt',\n",
       " 'person_00147.txt',\n",
       " 'person_00148.txt',\n",
       " 'person_00149.txt',\n",
       " 'person_00150.txt',\n",
       " 'person_00151.txt',\n",
       " 'person_00152.txt',\n",
       " 'person_00153.txt',\n",
       " 'person_00154.txt',\n",
       " 'person_00155.txt',\n",
       " 'person_00156.txt',\n",
       " 'person_00157.txt',\n",
       " 'person_00158.txt',\n",
       " 'person_00159.txt',\n",
       " 'person_00160.txt',\n",
       " 'person_00161.txt',\n",
       " 'person_00162.txt',\n",
       " 'person_00163.txt',\n",
       " 'person_00164.txt',\n",
       " 'person_00165.txt',\n",
       " 'person_00166.txt',\n",
       " 'person_00167.txt',\n",
       " 'person_00168.txt',\n",
       " 'person_00169.txt',\n",
       " 'person_00170.txt',\n",
       " 'person_00171.txt',\n",
       " 'person_00172.txt',\n",
       " 'person_00173.txt',\n",
       " 'person_00174.txt',\n",
       " 'person_00175.txt',\n",
       " 'person_00176.txt',\n",
       " 'person_00177.txt',\n",
       " 'person_00178.txt',\n",
       " 'person_00179.txt',\n",
       " 'person_00180.txt',\n",
       " 'person_00181.txt',\n",
       " 'person_00182.txt',\n",
       " 'person_00183.txt',\n",
       " 'person_00184.txt',\n",
       " 'person_00185.txt',\n",
       " 'person_00186.txt',\n",
       " 'person_00187.txt',\n",
       " 'person_00188.txt',\n",
       " 'person_00189.txt',\n",
       " 'person_00190.txt',\n",
       " 'person_00191.txt',\n",
       " 'person_00192.txt',\n",
       " 'person_00193.txt',\n",
       " 'person_00194.txt',\n",
       " 'person_00195.txt',\n",
       " 'person_00196.txt',\n",
       " 'person_00197.txt',\n",
       " 'person_00198.txt',\n",
       " 'person_00199.txt',\n",
       " 'person_00200.txt',\n",
       " 'person_00201.txt',\n",
       " 'person_00202.txt',\n",
       " 'person_00203.txt',\n",
       " 'person_00204.txt',\n",
       " 'person_00205.txt',\n",
       " 'person_00206.txt',\n",
       " 'person_00207.txt',\n",
       " 'person_00208.txt',\n",
       " 'person_00209.txt',\n",
       " 'person_00210.txt',\n",
       " 'person_00211.txt',\n",
       " 'person_00212.txt',\n",
       " 'person_00213.txt',\n",
       " 'person_00214.txt',\n",
       " 'person_00215.txt',\n",
       " 'person_00216.txt',\n",
       " 'person_00217.txt',\n",
       " 'person_00218.txt',\n",
       " 'person_00219.txt',\n",
       " 'person_00220.txt',\n",
       " 'person_00221.txt',\n",
       " 'person_00222.txt',\n",
       " 'person_00223.txt',\n",
       " 'person_00224.txt',\n",
       " 'person_00225.txt',\n",
       " 'person_00226.txt',\n",
       " 'person_00227.txt',\n",
       " 'person_00228.txt',\n",
       " 'person_00229.txt',\n",
       " 'person_00230.txt',\n",
       " 'person_00231.txt',\n",
       " 'person_00232.txt',\n",
       " 'person_00233.txt',\n",
       " 'person_00234.txt',\n",
       " 'person_00235.txt',\n",
       " 'person_00236.txt',\n",
       " 'person_00237.txt',\n",
       " 'person_00238.txt',\n",
       " 'person_00239.txt',\n",
       " 'person_00240.txt',\n",
       " 'person_00241.txt',\n",
       " 'person_00242.txt',\n",
       " 'person_00243.txt',\n",
       " 'person_00244.txt',\n",
       " 'person_00245.txt',\n",
       " 'person_00246.txt',\n",
       " 'person_00247.txt',\n",
       " 'person_00248.txt',\n",
       " 'person_00249.txt',\n",
       " 'person_00250.txt',\n",
       " 'person_00251.txt',\n",
       " 'person_00252.txt',\n",
       " 'person_00253.txt',\n",
       " 'person_00254.txt',\n",
       " 'person_00255.txt',\n",
       " 'person_00256.txt',\n",
       " 'person_00257.txt',\n",
       " 'person_00258.txt',\n",
       " 'person_00259.txt',\n",
       " 'person_00260.txt',\n",
       " 'person_00261.txt',\n",
       " 'person_00262.txt',\n",
       " 'person_00263.txt',\n",
       " 'person_00264.txt',\n",
       " 'person_00265.txt',\n",
       " 'person_00266.txt',\n",
       " 'person_00267.txt',\n",
       " 'person_00268.txt',\n",
       " 'person_00269.txt',\n",
       " 'person_00270.txt',\n",
       " 'person_00271.txt',\n",
       " 'person_00272.txt',\n",
       " 'person_00273.txt',\n",
       " 'person_00274.txt',\n",
       " 'person_00275.txt',\n",
       " 'person_00276.txt',\n",
       " 'person_00277.txt',\n",
       " 'person_00278.txt',\n",
       " 'person_00279.txt',\n",
       " 'person_00280.txt',\n",
       " 'person_00281.txt',\n",
       " 'person_00282.txt',\n",
       " 'person_00283.txt',\n",
       " 'person_00284.txt',\n",
       " 'person_00285.txt',\n",
       " 'person_00286.txt',\n",
       " 'person_00287.txt',\n",
       " 'person_00288.txt',\n",
       " 'person_00289.txt',\n",
       " 'person_00290.txt',\n",
       " 'person_00291.txt',\n",
       " 'person_00292.txt',\n",
       " 'person_00293.txt',\n",
       " 'person_00294.txt',\n",
       " 'person_00295.txt',\n",
       " 'person_00296.txt',\n",
       " 'person_00297.txt',\n",
       " 'person_00298.txt',\n",
       " 'person_00299.txt',\n",
       " 'person_00300.txt',\n",
       " 'person_00301.txt',\n",
       " 'person_00302.txt',\n",
       " 'person_00303.txt',\n",
       " 'person_00304.txt',\n",
       " 'person_00305.txt',\n",
       " 'person_00306.txt',\n",
       " 'person_00307.txt',\n",
       " 'person_00308.txt',\n",
       " 'person_00309.txt',\n",
       " 'person_00310.txt',\n",
       " 'person_00311.txt',\n",
       " 'person_00312.txt',\n",
       " 'person_00313.txt',\n",
       " 'person_00314.txt',\n",
       " 'person_00315.txt',\n",
       " 'person_00316.txt',\n",
       " 'person_00317.txt',\n",
       " 'person_00318.txt',\n",
       " 'person_00319.txt',\n",
       " 'person_00320.txt',\n",
       " 'person_00321.txt',\n",
       " 'person_00322.txt',\n",
       " 'person_00323.txt',\n",
       " 'person_00324.txt',\n",
       " 'person_00325.txt',\n",
       " 'person_00326.txt',\n",
       " 'person_00327.txt',\n",
       " 'person_00328.txt',\n",
       " 'person_00329.txt',\n",
       " 'person_00330.txt',\n",
       " 'person_00331.txt',\n",
       " 'person_00332.txt',\n",
       " 'person_00333.txt',\n",
       " 'person_00334.txt',\n",
       " 'person_00335.txt',\n",
       " 'person_00336.txt',\n",
       " 'person_00337.txt',\n",
       " 'person_00338.txt',\n",
       " 'person_00339.txt',\n",
       " 'person_00340.txt',\n",
       " 'person_00341.txt',\n",
       " 'person_00342.txt',\n",
       " 'person_00343.txt',\n",
       " 'person_00344.txt',\n",
       " 'person_00345.txt',\n",
       " 'person_00346.txt',\n",
       " 'person_00347.txt',\n",
       " 'person_00348.txt',\n",
       " 'person_00349.txt',\n",
       " 'person_00350.txt',\n",
       " 'person_00351.txt',\n",
       " 'person_00352.txt',\n",
       " 'person_00353.txt',\n",
       " 'person_00354.txt',\n",
       " 'person_00355.txt',\n",
       " 'person_00356.txt',\n",
       " 'person_00357.txt',\n",
       " 'person_00358.txt',\n",
       " 'person_00359.txt',\n",
       " 'person_00360.txt',\n",
       " 'person_00361.txt',\n",
       " 'person_00362.txt',\n",
       " 'person_00363.txt',\n",
       " 'person_00364.txt',\n",
       " 'person_00365.txt',\n",
       " 'person_00366.txt',\n",
       " 'person_00367.txt',\n",
       " 'person_00368.txt',\n",
       " 'person_00369.txt',\n",
       " 'person_00370.txt',\n",
       " 'person_00371.txt',\n",
       " 'person_00372.txt',\n",
       " 'person_00373.txt',\n",
       " 'person_00374.txt',\n",
       " 'person_00375.txt',\n",
       " 'person_00376.txt',\n",
       " 'person_00377.txt',\n",
       " 'person_00378.txt',\n",
       " 'person_00379.txt',\n",
       " 'person_00380.txt',\n",
       " 'person_00381.txt',\n",
       " 'person_00382.txt',\n",
       " 'person_00383.txt',\n",
       " 'person_00384.txt',\n",
       " 'person_00385.txt',\n",
       " 'person_00386.txt',\n",
       " 'person_00387.txt',\n",
       " 'person_00388.txt',\n",
       " 'person_00389.txt',\n",
       " 'person_00390.txt',\n",
       " 'person_00391.txt',\n",
       " 'person_00392.txt',\n",
       " 'person_00393.txt',\n",
       " 'person_00394.txt',\n",
       " 'person_00395.txt',\n",
       " 'person_00396.txt',\n",
       " 'person_00397.txt',\n",
       " 'person_00398.txt',\n",
       " 'person_00399.txt',\n",
       " 'person_00400.txt',\n",
       " 'person_00401.txt',\n",
       " 'person_00402.txt',\n",
       " 'person_00403.txt',\n",
       " 'person_00404.txt',\n",
       " 'person_00405.txt',\n",
       " 'person_00406.txt',\n",
       " 'person_00407.txt',\n",
       " 'person_00408.txt',\n",
       " 'person_00409.txt',\n",
       " 'person_00410.txt',\n",
       " 'person_00411.txt',\n",
       " 'person_00412.txt',\n",
       " 'person_00413.txt',\n",
       " 'person_00414.txt',\n",
       " 'person_00415.txt',\n",
       " 'person_00416.txt',\n",
       " 'person_00417.txt',\n",
       " 'person_00418.txt',\n",
       " 'person_00419.txt',\n",
       " 'person_00420.txt',\n",
       " 'person_00421.txt',\n",
       " 'person_00422.txt',\n",
       " 'person_00423.txt',\n",
       " 'person_00424.txt',\n",
       " 'person_00425.txt',\n",
       " 'person_00426.txt',\n",
       " 'person_00427.txt',\n",
       " 'person_00428.txt',\n",
       " 'person_00429.txt',\n",
       " 'person_00430.txt',\n",
       " 'person_00431.txt',\n",
       " 'person_00432.txt',\n",
       " 'person_00433.txt',\n",
       " 'person_00434.txt',\n",
       " 'person_00435.txt',\n",
       " 'person_00436.txt',\n",
       " 'person_00437.txt',\n",
       " 'person_00438.txt',\n",
       " 'person_00439.txt',\n",
       " 'person_00440.txt',\n",
       " 'person_00441.txt',\n",
       " 'person_00442.txt',\n",
       " 'person_00443.txt',\n",
       " 'person_00444.txt',\n",
       " 'person_00445.txt',\n",
       " 'person_00446.txt',\n",
       " 'person_00447.txt',\n",
       " 'person_00448.txt',\n",
       " 'person_00449.txt',\n",
       " 'person_00450.txt',\n",
       " 'person_00451.txt',\n",
       " 'person_00452.txt',\n",
       " 'person_00453.txt',\n",
       " 'person_00454.txt',\n",
       " 'person_00455.txt',\n",
       " 'person_00456.txt',\n",
       " 'person_00457.txt',\n",
       " 'person_00458.txt',\n",
       " 'person_00459.txt',\n",
       " 'person_00460.txt',\n",
       " 'person_00461.txt',\n",
       " 'person_00462.txt',\n",
       " 'person_00463.txt',\n",
       " 'person_00464.txt',\n",
       " 'person_00465.txt',\n",
       " 'person_00466.txt',\n",
       " 'person_00467.txt',\n",
       " 'person_00468.txt',\n",
       " 'person_00469.txt',\n",
       " 'person_00470.txt',\n",
       " 'person_00471.txt',\n",
       " 'person_00472.txt',\n",
       " 'person_00473.txt',\n",
       " 'person_00474.txt',\n",
       " 'person_00475.txt',\n",
       " 'person_00476.txt',\n",
       " 'person_00477.txt',\n",
       " 'person_00478.txt',\n",
       " 'person_00479.txt',\n",
       " 'person_00480.txt',\n",
       " 'person_00481.txt',\n",
       " 'person_00482.txt',\n",
       " 'person_00483.txt',\n",
       " 'person_00484.txt',\n",
       " 'person_00485.txt',\n",
       " 'person_00486.txt',\n",
       " 'person_00487.txt',\n",
       " 'person_00488.txt',\n",
       " 'person_00489.txt',\n",
       " 'person_00490.txt',\n",
       " 'person_00491.txt',\n",
       " 'person_00492.txt',\n",
       " 'person_00493.txt',\n",
       " 'person_00494.txt',\n",
       " 'person_00495.txt',\n",
       " 'person_00496.txt',\n",
       " 'person_00497.txt',\n",
       " 'person_00498.txt',\n",
       " 'person_00499.txt']"
      ]
     },
     "execution_count": 7,
     "metadata": {},
     "output_type": "execute_result"
    }
   ],
   "source": [
    "glob.glob('*')"
   ]
  },
  {
   "cell_type": "markdown",
   "id": "a853280e",
   "metadata": {},
   "source": [
    "As you can see, each person file contains 5 digits. The easiest way to cheese through this would be with f strings when accessing things.  \n",
    "We only want to read the file, this will be important when reading the file later on.  \n",
    "We finally get to the first question, damn!"
   ]
  },
  {
   "cell_type": "code",
   "execution_count": 8,
   "id": "b907d6cf",
   "metadata": {},
   "outputs": [],
   "source": [
    "def get_genome(person_id):\n",
    "    '''\n",
    "    This takes in an integer (person_id), converts it to a 5 digit number that suits the .txt file before returning the entire\n",
    "    sequence by reading the file\n",
    "    '''\n",
    "    file_name = f'person_{person_id:05}.txt' #:05 gives me a 5 digit number\n",
    "    with open(file_name, 'r') as file: #r here refers to read\n",
    "        genome_sequence = file.read() #this reads the file for me\n",
    "    return genome_sequence #I use return instead of print within a function"
   ]
  },
  {
   "cell_type": "markdown",
   "id": "7022ab03",
   "metadata": {},
   "source": [
    "For haters of f strings, we can go back to default string concatenation.\n",
    "```python\n",
    "def wahoo(person_id): #This takes in an integer\n",
    "    if len(str(person_id)) == 1:\n",
    "        file_name = 'person_0000' + str(person_id) + '.txt'\n",
    "    elif len(str(person_id)) == 2:\n",
    "        file_name = 'person_000' + str(person_id) + '.txt'\n",
    "    elif len(str(person_id)) == 3:\n",
    "        file_name = 'person_00' + str(person_id) + '.txt'\n",
    "    else:\n",
    "        file_name = 'person_0' + str(person_id) + '.txt'\n",
    "    with open(file_name, 'r') as file: #r here refers to read\n",
    "        genome_sequence = file.read() #this reads the file for me\n",
    "    return genome_sequence #I use return instead of print within a function\n",
    "```"
   ]
  },
  {
   "cell_type": "markdown",
   "id": "13bb7317",
   "metadata": {},
   "source": [
    "Function seems to be alright, lets try it out, wahoo!  \n",
    "Lets check if the first 100 people have infections.  \n",
    "By right, the following should have infections: 1 , 7, 8, 27, 47, 57, 62, 63, and 78.  \n",
    "These are the people that will have an output True"
   ]
  },
  {
   "cell_type": "code",
   "execution_count": 9,
   "id": "86b3433c",
   "metadata": {
    "scrolled": true
   },
   "outputs": [
    {
     "name": "stdout",
     "output_type": "stream",
     "text": [
      "1\n",
      "7\n",
      "8\n",
      "27\n",
      "47\n",
      "57\n",
      "62\n",
      "63\n",
      "78\n"
     ]
    }
   ],
   "source": [
    "for i in range(100): #This starts from 0 and ends at 99. Note that the first .txt file is 00000\n",
    "    patient_sequence = get_genome(i)\n",
    "    result = test_kit.test(patient_sequence)\n",
    "    if result: #This is already a boolean so I can do thangs like this.\n",
    "        print(i)"
   ]
  },
  {
   "cell_type": "markdown",
   "id": "575ec551",
   "metadata": {},
   "source": [
    "I now need to randomly sample 100 people.  \n",
    "For this I need to find the range of values that my random number can take.  \n",
    "I can cheat by looking at the file and realising it is 499, or I can make my life hard.  \n",
    "As you can see from above, glob.glob actually gives me a list. I will use that to my advantage"
   ]
  },
  {
   "cell_type": "code",
   "execution_count": 10,
   "id": "9b6c5a07",
   "metadata": {},
   "outputs": [
    {
     "data": {
      "text/plain": [
       "'person_00499.txt'"
      ]
     },
     "execution_count": 10,
     "metadata": {},
     "output_type": "execute_result"
    }
   ],
   "source": [
    "people_list = glob.glob('*')\n",
    "people_list[-1]"
   ]
  },
  {
   "cell_type": "markdown",
   "id": "cc1b9404",
   "metadata": {},
   "source": [
    "This file is always constant with exception to the 5 digits, I can implement string slicing to extract this value. I can also get min_num just for the lols."
   ]
  },
  {
   "cell_type": "code",
   "execution_count": 11,
   "id": "7279b049",
   "metadata": {
    "scrolled": false
   },
   "outputs": [
    {
     "name": "stdout",
     "output_type": "stream",
     "text": [
      "0 499\n"
     ]
    }
   ],
   "source": [
    "min_num = int(people_list[0][7:12])\n",
    "max_num = int(people_list[-1][7:12])\n",
    "print(min_num, max_num)"
   ]
  },
  {
   "cell_type": "markdown",
   "id": "96536242",
   "metadata": {},
   "source": [
    "Just because I can"
   ]
  },
  {
   "cell_type": "code",
   "execution_count": 12,
   "id": "97a8deab",
   "metadata": {},
   "outputs": [
    {
     "name": "stdout",
     "output_type": "stream",
     "text": [
      "[313, 302, 123, 97, 128, 55, 197, 158, 104, 318, 341, 42, 72, 47, 460, 469, 1, 138, 117, 90, 305, 392, 436, 370, 359, 233, 186, 456, 9, 485, 458, 255, 20, 92, 308, 130, 181, 390, 228, 211, 141, 444, 289, 65, 166, 498, 381, 387, 260, 442, 27, 360, 416, 190, 288, 108, 67, 75, 372, 86, 79, 326, 23, 132, 261, 361, 425, 87, 365, 335, 70, 150, 125, 496, 368, 301, 175, 54, 287, 293, 38, 362, 215, 133, 407, 470, 429, 451, 369, 116, 337, 31, 208, 207, 443, 68, 77, 352, 491, 131]\n"
     ]
    }
   ],
   "source": [
    "random_list = random.sample(range(0, 500),100)\n",
    "#Reference for how this works. I use random.sample instead of randint because I am unsure if randint gives me unique values which I require.\n",
    "print(random_list)"
   ]
  },
  {
   "cell_type": "code",
   "execution_count": 13,
   "id": "7e95e8fc",
   "metadata": {},
   "outputs": [],
   "source": [
    "def percentage(minimum, maximum, size):\n",
    "    random_list = random.sample(range(minimum, maximum+1), size)\n",
    "    sum = 0 #This will be calculation\n",
    "    for i in random_list: #This will iterate the array of random integers generated\n",
    "        genome_sequence = get_genome(i) #This lets me store a string of my genome sequence\n",
    "        if test_kit.test(genome_sequence): #This runs the infected string against my genome sequence. if checks for a boolean which is what test returns\n",
    "            sum += 1 #This gives me my count of infected people\n",
    "    percent_infected = sum / size * 100 #I can do math!\n",
    "    return percent_infected\n",
    "    \n",
    "        "
   ]
  },
  {
   "cell_type": "code",
   "execution_count": 14,
   "id": "3f452bc8",
   "metadata": {
    "scrolled": false
   },
   "outputs": [
    {
     "data": {
      "text/plain": [
       "10.0"
      ]
     },
     "execution_count": 14,
     "metadata": {},
     "output_type": "execute_result"
    }
   ],
   "source": [
    "percentage(min_num, max_num, 100)"
   ]
  },
  {
   "cell_type": "code",
   "execution_count": 15,
   "id": "e69329fa",
   "metadata": {},
   "outputs": [],
   "source": [
    "def pool(list_of_id): #This takes in a list of integers\n",
    "    compile_genome_id = ''\n",
    "    for i in list_of_id:\n",
    "        compile_genome_id += get_genome(i)\n",
    "    return compile_genome_id"
   ]
  },
  {
   "cell_type": "code",
   "execution_count": 16,
   "id": "243cba8b",
   "metadata": {},
   "outputs": [
    {
     "name": "stdout",
     "output_type": "stream",
     "text": [
      "False\n",
      "False\n",
      "False\n",
      "False\n",
      "False\n"
     ]
    }
   ],
   "source": [
    "mixed_sample_1 = pool([20,21])\n",
    "mixed_sample_2 = pool([21,22])\n",
    "print(test_kit.test(get_genome(20))) #Tells me that person 20 is healthy\n",
    "print(test_kit.test(get_genome(21))) #Tells me that person 21 is healthy\n",
    "print(test_kit.test(get_genome(22))) #Tells me that person 22 is healthy\n",
    "print(test_kit.test(mixed_sample_1)) #Tells me facts since 20 and 21 are healthy\n",
    "print(test_kit.test(mixed_sample_2)) #Tells me facts since 21 and 22 are healthy"
   ]
  },
  {
   "cell_type": "code",
   "execution_count": 17,
   "id": "e0edd661",
   "metadata": {
    "scrolled": true
   },
   "outputs": [
    {
     "data": {
      "text/plain": [
       "[[0, 1, 2, 3, 4, 5, 6, 7, 8, 9],\n",
       " [10, 11, 12, 13, 14, 15, 16, 17, 18, 19],\n",
       " [20, 21, 22, 23, 24, 25, 26, 27, 28, 29],\n",
       " [30, 31, 32, 33, 34, 35, 36, 37, 38, 39],\n",
       " [40, 41, 42, 43, 44, 45, 46, 47, 48, 49],\n",
       " [50, 51, 52, 53, 54, 55, 56, 57, 58, 59],\n",
       " [60, 61, 62, 63, 64, 65, 66, 67, 68, 69],\n",
       " [70, 71, 72, 73, 74, 75, 76, 77, 78, 79],\n",
       " [80, 81, 82, 83, 84, 85, 86, 87, 88, 89],\n",
       " [90, 91, 92, 93, 94, 95, 96, 97, 98, 99]]"
      ]
     },
     "execution_count": 17,
     "metadata": {},
     "output_type": "execute_result"
    }
   ],
   "source": [
    "test = [i for i in range(100)]\n",
    "group = [test[i:i+10] for i in range(0,int(len(test)),10)]\n",
    "group"
   ]
  },
  {
   "cell_type": "code",
   "execution_count": 18,
   "id": "4eff80ee",
   "metadata": {
    "scrolled": true
   },
   "outputs": [
    {
     "name": "stdout",
     "output_type": "stream",
     "text": [
      "[[0, 1, 2, 3, 4, 5, 6, 7, 8], [9, 10, 11, 12, 13, 14, 15, 16, 17], [18, 19, 20, 21, 22, 23, 24, 25, 26], [27, 28, 29, 30, 31, 32, 33, 34, 35]]\n",
      "[[0, 1, 2, 3, 4, 5, 6, 7, 8], [9, 10, 11, 12, 13, 14, 15, 16, 17], [18, 19, 20, 21, 22, 23, 24, 25, 26], [27, 28, 29, 30, 31, 32, 33, 34, 35], [36, 37, 38, 39, 40, 41, 42, 43], [44, 45, 46, 47, 48, 49, 50, 51], [52, 53, 54, 55, 56, 57, 58, 59], [60, 61, 62, 63, 64, 65, 66, 67], [68, 69, 70, 71, 72, 73, 74, 75], [76, 77, 78, 79, 80, 81, 82, 83], [84, 85, 86, 87, 88, 89, 90, 91], [92, 93, 94, 95, 96, 97, 98, 99]]\n"
     ]
    }
   ],
   "source": [
    "#When I want to put 100 people into groups of 8. I have 12 remainder 4. This means I need 4 groups of 9 and 8 groups of 8\n",
    "first_half = 4\n",
    "group_size = 8\n",
    "group_2 = [test[i:i+group_size+1] for i in range(0,(group_size+1)*first_half,group_size+1)]\n",
    "print(group_2)\n",
    "group_2 += [test[i:i+group_size] for i in range(((group_size+1)*first_half),int(len(test)),group_size)]\n",
    "print(group_2)"
   ]
  },
  {
   "cell_type": "markdown",
   "id": "4e607e6e",
   "metadata": {},
   "source": [
    "If you are wondering what abomination of illegible code I have made above, don't panik itsok, I dont know either.  \n",
    "Based on the sample context, I have a total of 100 people indexed from 0 to 99.  \n",
    "Since I want to split them into a number of groups with uneven number of people, I will first find how many extra people I have left. In this context, that number is 4. This means that the first 4 groups that I have will have one additional element (or person in this case).  \n",
    "Thus the first list comprehension that I am executing will cover these first number of groups.  \n",
    "In this very specific case, you can interpret it this way:  \n",
    "My range of `i` starts from 0, goes to 36 (the `stop` does not include the value 36) with `step` of 9 (this is the number of people I want to include in my list).  \n",
    "My first list will take `0 to 8` (similarly, it excludes my `stop` which is `0 + 8 + 1` for the first iteration of `i`).  \n",
    "My second iteration causes `i` to increase by a step of 9, causing my `i` to now take value 9.  \n",
    "My second list will thus take `9 to 17`.  \n",
    "This continues until I have cleared all remainder values.  \n",
    "Now for the second half. I simply need to return back to the original list comprehension strats starting from where I left off, which would be `group_size + 1`."
   ]
  },
  {
   "cell_type": "code",
   "execution_count": 19,
   "id": "b5fd075f",
   "metadata": {
    "code_folding": []
   },
   "outputs": [],
   "source": [
    "def find_sick_people(ppl_list, group_size):\n",
    "    '''\n",
    "    The first half is to create my groups\n",
    "    '''\n",
    "    if len(ppl_list)%group_size == 0: #This ensures I have an even number of groups\n",
    "        per_group = int(len(ppl_list)/group_size)\n",
    "        group_ppl_list = [ppl_list[i:i+per_group] for i in range(0,int(len(ppl_list)),per_group)] #This generates my lists of groups of even people. Refer to the example code above\n",
    "    else: #When I do not have a perfect split in group size. In this scenario, I will simply allocate 1 group to store these people.\n",
    "        extras = int(len(ppl_list)%group_size) #This lets me know how many extras I have. I will allocate the first number of extras group an additional patient.\n",
    "        per_group = int((len(ppl_list)-extras)/group_size)\n",
    "        group_ppl_list = [ppl_list[i:i+per_group+1] for i in range(0,(per_group+1)*extras,per_group+1)]\n",
    "        group_ppl_list += [ppl_list[i:i+per_group] for i in range(((per_group+1)*extras),int(len(ppl_list)),per_group)]\n",
    "    \n",
    "    '''\n",
    "    This second half is forr me to run through my initial pool sampling sort\n",
    "    '''\n",
    "    test_count = 0\n",
    "    positive_group = [] #This will store my lists of potentially positive people\n",
    "    for i in group_ppl_list:#This iterates through my list of lists\n",
    "        test_count += 1\n",
    "        if test_kit.test(pool(i)): #This checks whether any of my pooled people are positive\n",
    "            positive_group += i #At the end of my iterations, I will have a list of potential individuals\n",
    "    \n",
    "    '''\n",
    "    This last section is for me to run through a linear search of remaining potential individuals. I will be breaking if my initial group is 1\n",
    "    '''\n",
    "    if group_size == len(ppl_list):\n",
    "        return (positive_group, test_count)\n",
    "    positive_individuals = []\n",
    "    for i in positive_group:\n",
    "        test_count += 1\n",
    "        if test_kit.test(get_genome(i)): #This checks whether the individual is positive\n",
    "            positive_individuals.append(i) #This is the other alternative to adding things into your list.\n",
    "    return (positive_individuals,test_count)"
   ]
  },
  {
   "cell_type": "code",
   "execution_count": 5,
   "id": "c96306dc",
   "metadata": {},
   "outputs": [
    {
     "data": {
      "text/plain": [
       "[[1, 2, 3], [4, 5, 6]]"
      ]
     },
     "execution_count": 5,
     "metadata": {},
     "output_type": "execute_result"
    }
   ],
   "source": [
    "yaya = []\n",
    "yaya.append([1,2,3])\n",
    "yaya.append([4,5,6])\n",
    "yaya"
   ]
  },
  {
   "cell_type": "markdown",
   "id": "b4f14159",
   "metadata": {},
   "source": [
    "Here is the english version of the disgusting code that I have made above.  \n",
    "I have created the `group list` according to explanations above.  \n",
    "For each of the 10 groups, I pool all the genome sequence together and test it against the infection. If any of them has an infection, I will add that to my temporary `list` `\"positive_group\"`.  \n",
    "Thereafter, I will check each individual manually by looping through the list `\"positive_group\"` and include any sick individual in my final list.  \n",
    "What I return after is a tuple containing the list of positive individuals and the total test count that I did"
   ]
  },
  {
   "cell_type": "code",
   "execution_count": 20,
   "id": "d81ac445",
   "metadata": {},
   "outputs": [],
   "source": [
    "def get_sick_individuals(sick_people):\n",
    "    return f' The list of sick people are {sick_people[0]}'\n",
    "def get_total_tests(sick_people):\n",
    "    return f' The total number of tests used are {sick_people[1]}'"
   ]
  },
  {
   "cell_type": "code",
   "execution_count": 21,
   "id": "1ba93dc5",
   "metadata": {},
   "outputs": [
    {
     "data": {
      "text/plain": [
       "([1, 7, 8, 27, 47, 57, 62, 63, 78], 70)"
      ]
     },
     "execution_count": 21,
     "metadata": {},
     "output_type": "execute_result"
    }
   ],
   "source": [
    "ppl_list = [i for i in range(100)]\n",
    "sick_people_sample = find_sick_people(ppl_list, 10)\n",
    "sick_people_sample"
   ]
  },
  {
   "cell_type": "code",
   "execution_count": 22,
   "id": "b0c39d5a",
   "metadata": {},
   "outputs": [
    {
     "name": "stdout",
     "output_type": "stream",
     "text": [
      " The list of sick people are [1, 7, 8, 27, 47, 57, 62, 63, 78]\n",
      " The total number of tests used are 70\n"
     ]
    }
   ],
   "source": [
    "print(get_sick_individuals(sick_people_sample))\n",
    "print(get_total_tests(sick_people_sample))"
   ]
  },
  {
   "cell_type": "code",
   "execution_count": 23,
   "id": "ad353441",
   "metadata": {},
   "outputs": [
    {
     "data": {
      "text/plain": [
       "([1, 7, 8, 27, 47, 57, 62, 63, 78], 85)"
      ]
     },
     "execution_count": 23,
     "metadata": {},
     "output_type": "execute_result"
    }
   ],
   "source": [
    "sick_people_sample_2 = find_sick_people(ppl_list, 5)\n",
    "sick_people_sample_2"
   ]
  },
  {
   "cell_type": "code",
   "execution_count": 24,
   "id": "267cf83e",
   "metadata": {
    "scrolled": true
   },
   "outputs": [
    {
     "name": "stdout",
     "output_type": "stream",
     "text": [
      " The list of sick people are [1, 7, 8, 27, 47, 57, 62, 63, 78]\n",
      " The total number of tests used are 85\n"
     ]
    }
   ],
   "source": [
    "print(get_sick_individuals(sick_people_sample_2))\n",
    "print(get_total_tests(sick_people_sample_2))"
   ]
  },
  {
   "cell_type": "markdown",
   "id": "1f83bc2e",
   "metadata": {},
   "source": [
    "# Mald Session on optimization"
   ]
  },
  {
   "cell_type": "markdown",
   "id": "01c8ec01",
   "metadata": {},
   "source": [
    "The theory here is that the groups must be small enough such that half of the groups will not contain anything before I perform a linear search according to my current algorithm.  \n",
    "Implmenting foresight with the power of coding, I know that there are 62 infected people out of the 500 people.  \n",
    "This means that my maximum number of people in a group should be 8.  \n",
    "63 groups (for 8 people)\n",
    "72 groups (for 7 people)\n",
    "84 groups (for 6 people)\n",
    "100 groups (for 5 people)\n",
    "125 groups (for 4 people)\n",
    "167 groups (for 3 people)\n",
    "250 groups (for 2 people)\n",
    "500 groups (for 1 person)"
   ]
  },
  {
   "cell_type": "code",
   "execution_count": 24,
   "id": "bce3c614",
   "metadata": {
    "scrolled": true
   },
   "outputs": [
    {
     "name": "stdout",
     "output_type": "stream",
     "text": [
      "62 62  The total number of tests used are 400\n",
      "63 62  The total number of tests used are 380\n",
      "64 62  The total number of tests used are 377\n",
      "71 62  The total number of tests used are 367\n",
      "72 62  The total number of tests used are 370\n",
      "73 62  The total number of tests used are 367\n",
      "83 62  The total number of tests used are 349\n",
      "84 62  The total number of tests used are 364\n",
      "85 62  The total number of tests used are 361\n",
      "100 62  The total number of tests used are 350\n",
      "125 62  The total number of tests used are 337\n",
      "166 62  The total number of tests used are 333\n",
      "167 62  The total number of tests used are 329\n",
      "168 62  The total number of tests used are 328\n",
      "250 62  The total number of tests used are 366\n",
      "500 62  The total number of tests used are 500\n"
     ]
    }
   ],
   "source": [
    "values_to_test = [62,63,64,71,72,73,83,84,85,100,125,166,167,168,250,500] #Note that for unequal divisions, I have included +-1\n",
    "true_test = [i for i in range(500)]\n",
    "for i in values_to_test:\n",
    "    print(i, len((find_sick_people(true_test, i)[0])),get_total_tests(find_sick_people(true_test, i)))"
   ]
  },
  {
   "cell_type": "markdown",
   "id": "122aefcb",
   "metadata": {},
   "source": [
    "How do you derive things from the above code?\n",
    "Well, the print gives me 3 values, the first is the number of groups formed.  \n",
    "The second is the total number of infected individuals. To avoiid cluttering, I merely check for the length of the list to ensure that my code is not going haywire.  \n",
    "Lastly, I check for the number of tests.  \n",
    "It seems that having 3 individuals in each group is the most optimal. (168 groups)"
   ]
  },
  {
   "cell_type": "markdown",
   "id": "0df567f2",
   "metadata": {},
   "source": [
    "If you are wondering why I did not bother scrambling, it is because of the way the testing works.  \n",
    "After the group sort, I perform a linear sort, so regardless of the number of individuals, I will simply be testing everyone left in the potential pool."
   ]
  },
  {
   "cell_type": "markdown",
   "id": "9080c7a3",
   "metadata": {},
   "source": [
    "# Testing, do not bother"
   ]
  },
  {
   "cell_type": "code",
   "execution_count": 318,
   "id": "e1dd911d",
   "metadata": {
    "scrolled": true
   },
   "outputs": [],
   "source": [
    "def binary_search(lst): #This finds only 1 infected in a list\n",
    "    counter = 0\n",
    "    if len(lst) ==1:\n",
    "        counter += 1\n",
    "        return lst[0]\n",
    "    if len(lst) == 2:\n",
    "        counter += 1\n",
    "        if test_kit.test(get_genome(lst[0])):\n",
    "            return lst[0]\n",
    "        else:\n",
    "            return lst[1]\n",
    "        \n",
    "    length = len(lst)\n",
    "    halve = length//2\n",
    "    temp = [lst[:halve], lst[halve:]]\n",
    "    if test_kit.test(pool(temp[0])):\n",
    "        counter += 1\n",
    "        return binary_search(temp[0])\n",
    "    else:\n",
    "        counter += 1\n",
    "        return binary_search(temp[1])"
   ]
  },
  {
   "cell_type": "code",
   "execution_count": 436,
   "id": "c6e713bc",
   "metadata": {},
   "outputs": [],
   "source": [
    "def binary_counter(lst): #This finds only 1 infected in a list\n",
    "    counter = 0\n",
    "    if len(lst) ==1:\n",
    "        counter += 1\n",
    "        return counter\n",
    "    if len(lst) == 2:\n",
    "        counter += 1\n",
    "        if test_kit.test(get_genome(lst[0])):\n",
    "            return counter\n",
    "        else:\n",
    "            return counter\n",
    "        \n",
    "    length = len(lst)\n",
    "    halve = length//2\n",
    "    temp = [lst[:halve], lst[halve:]]\n",
    "    if test_kit.test(pool(temp[0])):\n",
    "        counter += 1\n",
    "        return counter + binary_counter(temp[0])\n",
    "    else:\n",
    "        counter += 1\n",
    "        return counter + binary_counter(temp[1])"
   ]
  },
  {
   "cell_type": "markdown",
   "id": "dd9586af",
   "metadata": {},
   "source": [
    "Out of laziness, I have created 2 functions, the actual searcher and the counter.  \n",
    "Counter returns the number of tests, searcher returns me the individual"
   ]
  },
  {
   "cell_type": "markdown",
   "id": "5a0e64a0",
   "metadata": {},
   "source": [
    "For the purpose of potential optimisation, I believe 8 to be my lucky number because it feels optimized.  \n",
    "My bins will be revolving around 8 (this is my base case in my testing below)."
   ]
  },
  {
   "cell_type": "markdown",
   "id": "e9edf7ae",
   "metadata": {},
   "source": [
    "The idea is that I always want to create groups with 1 person in each group by pure probability.  \n",
    "\n",
    "I want a sample large enough so that I can use it as an estimate of the number of sick people in my population. ie. If the percentage of sick people is 62% out of 100 groups I should expect 62 groups to have patients.  \n",
    "\n",
    "If lets say my sampled n groups has an infection rate of 100%, I will simply rerun that same group.  "
   ]
  },
  {
   "cell_type": "code",
   "execution_count": 525,
   "id": "454bb734",
   "metadata": {},
   "outputs": [],
   "source": [
    "def grouper(lst, group_size):\n",
    "    group_ppl_list = []\n",
    "    if len(lst)%group_size == 0: \n",
    "        per_group = int(len(lst)/group_size)\n",
    "        group_ppl_list = [lst[i:i+per_group] for i in range(0,int(len(lst)),per_group)] \n",
    "    else:\n",
    "        extras = int(len(lst)%group_size) \n",
    "        per_group = int((len(lst)-extras)/group_size)\n",
    "        group_ppl_list = [lst[i:i+per_group+1] for i in range(0,(per_group+1)*extras,per_group+1)]\n",
    "        group_ppl_list += [lst[i:i+per_group] for i in range(((per_group+1)*extras),int(len(lst)),per_group)]\n",
    "    return group_ppl_list"
   ]
  },
  {
   "cell_type": "markdown",
   "id": "d78e0a33",
   "metadata": {},
   "source": [
    "I want my output to be as follows: (list, counter)  \n",
    "For this, I will be implementing recursion.  \n",
    "Thus I will be using a combiner."
   ]
  },
  {
   "cell_type": "code",
   "execution_count": 724,
   "id": "fa142904",
   "metadata": {},
   "outputs": [],
   "source": [
    "def combine(a, b, c):\n",
    "    return (a+c[0], b+c[1])"
   ]
  },
  {
   "cell_type": "code",
   "execution_count": 742,
   "id": "b0785087",
   "metadata": {},
   "outputs": [],
   "source": [
    "def upgraded_sussy(lst, group_size):\n",
    "    '''\n",
    "    When I have one person in my list\n",
    "    '''\n",
    "    test_counter = 0\n",
    "    if len(lst) == 1 and type(lst[0]) == int: #I am just going to directly check because I do not have a lot of time to look into this\n",
    "        test_counter += 1\n",
    "        if test_kit.test(get_genome(lst[0])):\n",
    "            return (lst,test_counter)\n",
    "        else:\n",
    "            return ([], test_counter)\n",
    "        \n",
    "    '''\n",
    "    Base cases because I will be using recursion later\n",
    "    '''\n",
    "    \n",
    "    if len(lst) == 0:\n",
    "        return ([], test_counter)\n",
    "    else:\n",
    "        group_ppl_list = grouper(lst, group_size)\n",
    "        denominator = len(lst)\n",
    "        \n",
    "    #return group_ppl_list #Test case 1\n",
    "    \n",
    "\n",
    "    '''\n",
    "    I will now get out my list of potentially positive people\n",
    "    '''\n",
    "    \n",
    "    positive_group = []\n",
    "    positive_individuals = [] #This is my final output.\n",
    "    \n",
    "    if len(group_ppl_list) == 1: #For any weird reason.\n",
    "        for i in group_ppl_list[0]:\n",
    "            test_counter += 1\n",
    "            if test_kit.test(get_genome(i)):\n",
    "                positive_individuals.append(i)\n",
    "        return (positive_individuals, test_counter)\n",
    "    \n",
    "    \n",
    "    human_left = 0 #This counts the number of humans that I should be testing\n",
    "    for i in group_ppl_list:\n",
    "        test_counter += 1\n",
    "        if test_kit.test(pool(i)):\n",
    "            positive_group += [i]\n",
    "            human_left += len(i)\n",
    "    \n",
    "    #return positive_group #Test case 2\n",
    "    '''\n",
    "    Now I will start filtering out one person from each group\n",
    "    '''                                                                                                                                                                                                                                                                                                       \n",
    "    if positive_group == []: #When there is nobody left\n",
    "        return ([], test_counter)\n",
    "    \n",
    "    resort_group = []\n",
    "    for i in positive_group: #This is my list of lists of potentially infected people\n",
    "        temporary = i.copy()\n",
    "        individual = binary_search(temporary)\n",
    "        test_counter += binary_counter(temporary)\n",
    "        temporary.remove(individual) #I am removing the individual from the list of people requiring sampling\n",
    "        positive_individuals += [individual]\n",
    "        resort_group += temporary #This will give me a single list of potential targets again\n",
    "    \n",
    "    #return resort_group #Test case 3\n",
    "\n",
    "    '''\n",
    "    Now I need to recurse my list of potentially infected people based on the estimated percent that I have derived.\n",
    "    '''\n",
    "    nominator = denominator - len(resort_group)\n",
    "    next_group_size = (nominator//denominator)*len(resort_group) #I am using floor division to round down and ensure that I have no float.\n",
    "    \n",
    "    if next_group_size == 0:\n",
    "        next_group_size = 1 #This is to save my own ass\n",
    "    \n",
    "    #return positive_individuals, next_group_size\n",
    "    return combine(positive_individuals, test_counter, upgraded_sussy(resort_group, next_group_size))\n",
    "\n"
   ]
  },
  {
   "cell_type": "code",
   "execution_count": 723,
   "id": "d2e9d050",
   "metadata": {
    "scrolled": false
   },
   "outputs": [
    {
     "name": "stdout",
     "output_type": "stream",
     "text": [
      "[1, 7, 8, 27, 47, 57, 62, 63, 78, 104, 105, 109, 113, 125, 128, 141, 143, 148, 151, 165, 175, 176, 181, 199, 200, 206, 218, 221, 225, 232, 242, 255, 275, 276, 295, 331, 345, 352, 368, 370, 378, 379, 380, 388, 391, 398, 402, 404, 409, 413, 414, 430, 436, 448, 449, 454, 456, 463, 476, 491, 494, 496]\n"
     ]
    }
   ],
   "source": [
    "print(find_sick_people([i for i in range(500)], 500)[0])\n"
   ]
  },
  {
   "cell_type": "code",
   "execution_count": 744,
   "id": "b1efec89",
   "metadata": {},
   "outputs": [
    {
     "name": "stdout",
     "output_type": "stream",
     "text": [
      "([1, 7, 8, 27, 47, 57, 62, 63, 78, 104, 105, 109, 113, 125, 128, 141, 143, 148, 151, 165, 175, 176, 181, 199, 200, 206, 218, 221, 225, 232, 242, 255, 275, 276, 295, 331, 345, 352, 368, 370, 378, 379, 380, 388, 391, 398, 402, 404, 409, 413, 414, 430, 436, 448, 449, 454, 456, 463, 476, 491, 494, 496], 562)\n"
     ]
    }
   ],
   "source": [
    "standard = [i for i in range(500)]\n",
    "print(upgraded_sussy(standard, 500))"
   ]
  },
  {
   "cell_type": "code",
   "execution_count": 746,
   "id": "b63e8558",
   "metadata": {},
   "outputs": [],
   "source": [
    "def upgraded_sussy_random(lst, group_size):\n",
    "    '''\n",
    "    When I have one person in my list\n",
    "    '''\n",
    "    test_counter = 0\n",
    "    if len(lst) == 1 and type(lst[0]) == int: #I am just going to directly check because I do not have a lot of time to look into this\n",
    "        if test_kit.test(get_genome(lst[0])):\n",
    "            test_counter += 1\n",
    "            return (lst,test_counter)\n",
    "        else:\n",
    "            test_counter += 1\n",
    "            return ([], test_counter)\n",
    "        \n",
    "    '''\n",
    "    Base cases because I will be using recursion later\n",
    "    '''\n",
    "    \n",
    "    if len(lst) == 0:\n",
    "        return ([], test_counter)\n",
    "    \n",
    "    else:\n",
    "        group_ppl_list = grouper(lst, group_size)\n",
    "        denominator = len(lst)\n",
    "        \n",
    "    #return group_ppl_list #Test case 1\n",
    "    \n",
    "\n",
    "    '''\n",
    "    I will now get out my list of potentially positive people\n",
    "    '''\n",
    "    \n",
    "    positive_group = []\n",
    "    positive_individuals = [] #This is my final output.\n",
    "    \n",
    "    if len(group_ppl_list) == 1: #For any weird reason.\n",
    "        for i in group_ppl_list[0]:\n",
    "            test_counter += 1\n",
    "            if test_kit.test(get_genome(i)):\n",
    "                positive_individuals.append(i)\n",
    "        return (positive_individuals, test_counter)\n",
    "    \n",
    "    \n",
    "    human_left = 0 #This counts the number of humans that I should be testing\n",
    "    for i in group_ppl_list:\n",
    "        test_counter += 1\n",
    "        if test_kit.test(pool(i)):\n",
    "            positive_group += [i]\n",
    "            human_left += len(i)\n",
    "    \n",
    "    #return positive_group #Test case 2\n",
    "    '''\n",
    "    Now I will start filtering out one person from each group\n",
    "    '''                                                                                                                                                                                                                                                                                                       \n",
    "    if positive_group == []: #When there is nobody left\n",
    "        return ([], test_counter)\n",
    "    \n",
    "    resort_group = []\n",
    "    for i in positive_group: #This is my list of lists of potentially infected people\n",
    "        temporary = i.copy()\n",
    "        individual = binary_search(temporary)\n",
    "        test_counter += binary_counter(temporary)\n",
    "        temporary.remove(individual) #I am removing the individual from the list of people requiring sampling\n",
    "        positive_individuals += [individual]\n",
    "        resort_group += temporary #This will give me a single list of potential targets again\n",
    "    \n",
    "    #return resort_group #Test case 3\n",
    "\n",
    "    '''\n",
    "    Now I need to recurse my list of potentially infected people based on the estimated percent that I have derived.\n",
    "    '''\n",
    "    nominator = denominator - len(resort_group)\n",
    "    next_group_size = (nominator//denominator)*len(resort_group) #I am using floor division to round down and ensure that I have no float.\n",
    "    \n",
    "    if next_group_size == 0:\n",
    "        next_group_size = 1 #This is to save my own ass\n",
    "    \n",
    "    #return positive_individuals, next_group_size\n",
    "    return combine(positive_individuals, test_counter, upgraded_sussy(random.shuffle(resort_group), next_group_size))"
   ]
  },
  {
   "cell_type": "code",
   "execution_count": 752,
   "id": "64890faf",
   "metadata": {
    "scrolled": true
   },
   "outputs": [
    {
     "name": "stdout",
     "output_type": "stream",
     "text": [
      "([143, 414, 125, 175, 176, 200, 413, 391, 148, 62, 221, 47, 402, 104, 1, 345, 63, 27, 8, 388, 463, 109, 448, 181, 496, 398, 380, 165, 331, 379, 476, 370, 218, 113, 199, 295, 151, 225, 128, 242, 232, 491, 449, 255, 275, 78, 206, 378, 368, 352, 105, 454, 430, 456, 141, 409, 436, 494, 404, 7, 276, 57], 426)\n"
     ]
    }
   ],
   "source": [
    "randomized_list = random.sample(range(0, 500),500)\n",
    "print(upgraded_sussy(randomized_list, 100))"
   ]
  },
  {
   "cell_type": "code",
   "execution_count": 14,
   "id": "3c57112a",
   "metadata": {},
   "outputs": [
    {
     "data": {
      "text/plain": [
       "array([1.])"
      ]
     },
     "execution_count": 14,
     "metadata": {},
     "output_type": "execute_result"
    }
   ],
   "source": [
    "waawaa = np.array([])\n",
    "waawaa = np.append(waawaa, [1])\n",
    "waawaa"
   ]
  },
  {
   "cell_type": "code",
   "execution_count": 16,
   "id": "5a980c65",
   "metadata": {},
   "outputs": [],
   "source": [
    "import os"
   ]
  },
  {
   "cell_type": "code",
   "execution_count": 18,
   "id": "1c1612e6",
   "metadata": {},
   "outputs": [
    {
     "data": {
      "text/plain": [
       "'C:\\\\Users\\\\Chin Zhen Jie\\\\OneDrive\\\\Desktop\\\\SP2273\\\\GitGud\\\\learning-portfolio-ChinZJ\\\\Numero Uno'"
      ]
     },
     "execution_count": 18,
     "metadata": {},
     "output_type": "execute_result"
    }
   ],
   "source": [
    "os.getcwd()"
   ]
  },
  {
   "cell_type": "code",
   "execution_count": 33,
   "id": "b84c53c7",
   "metadata": {},
   "outputs": [
    {
     "data": {
      "text/plain": [
       "'person-files'"
      ]
     },
     "execution_count": 33,
     "metadata": {},
     "output_type": "execute_result"
    }
   ],
   "source": [
    "papi = os.path.join('person-files')\n",
    "papi"
   ]
  },
  {
   "cell_type": "code",
   "execution_count": 24,
   "id": "db7facc4",
   "metadata": {},
   "outputs": [
    {
     "data": {
      "text/plain": [
       "'C:\\\\Users\\\\Chin Zhen Jie\\\\OneDrive\\\\Desktop\\\\SP2273\\\\GitGud\\\\learning-portfolio-ChinZJ\\\\Numero Uno'"
      ]
     },
     "execution_count": 24,
     "metadata": {},
     "output_type": "execute_result"
    }
   ],
   "source": [
    "os.getcwd()"
   ]
  },
  {
   "cell_type": "code",
   "execution_count": 25,
   "id": "8dd0234a",
   "metadata": {},
   "outputs": [],
   "source": [
    "os.chdir(papi)"
   ]
  },
  {
   "cell_type": "code",
   "execution_count": 27,
   "id": "b62d1f30",
   "metadata": {},
   "outputs": [
    {
     "data": {
      "text/plain": [
       "'C:\\\\Users\\\\Chin Zhen Jie\\\\OneDrive\\\\Desktop\\\\SP2273\\\\GitGud\\\\learning-portfolio-ChinZJ\\\\Numero Uno\\\\person-files'"
      ]
     },
     "execution_count": 27,
     "metadata": {},
     "output_type": "execute_result"
    }
   ],
   "source": [
    "os.getcwd()"
   ]
  },
  {
   "cell_type": "code",
   "execution_count": 30,
   "id": "1ab5a607",
   "metadata": {},
   "outputs": [],
   "source": [
    "os.chdir('C:\\\\Users\\\\Chin Zhen Jie\\\\OneDrive\\\\Desktop\\\\SP2273\\\\GitGud')"
   ]
  },
  {
   "cell_type": "code",
   "execution_count": 31,
   "id": "67f7357a",
   "metadata": {},
   "outputs": [
    {
     "ename": "FileNotFoundError",
     "evalue": "[WinError 2] The system cannot find the file specified: '.\\\\person-files'",
     "output_type": "error",
     "traceback": [
      "\u001b[1;31m---------------------------------------------------------------------------\u001b[0m",
      "\u001b[1;31mFileNotFoundError\u001b[0m                         Traceback (most recent call last)",
      "\u001b[1;32m~\\AppData\\Local\\Temp\\ipykernel_11644\\1854455031.py\u001b[0m in \u001b[0;36m<module>\u001b[1;34m\u001b[0m\n\u001b[1;32m----> 1\u001b[1;33m \u001b[0mos\u001b[0m\u001b[1;33m.\u001b[0m\u001b[0mchdir\u001b[0m\u001b[1;33m(\u001b[0m\u001b[0mpapi\u001b[0m\u001b[1;33m)\u001b[0m\u001b[1;33m\u001b[0m\u001b[1;33m\u001b[0m\u001b[0m\n\u001b[0m",
      "\u001b[1;31mFileNotFoundError\u001b[0m: [WinError 2] The system cannot find the file specified: '.\\\\person-files'"
     ]
    }
   ],
   "source": [
    "os.chdir(papi)"
   ]
  },
  {
   "cell_type": "code",
   "execution_count": 35,
   "id": "bcfc447e",
   "metadata": {},
   "outputs": [
    {
     "data": {
      "text/plain": [
       "'C:\\\\Users\\\\Chin Zhen Jie\\\\OneDrive\\\\Desktop\\\\SP2273\\\\GitGud'"
      ]
     },
     "execution_count": 35,
     "metadata": {},
     "output_type": "execute_result"
    }
   ],
   "source": [
    "os.getcwd()\n"
   ]
  },
  {
   "cell_type": "code",
   "execution_count": 36,
   "id": "ea18c401",
   "metadata": {},
   "outputs": [
    {
     "ename": "FileNotFoundError",
     "evalue": "[WinError 2] The system cannot find the file specified: 'person-files'",
     "output_type": "error",
     "traceback": [
      "\u001b[1;31m---------------------------------------------------------------------------\u001b[0m",
      "\u001b[1;31mFileNotFoundError\u001b[0m                         Traceback (most recent call last)",
      "\u001b[1;32m~\\AppData\\Local\\Temp\\ipykernel_11644\\4031953825.py\u001b[0m in \u001b[0;36m<module>\u001b[1;34m\u001b[0m\n\u001b[1;32m----> 1\u001b[1;33m \u001b[0mos\u001b[0m\u001b[1;33m.\u001b[0m\u001b[0mchdir\u001b[0m\u001b[1;33m(\u001b[0m\u001b[1;34m'person-files'\u001b[0m\u001b[1;33m)\u001b[0m\u001b[1;33m\u001b[0m\u001b[1;33m\u001b[0m\u001b[0m\n\u001b[0m",
      "\u001b[1;31mFileNotFoundError\u001b[0m: [WinError 2] The system cannot find the file specified: 'person-files'"
     ]
    }
   ],
   "source": [
    "os.chdir('person-files')"
   ]
  },
  {
   "cell_type": "code",
   "execution_count": null,
   "id": "26ab1252",
   "metadata": {},
   "outputs": [],
   "source": []
  }
 ],
 "metadata": {
  "hide_input": false,
  "kernelspec": {
   "display_name": "Python 3 (ipykernel)",
   "language": "python",
   "name": "python3"
  },
  "language_info": {
   "codemirror_mode": {
    "name": "ipython",
    "version": 3
   },
   "file_extension": ".py",
   "mimetype": "text/x-python",
   "name": "python",
   "nbconvert_exporter": "python",
   "pygments_lexer": "ipython3",
   "version": "3.9.15"
  },
  "toc": {
   "base_numbering": 1,
   "nav_menu": {},
   "number_sections": true,
   "sideBar": true,
   "skip_h1_title": false,
   "title_cell": "Table of Contents",
   "title_sidebar": "Contents",
   "toc_cell": false,
   "toc_position": {},
   "toc_section_display": true,
   "toc_window_display": false
  },
  "varInspector": {
   "cols": {
    "lenName": 16,
    "lenType": 16,
    "lenVar": 40
   },
   "kernels_config": {
    "python": {
     "delete_cmd_postfix": "",
     "delete_cmd_prefix": "del ",
     "library": "var_list.py",
     "varRefreshCmd": "print(var_dic_list())"
    },
    "r": {
     "delete_cmd_postfix": ") ",
     "delete_cmd_prefix": "rm(",
     "library": "var_list.r",
     "varRefreshCmd": "cat(var_dic_list()) "
    }
   },
   "types_to_exclude": [
    "module",
    "function",
    "builtin_function_or_method",
    "instance",
    "_Feature"
   ],
   "window_display": false
  }
 },
 "nbformat": 4,
 "nbformat_minor": 5
}
