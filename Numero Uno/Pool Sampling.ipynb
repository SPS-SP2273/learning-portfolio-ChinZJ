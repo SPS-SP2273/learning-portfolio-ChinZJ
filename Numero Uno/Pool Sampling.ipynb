{
 "cells": [
  {
   "cell_type": "markdown",
   "id": "e09b0f00",
   "metadata": {},
   "source": [
    "# Taking a look at `test(genome)` \n",
    "```python\n",
    "def test(genome):\n",
    "    return genome.find(infection) != -1\n",
    "```\n",
    "What `.find()` does is that it takes in a variable `infection` and looks through `genome`.  \n",
    "It returns the first occurrence which `infection` occurs.  \n",
    "If `infection` cannot be found in `genome`, it returns the value -1.  \n",
    "This allows the code to return `True` if it exists and `False` elsewise.  "
   ]
  },
  {
   "cell_type": "code",
   "execution_count": 1,
   "id": "7e298532",
   "metadata": {},
   "outputs": [],
   "source": [
    "import os\n",
    "import glob\n",
    "import shutil\n",
    "import test_kit #This is for my test function\n",
    "import numpy as np\n",
    "import random"
   ]
  },
  {
   "cell_type": "code",
   "execution_count": 2,
   "id": "bf9a7837",
   "metadata": {},
   "outputs": [],
   "source": [
    "os.chdir('.\\person-files')"
   ]
  },
  {
   "cell_type": "markdown",
   "id": "5a35564f",
   "metadata": {},
   "source": [
    "Alternatively use \n",
    "```python\n",
    "my_path = os.path.join('.', 'person-files')\n",
    "os.chdir(my_path)\n",
    "```\n",
    "Alternatively,\n",
    "```python\n",
    "os.chdir('person-files)\n",
    "```"
   ]
  },
  {
   "cell_type": "code",
   "execution_count": 4,
   "id": "77978615",
   "metadata": {},
   "outputs": [
    {
     "data": {
      "text/plain": [
       "'C:\\\\Users\\\\Chin Zhen Jie\\\\OneDrive\\\\Desktop\\\\SP2273\\\\GitGud\\\\learning-portfolio-ChinZJ\\\\Numero Uno\\\\person-files'"
      ]
     },
     "execution_count": 4,
     "metadata": {},
     "output_type": "execute_result"
    }
   ],
   "source": [
    "os.getcwd() #To check that I am in the correct folder"
   ]
  },
  {
   "cell_type": "markdown",
   "id": "0063ba0b",
   "metadata": {},
   "source": [
    "The first half requires me to read patient 17, 27 and 37 and run their genome sequence through test.  \n",
    "I assume you would like it to be done through a manual method to show its efficiency."
   ]
  },
  {
   "cell_type": "code",
   "execution_count": 6,
   "id": "c255fbab",
   "metadata": {},
   "outputs": [
    {
     "data": {
      "text/plain": [
       "['person_00000.txt',\n",
       " 'person_00001.txt',\n",
       " 'person_00002.txt',\n",
       " 'person_00003.txt',\n",
       " 'person_00004.txt',\n",
       " 'person_00005.txt',\n",
       " 'person_00006.txt',\n",
       " 'person_00007.txt',\n",
       " 'person_00008.txt',\n",
       " 'person_00009.txt',\n",
       " 'person_00010.txt',\n",
       " 'person_00011.txt',\n",
       " 'person_00012.txt',\n",
       " 'person_00013.txt',\n",
       " 'person_00014.txt',\n",
       " 'person_00015.txt',\n",
       " 'person_00016.txt',\n",
       " 'person_00017.txt',\n",
       " 'person_00018.txt',\n",
       " 'person_00019.txt',\n",
       " 'person_00020.txt',\n",
       " 'person_00021.txt',\n",
       " 'person_00022.txt',\n",
       " 'person_00023.txt',\n",
       " 'person_00024.txt',\n",
       " 'person_00025.txt',\n",
       " 'person_00026.txt',\n",
       " 'person_00027.txt',\n",
       " 'person_00028.txt',\n",
       " 'person_00029.txt',\n",
       " 'person_00030.txt',\n",
       " 'person_00031.txt',\n",
       " 'person_00032.txt',\n",
       " 'person_00033.txt',\n",
       " 'person_00034.txt',\n",
       " 'person_00035.txt',\n",
       " 'person_00036.txt',\n",
       " 'person_00037.txt',\n",
       " 'person_00038.txt',\n",
       " 'person_00039.txt',\n",
       " 'person_00040.txt',\n",
       " 'person_00041.txt',\n",
       " 'person_00042.txt',\n",
       " 'person_00043.txt',\n",
       " 'person_00044.txt',\n",
       " 'person_00045.txt',\n",
       " 'person_00046.txt',\n",
       " 'person_00047.txt',\n",
       " 'person_00048.txt',\n",
       " 'person_00049.txt',\n",
       " 'person_00050.txt',\n",
       " 'person_00051.txt',\n",
       " 'person_00052.txt',\n",
       " 'person_00053.txt',\n",
       " 'person_00054.txt',\n",
       " 'person_00055.txt',\n",
       " 'person_00056.txt',\n",
       " 'person_00057.txt',\n",
       " 'person_00058.txt',\n",
       " 'person_00059.txt',\n",
       " 'person_00060.txt',\n",
       " 'person_00061.txt',\n",
       " 'person_00062.txt',\n",
       " 'person_00063.txt',\n",
       " 'person_00064.txt',\n",
       " 'person_00065.txt',\n",
       " 'person_00066.txt',\n",
       " 'person_00067.txt',\n",
       " 'person_00068.txt',\n",
       " 'person_00069.txt',\n",
       " 'person_00070.txt',\n",
       " 'person_00071.txt',\n",
       " 'person_00072.txt',\n",
       " 'person_00073.txt',\n",
       " 'person_00074.txt',\n",
       " 'person_00075.txt',\n",
       " 'person_00076.txt',\n",
       " 'person_00077.txt',\n",
       " 'person_00078.txt',\n",
       " 'person_00079.txt',\n",
       " 'person_00080.txt',\n",
       " 'person_00081.txt',\n",
       " 'person_00082.txt',\n",
       " 'person_00083.txt',\n",
       " 'person_00084.txt',\n",
       " 'person_00085.txt',\n",
       " 'person_00086.txt',\n",
       " 'person_00087.txt',\n",
       " 'person_00088.txt',\n",
       " 'person_00089.txt',\n",
       " 'person_00090.txt',\n",
       " 'person_00091.txt',\n",
       " 'person_00092.txt',\n",
       " 'person_00093.txt',\n",
       " 'person_00094.txt',\n",
       " 'person_00095.txt',\n",
       " 'person_00096.txt',\n",
       " 'person_00097.txt',\n",
       " 'person_00098.txt',\n",
       " 'person_00099.txt',\n",
       " 'person_00100.txt',\n",
       " 'person_00101.txt',\n",
       " 'person_00102.txt',\n",
       " 'person_00103.txt',\n",
       " 'person_00104.txt',\n",
       " 'person_00105.txt',\n",
       " 'person_00106.txt',\n",
       " 'person_00107.txt',\n",
       " 'person_00108.txt',\n",
       " 'person_00109.txt',\n",
       " 'person_00110.txt',\n",
       " 'person_00111.txt',\n",
       " 'person_00112.txt',\n",
       " 'person_00113.txt',\n",
       " 'person_00114.txt',\n",
       " 'person_00115.txt',\n",
       " 'person_00116.txt',\n",
       " 'person_00117.txt',\n",
       " 'person_00118.txt',\n",
       " 'person_00119.txt',\n",
       " 'person_00120.txt',\n",
       " 'person_00121.txt',\n",
       " 'person_00122.txt',\n",
       " 'person_00123.txt',\n",
       " 'person_00124.txt',\n",
       " 'person_00125.txt',\n",
       " 'person_00126.txt',\n",
       " 'person_00127.txt',\n",
       " 'person_00128.txt',\n",
       " 'person_00129.txt',\n",
       " 'person_00130.txt',\n",
       " 'person_00131.txt',\n",
       " 'person_00132.txt',\n",
       " 'person_00133.txt',\n",
       " 'person_00134.txt',\n",
       " 'person_00135.txt',\n",
       " 'person_00136.txt',\n",
       " 'person_00137.txt',\n",
       " 'person_00138.txt',\n",
       " 'person_00139.txt',\n",
       " 'person_00140.txt',\n",
       " 'person_00141.txt',\n",
       " 'person_00142.txt',\n",
       " 'person_00143.txt',\n",
       " 'person_00144.txt',\n",
       " 'person_00145.txt',\n",
       " 'person_00146.txt',\n",
       " 'person_00147.txt',\n",
       " 'person_00148.txt',\n",
       " 'person_00149.txt',\n",
       " 'person_00150.txt',\n",
       " 'person_00151.txt',\n",
       " 'person_00152.txt',\n",
       " 'person_00153.txt',\n",
       " 'person_00154.txt',\n",
       " 'person_00155.txt',\n",
       " 'person_00156.txt',\n",
       " 'person_00157.txt',\n",
       " 'person_00158.txt',\n",
       " 'person_00159.txt',\n",
       " 'person_00160.txt',\n",
       " 'person_00161.txt',\n",
       " 'person_00162.txt',\n",
       " 'person_00163.txt',\n",
       " 'person_00164.txt',\n",
       " 'person_00165.txt',\n",
       " 'person_00166.txt',\n",
       " 'person_00167.txt',\n",
       " 'person_00168.txt',\n",
       " 'person_00169.txt',\n",
       " 'person_00170.txt',\n",
       " 'person_00171.txt',\n",
       " 'person_00172.txt',\n",
       " 'person_00173.txt',\n",
       " 'person_00174.txt',\n",
       " 'person_00175.txt',\n",
       " 'person_00176.txt',\n",
       " 'person_00177.txt',\n",
       " 'person_00178.txt',\n",
       " 'person_00179.txt',\n",
       " 'person_00180.txt',\n",
       " 'person_00181.txt',\n",
       " 'person_00182.txt',\n",
       " 'person_00183.txt',\n",
       " 'person_00184.txt',\n",
       " 'person_00185.txt',\n",
       " 'person_00186.txt',\n",
       " 'person_00187.txt',\n",
       " 'person_00188.txt',\n",
       " 'person_00189.txt',\n",
       " 'person_00190.txt',\n",
       " 'person_00191.txt',\n",
       " 'person_00192.txt',\n",
       " 'person_00193.txt',\n",
       " 'person_00194.txt',\n",
       " 'person_00195.txt',\n",
       " 'person_00196.txt',\n",
       " 'person_00197.txt',\n",
       " 'person_00198.txt',\n",
       " 'person_00199.txt',\n",
       " 'person_00200.txt',\n",
       " 'person_00201.txt',\n",
       " 'person_00202.txt',\n",
       " 'person_00203.txt',\n",
       " 'person_00204.txt',\n",
       " 'person_00205.txt',\n",
       " 'person_00206.txt',\n",
       " 'person_00207.txt',\n",
       " 'person_00208.txt',\n",
       " 'person_00209.txt',\n",
       " 'person_00210.txt',\n",
       " 'person_00211.txt',\n",
       " 'person_00212.txt',\n",
       " 'person_00213.txt',\n",
       " 'person_00214.txt',\n",
       " 'person_00215.txt',\n",
       " 'person_00216.txt',\n",
       " 'person_00217.txt',\n",
       " 'person_00218.txt',\n",
       " 'person_00219.txt',\n",
       " 'person_00220.txt',\n",
       " 'person_00221.txt',\n",
       " 'person_00222.txt',\n",
       " 'person_00223.txt',\n",
       " 'person_00224.txt',\n",
       " 'person_00225.txt',\n",
       " 'person_00226.txt',\n",
       " 'person_00227.txt',\n",
       " 'person_00228.txt',\n",
       " 'person_00229.txt',\n",
       " 'person_00230.txt',\n",
       " 'person_00231.txt',\n",
       " 'person_00232.txt',\n",
       " 'person_00233.txt',\n",
       " 'person_00234.txt',\n",
       " 'person_00235.txt',\n",
       " 'person_00236.txt',\n",
       " 'person_00237.txt',\n",
       " 'person_00238.txt',\n",
       " 'person_00239.txt',\n",
       " 'person_00240.txt',\n",
       " 'person_00241.txt',\n",
       " 'person_00242.txt',\n",
       " 'person_00243.txt',\n",
       " 'person_00244.txt',\n",
       " 'person_00245.txt',\n",
       " 'person_00246.txt',\n",
       " 'person_00247.txt',\n",
       " 'person_00248.txt',\n",
       " 'person_00249.txt',\n",
       " 'person_00250.txt',\n",
       " 'person_00251.txt',\n",
       " 'person_00252.txt',\n",
       " 'person_00253.txt',\n",
       " 'person_00254.txt',\n",
       " 'person_00255.txt',\n",
       " 'person_00256.txt',\n",
       " 'person_00257.txt',\n",
       " 'person_00258.txt',\n",
       " 'person_00259.txt',\n",
       " 'person_00260.txt',\n",
       " 'person_00261.txt',\n",
       " 'person_00262.txt',\n",
       " 'person_00263.txt',\n",
       " 'person_00264.txt',\n",
       " 'person_00265.txt',\n",
       " 'person_00266.txt',\n",
       " 'person_00267.txt',\n",
       " 'person_00268.txt',\n",
       " 'person_00269.txt',\n",
       " 'person_00270.txt',\n",
       " 'person_00271.txt',\n",
       " 'person_00272.txt',\n",
       " 'person_00273.txt',\n",
       " 'person_00274.txt',\n",
       " 'person_00275.txt',\n",
       " 'person_00276.txt',\n",
       " 'person_00277.txt',\n",
       " 'person_00278.txt',\n",
       " 'person_00279.txt',\n",
       " 'person_00280.txt',\n",
       " 'person_00281.txt',\n",
       " 'person_00282.txt',\n",
       " 'person_00283.txt',\n",
       " 'person_00284.txt',\n",
       " 'person_00285.txt',\n",
       " 'person_00286.txt',\n",
       " 'person_00287.txt',\n",
       " 'person_00288.txt',\n",
       " 'person_00289.txt',\n",
       " 'person_00290.txt',\n",
       " 'person_00291.txt',\n",
       " 'person_00292.txt',\n",
       " 'person_00293.txt',\n",
       " 'person_00294.txt',\n",
       " 'person_00295.txt',\n",
       " 'person_00296.txt',\n",
       " 'person_00297.txt',\n",
       " 'person_00298.txt',\n",
       " 'person_00299.txt',\n",
       " 'person_00300.txt',\n",
       " 'person_00301.txt',\n",
       " 'person_00302.txt',\n",
       " 'person_00303.txt',\n",
       " 'person_00304.txt',\n",
       " 'person_00305.txt',\n",
       " 'person_00306.txt',\n",
       " 'person_00307.txt',\n",
       " 'person_00308.txt',\n",
       " 'person_00309.txt',\n",
       " 'person_00310.txt',\n",
       " 'person_00311.txt',\n",
       " 'person_00312.txt',\n",
       " 'person_00313.txt',\n",
       " 'person_00314.txt',\n",
       " 'person_00315.txt',\n",
       " 'person_00316.txt',\n",
       " 'person_00317.txt',\n",
       " 'person_00318.txt',\n",
       " 'person_00319.txt',\n",
       " 'person_00320.txt',\n",
       " 'person_00321.txt',\n",
       " 'person_00322.txt',\n",
       " 'person_00323.txt',\n",
       " 'person_00324.txt',\n",
       " 'person_00325.txt',\n",
       " 'person_00326.txt',\n",
       " 'person_00327.txt',\n",
       " 'person_00328.txt',\n",
       " 'person_00329.txt',\n",
       " 'person_00330.txt',\n",
       " 'person_00331.txt',\n",
       " 'person_00332.txt',\n",
       " 'person_00333.txt',\n",
       " 'person_00334.txt',\n",
       " 'person_00335.txt',\n",
       " 'person_00336.txt',\n",
       " 'person_00337.txt',\n",
       " 'person_00338.txt',\n",
       " 'person_00339.txt',\n",
       " 'person_00340.txt',\n",
       " 'person_00341.txt',\n",
       " 'person_00342.txt',\n",
       " 'person_00343.txt',\n",
       " 'person_00344.txt',\n",
       " 'person_00345.txt',\n",
       " 'person_00346.txt',\n",
       " 'person_00347.txt',\n",
       " 'person_00348.txt',\n",
       " 'person_00349.txt',\n",
       " 'person_00350.txt',\n",
       " 'person_00351.txt',\n",
       " 'person_00352.txt',\n",
       " 'person_00353.txt',\n",
       " 'person_00354.txt',\n",
       " 'person_00355.txt',\n",
       " 'person_00356.txt',\n",
       " 'person_00357.txt',\n",
       " 'person_00358.txt',\n",
       " 'person_00359.txt',\n",
       " 'person_00360.txt',\n",
       " 'person_00361.txt',\n",
       " 'person_00362.txt',\n",
       " 'person_00363.txt',\n",
       " 'person_00364.txt',\n",
       " 'person_00365.txt',\n",
       " 'person_00366.txt',\n",
       " 'person_00367.txt',\n",
       " 'person_00368.txt',\n",
       " 'person_00369.txt',\n",
       " 'person_00370.txt',\n",
       " 'person_00371.txt',\n",
       " 'person_00372.txt',\n",
       " 'person_00373.txt',\n",
       " 'person_00374.txt',\n",
       " 'person_00375.txt',\n",
       " 'person_00376.txt',\n",
       " 'person_00377.txt',\n",
       " 'person_00378.txt',\n",
       " 'person_00379.txt',\n",
       " 'person_00380.txt',\n",
       " 'person_00381.txt',\n",
       " 'person_00382.txt',\n",
       " 'person_00383.txt',\n",
       " 'person_00384.txt',\n",
       " 'person_00385.txt',\n",
       " 'person_00386.txt',\n",
       " 'person_00387.txt',\n",
       " 'person_00388.txt',\n",
       " 'person_00389.txt',\n",
       " 'person_00390.txt',\n",
       " 'person_00391.txt',\n",
       " 'person_00392.txt',\n",
       " 'person_00393.txt',\n",
       " 'person_00394.txt',\n",
       " 'person_00395.txt',\n",
       " 'person_00396.txt',\n",
       " 'person_00397.txt',\n",
       " 'person_00398.txt',\n",
       " 'person_00399.txt',\n",
       " 'person_00400.txt',\n",
       " 'person_00401.txt',\n",
       " 'person_00402.txt',\n",
       " 'person_00403.txt',\n",
       " 'person_00404.txt',\n",
       " 'person_00405.txt',\n",
       " 'person_00406.txt',\n",
       " 'person_00407.txt',\n",
       " 'person_00408.txt',\n",
       " 'person_00409.txt',\n",
       " 'person_00410.txt',\n",
       " 'person_00411.txt',\n",
       " 'person_00412.txt',\n",
       " 'person_00413.txt',\n",
       " 'person_00414.txt',\n",
       " 'person_00415.txt',\n",
       " 'person_00416.txt',\n",
       " 'person_00417.txt',\n",
       " 'person_00418.txt',\n",
       " 'person_00419.txt',\n",
       " 'person_00420.txt',\n",
       " 'person_00421.txt',\n",
       " 'person_00422.txt',\n",
       " 'person_00423.txt',\n",
       " 'person_00424.txt',\n",
       " 'person_00425.txt',\n",
       " 'person_00426.txt',\n",
       " 'person_00427.txt',\n",
       " 'person_00428.txt',\n",
       " 'person_00429.txt',\n",
       " 'person_00430.txt',\n",
       " 'person_00431.txt',\n",
       " 'person_00432.txt',\n",
       " 'person_00433.txt',\n",
       " 'person_00434.txt',\n",
       " 'person_00435.txt',\n",
       " 'person_00436.txt',\n",
       " 'person_00437.txt',\n",
       " 'person_00438.txt',\n",
       " 'person_00439.txt',\n",
       " 'person_00440.txt',\n",
       " 'person_00441.txt',\n",
       " 'person_00442.txt',\n",
       " 'person_00443.txt',\n",
       " 'person_00444.txt',\n",
       " 'person_00445.txt',\n",
       " 'person_00446.txt',\n",
       " 'person_00447.txt',\n",
       " 'person_00448.txt',\n",
       " 'person_00449.txt',\n",
       " 'person_00450.txt',\n",
       " 'person_00451.txt',\n",
       " 'person_00452.txt',\n",
       " 'person_00453.txt',\n",
       " 'person_00454.txt',\n",
       " 'person_00455.txt',\n",
       " 'person_00456.txt',\n",
       " 'person_00457.txt',\n",
       " 'person_00458.txt',\n",
       " 'person_00459.txt',\n",
       " 'person_00460.txt',\n",
       " 'person_00461.txt',\n",
       " 'person_00462.txt',\n",
       " 'person_00463.txt',\n",
       " 'person_00464.txt',\n",
       " 'person_00465.txt',\n",
       " 'person_00466.txt',\n",
       " 'person_00467.txt',\n",
       " 'person_00468.txt',\n",
       " 'person_00469.txt',\n",
       " 'person_00470.txt',\n",
       " 'person_00471.txt',\n",
       " 'person_00472.txt',\n",
       " 'person_00473.txt',\n",
       " 'person_00474.txt',\n",
       " 'person_00475.txt',\n",
       " 'person_00476.txt',\n",
       " 'person_00477.txt',\n",
       " 'person_00478.txt',\n",
       " 'person_00479.txt',\n",
       " 'person_00480.txt',\n",
       " 'person_00481.txt',\n",
       " 'person_00482.txt',\n",
       " 'person_00483.txt',\n",
       " 'person_00484.txt',\n",
       " 'person_00485.txt',\n",
       " 'person_00486.txt',\n",
       " 'person_00487.txt',\n",
       " 'person_00488.txt',\n",
       " 'person_00489.txt',\n",
       " 'person_00490.txt',\n",
       " 'person_00491.txt',\n",
       " 'person_00492.txt',\n",
       " 'person_00493.txt',\n",
       " 'person_00494.txt',\n",
       " 'person_00495.txt',\n",
       " 'person_00496.txt',\n",
       " 'person_00497.txt',\n",
       " 'person_00498.txt',\n",
       " 'person_00499.txt']"
      ]
     },
     "execution_count": 6,
     "metadata": {},
     "output_type": "execute_result"
    }
   ],
   "source": [
    "glob.glob('*') #Taking a look at the files that I have"
   ]
  },
  {
   "cell_type": "code",
   "execution_count": 52,
   "id": "c36ffa7f",
   "metadata": {},
   "outputs": [
    {
     "name": "stdout",
     "output_type": "stream",
     "text": [
      "False\n",
      "True\n",
      "False\n"
     ]
    }
   ],
   "source": [
    "with open('person_00017.txt', 'r') as file:\n",
    "    person_17_genome = file.read()\n",
    "with open('person_00027.txt', 'r') as file:\n",
    "    person_27_genome = file.read()\n",
    "with open('person_00037.txt', 'r') as file:\n",
    "    person_37_genome = file.read()\n",
    "print(test_kit.test(person_17_genome))\n",
    "print(test_kit.test(person_27_genome))\n",
    "print(test_kit.test(person_37_genome))"
   ]
  },
  {
   "cell_type": "code",
   "execution_count": 80,
   "id": "e268ddf2",
   "metadata": {},
   "outputs": [],
   "source": [
    "def get_genome(person_id):\n",
    "    '''\n",
    "    This takes in an integer (person_id), converts it to a 5 digit number that suits the .txt file before returning the entire\n",
    "    sequence by reading the file\n",
    "    '''\n",
    "    file_name = f'person_{person_id:05}.txt' #:05 gives me a 5 digit number\n",
    "    with open(file_name, 'r') as file: #r here refers to read\n",
    "        genome_sequence = file.read() #this reads the file for me\n",
    "    return genome_sequence "
   ]
  },
  {
   "cell_type": "markdown",
   "id": "60b306d6",
   "metadata": {},
   "source": [
    "Default string concatenation.\n",
    "```python\n",
    "def wahoo(person_id): #This takes in an integer\n",
    "    if len(str(person_id)) == 1:\n",
    "        file_name = 'person_0000' + str(person_id) + '.txt'\n",
    "    elif len(str(person_id)) == 2:\n",
    "        file_name = 'person_000' + str(person_id) + '.txt'\n",
    "    elif len(str(person_id)) == 3:\n",
    "        file_name = 'person_00' + str(person_id) + '.txt'\n",
    "    else:\n",
    "        file_name = 'person_0' + str(person_id) + '.txt'\n",
    "    with open(file_name, 'r') as file: #r here refers to read\n",
    "        genome_sequence = file.read() #this reads the file for me\n",
    "    return genome_sequence #I use return instead of print within a function\n",
    "```"
   ]
  },
  {
   "cell_type": "code",
   "execution_count": 81,
   "id": "8a3ce301",
   "metadata": {},
   "outputs": [
    {
     "name": "stdout",
     "output_type": "stream",
     "text": [
      "1\n",
      "7\n",
      "8\n",
      "27\n",
      "47\n",
      "57\n",
      "62\n",
      "63\n",
      "78\n"
     ]
    }
   ],
   "source": [
    "for i in range(100): #This starts from 0 and ends at 99. Note that the first .txt file is 00000\n",
    "    patient_sequence = get_genome(i)\n",
    "    result = test_kit.test(patient_sequence)\n",
    "    if result: #This is already a boolean so I can do thangs like this.\n",
    "        print(i)"
   ]
  },
  {
   "cell_type": "markdown",
   "id": "73dceccb",
   "metadata": {},
   "source": [
    "I now need to randomly sample 100 people.  \n",
    "For this I need to find the range of values that my random number can take.  \n",
    "As you can see from above, glob.glob actually gives me a list. I will use that to my advantage"
   ]
  },
  {
   "cell_type": "code",
   "execution_count": 11,
   "id": "0953621e",
   "metadata": {
    "scrolled": true
   },
   "outputs": [
    {
     "name": "stdout",
     "output_type": "stream",
     "text": [
      "person_00000.txt\n",
      "person_00499.txt\n"
     ]
    }
   ],
   "source": [
    "people_list = glob.glob('*')\n",
    "first_person = people_list[0]\n",
    "last_person = people_list[-1] #-1 Refers to the first person from the back\n",
    "print(first_person)\n",
    "print(last_person)"
   ]
  },
  {
   "cell_type": "markdown",
   "id": "76810fe6",
   "metadata": {},
   "source": [
    "If I want to extract only the digits and use them later on, I can perform string slicing.  \n",
    "However, because my function `get_genome` takes in an integer, I will be convering these from string to integers by using `int()`.  \n",
    "I can now use `min_num` and `max_num` for future purposes."
   ]
  },
  {
   "cell_type": "code",
   "execution_count": 14,
   "id": "bab04636",
   "metadata": {},
   "outputs": [
    {
     "name": "stdout",
     "output_type": "stream",
     "text": [
      "0\n",
      "499\n"
     ]
    }
   ],
   "source": [
    "#If I want to extract only the digits\n",
    "min_num = int(people_list[0][7:12])\n",
    "max_num = int(people_list[-1][7:12]) #Slicing of the 5 digits of the .txt file\n",
    "print(min_num)\n",
    "print(max_num)"
   ]
  },
  {
   "cell_type": "markdown",
   "id": "1c6f2228",
   "metadata": {},
   "source": [
    "Random sampling in this context requires me to take unique integers.  \n",
    "I will be using `random.sample` for this.  \n",
    "Below is an example of how it works.\n",
    "`random.sample(range(min,max+1), number of points)`  \n",
    "Note that the `stop` of range excludes that point, thats why I +1."
   ]
  },
  {
   "cell_type": "code",
   "execution_count": 25,
   "id": "3fdae508",
   "metadata": {},
   "outputs": [
    {
     "name": "stdout",
     "output_type": "stream",
     "text": [
      "[309, 116, 482, 419, 212, 450, 60, 80, 257, 88, 196, 403, 402, 64, 136, 480, 337, 481, 38, 303, 101, 243, 53, 453, 30, 372, 61, 235, 290, 230, 469, 15, 371, 400, 421, 386, 73, 313, 193, 46, 211, 143, 441, 427, 251, 406, 184, 426, 244, 84, 413, 484, 311, 466, 275, 148, 130, 228, 66, 37, 35, 342, 389, 68, 223, 461, 381, 496, 27, 249, 411, 17, 349, 388, 475, 114, 395, 164, 485, 3, 199, 390, 245, 16, 422, 179, 202, 310, 232, 62, 207, 169, 394, 6, 412, 316, 476, 18, 112, 182]\n"
     ]
    }
   ],
   "source": [
    "print(random.sample(range(0, 500),100))"
   ]
  },
  {
   "cell_type": "markdown",
   "id": "f1736dac",
   "metadata": {},
   "source": [
    "For calculating percentage, I can create a function in the event that I want to vary my sample sizes."
   ]
  },
  {
   "cell_type": "code",
   "execution_count": 28,
   "id": "d147d7b7",
   "metadata": {},
   "outputs": [],
   "source": [
    "def percentage(minimum, maximum, size):\n",
    "    random_list = random.sample(range(minimum, maximum+1), size) #Refer above for why I +1 to my maximum here.\n",
    "    my_sum = 0\n",
    "    for i in random_list: #Iterates the list.\n",
    "        genome_sequence = get_genome(i)\n",
    "        if test_kit.test(genome_sequence): #if block runs when test returns true.\n",
    "            my_sum += 1 #This gives me my count of infected people\n",
    "    percent_infected = my_sum / size * 100 \n",
    "    return percent_infected"
   ]
  },
  {
   "cell_type": "code",
   "execution_count": 32,
   "id": "6500e365",
   "metadata": {},
   "outputs": [
    {
     "name": "stdout",
     "output_type": "stream",
     "text": [
      "0\n",
      "499\n"
     ]
    },
    {
     "data": {
      "text/plain": [
       "22.0"
      ]
     },
     "execution_count": 32,
     "metadata": {},
     "output_type": "execute_result"
    }
   ],
   "source": [
    "print(min_num)\n",
    "print(max_num)\n",
    "percentage(min_num, max_num, 100) #Using the global variables obtained above"
   ]
  },
  {
   "cell_type": "code",
   "execution_count": 33,
   "id": "0d16bb16",
   "metadata": {},
   "outputs": [],
   "source": [
    "def pool(list_of_id): #This takes in a list of integers\n",
    "    compile_genome_id = ''\n",
    "    for i in list_of_id:\n",
    "        compile_genome_id += get_genome(i)\n",
    "    return compile_genome_id #This returns me a string"
   ]
  },
  {
   "cell_type": "code",
   "execution_count": 34,
   "id": "c5860663",
   "metadata": {},
   "outputs": [
    {
     "name": "stdout",
     "output_type": "stream",
     "text": [
      "False\n",
      "False\n",
      "False\n",
      "False\n",
      "False\n"
     ]
    }
   ],
   "source": [
    "mixed_sample_1 = pool([20,21])\n",
    "mixed_sample_2 = pool([21,22])\n",
    "print(test_kit.test(get_genome(20))) #Tells me that person 20 is healthy\n",
    "print(test_kit.test(get_genome(21))) #Tells me that person 21 is healthy\n",
    "print(test_kit.test(get_genome(22))) #Tells me that person 22 is healthy\n",
    "print(test_kit.test(mixed_sample_1)) #Tells me facts since 20 and 21 are healthy\n",
    "print(test_kit.test(mixed_sample_2)) #Tells me facts since 21 and 22 are healthy"
   ]
  },
  {
   "cell_type": "markdown",
   "id": "4cb6751a",
   "metadata": {},
   "source": [
    "Since individuals 20-22 are healthy (`test` returns `False`), I expect my `mixed_sample`s to be `False` as well.  \n",
    "This is seen in the above."
   ]
  },
  {
   "cell_type": "markdown",
   "id": "67c3489a",
   "metadata": {},
   "source": [
    "In this study, I have a total of 500 people.  \n",
    "In the event of an even group, things will be simple. I just need to split them evenly.  \n",
    "However, what happens if I want to split it by an uneven number of groups, eg. 3?  \n",
    "For that, here is the process of what is happening below using the example of 3 groups:    \n",
    "Firstly, I will check the remainder if I were to have 3 groups. This will be 2.  \n",
    "Then, I will give the first 2 groups 1 each.  \n",
    "My end result will be `[['Person 0-166'], ['Person 167-333']. [Person 334-499']]`.  \n",
    "The execution for this will be as follows:  \n",
    "I will first form a list that requires the addition of 1 more individual.  \n",
    "Then I will append to that list the remaining groups."
   ]
  },
  {
   "cell_type": "code",
   "execution_count": 40,
   "id": "9ffaaf03",
   "metadata": {},
   "outputs": [],
   "source": [
    "def grouper(lst, people_per_group):\n",
    "    '''\n",
    "    This function takes in two parameters: a list as well as an integer x, which is the number of individuals in a group.\n",
    "    Based on the group size, I will return a list of x lists.\n",
    "\n",
    "    The first segment will be an error case, when I have people_per_group less than 1. \n",
    "    This will mean that I have 0 people in each group.\n",
    "    '''\n",
    "    if people_per_group < 1:\n",
    "        return \"Error, can't form 0 groups!\"\n",
    "    \n",
    "    n = len(lst)\n",
    "    group_number = n // people_per_group   \n",
    "    \n",
    "    extras = n%group_number #0 if even, extras, if uneven split.\n",
    "    group_ppl_list = [lst[i:i+people_per_group+1] for i in range(0, (people_per_group+1)*extras,people_per_group+1)] #+1 groups\n",
    "    group_ppl_list += [lst[i:i+people_per_group] for i in range(((people_per_group+1)*extras),n,people_per_group)]\n",
    "    #group_ppl_list.append([lst[i:i+people_per_group] for i in range(((people_per_group+1)*extras),n,people_per_group)])\n",
    "    return group_ppl_list"
   ]
  },
  {
   "cell_type": "code",
   "execution_count": 37,
   "id": "b2d39cda",
   "metadata": {},
   "outputs": [
    {
     "data": {
      "text/plain": [
       "166"
      ]
     },
     "execution_count": 37,
     "metadata": {},
     "output_type": "execute_result"
    }
   ],
   "source": [
    "500//166 #3\n",
    "500%166 #2\n",
    "int((500-2)/3)"
   ]
  },
  {
   "cell_type": "markdown",
   "id": "34570127",
   "metadata": {},
   "source": [
    "How to read the list comprehension above:  \n",
    "```python\n",
    "for i in range(0, (per_group+1)*extras, per_group+1):  \n",
    "    group_ppl_list += lst[i:i+per_group+1]  \n",
    "for i in range((per_group+1)*extras, int(len(lst)), per_group):  \n",
    "    group_ppl_list += lst[i:i+per_group]\n",
    "```\n",
    "Note that I can use `group_ppl_list.append(lst)` as well. For example:\n",
    "```python\n",
    "group_ppl_list = []\n",
    "group_ppl_list.apppend([1,2,3])\n",
    "group_ppl_list\n",
    "```\n",
    "`Output will be [[1,2,3]]`\n"
   ]
  },
  {
   "cell_type": "markdown",
   "id": "fa8922da",
   "metadata": {},
   "source": [
    "Below are examples of how this code works."
   ]
  },
  {
   "cell_type": "code",
   "execution_count": 38,
   "id": "f6265b04",
   "metadata": {},
   "outputs": [
    {
     "name": "stdout",
     "output_type": "stream",
     "text": [
      "[0, 1, 2, 3, 4, 5, 6, 7, 8, 9]\n",
      "[0 1 2 3 4 5 6 7 8 9]\n"
     ]
    }
   ],
   "source": [
    "print(list(range(10)))\n",
    "print(np.arange(10))"
   ]
  },
  {
   "cell_type": "code",
   "execution_count": 39,
   "id": "f903edf4",
   "metadata": {
    "scrolled": true
   },
   "outputs": [
    {
     "name": "stdout",
     "output_type": "stream",
     "text": [
      "[[0, 1, 2, 3, 4, 5, 6, 7, 8, 9, 10, 11, 12, 13, 14, 15, 16, 17, 18, 19, 20, 21, 22, 23, 24, 25, 26, 27, 28, 29, 30, 31, 32, 33, 34, 35, 36, 37, 38, 39, 40, 41, 42, 43, 44, 45, 46, 47, 48, 49, 50, 51, 52, 53, 54, 55, 56, 57, 58, 59, 60, 61, 62, 63, 64, 65, 66, 67, 68, 69, 70, 71, 72, 73, 74, 75, 76, 77, 78, 79, 80, 81, 82, 83, 84, 85, 86, 87, 88, 89, 90, 91, 92, 93, 94, 95, 96, 97, 98, 99, 100, 101, 102, 103, 104, 105, 106, 107, 108, 109, 110, 111, 112, 113, 114, 115, 116, 117, 118, 119, 120, 121, 122, 123, 124, 125, 126, 127, 128, 129, 130, 131, 132, 133, 134, 135, 136, 137, 138, 139, 140, 141, 142, 143, 144, 145, 146, 147, 148, 149, 150, 151, 152, 153, 154, 155, 156, 157, 158, 159, 160, 161, 162, 163, 164, 165, 166], [167, 168, 169, 170, 171, 172, 173, 174, 175, 176, 177, 178, 179, 180, 181, 182, 183, 184, 185, 186, 187, 188, 189, 190, 191, 192, 193, 194, 195, 196, 197, 198, 199, 200, 201, 202, 203, 204, 205, 206, 207, 208, 209, 210, 211, 212, 213, 214, 215, 216, 217, 218, 219, 220, 221, 222, 223, 224, 225, 226, 227, 228, 229, 230, 231, 232, 233, 234, 235, 236, 237, 238, 239, 240, 241, 242, 243, 244, 245, 246, 247, 248, 249, 250, 251, 252, 253, 254, 255, 256, 257, 258, 259, 260, 261, 262, 263, 264, 265, 266, 267, 268, 269, 270, 271, 272, 273, 274, 275, 276, 277, 278, 279, 280, 281, 282, 283, 284, 285, 286, 287, 288, 289, 290, 291, 292, 293, 294, 295, 296, 297, 298, 299, 300, 301, 302, 303, 304, 305, 306, 307, 308, 309, 310, 311, 312, 313, 314, 315, 316, 317, 318, 319, 320, 321, 322, 323, 324, 325, 326, 327, 328, 329, 330, 331, 332, 333], [334, 335, 336, 337, 338, 339, 340, 341, 342, 343, 344, 345, 346, 347, 348, 349, 350, 351, 352, 353, 354, 355, 356, 357, 358, 359, 360, 361, 362, 363, 364, 365, 366, 367, 368, 369, 370, 371, 372, 373, 374, 375, 376, 377, 378, 379, 380, 381, 382, 383, 384, 385, 386, 387, 388, 389, 390, 391, 392, 393, 394, 395, 396, 397, 398, 399, 400, 401, 402, 403, 404, 405, 406, 407, 408, 409, 410, 411, 412, 413, 414, 415, 416, 417, 418, 419, 420, 421, 422, 423, 424, 425, 426, 427, 428, 429, 430, 431, 432, 433, 434, 435, 436, 437, 438, 439, 440, 441, 442, 443, 444, 445, 446, 447, 448, 449, 450, 451, 452, 453, 454, 455, 456, 457, 458, 459, 460, 461, 462, 463, 464, 465, 466, 467, 468, 469, 470, 471, 472, 473, 474, 475, 476, 477, 478, 479, 480, 481, 482, 483, 484, 485, 486, 487, 488, 489, 490, 491, 492, 493, 494, 495, 496, 497, 498, 499]]\n"
     ]
    }
   ],
   "source": [
    "print(grouper([i for i in range(500)], 166)) #Based on the explanation above, we know the code runs fine."
   ]
  },
  {
   "cell_type": "code",
   "execution_count": 3,
   "id": "0cc1a315",
   "metadata": {
    "scrolled": true
   },
   "outputs": [
    {
     "name": "stdout",
     "output_type": "stream",
     "text": [
      "[[0, 1, 2, 3, 4, 5, 6, 7, 8, 9, 10, 11, 12, 13, 14, 15, 16, 17, 18, 19, 20, 21, 22, 23, 24], [25, 26, 27, 28, 29, 30, 31, 32, 33, 34, 35, 36, 37, 38, 39, 40, 41, 42, 43, 44, 45, 46, 47, 48, 49]]\n"
     ]
    }
   ],
   "source": [
    " print(grouper([i for i in range(50)], 25))"
   ]
  },
  {
   "cell_type": "code",
   "execution_count": 12,
   "id": "1aca1d0a",
   "metadata": {},
   "outputs": [
    {
     "name": "stdout",
     "output_type": "stream",
     "text": [
      "[[0, 1, 2, 3, 4, 5, 6, 7, 8, 9, 10, 11, 12, 13, 14, 15, 16, 17, 18, 19, 20, 21, 22, 23, 24, 25, 26, 27, 28, 29, 30, 31, 32, 33, 34, 35, 36, 37, 38, 39, 40, 41, 42, 43, 44, 45, 46, 47, 48, 49]]\n"
     ]
    }
   ],
   "source": [
    " print(grouper([i for i in range(50)], 50))"
   ]
  },
  {
   "cell_type": "code",
   "execution_count": 5,
   "id": "3c70a3d0",
   "metadata": {
    "scrolled": true
   },
   "outputs": [
    {
     "name": "stdout",
     "output_type": "stream",
     "text": [
      "Error, can't form 0 groups!\n"
     ]
    }
   ],
   "source": [
    " print(grouper([i for i in range(50)], 0))"
   ]
  },
  {
   "cell_type": "markdown",
   "id": "3d680e46",
   "metadata": {},
   "source": [
    "You will see that from the above I allow for the formation of a list of 1 list. This will be for easier coding later on."
   ]
  },
  {
   "cell_type": "markdown",
   "id": "71c8a4f7",
   "metadata": {},
   "source": [
    "I will now crreate a function `find_sick_people` that takes in 2 parameters, a list of people and the group size.  \n",
    "My output will be a tuple containing a list of infected individuals as well as the number of tests used in total."
   ]
  },
  {
   "cell_type": "code",
   "execution_count": 88,
   "id": "1f5239d5",
   "metadata": {},
   "outputs": [],
   "source": [
    "def find_sick_people(ppl_list, people_per_group):\n",
    "    \n",
    "    '''\n",
    "    Because I will be letting another function `grouper` take the grouping task, \n",
    "    I will need to create a stop for 0 people per group as well.\n",
    "    '''\n",
    "    if people_per_group == 0:\n",
    "        return 'Error, cannot have 0 people per group!'\n",
    "    \n",
    "    group_ppl_list = grouper(ppl_list, people_per_group) #Refer to the above function.\n",
    "    \n",
    "    \n",
    "    '''\n",
    "    This second half is for me to run through my initial pool sample sorting.\n",
    "    '''\n",
    "    \n",
    "    test_count = 0\n",
    "    positive_group = [] #Stores my lists of potentially positive people\n",
    "    for i in group_ppl_list: #Iterates through my list of lists\n",
    "        test_count += 1\n",
    "        if test_kit.test(pool(i)): #Checks whether any of my pooled people are positive\n",
    "            positive_group += i #At the end of my iterations, I will have a list of potential individuals\n",
    "    \n",
    "    '''\n",
    "    This last section is for me to run through a linear search of remaining potential individuals. \n",
    "    I will not run further tests if the number of people I have in each group is 1.\n",
    "    '''\n",
    "    if people_per_group == 1:\n",
    "        return (positive_group, test_count)\n",
    "    \n",
    "    positive_individuals = []\n",
    "    for i in positive_group:\n",
    "        test_count += 1\n",
    "        if test_kit.test(get_genome(i)): #This checks whether the individual is positive\n",
    "            positive_individuals.append(i)\n",
    "    return (positive_individuals,test_count)"
   ]
  },
  {
   "cell_type": "markdown",
   "id": "20a9b9df",
   "metadata": {},
   "source": [
    "To prevent breaking of data abstraction, I can simply create more functions, but is highly unecessary."
   ]
  },
  {
   "cell_type": "code",
   "execution_count": 76,
   "id": "19f06978",
   "metadata": {},
   "outputs": [],
   "source": [
    "def get_sick(sick_ppl):\n",
    "    return sick_ppl[0]\n",
    "\n",
    "def get_sick_num(sick_ppl):\n",
    "    return len(sick_ppl[0])\n",
    "\n",
    "def get_tests(sick_ppl):\n",
    "    return sick_ppl[1]"
   ]
  },
  {
   "cell_type": "code",
   "execution_count": 77,
   "id": "ef365374",
   "metadata": {},
   "outputs": [
    {
     "data": {
      "text/plain": [
       "([1, 7, 8, 27, 47, 57, 62, 63, 78], 70)"
      ]
     },
     "execution_count": 77,
     "metadata": {},
     "output_type": "execute_result"
    }
   ],
   "source": [
    "list_of_first_100 = [i for i in range(100)]\n",
    "find_sick_people(list_of_first_100, 10)"
   ]
  },
  {
   "cell_type": "code",
   "execution_count": 78,
   "id": "0dfa98cd",
   "metadata": {},
   "outputs": [
    {
     "data": {
      "text/plain": [
       "([1, 7, 8, 27, 47, 57, 62, 63, 78], 55)"
      ]
     },
     "execution_count": 78,
     "metadata": {},
     "output_type": "execute_result"
    }
   ],
   "source": [
    "find_sick_people(list_of_first_100, 5)"
   ]
  },
  {
   "cell_type": "markdown",
   "id": "e9ed7593",
   "metadata": {},
   "source": [
    "As you can see, it seems that the smaller the number of groups, the lesser the test cases I require.  \n",
    "Let's try for range 20 to 1 people per group.  \n",
    "I will use 1 people per group as a control (I expect 500 tests)."
   ]
  },
  {
   "cell_type": "code",
   "execution_count": 90,
   "id": "ee6e84db",
   "metadata": {
    "scrolled": false
   },
   "outputs": [
    {
     "name": "stdout",
     "output_type": "stream",
     "text": [
      "([1, 7, 8, 27, 47, 57, 62, 63, 78, 104, 105, 109, 113, 125, 128, 141, 143, 148, 151, 165, 175, 176, 181, 199, 200, 206, 218, 221, 225, 232, 242, 255, 275, 276, 295, 331, 345, 352, 368, 370, 378, 379, 380, 388, 391, 398, 402, 404, 409, 413, 414, 430, 436, 448, 449, 454, 456, 463, 476, 491, 494, 496], 500)\n",
      "([1, 7, 8, 27, 47, 57, 62, 63, 78, 104, 105, 109, 113, 125, 128, 141, 143, 148, 151, 165, 175, 176, 181, 199, 200, 206, 218, 221, 225, 232, 242, 255, 275, 276, 295, 331, 345, 352, 368, 370, 378, 379, 380, 388, 391, 398, 402, 404, 409, 413, 414, 430, 436, 448, 449, 454, 456, 463, 476, 491, 494, 496], 366)\n",
      "([1, 7, 8, 27, 47, 57, 62, 63, 78, 104, 105, 109, 113, 125, 128, 141, 143, 148, 151, 165, 175, 176, 181, 199, 200, 206, 218, 221, 225, 232, 242, 255, 275, 276, 295, 331, 345, 352, 368, 370, 378, 379, 380, 388, 391, 398, 402, 404, 409, 413, 414, 430, 436, 448, 449, 454, 456, 463, 476, 491, 494, 496], 333)\n",
      "([1, 7, 8, 27, 47, 57, 62, 63, 78, 104, 105, 109, 113, 125, 128, 141, 143, 148, 151, 165, 175, 176, 181, 199, 200, 206, 218, 221, 225, 232, 242, 255, 275, 276, 295, 331, 345, 352, 368, 370, 378, 379, 380, 388, 391, 398, 402, 404, 409, 413, 414, 430, 436, 448, 449, 454, 456, 463, 476, 491, 494, 496], 337)\n",
      "([1, 7, 8, 27, 47, 57, 62, 63, 78, 104, 105, 109, 113, 125, 128, 141, 143, 148, 151, 165, 175, 176, 181, 199, 200, 206, 218, 221, 225, 232, 242, 255, 275, 276, 295, 331, 345, 352, 368, 370, 378, 379, 380, 388, 391, 398, 402, 404, 409, 413, 414, 430, 436, 448, 449, 454, 456, 463, 476, 491, 494, 496], 350)\n",
      "([1, 7, 8, 27, 47, 57, 62, 63, 78, 104, 105, 109, 113, 125, 128, 141, 143, 148, 151, 165, 175, 176, 181, 199, 200, 206, 218, 221, 225, 232, 242, 255, 275, 276, 295, 331, 345, 352, 368, 370, 378, 379, 380, 388, 391, 398, 402, 404, 409, 413, 414, 430, 436, 448, 449, 454, 456, 463, 476, 491, 494, 496], 349)\n",
      "([1, 7, 8, 27, 47, 57, 62, 63, 78, 104, 105, 109, 113, 125, 128, 141, 143, 148, 151, 165, 175, 176, 181, 199, 200, 206, 218, 221, 225, 232, 242, 255, 275, 276, 295, 331, 345, 352, 368, 370, 378, 379, 380, 388, 391, 398, 402, 404, 409, 413, 414, 430, 436, 448, 449, 454, 456, 463, 476, 491, 494, 496], 367)\n",
      "([1, 7, 8, 27, 47, 57, 62, 63, 78, 104, 105, 109, 113, 125, 128, 141, 143, 148, 151, 165, 175, 176, 181, 199, 200, 206, 218, 221, 225, 232, 242, 255, 275, 276, 295, 331, 345, 352, 368, 370, 378, 379, 380, 388, 391, 398, 402, 404, 409, 413, 414, 430, 436, 448, 449, 454, 456, 463, 476, 491, 494, 496], 400)\n",
      "([1, 7, 8, 27, 47, 57, 62, 63, 78, 104, 105, 109, 113, 125, 128, 141, 143, 148, 151, 165, 175, 176, 181, 199, 200, 206, 218, 221, 225, 232, 242, 255, 275, 276, 295, 331, 345, 352, 368, 370, 378, 379, 380, 388, 391, 398, 402, 404, 409, 413, 414, 430, 436, 448, 449, 454, 456, 463, 476, 491, 494, 496], 391)\n",
      "([1, 7, 8, 27, 47, 57, 62, 63, 78, 104, 105, 109, 113, 125, 128, 141, 143, 148, 151, 165, 175, 176, 181, 199, 200, 206, 218, 221, 225, 232, 242, 255, 275, 276, 295, 331, 345, 352, 368, 370, 378, 379, 380, 388, 391, 398, 402, 404, 409, 413, 414, 430, 436, 448, 449, 454, 456, 463, 476, 491, 494, 496], 430)\n",
      "([1, 7, 8, 27, 47, 57, 62, 63, 78, 104, 105, 109, 113, 125, 128, 141, 143, 148, 151, 165, 175, 176, 181, 199, 200, 206, 218, 221, 225, 232, 242, 255, 275, 276, 295, 331, 345, 352, 368, 370, 378, 379, 380, 388, 391, 398, 402, 404, 409, 413, 414, 430, 436, 448, 449, 454, 456, 463, 476, 491, 494, 496], 445)\n",
      "([1, 7, 8, 27, 47, 57, 62, 63, 78, 104, 105, 109, 113, 125, 128, 141, 143, 148, 151, 165, 175, 176, 181, 199, 200, 206, 218, 221, 225, 232, 242, 255, 275, 276, 295, 331, 345, 352, 368, 370, 378, 379, 380, 388, 391, 398, 402, 404, 409, 413, 414, 430, 436, 448, 449, 454, 456, 463, 476, 491, 494, 496], 406)\n",
      "([1, 7, 8, 27, 47, 57, 62, 63, 78, 104, 105, 109, 113, 125, 128, 141, 143, 148, 151, 165, 175, 176, 181, 199, 200, 206, 218, 221, 225, 232, 242, 255, 275, 276, 295, 331, 345, 352, 368, 370, 378, 379, 380, 388, 391, 398, 402, 404, 409, 413, 414, 430, 436, 448, 449, 454, 456, 463, 476, 491, 494, 496], 472)\n",
      "([1, 7, 8, 27, 47, 57, 62, 63, 78, 104, 105, 109, 113, 125, 128, 141, 143, 148, 151, 165, 175, 176, 181, 199, 200, 206, 218, 221, 225, 232, 242, 255, 275, 276, 295, 331, 345, 352, 368, 370, 378, 379, 380, 388, 391, 398, 402, 404, 409, 413, 414, 430, 436, 448, 449, 454, 456, 463, 476, 491, 494, 496], 492)\n",
      "([1, 7, 8, 27, 47, 57, 62, 63, 78, 104, 105, 109, 113, 125, 128, 141, 143, 148, 151, 165, 175, 176, 181, 199, 200, 206, 218, 221, 225, 232, 242, 255, 275, 276, 295, 331, 345, 352, 368, 370, 378, 379, 380, 388, 391, 398, 402, 404, 409, 413, 414, 430, 436, 448, 449, 454, 456, 463, 476, 491, 494, 496], 488)\n",
      "([1, 7, 8, 27, 47, 57, 62, 63, 78, 104, 105, 109, 113, 125, 128, 141, 143, 148, 151, 165, 175, 176, 181, 199, 200, 206, 218, 221, 225, 232, 242, 255, 275, 276, 295, 331, 345, 352, 368, 370, 378, 379, 380, 388, 391, 398, 402, 404, 409, 413, 414, 430, 436, 448, 449, 454, 456, 463, 476, 491, 494, 496], 499)\n",
      "([1, 7, 8, 27, 47, 57, 62, 63, 78, 104, 105, 109, 113, 125, 128, 141, 143, 148, 151, 165, 175, 176, 181, 199, 200, 206, 218, 221, 225, 232, 242, 255, 275, 276, 295, 331, 345, 352, 368, 370, 378, 379, 380, 388, 391, 398, 402, 404, 409, 413, 414, 430, 436, 448, 449, 454, 456, 463, 476, 491, 494, 496], 495)\n",
      "([1, 7, 8, 27, 47, 57, 62, 63, 78, 104, 105, 109, 113, 125, 128, 141, 143, 148, 151, 165, 175, 176, 181, 199, 200, 206, 218, 221, 225, 232, 242, 255, 275, 276, 295, 331, 345, 352, 368, 370, 378, 379, 380, 388, 391, 398, 402, 404, 409, 413, 414, 430, 436, 448, 449, 454, 456, 463, 476, 491, 494, 496], 509)\n",
      "([1, 7, 8, 27, 47, 57, 62, 63, 78, 104, 105, 109, 113, 125, 128, 141, 143, 148, 151, 165, 175, 176, 181, 199, 200, 206, 218, 221, 225, 232, 242, 255, 275, 276, 295, 331, 345, 352, 368, 370, 378, 379, 380, 388, 391, 398, 402, 404, 409, 413, 414, 430, 436, 448, 449, 454, 456, 463, 476, 491, 494, 496], 487)\n",
      "([1, 7, 8, 27, 47, 57, 62, 63, 78, 104, 105, 109, 113, 125, 128, 141, 143, 148, 151, 165, 175, 176, 181, 199, 200, 206, 218, 221, 225, 232, 242, 255, 275, 276, 295, 331, 345, 352, 368, 370, 378, 379, 380, 388, 391, 398, 402, 404, 409, 413, 414, 430, 436, 448, 449, 454, 456, 463, 476, 491, 494, 496], 485)\n"
     ]
    }
   ],
   "source": [
    "for i in range(1, 21):\n",
    "    print(find_sick_people([i for i in range(500)], i))"
   ]
  },
  {
   "cell_type": "markdown",
   "id": "2b6f6adc",
   "metadata": {},
   "source": [
    "I am only concerned in the number of tests, so I will redo the above paying attention only to the number of people per group as well as the total number of tests used."
   ]
  },
  {
   "cell_type": "code",
   "execution_count": 92,
   "id": "9a2ea9b3",
   "metadata": {},
   "outputs": [
    {
     "name": "stdout",
     "output_type": "stream",
     "text": [
      "The number of people per group is 1 and the total number of tests used is 500\n",
      "The number of people per group is 2 and the total number of tests used is 366\n",
      "The number of people per group is 3 and the total number of tests used is 333\n",
      "The number of people per group is 4 and the total number of tests used is 337\n",
      "The number of people per group is 5 and the total number of tests used is 350\n",
      "The number of people per group is 6 and the total number of tests used is 349\n",
      "The number of people per group is 7 and the total number of tests used is 367\n",
      "The number of people per group is 8 and the total number of tests used is 400\n",
      "The number of people per group is 9 and the total number of tests used is 391\n",
      "The number of people per group is 10 and the total number of tests used is 430\n",
      "The number of people per group is 11 and the total number of tests used is 445\n",
      "The number of people per group is 12 and the total number of tests used is 406\n",
      "The number of people per group is 13 and the total number of tests used is 472\n",
      "The number of people per group is 14 and the total number of tests used is 492\n",
      "The number of people per group is 15 and the total number of tests used is 488\n",
      "The number of people per group is 16 and the total number of tests used is 499\n",
      "The number of people per group is 17 and the total number of tests used is 495\n",
      "The number of people per group is 18 and the total number of tests used is 509\n",
      "The number of people per group is 19 and the total number of tests used is 487\n",
      "The number of people per group is 20 and the total number of tests used is 485\n"
     ]
    }
   ],
   "source": [
    "for i in range(1,21):\n",
    "    print('The number of people per group is ' + str(i) + ' and the total number of tests used is ' + str(get_tests(find_sick_people([j for j in range(500)], i))))"
   ]
  },
  {
   "cell_type": "markdown",
   "id": "6b1a1fe9",
   "metadata": {},
   "source": [
    "As you can see from above, it seems that groups of 3,4,5,6 seems to be the lowest.  \n",
    "I will repeat the following 100 times with a randommized list of 500 people and obtain a mean."
   ]
  },
  {
   "cell_type": "code",
   "execution_count": 114,
   "id": "e7e786b8",
   "metadata": {},
   "outputs": [],
   "source": [
    "def sampling(last_person, people_per_group, n):\n",
    "\n",
    "    '''\n",
    "    This function takes in the the last_person of my list,\n",
    "    people_per_group, as well as n, which is the number of repetitions\n",
    "    '''\n",
    "    test_values = np.array([])\n",
    "    for i in range(n):\n",
    "        random_list = random.sample(range(last_person + 1), last_person+1)\n",
    "        test_values = np.append(test_values, get_tests(find_sick_people(random_list, people_per_group)))\n",
    "    return np.mean(test_values)\n",
    "        "
   ]
  },
  {
   "cell_type": "code",
   "execution_count": 102,
   "id": "15e07ddd",
   "metadata": {},
   "outputs": [
    {
     "name": "stdout",
     "output_type": "stream",
     "text": [
      "0\n",
      "499\n"
     ]
    }
   ],
   "source": [
    "print(min_num)\n",
    "print(max_num)"
   ]
  },
  {
   "cell_type": "code",
   "execution_count": 119,
   "id": "65236ac2",
   "metadata": {
    "scrolled": false
   },
   "outputs": [
    {
     "name": "stdout",
     "output_type": "stream",
     "text": [
      "For 100 repetitions, my mean number of tests required if i use 3 people per group is 331.46\n",
      "For 100 repetitions, my mean number of tests required if i use 4 people per group is 329.76\n",
      "For 100 repetitions, my mean number of tests required if i use 5 people per group is 345.05\n",
      "For 100 repetitions, my mean number of tests required if i use 6 people per group is 356.68\n"
     ]
    }
   ],
   "source": [
    "for i in range(3,7):\n",
    "    print(\"For 100 repetitions, my mean number of tests required if i use \" + str(i) + \" people per group is \" + str(sampling(max_num, i, 100)))"
   ]
  },
  {
   "cell_type": "markdown",
   "id": "656d8296",
   "metadata": {},
   "source": [
    "Therefore, it does seem that running 4 people per group seems to be slightly more efficient"
   ]
  }
 ],
 "metadata": {
  "hide_input": false,
  "kernelspec": {
   "display_name": "Python 3 (ipykernel)",
   "language": "python",
   "name": "python3"
  },
  "language_info": {
   "codemirror_mode": {
    "name": "ipython",
    "version": 3
   },
   "file_extension": ".py",
   "mimetype": "text/x-python",
   "name": "python",
   "nbconvert_exporter": "python",
   "pygments_lexer": "ipython3",
   "version": "3.9.15"
  },
  "toc": {
   "base_numbering": 1,
   "nav_menu": {},
   "number_sections": true,
   "sideBar": true,
   "skip_h1_title": false,
   "title_cell": "Table of Contents",
   "title_sidebar": "Contents",
   "toc_cell": false,
   "toc_position": {},
   "toc_section_display": true,
   "toc_window_display": false
  },
  "varInspector": {
   "cols": {
    "lenName": 16,
    "lenType": 16,
    "lenVar": 40
   },
   "kernels_config": {
    "python": {
     "delete_cmd_postfix": "",
     "delete_cmd_prefix": "del ",
     "library": "var_list.py",
     "varRefreshCmd": "print(var_dic_list())"
    },
    "r": {
     "delete_cmd_postfix": ") ",
     "delete_cmd_prefix": "rm(",
     "library": "var_list.r",
     "varRefreshCmd": "cat(var_dic_list()) "
    }
   },
   "types_to_exclude": [
    "module",
    "function",
    "builtin_function_or_method",
    "instance",
    "_Feature"
   ],
   "window_display": false
  }
 },
 "nbformat": 4,
 "nbformat_minor": 5
}
