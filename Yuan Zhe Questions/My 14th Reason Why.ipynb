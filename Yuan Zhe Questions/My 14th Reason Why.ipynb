{
 "cells": [
  {
   "cell_type": "markdown",
   "id": "d99dfdb9",
   "metadata": {},
   "source": [
    "# Problema Uno"
   ]
  },
  {
   "cell_type": "markdown",
   "id": "6d853290",
   "metadata": {},
   "source": [
    "This two star problem makes me want to cry"
   ]
  },
  {
   "cell_type": "code",
   "execution_count": 17,
   "id": "e329e91c",
   "metadata": {},
   "outputs": [
    {
     "name": "stdout",
     "output_type": "stream",
     "text": [
      "0.7835281763821067\n",
      "0.35987106038705363\n",
      "0.051804313077774555\n"
     ]
    }
   ],
   "source": [
    "def first_reason(z, v = 20, a = 1.25):\n",
    "    denominator = ((a**2)+(z**2))**(1/2)\n",
    "    return v*(1-(z/denominator))\n",
    "print(first_reason(z=13/3))\n",
    "print(first_reason(z=13/2))\n",
    "print(first_reason(z=52/3))"
   ]
  },
  {
   "cell_type": "markdown",
   "id": "d3a40ae5",
   "metadata": {},
   "source": [
    "This two star problem is also not fun"
   ]
  },
  {
   "cell_type": "markdown",
   "id": "8726cf86",
   "metadata": {},
   "source": [
    "NB: Imaginary numbers are represented by j"
   ]
  },
  {
   "cell_type": "code",
   "execution_count": 30,
   "id": "a76aedcf",
   "metadata": {
    "scrolled": true
   },
   "outputs": [
    {
     "data": {
      "text/plain": [
       "((-1+0.6959705453537527j), (-1-0.6959705453537527j))"
      ]
     },
     "execution_count": 30,
     "metadata": {},
     "output_type": "execute_result"
    }
   ],
   "source": [
    "def second_reason(a,b,c):\n",
    "    discriminant = (b**2)-(4*a*c)\n",
    "    return ((-b + (discriminant**(1/2))/(2*a)),\\\n",
    "           (-b - (discriminant**(1/2))/(2*a)))\n",
    "second_reason(4,1,2)"
   ]
  },
  {
   "cell_type": "markdown",
   "id": "a98b47cd",
   "metadata": {},
   "source": [
    "The inner mind of a life science student that actually cannot do math. Hopefully you derive some entertainment if you do read through this.\n",
    "\n",
    "The idea for solving the problem first:\n",
    "N side polygon will have its edges touch the sides of the circle N times. \n",
    "Unit diameter I will take it as 1. This means my radius is 0.5\n",
    "Back to secondary school math, I can divide this shit up into isoceles triangles (damnnnn this is so cool) (ie. 3 sides wil have 3 isoceles)\n",
    "\n",
    "Calculate angle\n",
    "Apply sin rule to get sides\n",
    "$A = B(sin(a)/sin(b))$"
   ]
  },
  {
   "cell_type": "code",
   "execution_count": 58,
   "id": "d7f62d24",
   "metadata": {},
   "outputs": [
    {
     "name": "stdout",
     "output_type": "stream",
     "text": [
      "3.141587485879563\n",
      "Holy shit I can do secondary school math\n"
     ]
    }
   ],
   "source": [
    "import numpy as np\n",
    "unit_length = 0.5\n",
    "def third_reason(n):\n",
    "    global unit_length #this is not necessary but its just for me to check\n",
    "    alpha = 2*(np.pi)/n\n",
    "    beta = (np.pi-alpha)/2\n",
    "    iso_length = unit_length*((np.sin(alpha)/np.sin(beta)))\n",
    "    return iso_length*n\n",
    "print(third_reason(1000))\n",
    "print(\"Holy shit I can do secondary school math\")"
   ]
  },
  {
   "cell_type": "markdown",
   "id": "72fb447a",
   "metadata": {},
   "source": [
    "Abusing array and panda"
   ]
  },
  {
   "cell_type": "code",
   "execution_count": 87,
   "id": "1b172898",
   "metadata": {},
   "outputs": [
    {
     "data": {
      "text/html": [
       "<div>\n",
       "<style scoped>\n",
       "    .dataframe tbody tr th:only-of-type {\n",
       "        vertical-align: middle;\n",
       "    }\n",
       "\n",
       "    .dataframe tbody tr th {\n",
       "        vertical-align: top;\n",
       "    }\n",
       "\n",
       "    .dataframe thead th {\n",
       "        text-align: right;\n",
       "    }\n",
       "</style>\n",
       "<table border=\"1\" class=\"dataframe\">\n",
       "  <thead>\n",
       "    <tr style=\"text-align: right;\">\n",
       "      <th></th>\n",
       "      <th>Perimeter</th>\n",
       "    </tr>\n",
       "  </thead>\n",
       "  <tbody>\n",
       "    <tr>\n",
       "      <th>1</th>\n",
       "      <td>1.224647e-16</td>\n",
       "    </tr>\n",
       "    <tr>\n",
       "      <th>11</th>\n",
       "      <td>3.099058e+00</td>\n",
       "    </tr>\n",
       "    <tr>\n",
       "      <th>21</th>\n",
       "      <td>3.129888e+00</td>\n",
       "    </tr>\n",
       "    <tr>\n",
       "      <th>31</th>\n",
       "      <td>3.136218e+00</td>\n",
       "    </tr>\n",
       "    <tr>\n",
       "      <th>41</th>\n",
       "      <td>3.138519e+00</td>\n",
       "    </tr>\n",
       "    <tr>\n",
       "      <th>51</th>\n",
       "      <td>3.139606e+00</td>\n",
       "    </tr>\n",
       "    <tr>\n",
       "      <th>61</th>\n",
       "      <td>3.140204e+00</td>\n",
       "    </tr>\n",
       "    <tr>\n",
       "      <th>71</th>\n",
       "      <td>3.140568e+00</td>\n",
       "    </tr>\n",
       "    <tr>\n",
       "      <th>81</th>\n",
       "      <td>3.140805e+00</td>\n",
       "    </tr>\n",
       "    <tr>\n",
       "      <th>91</th>\n",
       "      <td>3.140969e+00</td>\n",
       "    </tr>\n",
       "  </tbody>\n",
       "</table>\n",
       "</div>"
      ],
      "text/plain": [
       "       Perimeter\n",
       "1   1.224647e-16\n",
       "11  3.099058e+00\n",
       "21  3.129888e+00\n",
       "31  3.136218e+00\n",
       "41  3.138519e+00\n",
       "51  3.139606e+00\n",
       "61  3.140204e+00\n",
       "71  3.140568e+00\n",
       "81  3.140805e+00\n",
       "91  3.140969e+00"
      ]
     },
     "execution_count": 87,
     "metadata": {},
     "output_type": "execute_result"
    }
   ],
   "source": [
    "import pandas as pd\n",
    "data_set = []\n",
    "for i in range(1, 100, 10): #Because I am lazy\n",
    "    data_set.append([third_reason(i)])\n",
    "df = pd.DataFrame(np.array(data_set),\n",
    "                  index = [str(i) for i in range(1,100,10)],\n",
    "                 columns = ['Perimeter'])\n",
    "df"
   ]
  },
  {
   "cell_type": "markdown",
   "id": "27026756",
   "metadata": {},
   "source": [
    "I could show you to infinity, but i think this is more than enough."
   ]
  },
  {
   "cell_type": "markdown",
   "id": "28e3e1ab",
   "metadata": {},
   "source": [
    "Damn back to physics?"
   ]
  },
  {
   "cell_type": "markdown",
   "id": "bae6bce8",
   "metadata": {},
   "source": [
    "I want a function that will tell me everytime height cross 0.25\n",
    "Am I supposed to be big brain enough to care about whether the ball bounces back up?\n",
    "Obviously not lmao"
   ]
  },
  {
   "cell_type": "code",
   "execution_count": 88,
   "id": "81953fdc",
   "metadata": {},
   "outputs": [
    {
     "data": {
      "text/html": [
       "<div>\n",
       "<style scoped>\n",
       "    .dataframe tbody tr th:only-of-type {\n",
       "        vertical-align: middle;\n",
       "    }\n",
       "\n",
       "    .dataframe tbody tr th {\n",
       "        vertical-align: top;\n",
       "    }\n",
       "\n",
       "    .dataframe thead th {\n",
       "        text-align: right;\n",
       "    }\n",
       "</style>\n",
       "<table border=\"1\" class=\"dataframe\">\n",
       "  <thead>\n",
       "    <tr style=\"text-align: right;\">\n",
       "      <th></th>\n",
       "      <th>Time</th>\n",
       "    </tr>\n",
       "  </thead>\n",
       "  <tbody>\n",
       "    <tr>\n",
       "      <th>0</th>\n",
       "      <td>0.000000</td>\n",
       "    </tr>\n",
       "    <tr>\n",
       "      <th>1</th>\n",
       "      <td>0.225877</td>\n",
       "    </tr>\n",
       "    <tr>\n",
       "      <th>2</th>\n",
       "      <td>0.319438</td>\n",
       "    </tr>\n",
       "    <tr>\n",
       "      <th>3</th>\n",
       "      <td>0.391230</td>\n",
       "    </tr>\n",
       "    <tr>\n",
       "      <th>4</th>\n",
       "      <td>0.451754</td>\n",
       "    </tr>\n",
       "    <tr>\n",
       "      <th>5</th>\n",
       "      <td>0.505076</td>\n",
       "    </tr>\n",
       "    <tr>\n",
       "      <th>6</th>\n",
       "      <td>0.553283</td>\n",
       "    </tr>\n",
       "    <tr>\n",
       "      <th>7</th>\n",
       "      <td>0.597614</td>\n",
       "    </tr>\n",
       "    <tr>\n",
       "      <th>8</th>\n",
       "      <td>0.638877</td>\n",
       "    </tr>\n",
       "    <tr>\n",
       "      <th>9</th>\n",
       "      <td>0.677631</td>\n",
       "    </tr>\n",
       "    <tr>\n",
       "      <th>10</th>\n",
       "      <td>0.714286</td>\n",
       "    </tr>\n",
       "    <tr>\n",
       "      <th>11</th>\n",
       "      <td>0.749149</td>\n",
       "    </tr>\n",
       "    <tr>\n",
       "      <th>12</th>\n",
       "      <td>0.782461</td>\n",
       "    </tr>\n",
       "    <tr>\n",
       "      <th>13</th>\n",
       "      <td>0.814411</td>\n",
       "    </tr>\n",
       "    <tr>\n",
       "      <th>14</th>\n",
       "      <td>0.845154</td>\n",
       "    </tr>\n",
       "    <tr>\n",
       "      <th>15</th>\n",
       "      <td>0.874818</td>\n",
       "    </tr>\n",
       "    <tr>\n",
       "      <th>16</th>\n",
       "      <td>0.903508</td>\n",
       "    </tr>\n",
       "    <tr>\n",
       "      <th>17</th>\n",
       "      <td>0.931315</td>\n",
       "    </tr>\n",
       "    <tr>\n",
       "      <th>18</th>\n",
       "      <td>0.958315</td>\n",
       "    </tr>\n",
       "    <tr>\n",
       "      <th>19</th>\n",
       "      <td>0.984575</td>\n",
       "    </tr>\n",
       "    <tr>\n",
       "      <th>20</th>\n",
       "      <td>1.010153</td>\n",
       "    </tr>\n",
       "    <tr>\n",
       "      <th>21</th>\n",
       "      <td>1.035098</td>\n",
       "    </tr>\n",
       "    <tr>\n",
       "      <th>22</th>\n",
       "      <td>1.059457</td>\n",
       "    </tr>\n",
       "    <tr>\n",
       "      <th>23</th>\n",
       "      <td>1.083268</td>\n",
       "    </tr>\n",
       "    <tr>\n",
       "      <th>24</th>\n",
       "      <td>1.106567</td>\n",
       "    </tr>\n",
       "    <tr>\n",
       "      <th>25</th>\n",
       "      <td>1.129385</td>\n",
       "    </tr>\n",
       "    <tr>\n",
       "      <th>26</th>\n",
       "      <td>1.151751</td>\n",
       "    </tr>\n",
       "    <tr>\n",
       "      <th>27</th>\n",
       "      <td>1.173691</td>\n",
       "    </tr>\n",
       "    <tr>\n",
       "      <th>28</th>\n",
       "      <td>1.195229</td>\n",
       "    </tr>\n",
       "    <tr>\n",
       "      <th>29</th>\n",
       "      <td>1.216385</td>\n",
       "    </tr>\n",
       "    <tr>\n",
       "      <th>30</th>\n",
       "      <td>1.237179</td>\n",
       "    </tr>\n",
       "    <tr>\n",
       "      <th>31</th>\n",
       "      <td>1.257630</td>\n",
       "    </tr>\n",
       "    <tr>\n",
       "      <th>32</th>\n",
       "      <td>1.277753</td>\n",
       "    </tr>\n",
       "    <tr>\n",
       "      <th>33</th>\n",
       "      <td>1.297564</td>\n",
       "    </tr>\n",
       "    <tr>\n",
       "      <th>34</th>\n",
       "      <td>1.317078</td>\n",
       "    </tr>\n",
       "    <tr>\n",
       "      <th>35</th>\n",
       "      <td>1.336306</td>\n",
       "    </tr>\n",
       "    <tr>\n",
       "      <th>36</th>\n",
       "      <td>1.355262</td>\n",
       "    </tr>\n",
       "    <tr>\n",
       "      <th>37</th>\n",
       "      <td>1.373956</td>\n",
       "    </tr>\n",
       "    <tr>\n",
       "      <th>38</th>\n",
       "      <td>1.392399</td>\n",
       "    </tr>\n",
       "    <tr>\n",
       "      <th>39</th>\n",
       "      <td>1.410601</td>\n",
       "    </tr>\n",
       "  </tbody>\n",
       "</table>\n",
       "</div>"
      ],
      "text/plain": [
       "        Time\n",
       "0   0.000000\n",
       "1   0.225877\n",
       "2   0.319438\n",
       "3   0.391230\n",
       "4   0.451754\n",
       "5   0.505076\n",
       "6   0.553283\n",
       "7   0.597614\n",
       "8   0.638877\n",
       "9   0.677631\n",
       "10  0.714286\n",
       "11  0.749149\n",
       "12  0.782461\n",
       "13  0.814411\n",
       "14  0.845154\n",
       "15  0.874818\n",
       "16  0.903508\n",
       "17  0.931315\n",
       "18  0.958315\n",
       "19  0.984575\n",
       "20  1.010153\n",
       "21  1.035098\n",
       "22  1.059457\n",
       "23  1.083268\n",
       "24  1.106567\n",
       "25  1.129385\n",
       "26  1.151751\n",
       "27  1.173691\n",
       "28  1.195229\n",
       "29  1.216385\n",
       "30  1.237179\n",
       "31  1.257630\n",
       "32  1.277753\n",
       "33  1.297564\n",
       "34  1.317078\n",
       "35  1.336306\n",
       "36  1.355262\n",
       "37  1.373956\n",
       "38  1.392399\n",
       "39  1.410601"
      ]
     },
     "execution_count": 88,
     "metadata": {},
     "output_type": "execute_result"
    }
   ],
   "source": [
    "def fourth_reason(h,g):\n",
    "    sequence = []\n",
    "    i = h\n",
    "    while i > 0:\n",
    "        sequence.append(((h-i)*2/g)**(1/2))\n",
    "        i -= 0.25\n",
    "    return sequence\n",
    "data_sadge = np.array(fourth_reason(10,9.8))\n",
    "df_two = pd.DataFrame(data_sadge,\n",
    "                      columns = ['Time'])\n",
    "df_two"
   ]
  },
  {
   "cell_type": "markdown",
   "id": "a7c08a5a",
   "metadata": {},
   "source": [
    "Chess but *2?"
   ]
  },
  {
   "cell_type": "markdown",
   "id": "c09d0212",
   "metadata": {},
   "source": [
    "Feeling sus and going with default print statements because it is 3am"
   ]
  },
  {
   "cell_type": "code",
   "execution_count": 110,
   "id": "761f153d",
   "metadata": {
    "scrolled": true
   },
   "outputs": [
    {
     "name": "stdout",
     "output_type": "stream",
     "text": [
      "The mean is 0.125 \n",
      "The standard deviation is 0.33071891388307384 \n",
      "The shape is (16, 16) \n",
      "The size is 16\n"
     ]
    }
   ],
   "source": [
    "board_1 = [([1] + list((i-i) for i in range(14)) + [1]) for j in range(16)]\n",
    "board_1_array = np.array(board_1)\n",
    "print(\"The mean is \" + str(np.mean(board_1_array)) + \" \" + \"\\n\"\\\n",
    "      \"The standard deviation is \" + str(np.std(board_1_array)) + \" \" + \"\\n\"\\\n",
    "      \"The shape is \" + str(np.shape(board_1_array)) + \" \" + \"\\n\"\\\n",
    "      \"The size is \" + str(len(board_1_array)))"
   ]
  },
  {
   "cell_type": "code",
   "execution_count": 122,
   "id": "1e98d510",
   "metadata": {
    "scrolled": true
   },
   "outputs": [
    {
     "name": "stdout",
     "output_type": "stream",
     "text": [
      "The mean is 0.5 \n",
      "The standard deviation is 0.5 \n",
      "The shape is (16, 16) \n",
      "The size is 16\n"
     ]
    }
   ],
   "source": [
    "board_2 = [list(0 if i%2 == 0 else 1 for i in range(16)) for i in range(16)]\n",
    "board_2_array = np.array(board_2)\n",
    "print(\"The mean is \" + str(np.mean(board_2_array)) + \" \" + \"\\n\"\\\n",
    "      \"The standard deviation is \" + str(np.std(board_2_array)) + \" \" + \"\\n\"\\\n",
    "      \"The shape is \" + str(np.shape(board_2_array)) + \" \" + \"\\n\"\\\n",
    "      \"The size is \" + str(len(board_2_array)))"
   ]
  },
  {
   "cell_type": "markdown",
   "id": "ee030d1c",
   "metadata": {},
   "source": [
    "The np.arrange function gives me 6 because 100/5 = 20. I have assumed that the last 4 digits will be ommited and I will thus change it to 1,80"
   ]
  },
  {
   "cell_type": "code",
   "execution_count": 130,
   "id": "026a625d",
   "metadata": {},
   "outputs": [
    {
     "name": "stdout",
     "output_type": "stream",
     "text": [
      "The mean is -16.0 \n",
      "The standard deviation is 41.922547632509165 \n",
      "The shape is (16, 16) \n",
      "The size is 16\n"
     ]
    }
   ],
   "source": [
    "np.arange(1, 100, 5)\n",
    "board_3 = [list(i if i%3==0 else -i for i in range(1, 81, 5)) for j in range(16)]\n",
    "board_3_array = np.array(board_3)\n",
    "print(\"The mean is \" + str(np.mean(board_3_array)) + \" \" + \"\\n\"\\\n",
    "      \"The standard deviation is \" + str(np.std(board_3_array)) + \" \" + \"\\n\"\\\n",
    "      \"The shape is \" + str(np.shape(board_3_array)) + \" \" + \"\\n\"\\\n",
    "      \"The size is \" + str(len(board_3_array)))"
   ]
  },
  {
   "cell_type": "markdown",
   "id": "c1b099da",
   "metadata": {},
   "source": [
    "# Problema Dos"
   ]
  },
  {
   "cell_type": "code",
   "execution_count": 149,
   "id": "1417b0e7",
   "metadata": {},
   "outputs": [
    {
     "data": {
      "text/plain": [
       "array([5, 6, 7, 8])"
      ]
     },
     "execution_count": 149,
     "metadata": {},
     "output_type": "execute_result"
    }
   ],
   "source": [
    "A = np.arange(1, 13).reshape(3, 4)\n",
    "A[1]"
   ]
  },
  {
   "cell_type": "code",
   "execution_count": 150,
   "id": "1d5ec986",
   "metadata": {},
   "outputs": [
    {
     "data": {
      "text/plain": [
       "array([[ 3],\n",
       "       [ 7],\n",
       "       [11]])"
      ]
     },
     "execution_count": 150,
     "metadata": {},
     "output_type": "execute_result"
    }
   ],
   "source": [
    "A[:, np.array([i%3==0 for i in range(1,5)])]"
   ]
  },
  {
   "cell_type": "code",
   "execution_count": 153,
   "id": "3f4ed134",
   "metadata": {},
   "outputs": [
    {
     "data": {
      "text/plain": [
       "array([[1, 2, 3, 4],\n",
       "       [5, 6, 7, 8]])"
      ]
     },
     "execution_count": 153,
     "metadata": {},
     "output_type": "execute_result"
    }
   ],
   "source": [
    "A[:2]"
   ]
  },
  {
   "cell_type": "code",
   "execution_count": 154,
   "id": "be5709f2",
   "metadata": {},
   "outputs": [
    {
     "data": {
      "text/plain": [
       "array([[ 2,  3,  4],\n",
       "       [ 6,  7,  8],\n",
       "       [10, 11, 12]])"
      ]
     },
     "execution_count": 154,
     "metadata": {},
     "output_type": "execute_result"
    }
   ],
   "source": [
    "A[:, np.array([i!=1 for i in range(1,5)])]"
   ]
  },
  {
   "cell_type": "code",
   "execution_count": 155,
   "id": "a8682098",
   "metadata": {},
   "outputs": [
    {
     "data": {
      "text/plain": [
       "array([[2, 3, 4],\n",
       "       [6, 7, 8]])"
      ]
     },
     "execution_count": 155,
     "metadata": {},
     "output_type": "execute_result"
    }
   ],
   "source": [
    "A[:2, np.array([i!=1 for i in range(1,5)])]"
   ]
  },
  {
   "cell_type": "code",
   "execution_count": 157,
   "id": "ccdfa32a",
   "metadata": {},
   "outputs": [
    {
     "data": {
      "text/plain": [
       "array([[2, 3],\n",
       "       [6, 7]])"
      ]
     },
     "execution_count": 157,
     "metadata": {},
     "output_type": "execute_result"
    }
   ],
   "source": [
    "A[:2, np.array([i!=1 and i !=4 for i in range(1,5)])]"
   ]
  },
  {
   "cell_type": "code",
   "execution_count": 160,
   "id": "929c13c2",
   "metadata": {},
   "outputs": [
    {
     "data": {
      "text/plain": [
       "array([[ 1,  2,  3,  4],\n",
       "       [ 9, 10, 11, 12]])"
      ]
     },
     "execution_count": 160,
     "metadata": {},
     "output_type": "execute_result"
    }
   ],
   "source": [
    "A[::2]"
   ]
  },
  {
   "cell_type": "code",
   "execution_count": 161,
   "id": "1d92520e",
   "metadata": {},
   "outputs": [
    {
     "data": {
      "text/plain": [
       "array([[ 1,  2],\n",
       "       [ 9, 10]])"
      ]
     },
     "execution_count": 161,
     "metadata": {},
     "output_type": "execute_result"
    }
   ],
   "source": [
    "A[::2, np.array([i==1 or i==2 for i in range(1,5)])]"
   ]
  },
  {
   "cell_type": "code",
   "execution_count": 162,
   "id": "0eedc27f",
   "metadata": {},
   "outputs": [
    {
     "data": {
      "text/plain": [
       "array([[ 1,  3],\n",
       "       [ 9, 11]])"
      ]
     },
     "execution_count": 162,
     "metadata": {},
     "output_type": "execute_result"
    }
   ],
   "source": [
    "A[::2, np.array([i==1 or i==3 for i in range(1,5)])]"
   ]
  },
  {
   "cell_type": "code",
   "execution_count": null,
   "id": "f2dfe6a6",
   "metadata": {},
   "outputs": [],
   "source": []
  }
 ],
 "metadata": {
  "hide_input": false,
  "kernelspec": {
   "display_name": "Python 3 (ipykernel)",
   "language": "python",
   "name": "python3"
  },
  "language_info": {
   "codemirror_mode": {
    "name": "ipython",
    "version": 3
   },
   "file_extension": ".py",
   "mimetype": "text/x-python",
   "name": "python",
   "nbconvert_exporter": "python",
   "pygments_lexer": "ipython3",
   "version": "3.9.15"
  },
  "toc": {
   "base_numbering": 1,
   "nav_menu": {},
   "number_sections": true,
   "sideBar": true,
   "skip_h1_title": false,
   "title_cell": "Table of Contents",
   "title_sidebar": "Contents",
   "toc_cell": false,
   "toc_position": {},
   "toc_section_display": true,
   "toc_window_display": false
  },
  "varInspector": {
   "cols": {
    "lenName": 16,
    "lenType": 16,
    "lenVar": 40
   },
   "kernels_config": {
    "python": {
     "delete_cmd_postfix": "",
     "delete_cmd_prefix": "del ",
     "library": "var_list.py",
     "varRefreshCmd": "print(var_dic_list())"
    },
    "r": {
     "delete_cmd_postfix": ") ",
     "delete_cmd_prefix": "rm(",
     "library": "var_list.r",
     "varRefreshCmd": "cat(var_dic_list()) "
    }
   },
   "types_to_exclude": [
    "module",
    "function",
    "builtin_function_or_method",
    "instance",
    "_Feature"
   ],
   "window_display": false
  }
 },
 "nbformat": 4,
 "nbformat_minor": 5
}
