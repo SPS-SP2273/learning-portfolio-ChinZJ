{
 "cells": [
  {
   "cell_type": "markdown",
   "id": "f045353c",
   "metadata": {},
   "source": [
    "Exercise 1"
   ]
  },
  {
   "cell_type": "code",
   "execution_count": 3,
   "id": "98f17a70",
   "metadata": {},
   "outputs": [
    {
     "name": "stdout",
     "output_type": "stream",
     "text": [
      "00001\n",
      "00002\n",
      "00003\n",
      "00004\n",
      "00005\n",
      "00006\n",
      "00007\n",
      "00008\n",
      "00009\n",
      "00010\n"
     ]
    }
   ],
   "source": [
    "n=10\n",
    "for i in range(1,n+1):\n",
    "        print(f'{i:05}')"
   ]
  },
  {
   "cell_type": "code",
   "execution_count": 4,
   "id": "0ef86093",
   "metadata": {},
   "outputs": [
    {
     "name": "stdout",
     "output_type": "stream",
     "text": [
      "001         +\n",
      "002        ++\n",
      "003       +++\n",
      "004      ++++\n",
      "005     +++++\n",
      "006    ++++++\n",
      "007   +++++++\n",
      "008  ++++++++\n",
      "009 +++++++++\n",
      "010++++++++++\n"
     ]
    }
   ],
   "source": [
    "n=10\n",
    "for i in range(1,n+1):\n",
    "        print(f\"{i:03}{'+'*i:>10}\")"
   ]
  },
  {
   "cell_type": "code",
   "execution_count": 5,
   "id": "93afc4b3",
   "metadata": {},
   "outputs": [
    {
     "name": "stdout",
     "output_type": "stream",
     "text": [
      "001-+++++++++\n",
      "002--++++++++\n",
      "003---+++++++\n",
      "004----++++++\n",
      "005-----+++++\n",
      "006------++++\n",
      "007-------+++\n",
      "008--------++\n",
      "009---------+\n",
      "010----------\n"
     ]
    }
   ],
   "source": [
    "n=10\n",
    "for i in range(1,n+1):\n",
    "        print(f\"{i:03}{'-'*i}{'+'*(n-i)}\")"
   ]
  },
  {
   "cell_type": "code",
   "execution_count": 7,
   "id": "c2c8e800",
   "metadata": {},
   "outputs": [
    {
     "data": {
      "text/plain": [
       "['bruce_exploits.txt',\n",
       " 'bruce_enemies.txt',\n",
       " 'bruce_friends.txt',\n",
       " 'natasha_exploits.txt',\n",
       " 'natasha_enemies.txt',\n",
       " 'natasha_friends.txt',\n",
       " 'tony_exploits.txt',\n",
       " 'tony_enemies.txt',\n",
       " 'tony_friends.txt']"
      ]
     },
     "execution_count": 7,
     "metadata": {},
     "output_type": "execute_result"
    }
   ],
   "source": [
    "name_list = (\"bruce\", \"natasha\", \"tony\")\n",
    "gossip_list = (\"_exploits.txt\", \"_enemies.txt\", \"_friends.txt\")\n",
    "tosic_list = []\n",
    "for i in name_list:\n",
    "    for j in gossip_list:\n",
    "        tosic_list.append(i+j)\n",
    "tosic_list"
   ]
  },
  {
   "cell_type": "code",
   "execution_count": 10,
   "id": "22440a20",
   "metadata": {},
   "outputs": [
    {
     "data": {
      "text/plain": [
       "['data_sg_exp-01_trial-001.txt',\n",
       " 'data_sg_exp-01_trial-002.txt',\n",
       " 'data_sg_exp-01_trial-003.txt',\n",
       " 'data_sg_exp-01_trial-004.txt',\n",
       " 'data_sg_exp-01_trial-005.txt',\n",
       " 'data_sg_exp-01_trial-006.txt',\n",
       " 'data_sg_exp-01_trial-007.txt',\n",
       " 'data_sg_exp-01_trial-008.txt',\n",
       " 'data_sg_exp-01_trial-009.txt',\n",
       " 'data_sg_exp-01_trial-010.txt',\n",
       " 'data_sg_exp-01_trial-011.txt',\n",
       " 'data_sg_exp-01_trial-012.txt',\n",
       " 'data_sg_exp-01_trial-013.txt',\n",
       " 'data_sg_exp-01_trial-014.txt',\n",
       " 'data_sg_exp-01_trial-015.txt',\n",
       " 'data_sg_exp-01_trial-016.txt',\n",
       " 'data_sg_exp-01_trial-017.txt',\n",
       " 'data_sg_exp-01_trial-018.txt',\n",
       " 'data_sg_exp-01_trial-019.txt',\n",
       " 'data_sg_exp-01_trial-020.txt',\n",
       " 'data_sg_exp-01_trial-021.txt',\n",
       " 'data_sg_exp-01_trial-022.txt',\n",
       " 'data_sg_exp-01_trial-023.txt',\n",
       " 'data_sg_exp-01_trial-024.txt',\n",
       " 'data_sg_exp-01_trial-025.txt',\n",
       " 'data_sg_exp-01_trial-026.txt',\n",
       " 'data_sg_exp-01_trial-027.txt',\n",
       " 'data_sg_exp-01_trial-028.txt',\n",
       " 'data_sg_exp-01_trial-029.txt',\n",
       " 'data_sg_exp-01_trial-030.txt',\n",
       " 'data_sg_exp-01_trial-031.txt',\n",
       " 'data_sg_exp-01_trial-032.txt',\n",
       " 'data_sg_exp-01_trial-033.txt',\n",
       " 'data_sg_exp-01_trial-034.txt',\n",
       " 'data_sg_exp-01_trial-035.txt',\n",
       " 'data_sg_exp-01_trial-036.txt',\n",
       " 'data_sg_exp-01_trial-037.txt',\n",
       " 'data_sg_exp-01_trial-038.txt',\n",
       " 'data_sg_exp-01_trial-039.txt',\n",
       " 'data_sg_exp-01_trial-040.txt',\n",
       " 'data_sg_exp-01_trial-041.txt',\n",
       " 'data_sg_exp-01_trial-042.txt',\n",
       " 'data_sg_exp-01_trial-043.txt',\n",
       " 'data_sg_exp-01_trial-044.txt',\n",
       " 'data_sg_exp-01_trial-045.txt',\n",
       " 'data_sg_exp-01_trial-046.txt',\n",
       " 'data_sg_exp-01_trial-047.txt',\n",
       " 'data_sg_exp-01_trial-048.txt',\n",
       " 'data_sg_exp-01_trial-049.txt',\n",
       " 'data_sg_exp-01_trial-050.txt',\n",
       " 'data_sg_exp-02_trial-001.txt',\n",
       " 'data_sg_exp-02_trial-002.txt',\n",
       " 'data_sg_exp-02_trial-003.txt',\n",
       " 'data_sg_exp-02_trial-004.txt',\n",
       " 'data_sg_exp-02_trial-005.txt',\n",
       " 'data_sg_exp-02_trial-006.txt',\n",
       " 'data_sg_exp-02_trial-007.txt',\n",
       " 'data_sg_exp-02_trial-008.txt',\n",
       " 'data_sg_exp-02_trial-009.txt',\n",
       " 'data_sg_exp-02_trial-010.txt',\n",
       " 'data_sg_exp-02_trial-011.txt',\n",
       " 'data_sg_exp-02_trial-012.txt',\n",
       " 'data_sg_exp-02_trial-013.txt',\n",
       " 'data_sg_exp-02_trial-014.txt',\n",
       " 'data_sg_exp-02_trial-015.txt',\n",
       " 'data_sg_exp-02_trial-016.txt',\n",
       " 'data_sg_exp-02_trial-017.txt',\n",
       " 'data_sg_exp-02_trial-018.txt',\n",
       " 'data_sg_exp-02_trial-019.txt',\n",
       " 'data_sg_exp-02_trial-020.txt',\n",
       " 'data_sg_exp-02_trial-021.txt',\n",
       " 'data_sg_exp-02_trial-022.txt',\n",
       " 'data_sg_exp-02_trial-023.txt',\n",
       " 'data_sg_exp-02_trial-024.txt',\n",
       " 'data_sg_exp-02_trial-025.txt',\n",
       " 'data_sg_exp-02_trial-026.txt',\n",
       " 'data_sg_exp-02_trial-027.txt',\n",
       " 'data_sg_exp-02_trial-028.txt',\n",
       " 'data_sg_exp-02_trial-029.txt',\n",
       " 'data_sg_exp-02_trial-030.txt',\n",
       " 'data_sg_exp-02_trial-031.txt',\n",
       " 'data_sg_exp-02_trial-032.txt',\n",
       " 'data_sg_exp-02_trial-033.txt',\n",
       " 'data_sg_exp-02_trial-034.txt',\n",
       " 'data_sg_exp-02_trial-035.txt',\n",
       " 'data_sg_exp-02_trial-036.txt',\n",
       " 'data_sg_exp-02_trial-037.txt',\n",
       " 'data_sg_exp-02_trial-038.txt',\n",
       " 'data_sg_exp-02_trial-039.txt',\n",
       " 'data_sg_exp-02_trial-040.txt',\n",
       " 'data_sg_exp-02_trial-041.txt',\n",
       " 'data_sg_exp-02_trial-042.txt',\n",
       " 'data_sg_exp-02_trial-043.txt',\n",
       " 'data_sg_exp-02_trial-044.txt',\n",
       " 'data_sg_exp-02_trial-045.txt',\n",
       " 'data_sg_exp-02_trial-046.txt',\n",
       " 'data_sg_exp-02_trial-047.txt',\n",
       " 'data_sg_exp-02_trial-048.txt',\n",
       " 'data_sg_exp-02_trial-049.txt',\n",
       " 'data_sg_exp-02_trial-050.txt',\n",
       " 'data_sg_exp-03_trial-001.txt',\n",
       " 'data_sg_exp-03_trial-002.txt',\n",
       " 'data_sg_exp-03_trial-003.txt',\n",
       " 'data_sg_exp-03_trial-004.txt',\n",
       " 'data_sg_exp-03_trial-005.txt',\n",
       " 'data_sg_exp-03_trial-006.txt',\n",
       " 'data_sg_exp-03_trial-007.txt',\n",
       " 'data_sg_exp-03_trial-008.txt',\n",
       " 'data_sg_exp-03_trial-009.txt',\n",
       " 'data_sg_exp-03_trial-010.txt',\n",
       " 'data_sg_exp-03_trial-011.txt',\n",
       " 'data_sg_exp-03_trial-012.txt',\n",
       " 'data_sg_exp-03_trial-013.txt',\n",
       " 'data_sg_exp-03_trial-014.txt',\n",
       " 'data_sg_exp-03_trial-015.txt',\n",
       " 'data_sg_exp-03_trial-016.txt',\n",
       " 'data_sg_exp-03_trial-017.txt',\n",
       " 'data_sg_exp-03_trial-018.txt',\n",
       " 'data_sg_exp-03_trial-019.txt',\n",
       " 'data_sg_exp-03_trial-020.txt',\n",
       " 'data_sg_exp-03_trial-021.txt',\n",
       " 'data_sg_exp-03_trial-022.txt',\n",
       " 'data_sg_exp-03_trial-023.txt',\n",
       " 'data_sg_exp-03_trial-024.txt',\n",
       " 'data_sg_exp-03_trial-025.txt',\n",
       " 'data_sg_exp-03_trial-026.txt',\n",
       " 'data_sg_exp-03_trial-027.txt',\n",
       " 'data_sg_exp-03_trial-028.txt',\n",
       " 'data_sg_exp-03_trial-029.txt',\n",
       " 'data_sg_exp-03_trial-030.txt',\n",
       " 'data_sg_exp-03_trial-031.txt',\n",
       " 'data_sg_exp-03_trial-032.txt',\n",
       " 'data_sg_exp-03_trial-033.txt',\n",
       " 'data_sg_exp-03_trial-034.txt',\n",
       " 'data_sg_exp-03_trial-035.txt',\n",
       " 'data_sg_exp-03_trial-036.txt',\n",
       " 'data_sg_exp-03_trial-037.txt',\n",
       " 'data_sg_exp-03_trial-038.txt',\n",
       " 'data_sg_exp-03_trial-039.txt',\n",
       " 'data_sg_exp-03_trial-040.txt',\n",
       " 'data_sg_exp-03_trial-041.txt',\n",
       " 'data_sg_exp-03_trial-042.txt',\n",
       " 'data_sg_exp-03_trial-043.txt',\n",
       " 'data_sg_exp-03_trial-044.txt',\n",
       " 'data_sg_exp-03_trial-045.txt',\n",
       " 'data_sg_exp-03_trial-046.txt',\n",
       " 'data_sg_exp-03_trial-047.txt',\n",
       " 'data_sg_exp-03_trial-048.txt',\n",
       " 'data_sg_exp-03_trial-049.txt',\n",
       " 'data_sg_exp-03_trial-050.txt']"
      ]
     },
     "execution_count": 10,
     "metadata": {},
     "output_type": "execute_result"
    }
   ],
   "source": [
    "#each experiment must have 50 trials, damn\n",
    "human_experiments = []\n",
    "for i in range(1,4):\n",
    "    for j in range(1,51):\n",
    "        human_experiments.append(f'data_sg_exp-{i:02}_trial-{j:03}.txt' )\n",
    "human_experiments"
   ]
  },
  {
   "cell_type": "markdown",
   "id": "c11d7b50",
   "metadata": {},
   "source": [
    "Poopy Froopy"
   ]
  },
  {
   "cell_type": "code",
   "execution_count": 13,
   "id": "c6c61804",
   "metadata": {},
   "outputs": [
    {
     "data": {
      "text/plain": [
       "True"
      ]
     },
     "execution_count": 13,
     "metadata": {},
     "output_type": "execute_result"
    }
   ],
   "source": [
    "fruits = [\"apple\", \"banana\", \"pineapple\", \"jackfruit\",\n",
    "        \"peach\", \"durian\", \"watermelon\", \"mango\",\n",
    "        \"strawberry\", \"passionfruit\"]\n",
    "#get cheesed\n",
    "\"mango\" in fruits"
   ]
  },
  {
   "cell_type": "code",
   "execution_count": 15,
   "id": "b4861c21",
   "metadata": {},
   "outputs": [
    {
     "data": {
      "text/plain": [
       "[['a', 'e'],\n",
       " ['b', 'a'],\n",
       " ['p', 'e'],\n",
       " ['j', 't'],\n",
       " ['p', 'h'],\n",
       " ['d', 'n'],\n",
       " ['w', 'n'],\n",
       " ['m', 'o'],\n",
       " ['s', 'y'],\n",
       " ['p', 't']]"
      ]
     },
     "execution_count": 15,
     "metadata": {},
     "output_type": "execute_result"
    }
   ],
   "source": [
    "fruits = [\"apple\", \"banana\", \"pineapple\", \"jackfruit\",\n",
    "        \"peach\", \"durian\", \"watermelon\", \"mango\",\n",
    "        \"strawberry\", \"passionfruit\"]\n",
    "start_end_list = []\n",
    "for i in fruits:\n",
    "    start_end_list.append([i[0], i[-1]])\n",
    "start_end_list"
   ]
  },
  {
   "cell_type": "code",
   "execution_count": 16,
   "id": "661b9429",
   "metadata": {},
   "outputs": [
    {
     "data": {
      "text/plain": [
       "['apple',\n",
       " 'banana',\n",
       " 'PINEAPPLE',\n",
       " 'jackfruit',\n",
       " 'PEACH',\n",
       " 'durian',\n",
       " 'watermelon',\n",
       " 'mango',\n",
       " 'strawberry',\n",
       " 'PASSIONFRUIT']"
      ]
     },
     "execution_count": 16,
     "metadata": {},
     "output_type": "execute_result"
    }
   ],
   "source": [
    "fruits = [\"apple\", \"banana\", \"pineapple\", \"jackfruit\",\n",
    "        \"peach\", \"durian\", \"watermelon\", \"mango\",\n",
    "        \"strawberry\", \"passionfruit\"]\n",
    "non_p_discrimination = []\n",
    "for i in fruits:\n",
    "    if i[0] == \"p\":\n",
    "        non_p_discrimination.append(i.upper())\n",
    "    else:\n",
    "        non_p_discrimination.append(i.lower()) #This is not needed and I am doing it just because I can.\n",
    "non_p_discrimination"
   ]
  },
  {
   "cell_type": "code",
   "execution_count": 21,
   "id": "7b43574b",
   "metadata": {
    "scrolled": true
   },
   "outputs": [
    {
     "data": {
      "text/plain": [
       "['apple',\n",
       " 'banana',\n",
       " 'pineapple',\n",
       " 'jackfruit',\n",
       " 'peach',\n",
       " 'durian',\n",
       " 'watermelon',\n",
       " 'mango',\n",
       " 'strawberry',\n",
       " 'passionfruit',\n",
       " 'dragon fruit',\n",
       " 'apricots',\n",
       " 'oranges']"
      ]
     },
     "execution_count": 21,
     "metadata": {},
     "output_type": "execute_result"
    }
   ],
   "source": [
    "fruits = [\"apple\", \"banana\", \"pineapple\", \"jackfruit\",\n",
    "        \"peach\", \"durian\", \"watermelon\", \"mango\",\n",
    "        \"strawberry\", \"passionfruit\"]\n",
    "i_love_fruits = [\"dragon fruit\", \"apricots\", \"oranges\"]\n",
    "fruits.extend(i_love_fruits)\n",
    "fruits"
   ]
  },
  {
   "cell_type": "code",
   "execution_count": 28,
   "id": "e4c96384",
   "metadata": {},
   "outputs": [
    {
     "data": {
      "text/plain": [
       "['apple',\n",
       " 'banana',\n",
       " 'pineapple',\n",
       " 'jackfruit',\n",
       " 'peach',\n",
       " 'durian',\n",
       " 'watermelon',\n",
       " 'mango',\n",
       " 'strawberry',\n",
       " 'passionfruit',\n",
       " 'dragon fruit',\n",
       " 'apricots',\n",
       " 'oranges']"
      ]
     },
     "execution_count": 28,
     "metadata": {},
     "output_type": "execute_result"
    }
   ],
   "source": [
    "fruits = [\"apple\", \"banana\", \"pineapple\", \"jackfruit\",\n",
    "        \"peach\", \"durian\", \"watermelon\", \"mango\",\n",
    "        \"strawberry\", \"passionfruit\"]\n",
    "i_love_fruits = [\"dragon fruit\", \"apricots\", \"oranges\"]\n",
    "fruits = fruits + i_love_fruits\n",
    "fruits"
   ]
  },
  {
   "cell_type": "code",
   "execution_count": 26,
   "id": "2ea576f2",
   "metadata": {},
   "outputs": [
    {
     "data": {
      "text/plain": [
       "['dragon fruit',\n",
       " 'apricots',\n",
       " 'oranges',\n",
       " 'apple',\n",
       " 'banana',\n",
       " 'pineapple',\n",
       " 'jackfruit',\n",
       " 'peach',\n",
       " 'durian',\n",
       " 'watermelon',\n",
       " 'mango',\n",
       " 'strawberry',\n",
       " 'passionfruit']"
      ]
     },
     "execution_count": 26,
     "metadata": {},
     "output_type": "execute_result"
    }
   ],
   "source": [
    "fruits = [\"apple\", \"banana\", \"pineapple\", \"jackfruit\",\n",
    "        \"peach\", \"durian\", \"watermelon\", \"mango\",\n",
    "        \"strawberry\", \"passionfruit\"]\n",
    "i_love_fruits = [\"dragon fruit\", \"apricots\", \"oranges\"]\n",
    "fruits = i_love_fruits + fruits\n",
    "fruits"
   ]
  },
  {
   "cell_type": "code",
   "execution_count": 37,
   "id": "9757c438",
   "metadata": {},
   "outputs": [
    {
     "data": {
      "text/plain": [
       "['apple',\n",
       " 'banana',\n",
       " 'pineapple',\n",
       " 'jackfruit',\n",
       " 'dragon fruit',\n",
       " 'apricots',\n",
       " 'oranges',\n",
       " 'peach',\n",
       " 'durian',\n",
       " 'watermelon',\n",
       " 'mango',\n",
       " 'strawberry',\n",
       " 'passionfruit']"
      ]
     },
     "execution_count": 37,
     "metadata": {},
     "output_type": "execute_result"
    }
   ],
   "source": [
    "fruits = [\"apple\", \"banana\", \"pineapple\", \"jackfruit\",\n",
    "        \"peach\", \"durian\", \"watermelon\", \"mango\",\n",
    "        \"strawberry\", \"passionfruit\"]\n",
    "i_love_fruits = [\"dragon fruit\", \"apricots\", \"oranges\"]\n",
    "i_love_fruits_reverse = i_love_fruits.copy()[::-1] #Copy here because lists are mutable and I dont want to change the original\n",
    "middle = (len(fruits)//2)-1\n",
    "for i in i_love_fruits_reverse:\n",
    "    fruits.insert(middle, i)\n",
    "fruits\n",
    "    "
   ]
  },
  {
   "cell_type": "code",
   "execution_count": 40,
   "id": "59aa7b37",
   "metadata": {},
   "outputs": [
    {
     "data": {
      "text/plain": [
       "['pineapple', 'jackfruit', 'watermelon', 'strawberry', 'passionfruit']"
      ]
     },
     "execution_count": 40,
     "metadata": {},
     "output_type": "execute_result"
    }
   ],
   "source": [
    "fruits = [\"apple\", \"banana\", \"pineapple\", \"jackfruit\",\n",
    "        \"peach\", \"durian\", \"watermelon\", \"mango\",\n",
    "        \"strawberry\", \"passionfruit\"]\n",
    "size_is_all_that_matters = [i for i in fruits if len(i)>8]\n",
    "size_is_all_that_matters"
   ]
  },
  {
   "cell_type": "markdown",
   "id": "f17f6c70",
   "metadata": {},
   "source": [
    "Exercise 3"
   ]
  },
  {
   "cell_type": "code",
   "execution_count": 49,
   "id": "ef4f4512",
   "metadata": {},
   "outputs": [
    {
     "data": {
      "text/plain": [
       "[0, 1, 1, 2, 3, 5, 8, 13, 21, 34, 55, 89, 144, 233, 377]"
      ]
     },
     "execution_count": 49,
     "metadata": {},
     "output_type": "execute_result"
    }
   ],
   "source": [
    "fibonnaci=[0, 1]\n",
    "for i in range(13): #This one is 12 because I already have 2 elements\n",
    "    fibonnaci.append( fibonnaci[i] + fibonnaci[i+1]) #Parenthesis for clarity\n",
    "fibonnaci"
   ]
  },
  {
   "cell_type": "code",
   "execution_count": 53,
   "id": "a1e90e49",
   "metadata": {},
   "outputs": [
    {
     "data": {
      "text/plain": [
       "[0, 1, 1, 2, 3, 5, 8, 13, 21, 34, 55, 89, 144, 233, 377]"
      ]
     },
     "execution_count": 53,
     "metadata": {},
     "output_type": "execute_result"
    }
   ],
   "source": [
    "fibonnaci=[0, 1]\n",
    "for i in range(13):\n",
    "    fibonnaci.append(sum(fibonnaci[-2:])) #Parenthesis for clarity\n",
    "fibonnaci"
   ]
  },
  {
   "cell_type": "markdown",
   "id": "d1734dc5",
   "metadata": {},
   "source": [
    "Exercise 4"
   ]
  },
  {
   "cell_type": "code",
   "execution_count": 76,
   "id": "dfd365dd",
   "metadata": {},
   "outputs": [
    {
     "data": {
      "text/plain": [
       "[0,\n",
       " 1,\n",
       " 1,\n",
       " 2,\n",
       " 3,\n",
       " 5,\n",
       " 8,\n",
       " 13,\n",
       " 21,\n",
       " 34,\n",
       " 55,\n",
       " 89,\n",
       " 144,\n",
       " 233,\n",
       " 377,\n",
       " 610,\n",
       " 987,\n",
       " 1597,\n",
       " 2584,\n",
       " 4181,\n",
       " 6765,\n",
       " 10946,\n",
       " 17711,\n",
       " 28657,\n",
       " 46368,\n",
       " 75025,\n",
       " 121393,\n",
       " 196418,\n",
       " 317811,\n",
       " 514229,\n",
       " 832040,\n",
       " 1346269,\n",
       " 2178309,\n",
       " 3524578,\n",
       " 5702887,\n",
       " 9227465,\n",
       " 14930352,\n",
       " 24157817,\n",
       " 39088169,\n",
       " 63245986,\n",
       " 102334155,\n",
       " 165580141,\n",
       " 267914296,\n",
       " 433494437,\n",
       " 701408733,\n",
       " 1134903170,\n",
       " 1836311903,\n",
       " 2971215073,\n",
       " 4807526976,\n",
       " 7778742049,\n",
       " 12586269025]"
      ]
     },
     "execution_count": 76,
     "metadata": {},
     "output_type": "execute_result"
    }
   ],
   "source": [
    "#I am copying code\n",
    "def fibonnaci(n):\n",
    "    if n <= 0:\n",
    "        return \"Then don't call the function\"\n",
    "    elif n== 1:\n",
    "        return [0]\n",
    "    elif n == 2:\n",
    "        return [0,1]\n",
    "    starting = [0,1]\n",
    "    for i in range(n-1):\n",
    "        starting.append(starting[i] + starting[i+1])\n",
    "    return starting\n",
    "fibonnaci(50)"
   ]
  },
  {
   "cell_type": "code",
   "execution_count": 77,
   "id": "3cdd4011",
   "metadata": {},
   "outputs": [
    {
     "data": {
      "text/plain": [
       "[0,\n",
       " 1,\n",
       " 1,\n",
       " 2,\n",
       " 3,\n",
       " 5,\n",
       " 8,\n",
       " 13,\n",
       " 21,\n",
       " 34,\n",
       " 55,\n",
       " 89,\n",
       " 144,\n",
       " 233,\n",
       " 377,\n",
       " 610,\n",
       " 987,\n",
       " 1597,\n",
       " 2584,\n",
       " 4181,\n",
       " 6765,\n",
       " 10946,\n",
       " 17711,\n",
       " 28657,\n",
       " 46368,\n",
       " 75025,\n",
       " 121393,\n",
       " 196418,\n",
       " 317811,\n",
       " 514229,\n",
       " 832040,\n",
       " 1346269,\n",
       " 2178309,\n",
       " 3524578,\n",
       " 5702887,\n",
       " 9227465,\n",
       " 14930352,\n",
       " 24157817,\n",
       " 39088169,\n",
       " 63245986,\n",
       " 102334155,\n",
       " 165580141,\n",
       " 267914296,\n",
       " 433494437,\n",
       " 701408733,\n",
       " 1134903170,\n",
       " 1836311903,\n",
       " 2971215073,\n",
       " 4807526976,\n",
       " 7778742049,\n",
       " 12586269025]"
      ]
     },
     "execution_count": 77,
     "metadata": {},
     "output_type": "execute_result"
    }
   ],
   "source": [
    "def fibonnaci(n):\n",
    "    if n <= 0:\n",
    "        return \"Then don't call the function\"\n",
    "    elif n== 1:\n",
    "        return [0]\n",
    "    elif n == 2:\n",
    "        return [0,1]\n",
    "    starting=[0, 1]\n",
    "    for i in range(n-1):\n",
    "        starting.append(sum(starting[-2:])) #Parenthesis for clarity\n",
    "    return starting\n",
    "fibonnaci(50)"
   ]
  },
  {
   "cell_type": "code",
   "execution_count": 73,
   "id": "f02cff7f",
   "metadata": {},
   "outputs": [
    {
     "data": {
      "text/plain": [
       "83"
      ]
     },
     "execution_count": 73,
     "metadata": {},
     "output_type": "execute_result"
    }
   ],
   "source": [
    "def max_info(number):\n",
    "    my_max = number[0]\n",
    "    for i in number:\n",
    "        if i > my_max:\n",
    "            my_max = i\n",
    "    return my_max\n",
    "numbers = [40, 27, 83, 44, 74, 51, 76, 77, 10, 49]\n",
    "max_info(numbers)"
   ]
  },
  {
   "cell_type": "code",
   "execution_count": 80,
   "id": "97f2f95a",
   "metadata": {},
   "outputs": [
    {
     "name": "stdout",
     "output_type": "stream",
     "text": [
      "['A', 'G', 'G', 'C', 'A', 'A', 'G', 'A', 'A', 'G', 'C', 'T', 'A', 'G', 'A', 'A', 'T', 'T', 'C', 'T', 'G', 'G', 'C', 'C', 'T', 'G', 'A', 'G', 'T', 'A', 'T', 'C', 'T', 'C', 'A', 'G', 'T', 'A', 'C', 'A', 'G', 'G', 'C', 'G', 'C', 'A', 'G', 'T', 'C', 'G', 'A', 'A', 'T', 'C', 'T', 'T', 'C', 'C', 'G', 'G', 'A', 'A', 'T', 'C', 'A', 'C', 'A', 'T', 'T', 'G', 'C', 'T', 'C', 'G', 'C', 'G', 'C', 'T', 'T', 'A', 'A', 'A', 'C', 'C', 'C', 'G', 'C', 'T', 'C', 'T', 'A', 'A', 'A', 'C', 'C', 'T', 'T', 'T', 'G', 'A', 'G', 'T', 'A', 'A', 'T', 'T', 'C', 'G', 'A', 'C', 'G', 'A', 'C', 'A', 'T', 'T', 'G', 'G', 'G', 'T', 'T', 'C', 'C', 'C', 'T', 'C', 'C', 'G', 'A', 'C', 'G', 'C', 'T', 'G', 'T', 'C', 'T', 'G', 'A', 'C', 'A', 'A', 'C', 'T', 'C', 'T', 'T', 'T', 'A', 'A', 'G', 'A', 'T', 'C', 'C', 'T', 'T', 'G', 'G', 'C', 'A', 'C', 'G', 'A', 'T', 'G', 'T', 'C', 'G', 'A', 'T', 'A', 'G', 'A', 'C', 'A', 'T', 'T', 'G', 'T', 'C', 'C', 'C', 'T', 'G', 'A', 'T', 'G', 'A', 'C', 'G', 'C', 'C', 'T', 'C', 'A', 'C', 'A', 'A', 'G', 'G', 'T', 'A', 'A', 'C', 'C', 'T', 'G', 'G', 'C', 'T', 'C', 'T', 'A', 'G', 'T', 'A', 'G', 'G', 'G', 'T', 'G', 'G', 'T', 'C', 'T', 'T', 'T', 'G', 'C', 'T', 'G', 'C', 'G', 'G', 'A', 'A', 'C', 'T', 'T', 'A', 'C', 'C', 'A', 'C', 'C', 'T', 'G', 'G', 'T', 'G', 'G', 'A', 'T', 'C', 'C', 'A', 'A', 'G', 'C', 'A', 'C', 'C', 'A', 'G', 'A', 'G', 'G', 'A', 'G', 'T', 'T', 'C', 'G', 'A', 'A', 'G', 'A', 'G', 'G', 'C', 'T', 'G', 'G', 'G', 'G', 'T', 'A', 'C', 'C', 'C', 'C', 'C', 'T', 'A', 'T', 'T', 'T', 'A', 'G', 'G', 'A', 'A', 'G', 'G', 'G', 'C', 'G', 'A', 'G', 'A', 'C', 'T', 'A', 'C', 'G', 'G', 'T', 'C', 'A', 'C', 'A', 'A', 'A', 'T', 'T', 'C', 'C', 'A', 'A', 'A', 'T', 'G', 'G', 'C', 'T', 'T', 'C', 'C', 'C', 'T', 'C', 'G', 'A', 'T', 'T', 'C', 'A', 'T', 'G', 'A', 'C', 'G', 'C', 'C', 'A', 'G', 'A', 'A', 'T', 'G', 'C', 'C', 'T', 'G', 'G', 'C', 'T', 'G', 'T', 'G', 'C', 'C', 'A', 'A', 'T', 'T', 'T', 'G', 'T', 'C', 'G', 'C', 'C', 'T', 'T', 'G', 'C', 'G', 'T', 'C', 'G', 'T', 'T', 'C', 'T', 'G', 'T', 'C', 'A', 'A', 'T', 'C', 'T', 'T', 'T', 'A', 'C', 'T', 'C', 'G', 'T', 'G', 'T', 'C', 'G', 'T', 'G', 'T', 'T', 'G', 'T', 'G', 'A', 'T', 'A', 'A', 'A', 'T', 'G', 'A', 'C', 'A', 'A', 'A', 'C', 'C', 'C', 'T', 'G', 'C', 'A', 'C', 'A', 'A', 'C', 'G', 'T', 'A', 'G', 'G', 'G', 'C', 'T', 'C', 'A', 'C', 'A', 'C', 'A', 'A', 'G', 'G', 'G', 'A', 'A', 'T', 'C', 'T', 'A', 'G', 'A', 'G', 'T', 'A', 'T', 'C', 'C', 'G', 'A', 'T', 'A', 'C', 'A', 'G', 'G', 'G', 'A', 'G', 'C', 'T', 'T', 'T', 'A', 'G', 'C', 'T', 'T', 'C', 'C', 'G', 'T', 'C', 'C', 'C', 'T', 'T', 'A', 'T', 'A', 'G', 'C', 'C', 'T', 'G', 'C', 'C', 'A', 'T', 'A', 'T', 'T', 'C', 'T', 'T', 'G', 'C', 'G', 'G', 'T', 'A', 'G', 'C', 'A', 'C', 'G', 'A', 'G', 'C', 'C', 'T', 'C', 'A', 'G', 'A', 'T', 'C', 'T', 'T', 'C', 'T', 'C', 'A', 'C', 'T', 'C', 'C', 'G', 'G', 'A', 'A', 'A', 'T', 'G', 'G', 'G', 'A', 'G', 'C', 'T', 'T', 'C', 'G', 'A', 'C', 'G', 'G', 'T', 'C', 'A', 'A', 'G', 'G', 'G', 'C', 'T', 'A', 'A', 'G', 'A', 'C', 'G', 'T', 'C', 'T', 'T', 'C', 'G', 'G', 'G', 'A', 'G', 'A', 'A', 'A', 'T', 'A', 'C', 'C', 'T', 'A', 'G', 'G', 'C', 'G', 'A', 'T', 'G', 'A', 'C', 'C', 'C', 'T', 'G', 'A', 'G', 'T', 'G', 'G', 'T', 'T', 'T', 'T', 'C', 'C', 'G', 'C', 'G', 'T', 'A', 'T', 'A', 'A', 'C', 'T', 'C', 'A', 'T', 'C', 'C', 'T', 'G', 'G', 'T', 'T', 'G', 'C', 'A', 'A', 'A', 'T', 'G', 'A', 'T', 'T', 'A', 'C', 'C', 'G', 'T', 'T', 'A', 'T', 'A', 'G', 'C', 'C', 'T', 'G', 'G', 'G', 'G', 'A', 'T', 'A', 'T', 'G', 'C', 'C', 'T', 'C', 'A', 'A', 'T', 'T', 'C', 'C', 'G', 'A', 'A', 'C', 'C', 'C', 'A', 'G', 'G', 'A', 'G', 'C', 'A', 'T', 'C', 'A', 'C', 'T', 'C', 'G', 'A', 'G', 'C', 'A', 'A', 'T', 'A', 'G', 'C', 'G', 'G', 'T', 'A', 'A', 'A', 'G', 'G', 'A', 'G', 'G', 'C', 'T', 'A', 'T', 'T', 'A', 'G', 'C', 'A', 'A', 'A', 'A', 'T', 'T', 'G', 'T', 'C', 'A', 'C', 'G', 'A', 'T', 'A', 'A', 'G', 'C', 'G', 'C', 'C', 'G', 'T', 'T', 'G', 'T', 'A', 'G', 'T', 'G', 'A', 'A', 'A', 'T', 'T', 'A', 'A', 'G', 'A', 'T', 'A', 'C', 'A', 'T', 'A', 'C', 'A', 'T', 'C', 'G', 'T', 'T', 'T', 'A', 'G', 'C', 'A', 'C', 'A', 'T', 'C', 'A', 'C', 'T', 'C', 'T', 'C', 'A', 'C', 'G', 'G', 'C', 'G', 'T', 'C', 'T', 'A', 'G', 'A', 'A', 'G', 'C', 'T', 'G', 'A', 'T', 'C', 'T', 'T', 'C', 'A', 'T', 'A', 'T', 'G', 'C', 'T', 'G', 'A', 'C', 'T', 'C', 'A', 'G', 'A', 'A', 'G', 'G', 'C', 'T', 'C', 'G', 'G', 'A', 'T', 'A', 'A', 'T', 'A', 'G', 'A', 'G', 'G', 'A', 'C', 'G', 'A', 'A', 'G', 'G', 'T', 'A', 'G', 'T', 'T', 'T', 'A', 'C', 'T', 'C', 'A', 'T', 'C', 'G', 'C', 'T', 'G', 'C', 'C', 'C', 'C', 'G', 'A', 'C', 'T', 'A', 'T', 'T', 'A', 'C', 'G', 'T', 'G', 'T', 'G', 'C', 'A', 'T', 'G', 'A', 'T', 'A', 'A', 'A', 'G', 'T', 'C', 'T', 'G', 'A', 'C', 'C', 'C', 'T', 'G', 'A', 'C', 'G', 'T', 'T', 'C', 'C', 'C', 'A', 'A', 'G', 'C', 'C', 'G', 'A', 'G', 'G', 'C', 'A', 'G', 'A', 'G', 'G', 'G', 'G', 'T', 'T', 'T', 'T', 'A', 'C', 'G', 'C', 'T', 'G', 'A', 'A', 'T', 'G', 'T', 'C', 'C', 'G', 'C', 'T', 'C', 'T', 'C', 'T', 'G', 'T', 'C', 'G', 'G', 'A', 'T', 'G', 'A', 'T', 'T', 'T', 'C', 'G', 'G', 'A', 'A', 'G', 'C', 'T', 'G']\n"
     ]
    }
   ],
   "source": [
    "dna_string = \"AGGCAAGAAGCTAGAATTCTGGCCTGAGTATCTCAGTACAGGCGCAGTCGAATCTTCCGGAATCACATTGCTCGCGCTTAAACCCGCTCTAAACCTTTGAGTAATTCGACGACATTGGGTTCCCTCCGACGCTGTCTGACAACTCTTTAAGATCCTTGGCACGATGTCGATAGACATTGTCCCTGATGACGCCTCACAAGGTAACCTGGCTCTAGTAGGGTGGTCTTTGCTGCGGAACTTACCACCTGGTGGATCCAAGCACCAGAGGAGTTCGAAGAGGCTGGGGTACCCCCTATTTAGGAAGGGCGAGACTACGGTCACAAATTCCAAATGGCTTCCCTCGATTCATGACGCCAGAATGCCTGGCTGTGCCAATTTGTCGCCTTGCGTCGTTCTGTCAATCTTTACTCGTGTCGTGTTGTGATAAATGACAAACCCTGCACAACGTAGGGCTCACACAAGGGAATCTAGAGTATCCGATACAGGGAGCTTTAGCTTCCGTCCCTTATAGCCTGCCATATTCTTGCGGTAGCACGAGCCTCAGATCTTCTCACTCCGGAAATGGGAGCTTCGACGGTCAAGGGCTAAGACGTCTTCGGGAGAAATACCTAGGCGATGACCCTGAGTGGTTTTCCGCGTATAACTCATCCTGGTTGCAAATGATTACCGTTATAGCCTGGGGATATGCCTCAATTCCGAACCCAGGAGCATCACTCGAGCAATAGCGGTAAAGGAGGCTATTAGCAAAATTGTCACGATAAGCGCCGTTGTAGTGAAATTAAGATACATACATCGTTTAGCACATCACTCTCACGGCGTCTAGAAGCTGATCTTCATATGCTGACTCAGAAGGCTCGGATAATAGAGGACGAAGGTAGTTTACTCATCGCTGCCCCGACTATTACGTGTGCATGATAAAGTCTGACCCTGACGTTCCCAAGCCGAGGCAGAGGGGTTTTACGCTGAATGTCCGCTCTCTGTCGGATGATTTCGGAAGCTG\"\n",
    "dna_list = list(dna_string)\n",
    "print(dna_list)"
   ]
  },
  {
   "cell_type": "markdown",
   "id": "ca20c1a2",
   "metadata": {},
   "source": [
    "# Question: Why does converting this to a list immediately split my string for me?"
   ]
  },
  {
   "cell_type": "code",
   "execution_count": 82,
   "id": "17737c16",
   "metadata": {},
   "outputs": [
    {
     "data": {
      "text/plain": [
       "254"
      ]
     },
     "execution_count": 82,
     "metadata": {},
     "output_type": "execute_result"
    }
   ],
   "source": [
    "t_count = 0\n",
    "for i in dna_list:\n",
    "    if i ==\"T\":\n",
    "        t_count +=1\n",
    "t_count"
   ]
  },
  {
   "cell_type": "code",
   "execution_count": 86,
   "id": "8655fbb0",
   "metadata": {},
   "outputs": [
    {
     "data": {
      "text/plain": [
       "254"
      ]
     },
     "execution_count": 86,
     "metadata": {},
     "output_type": "execute_result"
    }
   ],
   "source": [
    "dna_list_t = [i for i in dna_list if i == 'T']\n",
    "len(dna_list_t)"
   ]
  },
  {
   "cell_type": "code",
   "execution_count": 87,
   "id": "edc5c639",
   "metadata": {},
   "outputs": [
    {
     "data": {
      "text/plain": [
       "{'A': 247, 'T': 254, 'C': 250, 'G': 249}"
      ]
     },
     "execution_count": 87,
     "metadata": {},
     "output_type": "execute_result"
    }
   ],
   "source": [
    "dna_count_dic = {\"A\":0,\n",
    "                \"T\":0,\n",
    "                \"C\":0,\n",
    "                \"G\":0}\n",
    "for i in dna_list:\n",
    "    dna_count_dic[i] += 1\n",
    "dna_count_dic"
   ]
  },
  {
   "cell_type": "code",
   "execution_count": 88,
   "id": "4a1d50cd",
   "metadata": {},
   "outputs": [
    {
     "data": {
      "text/plain": [
       "(array(['A', 'C', 'G', 'T'], dtype='<U1'),\n",
       " array([247, 250, 249, 254], dtype=int64))"
      ]
     },
     "execution_count": 88,
     "metadata": {},
     "output_type": "execute_result"
    }
   ],
   "source": [
    "np.unique(dna_list, return_counts = True)"
   ]
  },
  {
   "cell_type": "code",
   "execution_count": 91,
   "id": "f8c06cfa",
   "metadata": {},
   "outputs": [
    {
     "data": {
      "text/plain": [
       "['AGGC',\n",
       " 'AAGA',\n",
       " 'AGCT',\n",
       " 'AGAA',\n",
       " 'TTCT',\n",
       " 'GGCC',\n",
       " 'TGAG',\n",
       " 'TATC',\n",
       " 'TCAG',\n",
       " 'TACA',\n",
       " 'GGCG',\n",
       " 'CAGT',\n",
       " 'CGAA',\n",
       " 'TCTT',\n",
       " 'CCGG',\n",
       " 'AATC',\n",
       " 'ACAT',\n",
       " 'TGCT',\n",
       " 'CGCG',\n",
       " 'CTTA',\n",
       " 'AACC',\n",
       " 'CGCT',\n",
       " 'CTAA',\n",
       " 'ACCT',\n",
       " 'TTGA',\n",
       " 'GTAA',\n",
       " 'TTCG',\n",
       " 'ACGA',\n",
       " 'CATT',\n",
       " 'GGGT',\n",
       " 'TCCC',\n",
       " 'TCCG',\n",
       " 'ACGC',\n",
       " 'TGTC',\n",
       " 'TGAC',\n",
       " 'AACT',\n",
       " 'CTTT',\n",
       " 'AAGA',\n",
       " 'TCCT',\n",
       " 'TGGC',\n",
       " 'ACGA',\n",
       " 'TGTC',\n",
       " 'GATA',\n",
       " 'GACA',\n",
       " 'TTGT',\n",
       " 'CCCT',\n",
       " 'GATG',\n",
       " 'ACGC',\n",
       " 'CTCA',\n",
       " 'CAAG',\n",
       " 'GTAA',\n",
       " 'CCTG',\n",
       " 'GCTC',\n",
       " 'TAGT',\n",
       " 'AGGG',\n",
       " 'TGGT',\n",
       " 'CTTT',\n",
       " 'GCTG',\n",
       " 'CGGA',\n",
       " 'ACTT',\n",
       " 'ACCA',\n",
       " 'CCTG',\n",
       " 'GTGG',\n",
       " 'ATCC',\n",
       " 'AAGC',\n",
       " 'ACCA',\n",
       " 'GAGG',\n",
       " 'AGTT',\n",
       " 'CGAA',\n",
       " 'GAGG',\n",
       " 'CTGG',\n",
       " 'GGTA',\n",
       " 'CCCC',\n",
       " 'CTAT',\n",
       " 'TTAG',\n",
       " 'GAAG',\n",
       " 'GGCG',\n",
       " 'AGAC',\n",
       " 'TACG',\n",
       " 'GTCA',\n",
       " 'CAAA',\n",
       " 'TTCC',\n",
       " 'AAAT',\n",
       " 'GGCT',\n",
       " 'TCCC',\n",
       " 'TCGA',\n",
       " 'TTCA',\n",
       " 'TGAC',\n",
       " 'GCCA',\n",
       " 'GAAT',\n",
       " 'GCCT',\n",
       " 'GGCT',\n",
       " 'GTGC',\n",
       " 'CAAT',\n",
       " 'TTGT',\n",
       " 'CGCC',\n",
       " 'TTGC',\n",
       " 'GTCG',\n",
       " 'TTCT',\n",
       " 'GTCA',\n",
       " 'ATCT',\n",
       " 'TTAC',\n",
       " 'TCGT',\n",
       " 'GTCG',\n",
       " 'TGTT',\n",
       " 'GTGA',\n",
       " 'TAAA',\n",
       " 'TGAC',\n",
       " 'AAAC',\n",
       " 'CCTG',\n",
       " 'CACA',\n",
       " 'ACGT',\n",
       " 'AGGG',\n",
       " 'CTCA',\n",
       " 'CACA',\n",
       " 'AGGG',\n",
       " 'AATC',\n",
       " 'TAGA',\n",
       " 'GTAT',\n",
       " 'CCGA',\n",
       " 'TACA',\n",
       " 'GGGA',\n",
       " 'GCTT',\n",
       " 'TAGC',\n",
       " 'TTCC',\n",
       " 'GTCC',\n",
       " 'CTTA',\n",
       " 'TAGC',\n",
       " 'CTGC',\n",
       " 'CATA',\n",
       " 'TTCT',\n",
       " 'TGCG',\n",
       " 'GTAG',\n",
       " 'CACG',\n",
       " 'AGCC',\n",
       " 'TCAG',\n",
       " 'ATCT',\n",
       " 'TCTC',\n",
       " 'ACTC',\n",
       " 'CGGA',\n",
       " 'AATG',\n",
       " 'GGAG',\n",
       " 'CTTC',\n",
       " 'GACG',\n",
       " 'GTCA',\n",
       " 'AGGG',\n",
       " 'CTAA',\n",
       " 'GACG',\n",
       " 'TCTT',\n",
       " 'CGGG',\n",
       " 'AGAA',\n",
       " 'ATAC',\n",
       " 'CTAG',\n",
       " 'GCGA',\n",
       " 'TGAC',\n",
       " 'CCTG',\n",
       " 'AGTG',\n",
       " 'GTTT',\n",
       " 'TCCG',\n",
       " 'CGTA',\n",
       " 'TAAC',\n",
       " 'TCAT',\n",
       " 'CCTG',\n",
       " 'GTTG',\n",
       " 'CAAA',\n",
       " 'TGAT',\n",
       " 'TACC',\n",
       " 'GTTA',\n",
       " 'TAGC',\n",
       " 'CTGG',\n",
       " 'GGAT',\n",
       " 'ATGC',\n",
       " 'CTCA',\n",
       " 'ATTC',\n",
       " 'CGAA',\n",
       " 'CCCA',\n",
       " 'GGAG',\n",
       " 'CATC',\n",
       " 'ACTC',\n",
       " 'GAGC',\n",
       " 'AATA',\n",
       " 'GCGG',\n",
       " 'TAAA',\n",
       " 'GGAG',\n",
       " 'GCTA',\n",
       " 'TTAG',\n",
       " 'CAAA',\n",
       " 'ATTG',\n",
       " 'TCAC',\n",
       " 'GATA',\n",
       " 'AGCG',\n",
       " 'CCGT',\n",
       " 'TGTA',\n",
       " 'GTGA',\n",
       " 'AATT',\n",
       " 'AAGA',\n",
       " 'TACA',\n",
       " 'TACA',\n",
       " 'TCGT',\n",
       " 'TTAG',\n",
       " 'CACA',\n",
       " 'TCAC',\n",
       " 'TCTC',\n",
       " 'ACGG',\n",
       " 'CGTC',\n",
       " 'TAGA',\n",
       " 'AGCT',\n",
       " 'GATC',\n",
       " 'TTCA',\n",
       " 'TATG',\n",
       " 'CTGA',\n",
       " 'CTCA',\n",
       " 'GAAG',\n",
       " 'GCTC',\n",
       " 'GGAT',\n",
       " 'AATA',\n",
       " 'GAGG',\n",
       " 'ACGA',\n",
       " 'AGGT',\n",
       " 'AGTT',\n",
       " 'TACT',\n",
       " 'CATC',\n",
       " 'GCTG',\n",
       " 'CCCC',\n",
       " 'GACT',\n",
       " 'ATTA',\n",
       " 'CGTG',\n",
       " 'TGCA',\n",
       " 'TGAT',\n",
       " 'AAAG',\n",
       " 'TCTG',\n",
       " 'ACCC',\n",
       " 'TGAC',\n",
       " 'GTTC',\n",
       " 'CCAA',\n",
       " 'GCCG',\n",
       " 'AGGC',\n",
       " 'AGAG',\n",
       " 'GGGT',\n",
       " 'TTTA',\n",
       " 'CGCT',\n",
       " 'GAAT',\n",
       " 'GTCC',\n",
       " 'GCTC',\n",
       " 'TCTG',\n",
       " 'TCGG',\n",
       " 'ATGA',\n",
       " 'TTTC',\n",
       " 'GGAA',\n",
       " 'GCTG']"
      ]
     },
     "execution_count": 91,
     "metadata": {},
     "output_type": "execute_result"
    }
   ],
   "source": [
    "quadrons_dafaq = [dna_string[i:i+4] for i in range(0, len(dna_string), 4)]\n",
    "quadrons_dafaq"
   ]
  }
 ],
 "metadata": {
  "hide_input": false,
  "kernelspec": {
   "display_name": "Python 3 (ipykernel)",
   "language": "python",
   "name": "python3"
  },
  "language_info": {
   "codemirror_mode": {
    "name": "ipython",
    "version": 3
   },
   "file_extension": ".py",
   "mimetype": "text/x-python",
   "name": "python",
   "nbconvert_exporter": "python",
   "pygments_lexer": "ipython3",
   "version": "3.9.15"
  },
  "toc": {
   "base_numbering": 1,
   "nav_menu": {},
   "number_sections": true,
   "sideBar": true,
   "skip_h1_title": false,
   "title_cell": "Table of Contents",
   "title_sidebar": "Contents",
   "toc_cell": false,
   "toc_position": {},
   "toc_section_display": true,
   "toc_window_display": false
  },
  "varInspector": {
   "cols": {
    "lenName": 16,
    "lenType": 16,
    "lenVar": 40
   },
   "kernels_config": {
    "python": {
     "delete_cmd_postfix": "",
     "delete_cmd_prefix": "del ",
     "library": "var_list.py",
     "varRefreshCmd": "print(var_dic_list())"
    },
    "r": {
     "delete_cmd_postfix": ") ",
     "delete_cmd_prefix": "rm(",
     "library": "var_list.r",
     "varRefreshCmd": "cat(var_dic_list()) "
    }
   },
   "types_to_exclude": [
    "module",
    "function",
    "builtin_function_or_method",
    "instance",
    "_Feature"
   ],
   "window_display": false
  }
 },
 "nbformat": 4,
 "nbformat_minor": 5
}
