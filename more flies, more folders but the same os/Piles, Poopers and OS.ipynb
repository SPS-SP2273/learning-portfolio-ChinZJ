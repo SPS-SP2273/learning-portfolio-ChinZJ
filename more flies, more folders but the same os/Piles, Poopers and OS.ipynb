{
 "cells": [
  {
   "cell_type": "markdown",
   "id": "7807b0f4",
   "metadata": {},
   "source": [
    "## . means current folder, and .. means one folder up."
   ]
  },
  {
   "cell_type": "markdown",
   "id": "b734988b",
   "metadata": {},
   "source": [
    "## Windows uses \\ as the path separator"
   ]
  },
  {
   "cell_type": "code",
   "execution_count": 1,
   "id": "3ed559d8",
   "metadata": {},
   "outputs": [
    {
     "name": "stdout",
     "output_type": "stream",
     "text": [
      "Light Intensity, Ch A vs Actual Angular Position, Run #4\n",
      "Actual Angular Position (  )\tLight Intensity, Ch A ( % max )\n",
      "0.000\t-0.2\n",
      "0.000\t-0.1\n",
      "0.000\t-0.1\n",
      "0.000\t-0.1\n",
      "0.000\t-0.1\n",
      "0.000\t-0.2\n",
      "0.000\t-0.1\n",
      "0.000\t-0.1\n",
      "0.000\t-0.1\n",
      "0.000\t-0.2\n",
      "0.000\t-0.1\n",
      "0.000\t-0.1\n",
      "0.000\t-0.2\n",
      "0.000\t-0.3\n",
      "0.000\t-0.2\n",
      "0.000\t-0.2\n",
      "0.001\t-0.1\n",
      "0.001\t-0.1\n",
      "0.001\t-0.1\n",
      "0.001\t-0.1\n",
      "0.001\t-0.1\n",
      "0.001\t-0.1\n",
      "0.004\t-0.1\n",
      "0.010\t-0.2\n",
      "0.018\t-0.2\n",
      "0.024\t-0.3\n",
      "0.029\t-0.3\n",
      "0.033\t-0.3\n",
      "0.036\t-0.2\n",
      "0.039\t-0.1\n",
      "0.043\t-0.1\n",
      "0.047\t-0.1\n",
      "0.053\t-0.1\n",
      "0.060\t-0.1\n",
      "0.066\t-0.1\n",
      "0.069\t-0.1\n",
      "0.073\t-0.1\n",
      "0.076\t-0.1\n",
      "0.079\t-0.1\n",
      "0.081\t-0.1\n",
      "0.082\t-0.1\n",
      "0.083\t-0.2\n",
      "0.083\t-0.2\n",
      "0.086\t-0.2\n",
      "0.090\t-0.2\n",
      "0.095\t-0.2\n",
      "0.100\t-0.3\n",
      "0.103\t-0.3\n",
      "0.104\t-0.2\n",
      "0.105\t-0.3\n",
      "0.107\t-0.2\n",
      "0.110\t-0.2\n",
      "0.115\t-0.1\n",
      "0.122\t-0.2\n",
      "0.128\t-0.1\n",
      "0.134\t-0.2\n",
      "0.139\t-0.1\n",
      "0.144\t-0.2\n",
      "0.150\t-0.2\n",
      "0.157\t-0.2\n",
      "0.164\t-0.2\n",
      "0.170\t-0.3\n",
      "0.175\t-0.3\n",
      "0.180\t-0.2\n",
      "0.185\t-0.2\n",
      "0.191\t-0.1\n",
      "0.195\t-0.1\n",
      "0.198\t-0.2\n",
      "0.201\t-0.1\n",
      "0.204\t-0.2\n",
      "0.206\t-0.2\n",
      "0.208\t-0.3\n",
      "0.210\t-0.3\n",
      "0.213\t-0.1\n",
      "0.217\t0.3\n",
      "0.222\t0.6\n",
      "0.226\t0.2\n",
      "0.230\t0.0\n",
      "0.233\t-0.1\n",
      "0.235\t-0.1\n",
      "0.237\t-0.1\n",
      "0.237\t-0.1\n",
      "0.238\t-0.1\n",
      "0.241\t-0.1\n",
      "0.245\t-0.1\n",
      "0.249\t-0.1\n",
      "0.252\t-0.1\n",
      "0.254\t-0.2\n",
      "0.257\t-0.2\n",
      "0.260\t-0.2\n",
      "0.263\t-0.3\n",
      "0.266\t-0.3\n",
      "0.269\t-0.2\n",
      "0.271\t-0.1\n",
      "0.274\t-0.1\n",
      "0.277\t-0.2\n",
      "0.279\t-0.1\n",
      "0.282\t-0.2\n",
      "0.285\t-0.1\n",
      "0.289\t-0.2\n",
      "0.292\t-0.2\n",
      "0.297\t-0.3\n",
      "0.300\t-0.2\n",
      "0.304\t-0.1\n",
      "0.307\t-0.1\n",
      "0.310\t-0.2\n",
      "0.312\t-0.1\n",
      "0.316\t-0.1\n",
      "0.320\t-0.2\n",
      "0.325\t-0.3\n",
      "0.330\t-0.2\n",
      "0.334\t-0.1\n",
      "0.336\t-0.1\n",
      "0.338\t-0.1\n",
      "0.340\t-0.1\n",
      "0.343\t-0.1\n",
      "0.346\t-0.2\n",
      "0.349\t-0.3\n",
      "0.353\t-0.1\n",
      "0.357\t-0.1\n",
      "0.362\t-0.1\n",
      "0.367\t-0.2\n",
      "0.369\t-0.1\n",
      "0.371\t-0.2\n",
      "0.371\t-0.1\n",
      "0.372\t-0.2\n",
      "0.372\t-0.2\n",
      "0.372\t-0.1\n",
      "0.373\t-0.2\n",
      "0.374\t-0.1\n",
      "0.376\t-0.2\n",
      "0.378\t-0.1\n",
      "0.380\t-0.2\n",
      "0.382\t-0.2\n",
      "0.384\t-0.2\n",
      "0.385\t-0.2\n",
      "0.386\t-0.2\n",
      "0.387\t-0.2\n",
      "0.389\t-0.3\n",
      "0.391\t-0.3\n",
      "0.394\t-0.2\n",
      "0.398\t-0.1\n",
      "0.401\t-0.1\n",
      "0.404\t-0.1\n",
      "0.405\t-0.1\n",
      "0.406\t-0.1\n",
      "0.408\t-0.1\n",
      "0.411\t-0.1\n",
      "0.414\t-0.2\n",
      "0.417\t-0.1\n",
      "0.420\t-0.2\n",
      "0.423\t-0.1\n",
      "0.425\t-0.2\n",
      "0.427\t-0.1\n",
      "0.430\t-0.1\n",
      "0.433\t-0.1\n",
      "0.437\t-0.2\n",
      "0.440\t-0.2\n",
      "0.443\t-0.1\n",
      "0.446\t-0.1\n",
      "0.449\t-0.1\n",
      "0.453\t-0.1\n",
      "0.458\t-0.1\n",
      "0.462\t-0.2\n",
      "0.466\t-0.2\n",
      "0.469\t-0.2\n",
      "0.472\t-0.3\n",
      "0.474\t-0.3\n",
      "0.477\t-0.2\n",
      "0.481\t-0.1\n",
      "0.486\t-0.1\n",
      "0.490\t-0.1\n",
      "0.493\t-0.1\n",
      "0.496\t0.0\n",
      "0.498\t0.0\n",
      "0.501\t-0.1\n",
      "0.503\t-0.1\n",
      "0.505\t-0.2\n",
      "0.507\t-0.3\n",
      "0.510\t-0.1\n",
      "0.513\t-0.1\n",
      "0.516\t-0.1\n",
      "0.519\t-0.1\n",
      "0.523\t-0.1\n",
      "0.526\t-0.1\n",
      "0.529\t-0.1\n",
      "0.533\t-0.1\n",
      "0.537\t-0.1\n",
      "0.541\t-0.2\n",
      "0.544\t-0.1\n",
      "0.547\t-0.1\n",
      "0.549\t-0.1\n",
      "0.551\t-0.1\n",
      "0.554\t-0.1\n",
      "0.557\t-0.1\n",
      "0.561\t-0.1\n",
      "0.564\t-0.1\n",
      "0.568\t-0.2\n",
      "0.572\t-0.2\n",
      "0.577\t-0.2\n",
      "0.581\t-0.1\n",
      "0.586\t0.0\n",
      "0.588\t0.0\n",
      "0.590\t-0.1\n",
      "0.592\t-0.1\n",
      "0.593\t-0.2\n",
      "0.596\t-0.2\n",
      "0.599\t-0.2\n",
      "0.602\t-0.2\n",
      "0.605\t-0.2\n",
      "0.606\t-0.2\n",
      "0.607\t-0.2\n",
      "0.609\t-0.1\n",
      "0.610\t-0.1\n",
      "0.613\t0.0\n",
      "0.615\t0.0\n",
      "0.617\t-0.1\n",
      "0.619\t-0.1\n",
      "0.622\t-0.2\n",
      "0.624\t-0.1\n",
      "0.626\t0.0\n",
      "0.629\t0.1\n",
      "0.632\t0.1\n",
      "0.634\t0.0\n",
      "0.637\t0.0\n",
      "0.639\t0.0\n",
      "0.641\t0.0\n",
      "0.643\t0.0\n",
      "0.645\t0.0\n",
      "0.648\t0.0\n",
      "0.650\t0.0\n",
      "0.653\t0.0\n",
      "0.656\t0.0\n",
      "0.658\t-0.1\n",
      "0.661\t-0.2\n",
      "0.663\t0.0\n",
      "0.666\t0.0\n",
      "0.670\t0.0\n",
      "0.676\t0.0\n",
      "0.680\t0.0\n",
      "0.684\t0.0\n",
      "0.686\t0.1\n",
      "0.686\t0.1\n",
      "0.687\t0.0\n",
      "0.689\t0.0\n",
      "0.693\t0.1\n",
      "0.697\t0.3\n",
      "0.701\t0.5\n",
      "0.703\t1.2\n",
      "0.705\t7.1\n",
      "0.707\t23.7\n",
      "0.709\t51.4\n",
      "0.710\t61.3\n",
      "0.712\t48.9\n",
      "0.714\t25.8\n",
      "0.715\t12.1\n",
      "0.717\t4.6\n",
      "0.718\t1.8\n",
      "0.721\t0.7\n",
      "0.723\t0.5\n",
      "0.724\t0.4\n",
      "0.726\t0.4\n",
      "0.727\t0.4\n",
      "0.728\t0.3\n",
      "0.730\t0.2\n",
      "0.732\t0.2\n",
      "0.735\t0.1\n",
      "0.737\t0.2\n",
      "0.740\t0.2\n",
      "0.742\t0.2\n",
      "0.744\t0.1\n",
      "0.746\t0.1\n",
      "0.748\t0.1\n",
      "0.749\t0.1\n",
      "0.750\t0.0\n",
      "0.752\t0.0\n",
      "0.754\t0.1\n",
      "0.756\t0.1\n",
      "0.758\t0.1\n",
      "0.761\t0.1\n",
      "0.764\t0.0\n",
      "0.766\t-0.1\n",
      "0.768\t-0.1\n",
      "0.770\t-0.1\n",
      "0.772\t0.0\n",
      "0.774\t0.0\n",
      "0.777\t0.0\n",
      "0.779\t0.0\n",
      "0.780\t0.0\n",
      "0.782\t0.0\n",
      "0.784\t-0.1\n",
      "0.785\t0.0\n",
      "0.787\t0.0\n",
      "0.789\t0.0\n",
      "0.791\t0.0\n",
      "0.793\t0.0\n",
      "0.795\t0.0\n",
      "0.797\t-0.1\n",
      "0.800\t0.0\n",
      "0.804\t0.0\n",
      "0.806\t0.0\n",
      "0.809\t0.0\n",
      "0.811\t0.1\n",
      "0.813\t0.9\n",
      "0.815\t3.0\n",
      "0.817\t5.9\n",
      "0.819\t6.6\n",
      "0.821\t4.0\n",
      "0.823\t1.3\n",
      "0.826\t0.2\n",
      "0.828\t0.1\n",
      "0.831\t0.1\n",
      "0.833\t0.1\n",
      "0.836\t0.1\n",
      "0.838\t0.1\n",
      "0.840\t0.1\n",
      "0.843\t0.1\n",
      "0.847\t0.2\n",
      "0.850\t1.0\n",
      "0.854\t0.8\n",
      "0.856\t0.3\n",
      "0.858\t0.1\n",
      "0.860\t0.0\n",
      "0.862\t0.1\n",
      "0.864\t0.1\n",
      "0.866\t0.2\n",
      "0.869\t0.2\n",
      "0.872\t0.1\n",
      "0.875\t0.1\n",
      "0.878\t0.1\n",
      "0.881\t0.1\n",
      "0.884\t0.1\n",
      "0.887\t0.1\n",
      "0.890\t0.0\n",
      "0.893\t0.1\n",
      "0.896\t0.0\n",
      "0.898\t0.1\n",
      "0.901\t0.0\n",
      "0.903\t0.0\n",
      "0.907\t0.0\n",
      "0.910\t0.0\n",
      "0.913\t0.0\n",
      "0.916\t0.0\n",
      "0.919\t0.0\n",
      "0.922\t0.0\n",
      "0.925\t0.0\n",
      "0.929\t0.0\n",
      "0.932\t0.0\n",
      "0.935\t0.0\n",
      "0.938\t0.0\n",
      "0.940\t0.0\n",
      "0.941\t0.0\n",
      "0.942\t0.0\n",
      "0.944\t0.0\n",
      "0.947\t0.0\n",
      "0.950\t0.0\n",
      "0.951\t0.0\n",
      "0.952\t0.0\n",
      "0.953\t0.0\n",
      "0.955\t0.0\n",
      "0.957\t0.0\n",
      "0.959\t0.0\n",
      "0.961\t0.0\n",
      "0.963\t0.0\n",
      "0.965\t0.0\n",
      "0.968\t0.0\n",
      "0.971\t0.0\n",
      "0.973\t0.1\n",
      "0.976\t0.1\n",
      "0.978\t0.0\n",
      "0.980\t0.1\n",
      "0.982\t0.1\n",
      "0.983\t0.0\n",
      "0.984\t0.0\n",
      "0.986\t0.1\n",
      "0.987\t0.0\n",
      "0.989\t0.1\n",
      "0.991\t0.1\n",
      "0.993\t0.1\n",
      "0.995\t0.1\n",
      "0.998\t0.1\n",
      "1.001\t0.1\n",
      "1.004\t0.2\n",
      "1.007\t0.2\n",
      "1.010\t0.1\n",
      "1.013\t0.1\n",
      "1.015\t0.1\n",
      "1.018\t0.1\n",
      "1.021\t0.1\n",
      "1.023\t0.1\n",
      "1.026\t0.1\n",
      "1.028\t0.2\n",
      "1.030\t0.3\n",
      "1.032\t0.3\n",
      "1.034\t0.3\n",
      "1.036\t0.4\n",
      "1.038\t0.4\n",
      "1.040\t0.4\n",
      "1.042\t0.5\n",
      "1.044\t0.5\n",
      "1.047\t0.5\n",
      "1.050\t0.6\n",
      "1.053\t0.7\n",
      "1.055\t0.7\n",
      "1.057\t0.8\n",
      "1.058\t0.9\n",
      "1.060\t1.0\n",
      "1.062\t1.2\n",
      "1.065\t1.3\n",
      "1.068\t1.4\n",
      "1.070\t1.3\n",
      "1.072\t1.3\n",
      "1.074\t1.3\n",
      "1.077\t1.4\n",
      "1.079\t1.6\n",
      "1.081\t1.8\n",
      "1.084\t2.1\n",
      "1.086\t2.4\n",
      "1.088\t2.7\n",
      "1.089\t3.2\n",
      "1.091\t3.8\n",
      "1.093\t4.5\n",
      "1.096\t5.4\n",
      "1.098\t6.7\n",
      "1.101\t8.8\n",
      "1.104\t13.1\n",
      "1.107\t97.1\n",
      "1.112\t97.0\n",
      "1.117\t97.0\n",
      "1.122\t45.6\n",
      "1.125\t11.9\n",
      "1.129\t9.1\n",
      "1.131\t7.6\n",
      "1.133\t7.0\n",
      "1.134\t6.3\n",
      "1.136\t5.9\n",
      "1.138\t5.3\n",
      "1.140\t4.8\n",
      "1.142\t4.2\n",
      "1.144\t3.5\n",
      "1.147\t3.0\n",
      "1.149\t2.6\n",
      "1.152\t2.2\n",
      "1.156\t2.1\n",
      "1.159\t1.8\n",
      "1.162\t1.7\n",
      "1.165\t1.5\n",
      "1.167\t1.4\n",
      "1.170\t1.2\n",
      "1.172\t1.2\n",
      "1.174\t0.9\n",
      "1.177\t0.8\n",
      "1.179\t0.6\n",
      "1.182\t0.4\n",
      "1.184\t0.3\n",
      "1.187\t0.3\n",
      "1.190\t0.2\n",
      "1.192\t0.2\n",
      "1.193\t0.2\n",
      "1.194\t0.2\n",
      "1.194\t0.2\n",
      "1.196\t0.2\n",
      "1.198\t0.2\n",
      "1.201\t0.1\n",
      "1.204\t0.1\n",
      "1.207\t0.1\n",
      "1.211\t0.1\n",
      "1.215\t0.1\n",
      "1.218\t0.0\n",
      "1.222\t0.1\n",
      "1.226\t0.0\n",
      "1.229\t0.0\n",
      "1.231\t-0.1\n",
      "1.234\t0.0\n",
      "1.237\t-0.1\n",
      "1.240\t0.0\n",
      "1.244\t0.0\n",
      "1.247\t0.0\n",
      "1.250\t0.0\n",
      "1.253\t0.0\n",
      "1.255\t0.0\n",
      "1.257\t0.0\n",
      "1.260\t0.0\n",
      "1.263\t0.0\n",
      "1.265\t0.0\n",
      "1.266\t0.0\n",
      "1.268\t0.0\n",
      "1.269\t0.0\n",
      "1.270\t0.0\n",
      "1.271\t0.0\n",
      "1.273\t0.0\n",
      "1.275\t0.0\n",
      "1.277\t0.0\n",
      "1.278\t0.0\n",
      "1.280\t0.0\n",
      "1.281\t0.0\n",
      "1.283\t0.0\n",
      "1.285\t0.0\n",
      "1.286\t0.0\n",
      "1.287\t0.0\n",
      "1.287\t0.0\n",
      "1.288\t-0.1\n",
      "1.289\t-0.1\n",
      "1.290\t-0.1\n",
      "1.291\t-0.2\n",
      "1.292\t-0.2\n",
      "1.292\t-0.2\n",
      "1.293\t-0.1\n",
      "1.294\t0.0\n",
      "1.295\t0.0\n",
      "1.296\t-0.1\n",
      "1.297\t-0.1\n",
      "1.298\t-0.1\n",
      "1.299\t0.0\n",
      "1.300\t0.0\n",
      "1.301\t0.0\n",
      "1.302\t-0.1\n",
      "1.303\t-0.1\n",
      "1.304\t0.0\n",
      "1.306\t-0.1\n",
      "1.306\t-0.1\n",
      "1.308\t-0.1\n",
      "1.309\t-0.1\n",
      "1.311\t-0.2\n",
      "1.312\t-0.2\n",
      "1.313\t-0.2\n",
      "1.314\t-0.1\n",
      "1.316\t0.0\n",
      "1.317\t0.0\n",
      "1.318\t-0.1\n",
      "1.319\t-0.1\n",
      "1.319\t0.0\n",
      "1.320\t0.0\n",
      "1.322\t-0.1\n",
      "1.323\t-0.1\n",
      "1.325\t-0.1\n",
      "1.327\t-0.1\n",
      "1.329\t0.0\n",
      "1.332\t-0.1\n",
      "1.334\t-0.1\n",
      "1.335\t-0.1\n",
      "1.336\t-0.1\n",
      "1.338\t-0.1\n",
      "1.340\t0.0\n",
      "1.341\t-0.1\n",
      "1.343\t0.0\n",
      "1.344\t-0.1\n",
      "1.345\t-0.2\n",
      "1.347\t0.0\n",
      "1.348\t0.0\n",
      "1.349\t0.0\n",
      "1.351\t0.0\n",
      "1.352\t0.0\n",
      "1.353\t0.0\n",
      "1.354\t0.0\n",
      "1.356\t0.0\n",
      "1.358\t0.0\n",
      "1.359\t0.0\n",
      "1.361\t0.0\n",
      "1.363\t0.0\n",
      "1.366\t0.1\n",
      "1.368\t0.1\n",
      "1.369\t0.0\n",
      "1.370\t0.0\n",
      "1.371\t0.0\n",
      "1.372\t0.0\n",
      "1.373\t0.0\n",
      "1.374\t0.0\n",
      "1.376\t0.0\n",
      "1.378\t0.1\n",
      "1.380\t0.3\n",
      "1.380\t0.5\n",
      "1.380\t0.5\n",
      "1.382\t0.4\n",
      "1.384\t0.3\n",
      "1.386\t0.1\n",
      "1.386\t0.0\n",
      "1.386\t0.0\n",
      "1.388\t0.0\n",
      "1.389\t-0.1\n",
      "1.389\t0.0\n",
      "1.389\t-0.1\n",
      "1.389\t-0.1\n",
      "1.389\t-0.2\n",
      "1.390\t0.0\n",
      "1.391\t0.0\n",
      "1.393\t0.0\n",
      "1.396\t0.0\n",
      "1.398\t0.0\n",
      "1.400\t0.0\n",
      "1.401\t0.0\n",
      "1.402\t0.0\n",
      "1.404\t0.0\n",
      "1.405\t0.0\n",
      "1.406\t0.1\n",
      "1.408\t0.7\n",
      "1.409\t2.0\n",
      "1.411\t3.2\n",
      "1.413\t3.8\n",
      "1.415\t2.4\n",
      "1.418\t0.7\n",
      "1.420\t0.1\n",
      "1.423\t0.0\n",
      "1.425\t0.0\n",
      "1.428\t0.0\n",
      "1.430\t0.0\n",
      "1.432\t0.0\n",
      "1.433\t0.0\n",
      "1.435\t0.0\n",
      "1.436\t-0.1\n",
      "1.437\t-0.1\n",
      "1.439\t-0.2\n",
      "1.441\t0.0\n",
      "1.443\t0.0\n",
      "1.445\t0.0\n",
      "1.448\t0.0\n",
      "1.449\t0.0\n",
      "1.451\t0.0\n",
      "1.453\t0.0\n",
      "1.454\t0.0\n",
      "1.456\t0.0\n",
      "1.457\t0.0\n",
      "1.459\t0.0\n",
      "1.461\t0.0\n",
      "1.463\t0.0\n",
      "1.465\t-0.1\n",
      "1.467\t-0.1\n",
      "1.468\t-0.1\n",
      "1.470\t0.0\n",
      "1.472\t0.0\n",
      "1.473\t0.0\n",
      "1.476\t0.0\n",
      "1.478\t0.0\n",
      "1.480\t0.0\n",
      "1.483\t0.0\n",
      "1.486\t0.0\n",
      "1.489\t0.0\n",
      "1.492\t0.0\n",
      "1.495\t0.0\n",
      "1.499\t0.0\n",
      "1.502\t0.1\n",
      "1.507\t0.1\n",
      "1.510\t0.2\n",
      "1.513\t0.3\n",
      "1.515\t0.5\n",
      "1.518\t5.8\n",
      "1.521\t28.1\n",
      "1.525\t36.1\n",
      "1.528\t10.0\n",
      "1.531\t1.3\n",
      "1.533\t0.4\n",
      "1.535\t0.3\n",
      "1.537\t0.2\n",
      "1.540\t0.2\n",
      "1.543\t0.1\n",
      "1.546\t0.1\n",
      "1.550\t0.0\n",
      "1.553\t0.0\n",
      "1.556\t-0.1\n",
      "1.559\t-0.1\n",
      "1.562\t0.0\n",
      "1.565\t0.0\n",
      "1.569\t0.0\n",
      "1.572\t0.0\n",
      "1.575\t0.0\n",
      "1.577\t0.0\n",
      "1.581\t-0.2\n",
      "1.585\t-0.2\n",
      "1.589\t-0.1\n",
      "1.593\t0.0\n",
      "1.596\t-0.1\n",
      "1.597\t-0.1\n",
      "1.598\t-0.1\n",
      "1.599\t-0.1\n",
      "1.601\t-0.1\n",
      "1.602\t0.0\n",
      "1.603\t0.0\n",
      "1.606\t0.0\n",
      "1.611\t-0.2\n",
      "1.616\t-0.3\n",
      "1.623\t-0.2\n",
      "1.628\t-0.1\n",
      "1.633\t-0.1\n",
      "1.639\t-0.1\n",
      "1.644\t-0.1\n",
      "1.649\t-0.1\n",
      "1.654\t0.0\n",
      "1.658\t-0.1\n",
      "1.663\t-0.1\n",
      "1.667\t-0.1\n",
      "1.671\t-0.1\n",
      "1.675\t-0.1\n",
      "1.679\t-0.3\n",
      "1.684\t-0.2\n",
      "1.688\t-0.1\n",
      "1.693\t-0.1\n",
      "1.696\t-0.1\n",
      "1.700\t-0.1\n",
      "1.704\t-0.1\n",
      "1.707\t-0.1\n",
      "1.710\t-0.1\n",
      "1.712\t-0.1\n",
      "1.714\t-0.1\n",
      "1.717\t-0.1\n",
      "1.721\t-0.1\n",
      "1.726\t-0.1\n",
      "1.731\t-0.1\n",
      "1.734\t-0.1\n",
      "1.737\t-0.1\n",
      "1.739\t-0.1\n",
      "1.742\t-0.1\n",
      "1.745\t0.0\n",
      "1.749\t0.2\n",
      "1.752\t0.1\n",
      "1.756\t-0.1\n",
      "1.759\t-0.1\n",
      "1.762\t-0.1\n",
      "1.767\t-0.1\n",
      "1.772\t-0.3\n",
      "1.777\t-0.3\n",
      "1.783\t-0.2\n",
      "1.787\t-0.1\n",
      "1.792\t-0.2\n",
      "1.796\t-0.3\n",
      "1.800\t-0.2\n",
      "1.803\t-0.2\n",
      "1.808\t-0.2\n",
      "1.812\t-0.2\n",
      "1.818\t-0.1\n",
      "1.823\t-0.1\n",
      "1.828\t-0.1\n",
      "1.835\t-0.1\n",
      "1.844\t-0.1\n",
      "1.852\t-0.2\n",
      "1.859\t-0.1\n",
      "1.865\t-0.2\n",
      "1.870\t-0.1\n",
      "1.873\t-0.2\n",
      "1.874\t-0.2\n",
      "1.875\t-0.2\n",
      "1.877\t-0.2\n",
      "1.880\t-0.2\n",
      "1.883\t-0.2\n",
      "1.887\t-0.2\n",
      "1.892\t-0.3\n",
      "1.895\t-0.3\n",
      "1.898\t-0.2\n",
      "1.903\t-0.2\n",
      "1.907\t-0.2\n",
      "1.912\t-0.1\n",
      "1.918\t-0.1\n",
      "1.923\t-0.2\n",
      "1.929\t-0.2\n",
      "1.934\t-0.1\n",
      "1.940\t-0.1\n",
      "1.944\t-0.2\n",
      "1.948\t-0.2\n",
      "1.952\t-0.2\n",
      "1.955\t-0.2\n",
      "1.960\t-0.2\n",
      "1.966\t-0.2\n",
      "1.971\t-0.2\n",
      "1.975\t-0.1\n",
      "1.979\t-0.2\n",
      "1.985\t-0.3\n",
      "1.990\t-0.2\n",
      "1.997\t-0.1\n",
      "2.002\t-0.1\n",
      "2.007\t-0.2\n",
      "2.012\t-0.1\n",
      "2.017\t-0.2\n",
      "2.022\t-0.1\n",
      "2.027\t-0.2\n",
      "2.034\t-0.1\n",
      "2.041\t-0.1\n",
      "2.048\t1.1\n",
      "2.053\t1.6\n",
      "2.057\t0.7\n",
      "2.060\t0.1\n",
      "2.064\t0.0\n",
      "2.068\t-0.1\n",
      "2.073\t-0.1\n",
      "2.079\t-0.1\n",
      "2.086\t-0.1\n",
      "2.094\t-0.1\n",
      "2.100\t-0.2\n",
      "2.105\t-0.1\n",
      "2.109\t-0.1\n",
      "2.111\t-0.1\n",
      "2.115\t-0.2\n",
      "2.120\t-0.2\n",
      "2.124\t-0.1\n",
      "2.128\t-0.2\n",
      "2.131\t-0.1\n",
      "2.134\t-0.2\n",
      "2.135\t-0.1\n",
      "2.138\t-0.1\n",
      "2.140\t-0.1\n",
      "2.144\t-0.1\n",
      "2.148\t-0.1\n",
      "2.153\t-0.2\n",
      "2.158\t-0.2\n",
      "2.162\t-0.2\n",
      "2.166\t-0.2\n",
      "2.170\t-0.2\n",
      "2.175\t-0.2\n",
      "2.179\t-0.2\n",
      "2.183\t-0.1\n",
      "2.187\t-0.2\n",
      "2.191\t-0.2\n",
      "2.194\t-0.2\n",
      "2.197\t-0.2\n",
      "2.200\t-0.2\n",
      "2.203\t-0.2\n",
      "2.207\t-0.2\n",
      "2.211\t-0.1\n",
      "2.215\t-0.2\n",
      "2.219\t-0.2\n",
      "2.222\t-0.1\n",
      "2.224\t-0.2\n",
      "2.225\t-0.2\n",
      "2.225\t-0.2\n",
      "2.225\t-0.2\n",
      "2.225\t-0.3\n",
      "2.225\t-0.2\n",
      "2.225\t-0.3\n",
      "2.225\t-0.3\n",
      "2.225\t-0.3\n",
      "2.225\t-0.2\n",
      "2.225\t-0.1\n",
      "2.225\t-0.1\n",
      "2.225\t-0.1\n",
      "2.225\t-0.1\n",
      "2.225\t-0.1\n",
      "2.225\t-0.1\n",
      "2.225\t-0.2\n",
      "2.225\t-0.1\n",
      "2.225\t-0.1\n",
      "2.225\t-0.2\n",
      "2.225\t-0.1\n",
      "2.225\t-0.1\n",
      "2.225\t-0.1\n",
      "2.225\t-0.2\n",
      "2.225\t-0.2\n",
      "2.225\t-0.2\n",
      "2.225\t-0.1\n",
      "2.225\t-0.1\n",
      "2.225\t-0.2\n",
      "2.224\t-0.2\n",
      "2.224\t-0.2\n",
      "2.224\t-0.2\n",
      "2.224\t-0.2\n",
      "2.224\t-0.2\n",
      "2.224\t-0.2\n",
      "2.224\t-0.2\n",
      "2.224\t-0.3\n",
      "2.224\t-0.3\n",
      "2.224\t-0.2\n",
      "2.224\t-0.3\n",
      "2.224\t-0.3\n",
      "2.224\t-0.2\n",
      "2.224\t-0.3\n",
      "2.224\t-0.3\n",
      "2.224\t-0.3\n",
      "2.224\t-0.1\n",
      "2.224\t-0.2\n",
      "2.224\t-0.2\n",
      "2.224\t-0.2\n",
      "2.224\t-0.1\n",
      "2.224\t-0.1\n",
      "2.224\t-0.2\n",
      "2.224\t-0.2\n",
      "2.224\t-0.2\n",
      "2.224\t-0.2\n",
      "2.224\t-0.1\n",
      "2.224\t-0.1\n",
      "2.224\t-0.2\n",
      "2.224\t-0.2\n",
      "2.224\t-0.2\n",
      "2.224\t-0.2\n",
      "2.224\t-0.3\n",
      "2.224\t-0.2\n",
      "2.224\t-0.1\n",
      "2.224\t-0.1\n",
      "2.224\t-0.2\n",
      "2.224\t-0.2\n",
      "2.224\t-0.2\n",
      "2.224\t-0.2\n",
      "2.224\t-0.1\n",
      "2.224\t-0.2\n",
      "2.224\t-0.2\n",
      "2.224\t-0.2\n",
      "2.224\t-0.1\n",
      "2.224\t-0.2\n",
      "2.224\t-0.1\n",
      "2.224\t-0.2\n",
      "2.224\t-0.2\n",
      "2.224\t-0.2\n",
      "2.224\t-0.2\n",
      "2.224\t-0.2\n",
      "2.224\t-0.2\n",
      "2.224\t-0.2\n",
      "2.224\t-0.2\n",
      "2.224\t-0.2\n",
      "2.224\t-0.2\n",
      "2.224\t-0.2\n",
      "2.224\t-0.2\n",
      "2.224\t-0.2\n",
      "2.224\t-0.2\n",
      "2.224\t-0.2\n",
      "2.224\t-0.2\n",
      "2.224\t-0.3\n",
      "2.224\t-0.3\n",
      "2.224\t-0.3\n",
      "2.224\t-0.3\n",
      "2.224\t-0.3\n",
      "\n"
     ]
    }
   ],
   "source": [
    "with open('spectrum-01.txt', 'r') as file:\n",
    "    file_content = file.read()\n",
    "\n",
    "print(file_content)"
   ]
  },
  {
   "cell_type": "code",
   "execution_count": 2,
   "id": "6bbaab0f",
   "metadata": {},
   "outputs": [],
   "source": [
    "text = 'Far out in the uncharted backwaters of the unfashionable end of the western spiral arm of the Galaxy lies a small unregarded yellow sun.\\nOrbiting this at a distance of roughly ninety-two million miles is an utterly insignificant little blue green planet whose ape-descended life forms are so amazingly primitive that they still think digital watches are a pretty neat idea.'\n",
    "with open('my-text-once.txt', 'w') as file:\n",
    "    file.write(text)"
   ]
  },
  {
   "cell_type": "markdown",
   "id": "d5ca706a",
   "metadata": {},
   "source": [
    "|Character | Meaning |\n",
    "|:--|--:|\n",
    "|'r'|open for reading (default) |\n",
    "|'w'| open for writing, truncating the file first|\n",
    "|'x'|open for exclusive creation, failing if the file already exists|\n",
    "|'a'|open for writing, appending to the end of file if it exists|\n",
    "|'b'|binary mode|\n",
    "|'t'|text mode (default)|\n",
    "|'+'|open for updating (reading and writing)|"
   ]
  },
  {
   "cell_type": "code",
   "execution_count": 4,
   "id": "8d2349e6",
   "metadata": {},
   "outputs": [
    {
     "ename": "UnsupportedOperation",
     "evalue": "not readable",
     "output_type": "error",
     "traceback": [
      "\u001b[1;31m---------------------------------------------------------------------------\u001b[0m",
      "\u001b[1;31mUnsupportedOperation\u001b[0m                      Traceback (most recent call last)",
      "\u001b[1;32m~\\AppData\\Local\\Temp\\ipykernel_8692\\3643207619.py\u001b[0m in \u001b[0;36m<module>\u001b[1;34m\u001b[0m\n\u001b[0;32m      2\u001b[0m     \u001b[1;32mfor\u001b[0m \u001b[0mline\u001b[0m \u001b[1;32min\u001b[0m \u001b[0mtext\u001b[0m\u001b[1;33m.\u001b[0m\u001b[0msplitlines\u001b[0m\u001b[1;33m(\u001b[0m\u001b[1;33m)\u001b[0m\u001b[1;33m:\u001b[0m\u001b[1;33m\u001b[0m\u001b[1;33m\u001b[0m\u001b[0m\n\u001b[0;32m      3\u001b[0m         \u001b[0mfile\u001b[0m\u001b[1;33m.\u001b[0m\u001b[0mwritelines\u001b[0m\u001b[1;33m(\u001b[0m\u001b[0mline\u001b[0m\u001b[1;33m)\u001b[0m\u001b[1;33m\u001b[0m\u001b[1;33m\u001b[0m\u001b[0m\n\u001b[1;32m----> 4\u001b[1;33m         \u001b[0mfile_content\u001b[0m \u001b[1;33m=\u001b[0m \u001b[0mfile\u001b[0m\u001b[1;33m.\u001b[0m\u001b[0mread\u001b[0m\u001b[1;33m(\u001b[0m\u001b[1;33m)\u001b[0m\u001b[1;33m\u001b[0m\u001b[1;33m\u001b[0m\u001b[0m\n\u001b[0m\u001b[0;32m      5\u001b[0m \u001b[0mprint\u001b[0m\u001b[1;33m(\u001b[0m\u001b[0mfile_contentnt\u001b[0m\u001b[1;33m)\u001b[0m\u001b[1;33m\u001b[0m\u001b[1;33m\u001b[0m\u001b[0m\n",
      "\u001b[1;31mUnsupportedOperation\u001b[0m: not readable"
     ]
    }
   ],
   "source": [
    "with open('my-text-lines.txt', 'w') as file:\n",
    "    for line in text.splitlines():\n",
    "        file.writelines(line)"
   ]
  },
  {
   "cell_type": "code",
   "execution_count": 6,
   "id": "91b3c2da",
   "metadata": {},
   "outputs": [
    {
     "name": "stdout",
     "output_type": "stream",
     "text": [
      "Far out in the uncharted backwaters of the unfashionable end of the western spiral arm of the Galaxy lies a small unregarded yellow sun.\n"
     ]
    }
   ],
   "source": [
    "with open('my-text-lines.txt', 'r') as file:\n",
    "    file_content = file.read()\n",
    "print(file_content)"
   ]
  },
  {
   "cell_type": "markdown",
   "id": "9dac9962",
   "metadata": {},
   "source": [
    "\n",
    "|Package|\tPrimarily used for|\n",
    "|:--|--:|\n",
    "|os\t|To ‘talk’ to the OS to create, modify, delete folders and write OS-agnostic code.|\n",
    "|glob|\tTo search for files.|\n",
    "|shutil|\tTo copy files|"
   ]
  },
  {
   "cell_type": "code",
   "execution_count": 7,
   "id": "f2c79d64",
   "metadata": {},
   "outputs": [],
   "source": [
    "import os\n",
    "import glob\n",
    "import shutil"
   ]
  },
  {
   "cell_type": "code",
   "execution_count": 8,
   "id": "70612dbf",
   "metadata": {},
   "outputs": [
    {
     "name": "stdout",
     "output_type": "stream",
     "text": [
      ".\\all-data\\sg-data\\data-01.txt\n"
     ]
    }
   ],
   "source": [
    "path = os.path.join('.', 'all-data', 'sg-data', 'data-01.txt')\n",
    "print(path)"
   ]
  },
  {
   "cell_type": "code",
   "execution_count": 9,
   "id": "c149a373",
   "metadata": {},
   "outputs": [
    {
     "name": "stdout",
     "output_type": "stream",
     "text": [
      "Creating people\\Jonh\n",
      "Creating people\\Paul\n",
      "Creating people\\Ringo\n"
     ]
    }
   ],
   "source": [
    "os.mkdir('people')\n",
    "\n",
    "for person in ['Jonh', 'Paul', 'Ringo']:\n",
    "    path = os.path.join('people', person)\n",
    "    print(f'Creating {path}')\n",
    "    os.mkdir(path)"
   ]
  },
  {
   "cell_type": "code",
   "execution_count": 10,
   "id": "19295638",
   "metadata": {},
   "outputs": [
    {
     "name": "stdout",
     "output_type": "stream",
     "text": [
      "people\\Jonh already exists; skipping creation.\n",
      "people\\Paul already exists; skipping creation.\n",
      "people\\Ringo already exists; skipping creation.\n"
     ]
    }
   ],
   "source": [
    "for person in ['Jonh', 'Paul', 'Ringo']:\n",
    "    path = os.path.join('people', person)\n",
    "    try:\n",
    "        os.mkdir(path)\n",
    "        print(f'Creating {path}')\n",
    "    except FileExistsError:\n",
    "        print(f'{path} already exists; skipping creation.')"
   ]
  },
  {
   "cell_type": "code",
   "execution_count": 11,
   "id": "d8014757",
   "metadata": {},
   "outputs": [
    {
     "name": "stdout",
     "output_type": "stream",
     "text": [
      "people\\Jonh already exists; skipping creation.\n",
      "people\\Paul already exists; skipping creation.\n",
      "people\\Ringo already exists; skipping creation.\n"
     ]
    }
   ],
   "source": [
    "for person in ['Jonh', 'Paul', 'Ringo']:\n",
    "    path = os.path.join('people', person)\n",
    "    if os.path.exists(path):\n",
    "        print(f'{path} already exists; skipping creation.')\n",
    "    else:\n",
    "        os.mkdir(path)\n",
    "        print(f'Creating {path}')"
   ]
  },
  {
   "cell_type": "code",
   "execution_count": 13,
   "id": "9866021c",
   "metadata": {},
   "outputs": [
    {
     "name": "stdout",
     "output_type": "stream",
     "text": [
      "Copied file to people\\Jonh\n",
      "Copied file to people\\Paul\n",
      "Copied file to people\\Ringo\n"
     ]
    }
   ],
   "source": [
    "for person in ['Jonh', 'Paul', 'Ringo']:\n",
    "    path_to_destination = os.path.join('people', person)\n",
    "    shutil.copy('sp2273_logo.png', path_to_destination)\n",
    "    print(f'Copied file to {path_to_destination}')"
   ]
  },
  {
   "cell_type": "code",
   "execution_count": 14,
   "id": "27f01299",
   "metadata": {},
   "outputs": [
    {
     "name": "stdout",
     "output_type": "stream",
     "text": [
      "Moved logo to people\\Jonh\\imgs\\sp2273_logo.png\n",
      "Moved logo to people\\Paul\\imgs\\sp2273_logo.png\n",
      "Moved logo to people\\Ringo\\imgs\\sp2273_logo.png\n"
     ]
    }
   ],
   "source": [
    "for person in ['Jonh', 'Paul', 'Ringo']:\n",
    "    # Create folder 'imgs'\n",
    "    path_to_imgs = os.path.join('people', person, 'imgs')\n",
    "    if not os.path.exists(path_to_imgs):\n",
    "        os.mkdir(path_to_imgs)\n",
    "\n",
    "    # Move logo file\n",
    "    current_path_of_logo = os.path.join('people', person, 'sp2273_logo.png')\n",
    "    new_path_of_logo = os.path.join('people', person, 'imgs', 'sp2273_logo.png')\n",
    "\n",
    "    shutil.move(current_path_of_logo, new_path_of_logo)\n",
    "    print(f'Moved logo to {new_path_of_logo}')"
   ]
  },
  {
   "cell_type": "code",
   "execution_count": 15,
   "id": "26257303",
   "metadata": {},
   "outputs": [
    {
     "data": {
      "text/plain": [
       "['my-text-lines.txt',\n",
       " 'my-text-once.txt',\n",
       " 'os-collaboration-exercise-data',\n",
       " 'people',\n",
       " 'Piles, Poopers and OS.ipynb',\n",
       " 'sp2273_logo.png',\n",
       " 'spectrum-01.txt']"
      ]
     },
     "execution_count": 15,
     "metadata": {},
     "output_type": "execute_result"
    }
   ],
   "source": [
    "glob.glob('*')"
   ]
  },
  {
   "cell_type": "markdown",
   "id": "c481da09",
   "metadata": {},
   "source": [
    "The * is called a wildcard and is read as ‘anything’. So, I am asking glob to give me anything in the folder."
   ]
  },
  {
   "cell_type": "code",
   "execution_count": 16,
   "id": "43b8531e",
   "metadata": {},
   "outputs": [
    {
     "data": {
      "text/plain": [
       "['people']"
      ]
     },
     "execution_count": 16,
     "metadata": {},
     "output_type": "execute_result"
    }
   ],
   "source": [
    "glob.glob('peo*')"
   ]
  },
  {
   "cell_type": "code",
   "execution_count": 21,
   "id": "1a654d81",
   "metadata": {},
   "outputs": [
    {
     "data": {
      "text/plain": [
       "['people\\\\Jonh', 'people\\\\Paul', 'people\\\\Ringo']"
      ]
     },
     "execution_count": 21,
     "metadata": {},
     "output_type": "execute_result"
    }
   ],
   "source": [
    "glob.glob('peo*\\\\*')"
   ]
  },
  {
   "cell_type": "code",
   "execution_count": 22,
   "id": "0bfb24cf",
   "metadata": {},
   "outputs": [
    {
     "data": {
      "text/plain": [
       "['people\\\\',\n",
       " 'people\\\\Jonh',\n",
       " 'people\\\\Jonh\\\\imgs',\n",
       " 'people\\\\Jonh\\\\imgs\\\\sp2273_logo.png',\n",
       " 'people\\\\Paul',\n",
       " 'people\\\\Paul\\\\imgs',\n",
       " 'people\\\\Paul\\\\imgs\\\\sp2273_logo.png',\n",
       " 'people\\\\Ringo',\n",
       " 'people\\\\Ringo\\\\imgs',\n",
       " 'people\\\\Ringo\\\\imgs\\\\sp2273_logo.png']"
      ]
     },
     "execution_count": 22,
     "metadata": {},
     "output_type": "execute_result"
    }
   ],
   "source": [
    "glob.glob('people\\\\**', recursive=True)"
   ]
  },
  {
   "cell_type": "markdown",
   "id": "810112ee",
   "metadata": {},
   "source": [
    "Tell glob to search recursively (i.e. dig through all sub-file directories) by putting recursive=True, and then I need to use two wildcards like this."
   ]
  },
  {
   "cell_type": "markdown",
   "id": "2b29df2b",
   "metadata": {},
   "source": [
    "The first wildcard tells glob to find any files in the folder \"people\". The second wildcard tells glob to look for subdirectories as well, i.e. folders within the folder.\n",
    "\n",
    "Hence, if you use only one wildcard, it'll only tell you the files in the folder \"people\", not the folders within the folder \"people\"."
   ]
  },
  {
   "cell_type": "code",
   "execution_count": 23,
   "id": "8c2ddae1",
   "metadata": {},
   "outputs": [
    {
     "data": {
      "text/plain": [
       "'C:\\\\Users\\\\Chin Zhen Jie\\\\OneDrive\\\\Desktop\\\\SP2273\\\\GitGud\\\\learning-portfolio-ChinZJ\\\\more flies, more folders but the same os'"
      ]
     },
     "execution_count": 23,
     "metadata": {},
     "output_type": "execute_result"
    }
   ],
   "source": [
    "os.getcwd()"
   ]
  },
  {
   "cell_type": "code",
   "execution_count": 24,
   "id": "d7ebd723",
   "metadata": {},
   "outputs": [],
   "source": [
    "os.chdir('people\\\\Ringo')"
   ]
  },
  {
   "cell_type": "code",
   "execution_count": 33,
   "id": "c8ffc661",
   "metadata": {},
   "outputs": [
    {
     "data": {
      "text/plain": [
       "'C:\\\\Users\\\\Chin Zhen Jie\\\\OneDrive\\\\Desktop\\\\SP2273\\\\GitGud\\\\learning-portfolio-ChinZJ\\\\more flies, more folders but the same os\\\\people'"
      ]
     },
     "execution_count": 33,
     "metadata": {},
     "output_type": "execute_result"
    }
   ],
   "source": [
    "os.chdir('..')\n",
    "os.getcwd()"
   ]
  },
  {
   "cell_type": "code",
   "execution_count": 36,
   "id": "e5fc2e99",
   "metadata": {},
   "outputs": [
    {
     "name": "stdout",
     "output_type": "stream",
     "text": [
      "['people/Ringo/imgs/sp2273_logo.png', 'png']\n"
     ]
    }
   ],
   "source": [
    "path = 'people/Ringo/imgs/sp2273_logo.png'\n",
    "filename = path.split(os.path.sep)[-1]\n",
    "extension = filename.split('.')[-1]\n",
    "print([filename, extension]) #I put this in lists so that I can see it better because I am blind"
   ]
  },
  {
   "cell_type": "markdown",
   "id": "dc767d8b",
   "metadata": {},
   "source": [
    "Take note that the split() function here is different from the basic Python split() function, so it works differently. The split() function of os split the path name into the directory and the filename. It doesn't split according to any characters, unlike the basic Python split()."
   ]
  },
  {
   "cell_type": "code",
   "execution_count": 38,
   "id": "5341d458",
   "metadata": {},
   "outputs": [
    {
     "data": {
      "text/plain": [
       "('people/Ringo/imgs', 'sp2273_logo.png')"
      ]
     },
     "execution_count": 38,
     "metadata": {},
     "output_type": "execute_result"
    }
   ],
   "source": [
    "path = 'people/Ringo/imgs/sp2273_logo.png'\n",
    "os.path.split(path)      # Split filename from the rest"
   ]
  },
  {
   "cell_type": "code",
   "execution_count": 39,
   "id": "162c5ce5",
   "metadata": {},
   "outputs": [
    {
     "data": {
      "text/plain": [
       "('people/Ringo/imgs/sp2273_logo', '.png')"
      ]
     },
     "execution_count": 39,
     "metadata": {},
     "output_type": "execute_result"
    }
   ],
   "source": [
    "os.path.splitext(path)   # Split extension"
   ]
  },
  {
   "cell_type": "code",
   "execution_count": 40,
   "id": "1d8f96a3",
   "metadata": {},
   "outputs": [
    {
     "data": {
      "text/plain": [
       "'people/Ringo/imgs'"
      ]
     },
     "execution_count": 40,
     "metadata": {},
     "output_type": "execute_result"
    }
   ],
   "source": [
    "os.path.dirname(path)    # Show the directory"
   ]
  },
  {
   "cell_type": "code",
   "execution_count": 45,
   "id": "0d686cd2",
   "metadata": {},
   "outputs": [],
   "source": [
    "os.chdir('..')"
   ]
  },
  {
   "cell_type": "code",
   "execution_count": 46,
   "id": "532c5bd0",
   "metadata": {},
   "outputs": [],
   "source": [
    "os.remove('people/Ringo/imgs/sp2273_logo.png')"
   ]
  },
  {
   "cell_type": "markdown",
   "id": "0c2e7e0c",
   "metadata": {},
   "source": [
    "For things without stuff"
   ]
  },
  {
   "cell_type": "code",
   "execution_count": 47,
   "id": "8d64e4ad",
   "metadata": {
    "scrolled": true
   },
   "outputs": [
    {
     "ename": "OSError",
     "evalue": "[WinError 145] The directory is not empty: 'people/Ringo'",
     "output_type": "error",
     "traceback": [
      "\u001b[1;31m---------------------------------------------------------------------------\u001b[0m",
      "\u001b[1;31mOSError\u001b[0m                                   Traceback (most recent call last)",
      "\u001b[1;32m~\\AppData\\Local\\Temp\\ipykernel_8692\\54532714.py\u001b[0m in \u001b[0;36m<module>\u001b[1;34m\u001b[0m\n\u001b[1;32m----> 1\u001b[1;33m \u001b[0mos\u001b[0m\u001b[1;33m.\u001b[0m\u001b[0mrmdir\u001b[0m\u001b[1;33m(\u001b[0m\u001b[1;34m'people/Ringo'\u001b[0m\u001b[1;33m)\u001b[0m\u001b[1;33m\u001b[0m\u001b[1;33m\u001b[0m\u001b[0m\n\u001b[0m",
      "\u001b[1;31mOSError\u001b[0m: [WinError 145] The directory is not empty: 'people/Ringo'"
     ]
    }
   ],
   "source": [
    "os.rmdir('people/Ringo')"
   ]
  },
  {
   "cell_type": "markdown",
   "id": "1e4962e7",
   "metadata": {},
   "source": [
    "For things with stuff"
   ]
  },
  {
   "cell_type": "code",
   "execution_count": 48,
   "id": "3fe89c59",
   "metadata": {},
   "outputs": [],
   "source": [
    "shutil.rmtree('people/Ringo')"
   ]
  },
  {
   "cell_type": "code",
   "execution_count": 49,
   "id": "54d8d84f",
   "metadata": {},
   "outputs": [
    {
     "name": "stdout",
     "output_type": "stream",
     "text": [
      "I am in SP2273 Tutorial\n"
     ]
    },
    {
     "data": {
      "text/plain": [
       "'C:\\\\Users\\\\Chin Zhen Jie\\\\OneDrive\\\\Desktop\\\\SP2273\\\\GitGud\\\\learning-portfolio-ChinZJ\\\\more flies, more folders but the same os'"
      ]
     },
     "execution_count": 49,
     "metadata": {},
     "output_type": "execute_result"
    }
   ],
   "source": [
    "print(\"I am in SP2273 Tutorial\")\n",
    "os.getcwd()"
   ]
  },
  {
   "cell_type": "code",
   "execution_count": 50,
   "id": "4f85109d",
   "metadata": {},
   "outputs": [],
   "source": [
    "os.mkdir('python_today')"
   ]
  },
  {
   "cell_type": "code",
   "execution_count": 51,
   "id": "3d4688e8",
   "metadata": {},
   "outputs": [],
   "source": [
    "os.chdir('python_today')"
   ]
  },
  {
   "cell_type": "code",
   "execution_count": 53,
   "id": "fa8aeae8",
   "metadata": {},
   "outputs": [
    {
     "data": {
      "text/plain": [
       "'C:\\\\Users\\\\Chin Zhen Jie\\\\OneDrive\\\\Desktop\\\\SP2273\\\\GitGud\\\\learning-portfolio-ChinZJ\\\\more flies, more folders but the same os\\\\python_today'"
      ]
     },
     "execution_count": 53,
     "metadata": {},
     "output_type": "execute_result"
    }
   ],
   "source": [
    "os.getcwd()"
   ]
  },
  {
   "cell_type": "code",
   "execution_count": 54,
   "id": "ccc36e7b",
   "metadata": {},
   "outputs": [],
   "source": [
    "for i in range(1, 51):\n",
    "    os.mkdir(f\"new_directory_{i:02}\")"
   ]
  },
  {
   "cell_type": "code",
   "execution_count": 63,
   "id": "4248cea8",
   "metadata": {},
   "outputs": [
    {
     "data": {
      "text/plain": [
       "['new_directory_01',\n",
       " 'new_directory_02',\n",
       " 'new_directory_03',\n",
       " 'new_directory_04',\n",
       " 'new_directory_05',\n",
       " 'new_directory_06',\n",
       " 'new_directory_07',\n",
       " 'new_directory_08',\n",
       " 'new_directory_09',\n",
       " 'new_directory_10',\n",
       " 'new_directory_11',\n",
       " 'new_directory_12',\n",
       " 'new_directory_13',\n",
       " 'new_directory_14',\n",
       " 'new_directory_15',\n",
       " 'new_directory_16',\n",
       " 'new_directory_17',\n",
       " 'new_directory_18',\n",
       " 'new_directory_19',\n",
       " 'new_directory_20',\n",
       " 'new_directory_21',\n",
       " 'new_directory_22',\n",
       " 'new_directory_23',\n",
       " 'new_directory_24',\n",
       " 'new_directory_25',\n",
       " 'new_directory_26',\n",
       " 'new_directory_27',\n",
       " 'new_directory_28',\n",
       " 'new_directory_29',\n",
       " 'new_directory_30',\n",
       " 'new_directory_31',\n",
       " 'new_directory_32',\n",
       " 'new_directory_33',\n",
       " 'new_directory_34',\n",
       " 'new_directory_35',\n",
       " 'new_directory_36',\n",
       " 'new_directory_37',\n",
       " 'new_directory_38',\n",
       " 'new_directory_39',\n",
       " 'new_directory_40',\n",
       " 'new_directory_41',\n",
       " 'new_directory_42',\n",
       " 'new_directory_43',\n",
       " 'new_directory_44',\n",
       " 'new_directory_45',\n",
       " 'new_directory_46',\n",
       " 'new_directory_47',\n",
       " 'new_directory_48',\n",
       " 'new_directory_49',\n",
       " 'new_directory_50']"
      ]
     },
     "execution_count": 63,
     "metadata": {},
     "output_type": "execute_result"
    }
   ],
   "source": [
    "glob.glob('*')"
   ]
  },
  {
   "cell_type": "code",
   "execution_count": 64,
   "id": "cface239",
   "metadata": {},
   "outputs": [],
   "source": [
    "for i in range(1,51,2):\n",
    "    os.rmdir(f\"new_directory_{i:02}\")"
   ]
  },
  {
   "cell_type": "code",
   "execution_count": 67,
   "id": "64b2f265",
   "metadata": {},
   "outputs": [
    {
     "data": {
      "text/plain": [
       "['new_directory_02',\n",
       " 'new_directory_04',\n",
       " 'new_directory_06',\n",
       " 'new_directory_08',\n",
       " 'new_directory_10',\n",
       " 'new_directory_12',\n",
       " 'new_directory_14',\n",
       " 'new_directory_16',\n",
       " 'new_directory_18',\n",
       " 'new_directory_20',\n",
       " 'new_directory_22',\n",
       " 'new_directory_24',\n",
       " 'new_directory_26',\n",
       " 'new_directory_28',\n",
       " 'new_directory_30',\n",
       " 'new_directory_32',\n",
       " 'new_directory_34',\n",
       " 'new_directory_36',\n",
       " 'new_directory_38',\n",
       " 'new_directory_40',\n",
       " 'new_directory_42',\n",
       " 'new_directory_44',\n",
       " 'new_directory_46',\n",
       " 'new_directory_48',\n",
       " 'new_directory_50']"
      ]
     },
     "execution_count": 67,
     "metadata": {},
     "output_type": "execute_result"
    }
   ],
   "source": [
    "os.listdir()"
   ]
  },
  {
   "cell_type": "code",
   "execution_count": 75,
   "id": "7137809d",
   "metadata": {},
   "outputs": [],
   "source": [
    "for i in range(10,51,10):\n",
    "    os.rename(f\"new_directory_{i:02}\", f\"haha_{i:02}\")"
   ]
  },
  {
   "cell_type": "code",
   "execution_count": 76,
   "id": "55af3b08",
   "metadata": {},
   "outputs": [
    {
     "data": {
      "text/plain": [
       "['haha_10',\n",
       " 'haha_20',\n",
       " 'haha_30',\n",
       " 'haha_40',\n",
       " 'haha_50',\n",
       " 'new_directory_02',\n",
       " 'new_directory_04',\n",
       " 'new_directory_06',\n",
       " 'new_directory_08',\n",
       " 'new_directory_12',\n",
       " 'new_directory_14',\n",
       " 'new_directory_16',\n",
       " 'new_directory_18',\n",
       " 'new_directory_22',\n",
       " 'new_directory_24',\n",
       " 'new_directory_26',\n",
       " 'new_directory_28',\n",
       " 'new_directory_32',\n",
       " 'new_directory_34',\n",
       " 'new_directory_36',\n",
       " 'new_directory_38',\n",
       " 'new_directory_42',\n",
       " 'new_directory_44',\n",
       " 'new_directory_46',\n",
       " 'new_directory_48']"
      ]
     },
     "execution_count": 76,
     "metadata": {},
     "output_type": "execute_result"
    }
   ],
   "source": [
    "os.listdir()"
   ]
  },
  {
   "cell_type": "code",
   "execution_count": 85,
   "id": "161bb7f7",
   "metadata": {},
   "outputs": [
    {
     "data": {
      "text/plain": [
       "'C:\\\\Users\\\\Chin Zhen Jie\\\\OneDrive\\\\Desktop\\\\SP2273\\\\GitGud\\\\learning-portfolio-ChinZJ\\\\more flies, more folders but the same os'"
      ]
     },
     "execution_count": 85,
     "metadata": {},
     "output_type": "execute_result"
    }
   ],
   "source": [
    "os.chdir('C:\\\\Users\\\\Chin Zhen Jie\\\\OneDrive\\\\Desktop\\\\SP2273\\\\GitGud\\\\learning-portfolio-ChinZJ\\\\more flies, more folders but the same os\\\\')\n",
    "os.getcwd()"
   ]
  },
  {
   "cell_type": "code",
   "execution_count": 90,
   "id": "1adbab6c",
   "metadata": {},
   "outputs": [],
   "source": [
    "for i in range(10,51,10):\n",
    "    path_to_destination = os.path.join('python_today' ,f'haha_{i}')\n",
    "    shutil.copy('sp2273_logo.png', path_to_destination)"
   ]
  },
  {
   "cell_type": "code",
   "execution_count": 92,
   "id": "dcb4f2ab",
   "metadata": {},
   "outputs": [
    {
     "data": {
      "text/plain": [
       "['python_today\\\\haha_10\\\\sp2273_logo.png',\n",
       " 'python_today\\\\haha_20\\\\sp2273_logo.png',\n",
       " 'python_today\\\\haha_30\\\\sp2273_logo.png',\n",
       " 'python_today\\\\haha_40\\\\sp2273_logo.png',\n",
       " 'python_today\\\\haha_50\\\\sp2273_logo.png']"
      ]
     },
     "execution_count": 92,
     "metadata": {},
     "output_type": "execute_result"
    }
   ],
   "source": [
    "glob.glob('python_today\\\\haha*\\\\*')"
   ]
  },
  {
   "cell_type": "code",
   "execution_count": 93,
   "id": "ab9968ca",
   "metadata": {},
   "outputs": [],
   "source": [
    "os.chdir('python_today')"
   ]
  },
  {
   "cell_type": "code",
   "execution_count": 94,
   "id": "436fee60",
   "metadata": {},
   "outputs": [
    {
     "data": {
      "text/plain": [
       "['haha_10',\n",
       " 'haha_20',\n",
       " 'haha_30',\n",
       " 'haha_40',\n",
       " 'haha_50',\n",
       " 'new_directory_02',\n",
       " 'new_directory_04',\n",
       " 'new_directory_06',\n",
       " 'new_directory_08',\n",
       " 'new_directory_12',\n",
       " 'new_directory_14',\n",
       " 'new_directory_16',\n",
       " 'new_directory_18',\n",
       " 'new_directory_22',\n",
       " 'new_directory_24',\n",
       " 'new_directory_26',\n",
       " 'new_directory_28',\n",
       " 'new_directory_32',\n",
       " 'new_directory_34',\n",
       " 'new_directory_36',\n",
       " 'new_directory_38',\n",
       " 'new_directory_42',\n",
       " 'new_directory_44',\n",
       " 'new_directory_46',\n",
       " 'new_directory_48']"
      ]
     },
     "execution_count": 94,
     "metadata": {},
     "output_type": "execute_result"
    }
   ],
   "source": [
    "os.listdir()"
   ]
  },
  {
   "cell_type": "markdown",
   "id": "210063da",
   "metadata": {},
   "source": [
    "# Question: If I wish to use os.listdir() here to find all the files within each folders, do I run a for loop since listdir() only takes in path as a parameter?"
   ]
  },
  {
   "cell_type": "code",
   "execution_count": 96,
   "id": "58a7d61d",
   "metadata": {},
   "outputs": [
    {
     "data": {
      "text/plain": [
       "'C:\\\\Users\\\\Chin Zhen Jie\\\\OneDrive\\\\Desktop\\\\SP2273\\\\GitGud\\\\learning-portfolio-ChinZJ\\\\more flies, more folders but the same os\\\\os-collaboration-exercise-data'"
      ]
     },
     "execution_count": 96,
     "metadata": {},
     "output_type": "execute_result"
    }
   ],
   "source": [
    "os.chdir('C:\\\\Users\\\\Chin Zhen Jie\\\\OneDrive\\\\Desktop\\\\SP2273\\\\GitGud\\\\learning-portfolio-ChinZJ\\\\more flies, more folders but the same os\\\\os-collaboration-exercise-data\\\\')\n",
    "os.getcwd()"
   ]
  },
  {
   "cell_type": "code",
   "execution_count": 115,
   "id": "e8bfc9ef",
   "metadata": {
    "scrolled": true
   },
   "outputs": [
    {
     "data": {
      "text/plain": [
       "'10-08-singapore.txt'"
      ]
     },
     "execution_count": 115,
     "metadata": {},
     "output_type": "execute_result"
    }
   ],
   "source": [
    "month_converter = {'jan': '01', \n",
    "                   'feb': '02', \n",
    "                   'mar': '03',\n",
    "                   'apr': '04', \n",
    "                   'may': '05', \n",
    "                   'jun': '06',\n",
    "                   'jul': '07', \n",
    "                   'aug': '08', \n",
    "                   'sep': '09',\n",
    "                   'oct': '10', \n",
    "                   'nov': '11', \n",
    "                   'dec': '12'}\n",
    "old_name = f'oct-08_singapore.txt'\n",
    "new_name = f'{month_converter[old_name[:3]]}{old_name[3:6]}-{old_name[7:]}'\n",
    "new_name"
   ]
  },
  {
   "cell_type": "code",
   "execution_count": 109,
   "id": "cea61b2d",
   "metadata": {},
   "outputs": [
    {
     "data": {
      "text/plain": [
       "'C:\\\\Users\\\\Chin Zhen Jie\\\\OneDrive\\\\Desktop\\\\SP2273\\\\GitGud\\\\learning-portfolio-ChinZJ\\\\more flies, more folders but the same os\\\\os-collaboration-exercise-data'"
      ]
     },
     "execution_count": 109,
     "metadata": {},
     "output_type": "execute_result"
    }
   ],
   "source": [
    "os.getcwd()"
   ]
  },
  {
   "cell_type": "code",
   "execution_count": 120,
   "id": "daf71128",
   "metadata": {},
   "outputs": [],
   "source": [
    "list_to_convert = ['oct-08_singapore.txt', 'jul-10_cairo.txt', 'may-15_dhaka.txt','may-13_cairo.txt', 'oct-21_cairo.txt', 'jan-10_singapore.txt','jun-20_tokyo.txt', 'aug-06_jakarta.txt', 'dec-21_karachi.txt','jan-01_tokyo.txt']\n",
    "def rename_my_file(old_file_name):\n",
    "    for i in old_file_name:\n",
    "        if i in glob.glob('*'):\n",
    "            os.rename(i, f'{month_converter[i[:3]]}{i[3:6]}-{i[7:]}')\n",
    "    return \"Completed\""
   ]
  },
  {
   "cell_type": "code",
   "execution_count": 121,
   "id": "1ff8dfea",
   "metadata": {},
   "outputs": [
    {
     "data": {
      "text/plain": [
       "'Completed'"
      ]
     },
     "execution_count": 121,
     "metadata": {},
     "output_type": "execute_result"
    }
   ],
   "source": [
    "rename_my_file(list_to_convert)"
   ]
  },
  {
   "cell_type": "code",
   "execution_count": 126,
   "id": "1550f76e",
   "metadata": {
    "scrolled": true
   },
   "outputs": [
    {
     "ename": "FileNotFoundError",
     "evalue": "[WinError 2] The system cannot find the file specified: 'oct-08_singapore.txt' -> '10-08-singapore.txt'",
     "output_type": "error",
     "traceback": [
      "\u001b[1;31m---------------------------------------------------------------------------\u001b[0m",
      "\u001b[1;31mFileNotFoundError\u001b[0m                         Traceback (most recent call last)",
      "\u001b[1;32m~\\AppData\\Local\\Temp\\ipykernel_8692\\769460852.py\u001b[0m in \u001b[0;36m<module>\u001b[1;34m\u001b[0m\n\u001b[0;32m      6\u001b[0m             \u001b[0mnew_file_name\u001b[0m \u001b[1;33m=\u001b[0m \u001b[0mmonth_num\u001b[0m\u001b[1;33m.\u001b[0m\u001b[0mreplace\u001b[0m\u001b[1;33m(\u001b[0m\u001b[1;34m'_'\u001b[0m\u001b[1;33m,\u001b[0m \u001b[1;34m'-'\u001b[0m\u001b[1;33m)\u001b[0m\u001b[1;33m\u001b[0m\u001b[1;33m\u001b[0m\u001b[0m\n\u001b[0;32m      7\u001b[0m             \u001b[0mos\u001b[0m\u001b[1;33m.\u001b[0m\u001b[0mrename\u001b[0m\u001b[1;33m(\u001b[0m\u001b[0mi\u001b[0m\u001b[1;33m,\u001b[0m \u001b[0mnew_file_name\u001b[0m\u001b[1;33m)\u001b[0m\u001b[1;33m\u001b[0m\u001b[1;33m\u001b[0m\u001b[0m\n\u001b[1;32m----> 8\u001b[1;33m \u001b[0mrename_my_file_yz\u001b[0m\u001b[1;33m(\u001b[0m\u001b[0mlist_to_convert\u001b[0m\u001b[1;33m)\u001b[0m\u001b[1;33m\u001b[0m\u001b[1;33m\u001b[0m\u001b[0m\n\u001b[0m",
      "\u001b[1;32m~\\AppData\\Local\\Temp\\ipykernel_8692\\769460852.py\u001b[0m in \u001b[0;36mrename_my_file_yz\u001b[1;34m(old_file_name)\u001b[0m\n\u001b[0;32m      5\u001b[0m             \u001b[0mmonth_num\u001b[0m \u001b[1;33m=\u001b[0m \u001b[0mi\u001b[0m\u001b[1;33m.\u001b[0m\u001b[0mreplace\u001b[0m\u001b[1;33m(\u001b[0m\u001b[0mmonth\u001b[0m\u001b[1;33m,\u001b[0m \u001b[0mmonth_converter\u001b[0m\u001b[1;33m[\u001b[0m\u001b[0mmonth\u001b[0m\u001b[1;33m]\u001b[0m\u001b[1;33m)\u001b[0m\u001b[1;33m\u001b[0m\u001b[1;33m\u001b[0m\u001b[0m\n\u001b[0;32m      6\u001b[0m             \u001b[0mnew_file_name\u001b[0m \u001b[1;33m=\u001b[0m \u001b[0mmonth_num\u001b[0m\u001b[1;33m.\u001b[0m\u001b[0mreplace\u001b[0m\u001b[1;33m(\u001b[0m\u001b[1;34m'_'\u001b[0m\u001b[1;33m,\u001b[0m \u001b[1;34m'-'\u001b[0m\u001b[1;33m)\u001b[0m\u001b[1;33m\u001b[0m\u001b[1;33m\u001b[0m\u001b[0m\n\u001b[1;32m----> 7\u001b[1;33m             \u001b[0mos\u001b[0m\u001b[1;33m.\u001b[0m\u001b[0mrename\u001b[0m\u001b[1;33m(\u001b[0m\u001b[0mi\u001b[0m\u001b[1;33m,\u001b[0m \u001b[0mnew_file_name\u001b[0m\u001b[1;33m)\u001b[0m\u001b[1;33m\u001b[0m\u001b[1;33m\u001b[0m\u001b[0m\n\u001b[0m\u001b[0;32m      8\u001b[0m \u001b[0mrename_my_file_yz\u001b[0m\u001b[1;33m(\u001b[0m\u001b[0mlist_to_convert\u001b[0m\u001b[1;33m)\u001b[0m\u001b[1;33m\u001b[0m\u001b[1;33m\u001b[0m\u001b[0m\n",
      "\u001b[1;31mFileNotFoundError\u001b[0m: [WinError 2] The system cannot find the file specified: 'oct-08_singapore.txt' -> '10-08-singapore.txt'"
     ]
    }
   ],
   "source": [
    "def rename_my_file_yz(old_file_name):\n",
    "    for i in old_file_name:\n",
    "        month = i[:3]\n",
    "        if i[:3] in month_converter:\n",
    "            month_num = i.replace(month, month_converter[month])\n",
    "            new_file_name = month_num.replace('_', '-')\n",
    "            os.rename(i, new_file_name)\n",
    "rename_my_file_yz(list_to_convert)"
   ]
  },
  {
   "cell_type": "markdown",
   "id": "0a053902",
   "metadata": {},
   "source": [
    "This one manually replaces the strings, whereas the new one I did just abuses f strings"
   ]
  },
  {
   "cell_type": "code",
   "execution_count": 137,
   "id": "59df6852",
   "metadata": {},
   "outputs": [],
   "source": [
    "culling_of_txt = glob.glob('*')\n",
    "def rename_my_txt(old_file_name):\n",
    "    for i in old_file_name:\n",
    "        if i[:3] in month_converter and i[:-4:-1] == \"txt\":\n",
    "            os.rename(i, f'{month_converter[i[:3]]}{i[3:6]}-{i[7:]}')\n",
    "    return \"Completed\""
   ]
  },
  {
   "cell_type": "code",
   "execution_count": 138,
   "id": "bfc5cf2c",
   "metadata": {},
   "outputs": [
    {
     "data": {
      "text/plain": [
       "'Completed'"
      ]
     },
     "execution_count": 138,
     "metadata": {},
     "output_type": "execute_result"
    }
   ],
   "source": [
    "rename_my_txt(glob.glob(\"*\"))"
   ]
  },
  {
   "cell_type": "code",
   "execution_count": 139,
   "id": "dd413a13",
   "metadata": {},
   "outputs": [],
   "source": [
    "city_list = ['Cairo', 'Dhaka', 'Jakarta', 'Karachi', 'Manila','Melbourne', 'Osaka', 'Shanghai', 'Singapore', 'Tokyo']\n",
    "for i in city_list:\n",
    "    os.mkdir(i)"
   ]
  },
  {
   "cell_type": "code",
   "execution_count": 141,
   "id": "31cd7d04",
   "metadata": {},
   "outputs": [
    {
     "data": {
      "text/plain": [
       "['01-02-cairo.txt',\n",
       " '01-03-cairo.txt',\n",
       " '01-04-cairo.txt',\n",
       " '01-05-cairo.txt',\n",
       " '01-07-cairo.txt',\n",
       " '01-08-cairo.txt',\n",
       " '01-09-cairo.txt',\n",
       " '01-11-cairo.txt',\n",
       " '01-12-cairo.txt',\n",
       " '01-13-cairo.txt',\n",
       " '01-15-cairo.txt',\n",
       " '01-16-cairo.txt',\n",
       " '01-19-cairo.txt',\n",
       " '01-20-cairo.txt',\n",
       " '01-21-cairo.txt',\n",
       " '01-23-cairo.txt',\n",
       " '01-27-cairo.txt',\n",
       " '01-30-cairo.txt',\n",
       " '02-10-cairo.txt',\n",
       " '02-17-cairo.txt',\n",
       " '02-20-cairo.txt',\n",
       " '02-22-cairo.txt',\n",
       " '02-25-cairo.txt',\n",
       " '02-26-cairo.txt',\n",
       " '03-05-cairo.txt',\n",
       " '03-06-cairo.txt',\n",
       " '03-12-cairo.txt',\n",
       " '03-14-cairo.txt',\n",
       " '03-19-cairo.txt',\n",
       " '03-24-cairo.txt',\n",
       " '04-02-cairo.txt',\n",
       " '04-06-cairo.txt',\n",
       " '04-07-cairo.txt',\n",
       " '04-10-cairo.txt',\n",
       " '04-12-cairo.txt',\n",
       " '04-13-cairo.txt',\n",
       " '04-14-cairo.txt',\n",
       " '04-15-cairo.txt',\n",
       " '04-17-cairo.txt',\n",
       " '04-20-cairo.txt',\n",
       " '04-21-cairo.txt',\n",
       " '04-22-cairo.txt',\n",
       " '04-23-cairo.txt',\n",
       " '04-24-cairo.txt',\n",
       " '05-01-cairo.txt',\n",
       " '05-02-cairo.txt',\n",
       " '05-12-cairo.txt',\n",
       " '05-17-cairo.txt',\n",
       " '05-25-cairo.txt',\n",
       " '05-27-cairo.txt',\n",
       " '05-29-cairo.txt',\n",
       " '05-30-cairo.txt',\n",
       " '06-28-cairo.txt',\n",
       " '07-04-cairo.txt',\n",
       " '07-08-cairo.txt',\n",
       " '07-13-cairo.txt',\n",
       " '07-14-cairo.txt',\n",
       " '07-15-cairo.txt',\n",
       " '07-16-cairo.txt',\n",
       " '07-17-cairo.txt',\n",
       " '07-19-cairo.txt',\n",
       " '07-24-cairo.txt',\n",
       " '07-26-cairo.txt',\n",
       " '07-27-cairo.txt',\n",
       " '07-29-cairo.txt',\n",
       " '07-30-cairo.txt',\n",
       " '08-01-cairo.txt',\n",
       " '08-03-cairo.txt',\n",
       " '08-04-cairo.txt',\n",
       " '08-05-cairo.txt',\n",
       " '08-07-cairo.txt',\n",
       " '08-08-cairo.txt',\n",
       " '08-10-cairo.txt',\n",
       " '08-12-cairo.txt',\n",
       " '08-14-cairo.txt',\n",
       " '08-18-cairo.txt',\n",
       " '08-19-cairo.txt',\n",
       " '08-20-cairo.txt',\n",
       " '08-24-cairo.txt',\n",
       " '08-25-cairo.txt',\n",
       " '08-26-cairo.txt',\n",
       " '09-02-cairo.txt',\n",
       " '09-04-cairo.txt',\n",
       " '09-05-cairo.txt',\n",
       " '09-07-cairo.txt',\n",
       " '09-08-cairo.txt',\n",
       " '09-11-cairo.txt',\n",
       " '09-12-cairo.txt',\n",
       " '09-13-cairo.txt',\n",
       " '09-16-cairo.txt',\n",
       " '09-18-cairo.txt',\n",
       " '09-20-cairo.txt',\n",
       " '09-22-cairo.txt',\n",
       " '09-23-cairo.txt',\n",
       " '09-24-cairo.txt',\n",
       " '09-25-cairo.txt',\n",
       " '09-26-cairo.txt',\n",
       " '09-28-cairo.txt',\n",
       " '10-23-cairo.txt',\n",
       " '11-03-cairo.txt',\n",
       " '11-04-cairo.txt',\n",
       " '11-05-cairo.txt',\n",
       " '11-10-cairo.txt',\n",
       " '11-14-cairo.txt',\n",
       " '11-17-cairo.txt',\n",
       " '11-19-cairo.txt',\n",
       " '11-21-cairo.txt',\n",
       " '11-29-cairo.txt',\n",
       " '12-01-cairo.txt',\n",
       " '12-03-cairo.txt',\n",
       " '12-04-cairo.txt',\n",
       " '12-05-cairo.txt',\n",
       " '12-07-cairo.txt',\n",
       " '12-09-cairo.txt',\n",
       " '12-10-cairo.txt',\n",
       " '12-13-cairo.txt',\n",
       " '12-17-cairo.txt',\n",
       " '12-18-cairo.txt',\n",
       " '12-19-cairo.txt',\n",
       " '12-21-cairo.txt',\n",
       " '12-22-cairo.txt',\n",
       " '12-23-cairo.txt',\n",
       " '12-26-cairo.txt',\n",
       " '12-27-cairo.txt',\n",
       " '12-29-cairo.txt',\n",
       " 'apr-02_cairo.jpg',\n",
       " 'apr-06_cairo.png',\n",
       " 'apr-07_cairo.png',\n",
       " 'apr-10_cairo.png',\n",
       " 'apr-12_cairo.pdf',\n",
       " 'apr-12_cairo.png',\n",
       " 'apr-13_cairo.png',\n",
       " 'apr-14_cairo.jpg',\n",
       " 'apr-14_cairo.png',\n",
       " 'apr-15_cairo.jpg',\n",
       " 'apr-17_cairo.jpg',\n",
       " 'apr-17_cairo.pdf',\n",
       " 'apr-17_cairo.png',\n",
       " 'apr-20_cairo.jpg',\n",
       " 'apr-21_cairo.pdf',\n",
       " 'apr-22_cairo.pdf',\n",
       " 'apr-23_cairo.jpg',\n",
       " 'apr-24_cairo.jpg',\n",
       " 'aug-01_cairo.jpg',\n",
       " 'aug-01_cairo.png',\n",
       " 'aug-03_cairo.png',\n",
       " 'aug-04_cairo.jpg',\n",
       " 'aug-04_cairo.pdf',\n",
       " 'aug-05_cairo.pdf',\n",
       " 'aug-07_cairo.png',\n",
       " 'aug-08_cairo.jpg',\n",
       " 'aug-10_cairo.png',\n",
       " 'aug-12_cairo.jpg',\n",
       " 'aug-14_cairo.jpg',\n",
       " 'aug-14_cairo.png',\n",
       " 'aug-18_cairo.jpg',\n",
       " 'aug-19_cairo.jpg',\n",
       " 'aug-20_cairo.png',\n",
       " 'aug-24_cairo.pdf',\n",
       " 'aug-25_cairo.png',\n",
       " 'aug-26_cairo.png',\n",
       " 'Cairo',\n",
       " 'dec-01_cairo.jpg',\n",
       " 'dec-03_cairo.jpg',\n",
       " 'dec-03_cairo.png',\n",
       " 'dec-04_cairo.jpg',\n",
       " 'dec-04_cairo.pdf',\n",
       " 'dec-04_cairo.png',\n",
       " 'dec-05_cairo.png',\n",
       " 'dec-07_cairo.jpg',\n",
       " 'dec-09_cairo.png',\n",
       " 'dec-10_cairo.jpg',\n",
       " 'dec-10_cairo.pdf',\n",
       " 'dec-13_cairo.pdf',\n",
       " 'dec-17_cairo.png',\n",
       " 'dec-18_cairo.jpg',\n",
       " 'dec-19_cairo.pdf',\n",
       " 'dec-21_cairo.png',\n",
       " 'dec-22_cairo.jpg',\n",
       " 'dec-23_cairo.pdf',\n",
       " 'dec-26_cairo.pdf',\n",
       " 'dec-27_cairo.png',\n",
       " 'dec-29_cairo.jpg',\n",
       " 'dec-29_cairo.png',\n",
       " 'feb-10_cairo.jpg',\n",
       " 'feb-10_cairo.pdf',\n",
       " 'feb-17_cairo.jpg',\n",
       " 'feb-20_cairo.png',\n",
       " 'feb-22_cairo.pdf',\n",
       " 'feb-22_cairo.png',\n",
       " 'feb-25_cairo.jpg',\n",
       " 'feb-25_cairo.pdf',\n",
       " 'feb-26_cairo.png',\n",
       " 'jan-02_cairo.pdf',\n",
       " 'jan-03_cairo.pdf',\n",
       " 'jan-04_cairo.jpg',\n",
       " 'jan-05_cairo.jpg',\n",
       " 'jan-07_cairo.jpg',\n",
       " 'jan-08_cairo.png',\n",
       " 'jan-09_cairo.jpg',\n",
       " 'jan-11_cairo.png',\n",
       " 'jan-12_cairo.pdf',\n",
       " 'jan-13_cairo.png',\n",
       " 'jan-15_cairo.jpg',\n",
       " 'jan-15_cairo.png',\n",
       " 'jan-16_cairo.png',\n",
       " 'jan-19_cairo.pdf',\n",
       " 'jan-20_cairo.pdf',\n",
       " 'jan-21_cairo.jpg',\n",
       " 'jan-23_cairo.png',\n",
       " 'jan-27_cairo.jpg',\n",
       " 'jan-30_cairo.pdf',\n",
       " 'jul-04_cairo.jpg',\n",
       " 'jul-08_cairo.png',\n",
       " 'jul-10_cairo.png',\n",
       " 'jul-13_cairo.png',\n",
       " 'jul-14_cairo.jpg',\n",
       " 'jul-15_cairo.pdf',\n",
       " 'jul-16_cairo.png',\n",
       " 'jul-17_cairo.pdf',\n",
       " 'jul-19_cairo.jpg',\n",
       " 'jul-24_cairo.pdf',\n",
       " 'jul-26_cairo.png',\n",
       " 'jul-27_cairo.png',\n",
       " 'jul-29_cairo.jpg',\n",
       " 'jul-30_cairo.png',\n",
       " 'jun-28_cairo.pdf',\n",
       " 'mar-05_cairo.pdf',\n",
       " 'mar-05_cairo.png',\n",
       " 'mar-06_cairo.pdf',\n",
       " 'mar-12_cairo.jpg',\n",
       " 'mar-14_cairo.pdf',\n",
       " 'mar-19_cairo.jpg',\n",
       " 'mar-24_cairo.pdf',\n",
       " 'may-01_cairo.png',\n",
       " 'may-02_cairo.png',\n",
       " 'may-12_cairo.png',\n",
       " 'may-17_cairo.png',\n",
       " 'may-25_cairo.png',\n",
       " 'may-27_cairo.pdf',\n",
       " 'may-29_cairo.pdf',\n",
       " 'may-30_cairo.jpg',\n",
       " 'may-30_cairo.png',\n",
       " 'nov-03_cairo.png',\n",
       " 'nov-04_cairo.pdf',\n",
       " 'nov-05_cairo.jpg',\n",
       " 'nov-05_cairo.png',\n",
       " 'nov-10_cairo.pdf',\n",
       " 'nov-14_cairo.pdf',\n",
       " 'nov-17_cairo.pdf',\n",
       " 'nov-19_cairo.jpg',\n",
       " 'nov-21_cairo.pdf',\n",
       " 'nov-29_cairo.pdf',\n",
       " 'oct-23_cairo.jpg',\n",
       " 'sep-02_cairo.png',\n",
       " 'sep-04_cairo.pdf',\n",
       " 'sep-05_cairo.pdf',\n",
       " 'sep-07_cairo.jpg',\n",
       " 'sep-08_cairo.pdf',\n",
       " 'sep-11_cairo.png',\n",
       " 'sep-12_cairo.png',\n",
       " 'sep-13_cairo.jpg',\n",
       " 'sep-13_cairo.png',\n",
       " 'sep-16_cairo.png',\n",
       " 'sep-18_cairo.pdf',\n",
       " 'sep-20_cairo.jpg',\n",
       " 'sep-22_cairo.pdf',\n",
       " 'sep-23_cairo.pdf',\n",
       " 'sep-24_cairo.pdf',\n",
       " 'sep-25_cairo.jpg',\n",
       " 'sep-25_cairo.pdf',\n",
       " 'sep-26_cairo.pdf',\n",
       " 'sep-28_cairo.jpg',\n",
       " 'sep-28_cairo.pdf',\n",
       " 'sep-28_cairo.png']"
      ]
     },
     "execution_count": 141,
     "metadata": {},
     "output_type": "execute_result"
    }
   ],
   "source": [
    "glob.glob('*cai*')"
   ]
  },
  {
   "cell_type": "code",
   "execution_count": 145,
   "id": "0135ee99",
   "metadata": {},
   "outputs": [
    {
     "data": {
      "text/plain": [
       "'C:\\\\Users\\\\Chin Zhen Jie\\\\OneDrive\\\\Desktop\\\\SP2273\\\\GitGud\\\\learning-portfolio-ChinZJ\\\\more flies, more folders but the same os\\\\os-collaboration-exercise-data'"
      ]
     },
     "execution_count": 145,
     "metadata": {},
     "output_type": "execute_result"
    }
   ],
   "source": [
    "os.getcwd()"
   ]
  },
  {
   "cell_type": "code",
   "execution_count": 146,
   "id": "268eb7c7",
   "metadata": {},
   "outputs": [],
   "source": [
    "cairo_files = glob.glob(\"*cairo.*\")\n",
    "for i in cairo_files:\n",
    "    shutil.copy(i, \"Cairo\")"
   ]
  },
  {
   "cell_type": "code",
   "execution_count": 147,
   "id": "4aeb53a4",
   "metadata": {},
   "outputs": [],
   "source": [
    "def move_files(folders):\n",
    "    for i in folders:\n",
    "        for j in glob.glob(f'*{i.lower()}.*'):\n",
    "            shutil.move(j, i)\n",
    "    return \"Completed\"\n"
   ]
  },
  {
   "cell_type": "code",
   "execution_count": 148,
   "id": "34a9e12d",
   "metadata": {},
   "outputs": [
    {
     "data": {
      "text/plain": [
       "'Completed'"
      ]
     },
     "execution_count": 148,
     "metadata": {},
     "output_type": "execute_result"
    }
   ],
   "source": [
    "move_files(city_list)"
   ]
  },
  {
   "cell_type": "code",
   "execution_count": null,
   "id": "1783f9ca",
   "metadata": {},
   "outputs": [],
   "source": []
  }
 ],
 "metadata": {
  "hide_input": false,
  "kernelspec": {
   "display_name": "Python 3 (ipykernel)",
   "language": "python",
   "name": "python3"
  },
  "language_info": {
   "codemirror_mode": {
    "name": "ipython",
    "version": 3
   },
   "file_extension": ".py",
   "mimetype": "text/x-python",
   "name": "python",
   "nbconvert_exporter": "python",
   "pygments_lexer": "ipython3",
   "version": "3.9.15"
  },
  "toc": {
   "base_numbering": 1,
   "nav_menu": {},
   "number_sections": true,
   "sideBar": true,
   "skip_h1_title": false,
   "title_cell": "Table of Contents",
   "title_sidebar": "Contents",
   "toc_cell": false,
   "toc_position": {},
   "toc_section_display": true,
   "toc_window_display": false
  },
  "varInspector": {
   "cols": {
    "lenName": 16,
    "lenType": 16,
    "lenVar": 40
   },
   "kernels_config": {
    "python": {
     "delete_cmd_postfix": "",
     "delete_cmd_prefix": "del ",
     "library": "var_list.py",
     "varRefreshCmd": "print(var_dic_list())"
    },
    "r": {
     "delete_cmd_postfix": ") ",
     "delete_cmd_prefix": "rm(",
     "library": "var_list.r",
     "varRefreshCmd": "cat(var_dic_list()) "
    }
   },
   "types_to_exclude": [
    "module",
    "function",
    "builtin_function_or_method",
    "instance",
    "_Feature"
   ],
   "window_display": false
  }
 },
 "nbformat": 4,
 "nbformat_minor": 5
}
